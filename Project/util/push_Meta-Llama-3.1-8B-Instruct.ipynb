{
  "nbformat": 4,
  "nbformat_minor": 0,
  "metadata": {
    "colab": {
      "provenance": [],
      "machine_shape": "hm",
      "gpuType": "L4",
      "authorship_tag": "ABX9TyMsXoodE8Gus9tt2OZPALwe",
      "include_colab_link": true
    },
    "kernelspec": {
      "name": "python3",
      "display_name": "Python 3"
    },
    "language_info": {
      "name": "python"
    },
    "accelerator": "GPU"
  },
  "cells": [
    {
      "cell_type": "markdown",
      "metadata": {
        "id": "view-in-github",
        "colab_type": "text"
      },
      "source": [
        "<a href=\"https://colab.research.google.com/github/donghuna/AI-Expert/blob/main/Project/util/push_Meta-Llama-3.1-8B-Instruct.ipynb\" target=\"_parent\"><img src=\"https://colab.research.google.com/assets/colab-badge.svg\" alt=\"Open In Colab\"/></a>"
      ]
    },
    {
      "cell_type": "code",
      "source": [
        "!pip install --upgrade transformers\n",
        "!pip install huggingface_hub transformers"
      ],
      "metadata": {
        "id": "yUkBSw89vDGH"
      },
      "execution_count": null,
      "outputs": []
    },
    {
      "cell_type": "code",
      "source": [
        "from huggingface_hub import login\n",
        "from google.colab import userdata\n",
        "\n",
        "login(token=userdata.get('HUG_TOKEN'))"
      ],
      "metadata": {
        "id": "JstE5hSCXTCu"
      },
      "execution_count": null,
      "outputs": []
    },
    {
      "cell_type": "code",
      "source": [
        "from transformers import AutoModelForCausalLM, AutoTokenizer, LlamaConfig\n",
        "import torch\n",
        "\n",
        "model_name = \"meta-llama/Meta-Llama-3.1-8B-Instruct\"\n",
        "model = AutoModelForCausalLM.from_pretrained(model_name, torch_dtype=torch.bfloat16)\n",
        "tokenizer = AutoTokenizer.from_pretrained(model_name)\n",
        "\n",
        "# 모델을 Hugging Face Hub에 푸시합니다.\n",
        "model.push_to_hub(\"donghuna/Meta-Llama-3.1-8B-Instruct\")\n",
        "# 토크나이저를 Hugging Face Hub에 푸시합니다.\n",
        "tokenizer.push_to_hub(\"donghuna/Meta-Llama-3.1-8B-Instruct\")"
      ],
      "metadata": {
        "id": "qZeFW6k2XRMh"
      },
      "execution_count": null,
      "outputs": []
    }
  ]
}