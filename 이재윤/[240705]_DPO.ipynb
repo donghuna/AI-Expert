{
  "nbformat": 4,
  "nbformat_minor": 0,
  "metadata": {
    "colab": {
      "provenance": [],
      "gpuType": "T4",
      "include_colab_link": true
    },
    "kernelspec": {
      "name": "python3",
      "display_name": "Python 3"
    },
    "language_info": {
      "name": "python"
    },
    "accelerator": "GPU",
    "widgets": {
      "application/vnd.jupyter.widget-state+json": {
        "9248c88d793c4568b42f5bb756046af0": {
          "model_module": "@jupyter-widgets/controls",
          "model_name": "HBoxModel",
          "model_module_version": "1.5.0",
          "state": {
            "_dom_classes": [],
            "_model_module": "@jupyter-widgets/controls",
            "_model_module_version": "1.5.0",
            "_model_name": "HBoxModel",
            "_view_count": null,
            "_view_module": "@jupyter-widgets/controls",
            "_view_module_version": "1.5.0",
            "_view_name": "HBoxView",
            "box_style": "",
            "children": [
              "IPY_MODEL_d7f4861b1d6b4a9a923b9afec9e06d13",
              "IPY_MODEL_b030c63daab2498f85ce14abee104146",
              "IPY_MODEL_27096c493bdd4f68809bfd696773efd1"
            ],
            "layout": "IPY_MODEL_65c0d80df7a84b6c8902a3938175e2cb"
          }
        },
        "d7f4861b1d6b4a9a923b9afec9e06d13": {
          "model_module": "@jupyter-widgets/controls",
          "model_name": "HTMLModel",
          "model_module_version": "1.5.0",
          "state": {
            "_dom_classes": [],
            "_model_module": "@jupyter-widgets/controls",
            "_model_module_version": "1.5.0",
            "_model_name": "HTMLModel",
            "_view_count": null,
            "_view_module": "@jupyter-widgets/controls",
            "_view_module_version": "1.5.0",
            "_view_name": "HTMLView",
            "description": "",
            "description_tooltip": null,
            "layout": "IPY_MODEL_66cf31b85d71408bbf200cb4239cd0ca",
            "placeholder": "​",
            "style": "IPY_MODEL_18d5382685094c068c92bf64a95f73aa",
            "value": "Map: 100%"
          }
        },
        "b030c63daab2498f85ce14abee104146": {
          "model_module": "@jupyter-widgets/controls",
          "model_name": "FloatProgressModel",
          "model_module_version": "1.5.0",
          "state": {
            "_dom_classes": [],
            "_model_module": "@jupyter-widgets/controls",
            "_model_module_version": "1.5.0",
            "_model_name": "FloatProgressModel",
            "_view_count": null,
            "_view_module": "@jupyter-widgets/controls",
            "_view_module_version": "1.5.0",
            "_view_name": "ProgressView",
            "bar_style": "success",
            "description": "",
            "description_tooltip": null,
            "layout": "IPY_MODEL_950b80602fca40849dbdaeecf166c116",
            "max": 914,
            "min": 0,
            "orientation": "horizontal",
            "style": "IPY_MODEL_eb42087af0df409fa2befc0fa2b54bdb",
            "value": 914
          }
        },
        "27096c493bdd4f68809bfd696773efd1": {
          "model_module": "@jupyter-widgets/controls",
          "model_name": "HTMLModel",
          "model_module_version": "1.5.0",
          "state": {
            "_dom_classes": [],
            "_model_module": "@jupyter-widgets/controls",
            "_model_module_version": "1.5.0",
            "_model_name": "HTMLModel",
            "_view_count": null,
            "_view_module": "@jupyter-widgets/controls",
            "_view_module_version": "1.5.0",
            "_view_name": "HTMLView",
            "description": "",
            "description_tooltip": null,
            "layout": "IPY_MODEL_7aa9d821e4ed4f9884ee04708e8ee557",
            "placeholder": "​",
            "style": "IPY_MODEL_9206edf073904b10928b48b63b63e761",
            "value": " 914/914 [00:03&lt;00:00, 356.73 examples/s]"
          }
        },
        "65c0d80df7a84b6c8902a3938175e2cb": {
          "model_module": "@jupyter-widgets/base",
          "model_name": "LayoutModel",
          "model_module_version": "1.2.0",
          "state": {
            "_model_module": "@jupyter-widgets/base",
            "_model_module_version": "1.2.0",
            "_model_name": "LayoutModel",
            "_view_count": null,
            "_view_module": "@jupyter-widgets/base",
            "_view_module_version": "1.2.0",
            "_view_name": "LayoutView",
            "align_content": null,
            "align_items": null,
            "align_self": null,
            "border": null,
            "bottom": null,
            "display": null,
            "flex": null,
            "flex_flow": null,
            "grid_area": null,
            "grid_auto_columns": null,
            "grid_auto_flow": null,
            "grid_auto_rows": null,
            "grid_column": null,
            "grid_gap": null,
            "grid_row": null,
            "grid_template_areas": null,
            "grid_template_columns": null,
            "grid_template_rows": null,
            "height": null,
            "justify_content": null,
            "justify_items": null,
            "left": null,
            "margin": null,
            "max_height": null,
            "max_width": null,
            "min_height": null,
            "min_width": null,
            "object_fit": null,
            "object_position": null,
            "order": null,
            "overflow": null,
            "overflow_x": null,
            "overflow_y": null,
            "padding": null,
            "right": null,
            "top": null,
            "visibility": null,
            "width": null
          }
        },
        "66cf31b85d71408bbf200cb4239cd0ca": {
          "model_module": "@jupyter-widgets/base",
          "model_name": "LayoutModel",
          "model_module_version": "1.2.0",
          "state": {
            "_model_module": "@jupyter-widgets/base",
            "_model_module_version": "1.2.0",
            "_model_name": "LayoutModel",
            "_view_count": null,
            "_view_module": "@jupyter-widgets/base",
            "_view_module_version": "1.2.0",
            "_view_name": "LayoutView",
            "align_content": null,
            "align_items": null,
            "align_self": null,
            "border": null,
            "bottom": null,
            "display": null,
            "flex": null,
            "flex_flow": null,
            "grid_area": null,
            "grid_auto_columns": null,
            "grid_auto_flow": null,
            "grid_auto_rows": null,
            "grid_column": null,
            "grid_gap": null,
            "grid_row": null,
            "grid_template_areas": null,
            "grid_template_columns": null,
            "grid_template_rows": null,
            "height": null,
            "justify_content": null,
            "justify_items": null,
            "left": null,
            "margin": null,
            "max_height": null,
            "max_width": null,
            "min_height": null,
            "min_width": null,
            "object_fit": null,
            "object_position": null,
            "order": null,
            "overflow": null,
            "overflow_x": null,
            "overflow_y": null,
            "padding": null,
            "right": null,
            "top": null,
            "visibility": null,
            "width": null
          }
        },
        "18d5382685094c068c92bf64a95f73aa": {
          "model_module": "@jupyter-widgets/controls",
          "model_name": "DescriptionStyleModel",
          "model_module_version": "1.5.0",
          "state": {
            "_model_module": "@jupyter-widgets/controls",
            "_model_module_version": "1.5.0",
            "_model_name": "DescriptionStyleModel",
            "_view_count": null,
            "_view_module": "@jupyter-widgets/base",
            "_view_module_version": "1.2.0",
            "_view_name": "StyleView",
            "description_width": ""
          }
        },
        "950b80602fca40849dbdaeecf166c116": {
          "model_module": "@jupyter-widgets/base",
          "model_name": "LayoutModel",
          "model_module_version": "1.2.0",
          "state": {
            "_model_module": "@jupyter-widgets/base",
            "_model_module_version": "1.2.0",
            "_model_name": "LayoutModel",
            "_view_count": null,
            "_view_module": "@jupyter-widgets/base",
            "_view_module_version": "1.2.0",
            "_view_name": "LayoutView",
            "align_content": null,
            "align_items": null,
            "align_self": null,
            "border": null,
            "bottom": null,
            "display": null,
            "flex": null,
            "flex_flow": null,
            "grid_area": null,
            "grid_auto_columns": null,
            "grid_auto_flow": null,
            "grid_auto_rows": null,
            "grid_column": null,
            "grid_gap": null,
            "grid_row": null,
            "grid_template_areas": null,
            "grid_template_columns": null,
            "grid_template_rows": null,
            "height": null,
            "justify_content": null,
            "justify_items": null,
            "left": null,
            "margin": null,
            "max_height": null,
            "max_width": null,
            "min_height": null,
            "min_width": null,
            "object_fit": null,
            "object_position": null,
            "order": null,
            "overflow": null,
            "overflow_x": null,
            "overflow_y": null,
            "padding": null,
            "right": null,
            "top": null,
            "visibility": null,
            "width": null
          }
        },
        "eb42087af0df409fa2befc0fa2b54bdb": {
          "model_module": "@jupyter-widgets/controls",
          "model_name": "ProgressStyleModel",
          "model_module_version": "1.5.0",
          "state": {
            "_model_module": "@jupyter-widgets/controls",
            "_model_module_version": "1.5.0",
            "_model_name": "ProgressStyleModel",
            "_view_count": null,
            "_view_module": "@jupyter-widgets/base",
            "_view_module_version": "1.2.0",
            "_view_name": "StyleView",
            "bar_color": null,
            "description_width": ""
          }
        },
        "7aa9d821e4ed4f9884ee04708e8ee557": {
          "model_module": "@jupyter-widgets/base",
          "model_name": "LayoutModel",
          "model_module_version": "1.2.0",
          "state": {
            "_model_module": "@jupyter-widgets/base",
            "_model_module_version": "1.2.0",
            "_model_name": "LayoutModel",
            "_view_count": null,
            "_view_module": "@jupyter-widgets/base",
            "_view_module_version": "1.2.0",
            "_view_name": "LayoutView",
            "align_content": null,
            "align_items": null,
            "align_self": null,
            "border": null,
            "bottom": null,
            "display": null,
            "flex": null,
            "flex_flow": null,
            "grid_area": null,
            "grid_auto_columns": null,
            "grid_auto_flow": null,
            "grid_auto_rows": null,
            "grid_column": null,
            "grid_gap": null,
            "grid_row": null,
            "grid_template_areas": null,
            "grid_template_columns": null,
            "grid_template_rows": null,
            "height": null,
            "justify_content": null,
            "justify_items": null,
            "left": null,
            "margin": null,
            "max_height": null,
            "max_width": null,
            "min_height": null,
            "min_width": null,
            "object_fit": null,
            "object_position": null,
            "order": null,
            "overflow": null,
            "overflow_x": null,
            "overflow_y": null,
            "padding": null,
            "right": null,
            "top": null,
            "visibility": null,
            "width": null
          }
        },
        "9206edf073904b10928b48b63b63e761": {
          "model_module": "@jupyter-widgets/controls",
          "model_name": "DescriptionStyleModel",
          "model_module_version": "1.5.0",
          "state": {
            "_model_module": "@jupyter-widgets/controls",
            "_model_module_version": "1.5.0",
            "_model_name": "DescriptionStyleModel",
            "_view_count": null,
            "_view_module": "@jupyter-widgets/base",
            "_view_module_version": "1.2.0",
            "_view_name": "StyleView",
            "description_width": ""
          }
        },
        "9cdadce41f53434cb7fdcfdaddeb4f1e": {
          "model_module": "@jupyter-widgets/controls",
          "model_name": "HBoxModel",
          "model_module_version": "1.5.0",
          "state": {
            "_dom_classes": [],
            "_model_module": "@jupyter-widgets/controls",
            "_model_module_version": "1.5.0",
            "_model_name": "HBoxModel",
            "_view_count": null,
            "_view_module": "@jupyter-widgets/controls",
            "_view_module_version": "1.5.0",
            "_view_name": "HBoxView",
            "box_style": "",
            "children": [
              "IPY_MODEL_c17a52d775b74862891c98e609587a86",
              "IPY_MODEL_b0c2a2204a364c82b860bb10f23a9b95",
              "IPY_MODEL_e34f015481f4424eb02fbc6a5c86d451"
            ],
            "layout": "IPY_MODEL_4eb09514721a4ff68eb212b2adc806bb"
          }
        },
        "c17a52d775b74862891c98e609587a86": {
          "model_module": "@jupyter-widgets/controls",
          "model_name": "HTMLModel",
          "model_module_version": "1.5.0",
          "state": {
            "_dom_classes": [],
            "_model_module": "@jupyter-widgets/controls",
            "_model_module_version": "1.5.0",
            "_model_name": "HTMLModel",
            "_view_count": null,
            "_view_module": "@jupyter-widgets/controls",
            "_view_module_version": "1.5.0",
            "_view_name": "HTMLView",
            "description": "",
            "description_tooltip": null,
            "layout": "IPY_MODEL_a265e83416ac4c05aaa2f26e0e28c305",
            "placeholder": "​",
            "style": "IPY_MODEL_2f2f7adcbdb242eaba095d7ec321756a",
            "value": "Map: 100%"
          }
        },
        "b0c2a2204a364c82b860bb10f23a9b95": {
          "model_module": "@jupyter-widgets/controls",
          "model_name": "FloatProgressModel",
          "model_module_version": "1.5.0",
          "state": {
            "_dom_classes": [],
            "_model_module": "@jupyter-widgets/controls",
            "_model_module_version": "1.5.0",
            "_model_name": "FloatProgressModel",
            "_view_count": null,
            "_view_module": "@jupyter-widgets/controls",
            "_view_module_version": "1.5.0",
            "_view_name": "ProgressView",
            "bar_style": "success",
            "description": "",
            "description_tooltip": null,
            "layout": "IPY_MODEL_0639e8d849164885a66f45980f49a682",
            "max": 102,
            "min": 0,
            "orientation": "horizontal",
            "style": "IPY_MODEL_a411bb2620ef4b90ba76e2203a452ac6",
            "value": 102
          }
        },
        "e34f015481f4424eb02fbc6a5c86d451": {
          "model_module": "@jupyter-widgets/controls",
          "model_name": "HTMLModel",
          "model_module_version": "1.5.0",
          "state": {
            "_dom_classes": [],
            "_model_module": "@jupyter-widgets/controls",
            "_model_module_version": "1.5.0",
            "_model_name": "HTMLModel",
            "_view_count": null,
            "_view_module": "@jupyter-widgets/controls",
            "_view_module_version": "1.5.0",
            "_view_name": "HTMLView",
            "description": "",
            "description_tooltip": null,
            "layout": "IPY_MODEL_f42ffaeb3677442cbe636310160f6739",
            "placeholder": "​",
            "style": "IPY_MODEL_b931f7171d074035bdf400f269c91bc6",
            "value": " 102/102 [00:00&lt;00:00, 143.04 examples/s]"
          }
        },
        "4eb09514721a4ff68eb212b2adc806bb": {
          "model_module": "@jupyter-widgets/base",
          "model_name": "LayoutModel",
          "model_module_version": "1.2.0",
          "state": {
            "_model_module": "@jupyter-widgets/base",
            "_model_module_version": "1.2.0",
            "_model_name": "LayoutModel",
            "_view_count": null,
            "_view_module": "@jupyter-widgets/base",
            "_view_module_version": "1.2.0",
            "_view_name": "LayoutView",
            "align_content": null,
            "align_items": null,
            "align_self": null,
            "border": null,
            "bottom": null,
            "display": null,
            "flex": null,
            "flex_flow": null,
            "grid_area": null,
            "grid_auto_columns": null,
            "grid_auto_flow": null,
            "grid_auto_rows": null,
            "grid_column": null,
            "grid_gap": null,
            "grid_row": null,
            "grid_template_areas": null,
            "grid_template_columns": null,
            "grid_template_rows": null,
            "height": null,
            "justify_content": null,
            "justify_items": null,
            "left": null,
            "margin": null,
            "max_height": null,
            "max_width": null,
            "min_height": null,
            "min_width": null,
            "object_fit": null,
            "object_position": null,
            "order": null,
            "overflow": null,
            "overflow_x": null,
            "overflow_y": null,
            "padding": null,
            "right": null,
            "top": null,
            "visibility": null,
            "width": null
          }
        },
        "a265e83416ac4c05aaa2f26e0e28c305": {
          "model_module": "@jupyter-widgets/base",
          "model_name": "LayoutModel",
          "model_module_version": "1.2.0",
          "state": {
            "_model_module": "@jupyter-widgets/base",
            "_model_module_version": "1.2.0",
            "_model_name": "LayoutModel",
            "_view_count": null,
            "_view_module": "@jupyter-widgets/base",
            "_view_module_version": "1.2.0",
            "_view_name": "LayoutView",
            "align_content": null,
            "align_items": null,
            "align_self": null,
            "border": null,
            "bottom": null,
            "display": null,
            "flex": null,
            "flex_flow": null,
            "grid_area": null,
            "grid_auto_columns": null,
            "grid_auto_flow": null,
            "grid_auto_rows": null,
            "grid_column": null,
            "grid_gap": null,
            "grid_row": null,
            "grid_template_areas": null,
            "grid_template_columns": null,
            "grid_template_rows": null,
            "height": null,
            "justify_content": null,
            "justify_items": null,
            "left": null,
            "margin": null,
            "max_height": null,
            "max_width": null,
            "min_height": null,
            "min_width": null,
            "object_fit": null,
            "object_position": null,
            "order": null,
            "overflow": null,
            "overflow_x": null,
            "overflow_y": null,
            "padding": null,
            "right": null,
            "top": null,
            "visibility": null,
            "width": null
          }
        },
        "2f2f7adcbdb242eaba095d7ec321756a": {
          "model_module": "@jupyter-widgets/controls",
          "model_name": "DescriptionStyleModel",
          "model_module_version": "1.5.0",
          "state": {
            "_model_module": "@jupyter-widgets/controls",
            "_model_module_version": "1.5.0",
            "_model_name": "DescriptionStyleModel",
            "_view_count": null,
            "_view_module": "@jupyter-widgets/base",
            "_view_module_version": "1.2.0",
            "_view_name": "StyleView",
            "description_width": ""
          }
        },
        "0639e8d849164885a66f45980f49a682": {
          "model_module": "@jupyter-widgets/base",
          "model_name": "LayoutModel",
          "model_module_version": "1.2.0",
          "state": {
            "_model_module": "@jupyter-widgets/base",
            "_model_module_version": "1.2.0",
            "_model_name": "LayoutModel",
            "_view_count": null,
            "_view_module": "@jupyter-widgets/base",
            "_view_module_version": "1.2.0",
            "_view_name": "LayoutView",
            "align_content": null,
            "align_items": null,
            "align_self": null,
            "border": null,
            "bottom": null,
            "display": null,
            "flex": null,
            "flex_flow": null,
            "grid_area": null,
            "grid_auto_columns": null,
            "grid_auto_flow": null,
            "grid_auto_rows": null,
            "grid_column": null,
            "grid_gap": null,
            "grid_row": null,
            "grid_template_areas": null,
            "grid_template_columns": null,
            "grid_template_rows": null,
            "height": null,
            "justify_content": null,
            "justify_items": null,
            "left": null,
            "margin": null,
            "max_height": null,
            "max_width": null,
            "min_height": null,
            "min_width": null,
            "object_fit": null,
            "object_position": null,
            "order": null,
            "overflow": null,
            "overflow_x": null,
            "overflow_y": null,
            "padding": null,
            "right": null,
            "top": null,
            "visibility": null,
            "width": null
          }
        },
        "a411bb2620ef4b90ba76e2203a452ac6": {
          "model_module": "@jupyter-widgets/controls",
          "model_name": "ProgressStyleModel",
          "model_module_version": "1.5.0",
          "state": {
            "_model_module": "@jupyter-widgets/controls",
            "_model_module_version": "1.5.0",
            "_model_name": "ProgressStyleModel",
            "_view_count": null,
            "_view_module": "@jupyter-widgets/base",
            "_view_module_version": "1.2.0",
            "_view_name": "StyleView",
            "bar_color": null,
            "description_width": ""
          }
        },
        "f42ffaeb3677442cbe636310160f6739": {
          "model_module": "@jupyter-widgets/base",
          "model_name": "LayoutModel",
          "model_module_version": "1.2.0",
          "state": {
            "_model_module": "@jupyter-widgets/base",
            "_model_module_version": "1.2.0",
            "_model_name": "LayoutModel",
            "_view_count": null,
            "_view_module": "@jupyter-widgets/base",
            "_view_module_version": "1.2.0",
            "_view_name": "LayoutView",
            "align_content": null,
            "align_items": null,
            "align_self": null,
            "border": null,
            "bottom": null,
            "display": null,
            "flex": null,
            "flex_flow": null,
            "grid_area": null,
            "grid_auto_columns": null,
            "grid_auto_flow": null,
            "grid_auto_rows": null,
            "grid_column": null,
            "grid_gap": null,
            "grid_row": null,
            "grid_template_areas": null,
            "grid_template_columns": null,
            "grid_template_rows": null,
            "height": null,
            "justify_content": null,
            "justify_items": null,
            "left": null,
            "margin": null,
            "max_height": null,
            "max_width": null,
            "min_height": null,
            "min_width": null,
            "object_fit": null,
            "object_position": null,
            "order": null,
            "overflow": null,
            "overflow_x": null,
            "overflow_y": null,
            "padding": null,
            "right": null,
            "top": null,
            "visibility": null,
            "width": null
          }
        },
        "b931f7171d074035bdf400f269c91bc6": {
          "model_module": "@jupyter-widgets/controls",
          "model_name": "DescriptionStyleModel",
          "model_module_version": "1.5.0",
          "state": {
            "_model_module": "@jupyter-widgets/controls",
            "_model_module_version": "1.5.0",
            "_model_name": "DescriptionStyleModel",
            "_view_count": null,
            "_view_module": "@jupyter-widgets/base",
            "_view_module_version": "1.2.0",
            "_view_name": "StyleView",
            "description_width": ""
          }
        }
      }
    }
  },
  "cells": [
    {
      "cell_type": "markdown",
      "metadata": {
        "id": "view-in-github",
        "colab_type": "text"
      },
      "source": [
        "<a href=\"https://colab.research.google.com/github/donghuna/AI-Expert/blob/main/%EC%9D%B4%EC%9E%AC%EC%9C%A4/%5B240705%5D_DPO.ipynb\" target=\"_parent\"><img src=\"https://colab.research.google.com/assets/colab-badge.svg\" alt=\"Open In Colab\"/></a>"
      ]
    },
    {
      "cell_type": "markdown",
      "source": [
        "\n",
        "강의자료링크: https://docs.google.com/presentation/d/1n_IBA9Vp_aQK8e5Wu152UW5ZUPdJIlJc/edit?usp=sharing&ouid=112299180301409771667&rtpof=true&sd=true\n",
        "\n",
        "- 위 자료에 이어 DPO 알고리즘을 직접 실행해보는 코드입니다.\n",
        "\n",
        "\n",
        "Python에는 머신러닝 모델 학습을 간편하게 진행할 수 있도록 하는 많은 라이브러리들이 존재합니다. 우리는 huggingface와 파이토치를 이용하여 간편하게 DPO를 학습합니다."
      ],
      "metadata": {
        "id": "tPH6Y0aMln8L"
      }
    },
    {
      "cell_type": "markdown",
      "source": [
        "### 1. 라이브러리 설치 및 모듈 불러오기"
      ],
      "metadata": {
        "id": "K0c5Qhmz7PPF"
      }
    },
    {
      "cell_type": "code",
      "execution_count": null,
      "metadata": {
        "id": "8Vu12TRGIiL9",
        "colab": {
          "base_uri": "https://localhost:8080/"
        },
        "outputId": "a7b73bc7-c134-4597-e0ed-7141bb5ef5aa"
      },
      "outputs": [
        {
          "output_type": "stream",
          "name": "stdout",
          "text": [
            "Requirement already satisfied: deepspeed==0.13.1 in /usr/local/lib/python3.10/dist-packages (0.13.1)\n",
            "Requirement already satisfied: hjson in /usr/local/lib/python3.10/dist-packages (from deepspeed==0.13.1) (3.1.0)\n",
            "Requirement already satisfied: ninja in /usr/local/lib/python3.10/dist-packages (from deepspeed==0.13.1) (1.11.1.1)\n",
            "Requirement already satisfied: numpy in /usr/local/lib/python3.10/dist-packages (from deepspeed==0.13.1) (1.25.2)\n",
            "Requirement already satisfied: packaging>=20.0 in /usr/local/lib/python3.10/dist-packages (from deepspeed==0.13.1) (24.1)\n",
            "Requirement already satisfied: psutil in /usr/local/lib/python3.10/dist-packages (from deepspeed==0.13.1) (5.9.5)\n",
            "Requirement already satisfied: py-cpuinfo in /usr/local/lib/python3.10/dist-packages (from deepspeed==0.13.1) (9.0.0)\n",
            "Requirement already satisfied: pydantic in /usr/local/lib/python3.10/dist-packages (from deepspeed==0.13.1) (2.8.0)\n",
            "Requirement already satisfied: pynvml in /usr/local/lib/python3.10/dist-packages (from deepspeed==0.13.1) (11.5.0)\n",
            "Requirement already satisfied: torch in /usr/local/lib/python3.10/dist-packages (from deepspeed==0.13.1) (2.3.0+cu121)\n",
            "Requirement already satisfied: tqdm in /usr/local/lib/python3.10/dist-packages (from deepspeed==0.13.1) (4.66.4)\n",
            "Requirement already satisfied: annotated-types>=0.4.0 in /usr/local/lib/python3.10/dist-packages (from pydantic->deepspeed==0.13.1) (0.7.0)\n",
            "Requirement already satisfied: pydantic-core==2.20.0 in /usr/local/lib/python3.10/dist-packages (from pydantic->deepspeed==0.13.1) (2.20.0)\n",
            "Requirement already satisfied: typing-extensions>=4.6.1 in /usr/local/lib/python3.10/dist-packages (from pydantic->deepspeed==0.13.1) (4.12.2)\n",
            "Requirement already satisfied: filelock in /usr/local/lib/python3.10/dist-packages (from torch->deepspeed==0.13.1) (3.15.4)\n",
            "Requirement already satisfied: sympy in /usr/local/lib/python3.10/dist-packages (from torch->deepspeed==0.13.1) (1.12.1)\n",
            "Requirement already satisfied: networkx in /usr/local/lib/python3.10/dist-packages (from torch->deepspeed==0.13.1) (3.3)\n",
            "Requirement already satisfied: jinja2 in /usr/local/lib/python3.10/dist-packages (from torch->deepspeed==0.13.1) (3.1.4)\n",
            "Requirement already satisfied: fsspec in /usr/local/lib/python3.10/dist-packages (from torch->deepspeed==0.13.1) (2023.6.0)\n",
            "Requirement already satisfied: nvidia-cuda-nvrtc-cu12==12.1.105 in /usr/local/lib/python3.10/dist-packages (from torch->deepspeed==0.13.1) (12.1.105)\n",
            "Requirement already satisfied: nvidia-cuda-runtime-cu12==12.1.105 in /usr/local/lib/python3.10/dist-packages (from torch->deepspeed==0.13.1) (12.1.105)\n",
            "Requirement already satisfied: nvidia-cuda-cupti-cu12==12.1.105 in /usr/local/lib/python3.10/dist-packages (from torch->deepspeed==0.13.1) (12.1.105)\n",
            "Requirement already satisfied: nvidia-cudnn-cu12==8.9.2.26 in /usr/local/lib/python3.10/dist-packages (from torch->deepspeed==0.13.1) (8.9.2.26)\n",
            "Requirement already satisfied: nvidia-cublas-cu12==12.1.3.1 in /usr/local/lib/python3.10/dist-packages (from torch->deepspeed==0.13.1) (12.1.3.1)\n",
            "Requirement already satisfied: nvidia-cufft-cu12==11.0.2.54 in /usr/local/lib/python3.10/dist-packages (from torch->deepspeed==0.13.1) (11.0.2.54)\n",
            "Requirement already satisfied: nvidia-curand-cu12==10.3.2.106 in /usr/local/lib/python3.10/dist-packages (from torch->deepspeed==0.13.1) (10.3.2.106)\n",
            "Requirement already satisfied: nvidia-cusolver-cu12==11.4.5.107 in /usr/local/lib/python3.10/dist-packages (from torch->deepspeed==0.13.1) (11.4.5.107)\n",
            "Requirement already satisfied: nvidia-cusparse-cu12==12.1.0.106 in /usr/local/lib/python3.10/dist-packages (from torch->deepspeed==0.13.1) (12.1.0.106)\n",
            "Requirement already satisfied: nvidia-nccl-cu12==2.20.5 in /usr/local/lib/python3.10/dist-packages (from torch->deepspeed==0.13.1) (2.20.5)\n",
            "Requirement already satisfied: nvidia-nvtx-cu12==12.1.105 in /usr/local/lib/python3.10/dist-packages (from torch->deepspeed==0.13.1) (12.1.105)\n",
            "Requirement already satisfied: triton==2.3.0 in /usr/local/lib/python3.10/dist-packages (from torch->deepspeed==0.13.1) (2.3.0)\n",
            "Requirement already satisfied: nvidia-nvjitlink-cu12 in /usr/local/lib/python3.10/dist-packages (from nvidia-cusolver-cu12==11.4.5.107->torch->deepspeed==0.13.1) (12.5.82)\n",
            "Requirement already satisfied: MarkupSafe>=2.0 in /usr/local/lib/python3.10/dist-packages (from jinja2->torch->deepspeed==0.13.1) (2.1.5)\n",
            "Requirement already satisfied: mpmath<1.4.0,>=1.1.0 in /usr/local/lib/python3.10/dist-packages (from sympy->torch->deepspeed==0.13.1) (1.3.0)\n"
          ]
        }
      ],
      "source": [
        "# 필요한 라이브러리들을 먼저 설치 합니다.\n",
        "# It takes about 4 minutes\n",
        "\n",
        "# It might cause an error. But it's okay!\n",
        "!pip install -q -U bitsandbytes\n",
        "!pip install -q -U transformers\n",
        "!pip install -q -U peft\n",
        "!pip install -q -U accelerate\n",
        "!pip install -q -U datasets\n",
        "!pip install -q -U trl==0.8.6\n",
        "!pip install deepspeed==0.13.1"
      ]
    },
    {
      "cell_type": "code",
      "source": [
        "# 필요한 모듈을 로드 합니다.\n",
        "import torch\n",
        "from datasets import Dataset, load_dataset\n",
        "from transformers import AutoTokenizer, AutoModelForCausalLM, BitsAndBytesConfig, pipeline, TrainingArguments\n",
        "from trl import DPOTrainer"
      ],
      "metadata": {
        "id": "h2v8WMPMItYs"
      },
      "execution_count": null,
      "outputs": []
    },
    {
      "cell_type": "markdown",
      "source": [
        "- 아래 코드는 이미 누군가가 학습해놓은 모델과 토크나이저를 불러오는 코드입니다. 우리는 GPT2 모델을 사용합니다"
      ],
      "metadata": {
        "id": "k9W1H8depR9u"
      }
    },
    {
      "cell_type": "code",
      "source": [
        "# It takes about 1 ~ 2 minutes\n",
        "\n",
        "base_model = \"openai-community/gpt2\"\n",
        "\n",
        "model = AutoModelForCausalLM.from_pretrained(base_model, device_map={\"\":0})\n",
        "tokenizer = AutoTokenizer.from_pretrained(base_model, add_special_tokens=True)"
      ],
      "metadata": {
        "id": "_stB-MA6ufQX"
      },
      "execution_count": null,
      "outputs": []
    },
    {
      "cell_type": "code",
      "source": [
        "print(\"Special Tokens:\", tokenizer.special_tokens_map)"
      ],
      "metadata": {
        "id": "4hTr0pAnI_Ia",
        "colab": {
          "base_uri": "https://localhost:8080/"
        },
        "outputId": "b3cac440-0724-4b8c-f8f5-71709d656783"
      },
      "execution_count": null,
      "outputs": [
        {
          "output_type": "stream",
          "name": "stdout",
          "text": [
            "Special Tokens: {'bos_token': '<|endoftext|>', 'eos_token': '<|endoftext|>', 'unk_token': '<|endoftext|>'}\n"
          ]
        }
      ]
    },
    {
      "cell_type": "markdown",
      "source": [
        "#### 2. DPO 학습"
      ],
      "metadata": {
        "id": "kF6BYqfY7kCt"
      }
    },
    {
      "cell_type": "code",
      "source": [
        "# colab에서 학습을 위해 huggingface에서 간단한 DPO 데이터셋을 하나 불러오겠습니다.\n",
        "\n",
        "dataset = load_dataset(\"jondurbin/truthy-dpo-v0.1\")\n"
      ],
      "metadata": {
        "id": "u7-T2Lp1JYxg"
      },
      "execution_count": null,
      "outputs": []
    },
    {
      "cell_type": "code",
      "source": [
        "# 데이터셋 구조 보기\n",
        "\n",
        "dataset"
      ],
      "metadata": {
        "id": "wRK6G-rPJevh",
        "colab": {
          "base_uri": "https://localhost:8080/"
        },
        "outputId": "77b4feda-aabc-4df3-8a74-c98d5602fcd2"
      },
      "execution_count": null,
      "outputs": [
        {
          "output_type": "execute_result",
          "data": {
            "text/plain": [
              "DatasetDict({\n",
              "    train: Dataset({\n",
              "        features: ['id', 'source', 'system', 'prompt', 'chosen', 'rejected'],\n",
              "        num_rows: 1016\n",
              "    })\n",
              "})"
            ]
          },
          "metadata": {},
          "execution_count": 50
        }
      ]
    },
    {
      "cell_type": "code",
      "source": [
        "# 실제 데이터셋 관찰\n",
        "\n",
        "dataset['train'][0]"
      ],
      "metadata": {
        "id": "x7vHHe0QJh8a",
        "colab": {
          "base_uri": "https://localhost:8080/"
        },
        "outputId": "dd0f8aeb-2427-4bb7-ba2b-9f1004f30015"
      },
      "execution_count": null,
      "outputs": [
        {
          "output_type": "execute_result",
          "data": {
            "text/plain": [
              "{'id': '04c275bf738fd391b7fe25e25fe7bed3',\n",
              " 'source': 'truthy_dpo',\n",
              " 'system': 'You are an unbiased, uncensored, helpful assistant.',\n",
              " 'prompt': \"What's the nearest national park to you?\",\n",
              " 'chosen': \"As an AI, I don't have a physical location, so I can't provide the distance to the nearest national park.\",\n",
              " 'rejected': \"I don't have access to the user's location, so I can't determine the nearest national park.\"}"
            ]
          },
          "metadata": {},
          "execution_count": 51
        }
      ]
    },
    {
      "cell_type": "code",
      "source": [
        "# 학습용 프롬프트를 만들어 보겠습니다.\n",
        "\n",
        "def generate_prompt(example):\n",
        "    prompt = example['prompt']\n",
        "    rejected = example['rejected']\n",
        "    chosen = example['chosen']\n",
        "\n",
        "    example['prompt'] = f\"{prompt}<|endoftext|>\\n\"\n",
        "    example['rejected'] = f\"{rejected}<|endoftext|>\"\n",
        "    example['chosen'] = f\"{chosen}<|endoftext|>\"\n",
        "\n",
        "    return example"
      ],
      "metadata": {
        "id": "cjyvoXpKWvOI"
      },
      "execution_count": null,
      "outputs": []
    },
    {
      "cell_type": "code",
      "source": [
        "transformed_dataset = dataset.map(generate_prompt)"
      ],
      "metadata": {
        "id": "DCVKUMHqW1aN"
      },
      "execution_count": null,
      "outputs": []
    },
    {
      "cell_type": "code",
      "source": [
        "# 이제 학습을 위해 train과 test 데이터셋으로 나눠줍니다.\n",
        "dataset = transformed_dataset['train'].train_test_split(test_size=0.1)"
      ],
      "metadata": {
        "id": "Egs_ICjIW8o4"
      },
      "execution_count": null,
      "outputs": []
    },
    {
      "cell_type": "code",
      "source": [
        "# 아까와는 다르게, train / validation split 되어있음을 확인할 수 있습니다.\n",
        "dataset"
      ],
      "metadata": {
        "id": "3d4SEFTfXB7S",
        "colab": {
          "base_uri": "https://localhost:8080/"
        },
        "outputId": "f441a181-95d3-4fdb-e2e2-4811dad83369"
      },
      "execution_count": null,
      "outputs": [
        {
          "output_type": "execute_result",
          "data": {
            "text/plain": [
              "DatasetDict({\n",
              "    train: Dataset({\n",
              "        features: ['id', 'source', 'system', 'prompt', 'chosen', 'rejected'],\n",
              "        num_rows: 914\n",
              "    })\n",
              "    test: Dataset({\n",
              "        features: ['id', 'source', 'system', 'prompt', 'chosen', 'rejected'],\n",
              "        num_rows: 102\n",
              "    })\n",
              "})"
            ]
          },
          "metadata": {},
          "execution_count": 56
        }
      ]
    },
    {
      "cell_type": "code",
      "source": [
        "tokenizer.pad_token = tokenizer.eos_token\n",
        "tokenizer.padding_side = 'right'"
      ],
      "metadata": {
        "id": "VvvFMXUUXIuw"
      },
      "execution_count": null,
      "outputs": []
    },
    {
      "cell_type": "code",
      "source": [
        "# Training Arguments를 설정합니다.\n",
        "\n",
        "training_args = TrainingArguments(\n",
        "        output_dir=\"./outputs\",\n",
        "        evaluation_strategy=\"steps\",\n",
        "        do_eval=True,\n",
        "        optim=\"paged_adamw_32bit\",\n",
        "        per_device_train_batch_size=4,\n",
        "        gradient_accumulation_steps=1,\n",
        "        per_device_eval_batch_size=4,\n",
        "        logging_steps=50,\n",
        "        learning_rate=5e-7,\n",
        "        eval_steps=50,\n",
        "        num_train_epochs=1,\n",
        "        warmup_ratio=0.1,\n",
        "        lr_scheduler_type=\"cosine\",\n",
        "        save_strategy=\"no\"\n",
        "\n",
        ")\n",
        "\n",
        "# Huggingface trainer 라이브러리에서 DPO 알고리즘을 적용한 DPO trainer 를 별도로 제공합니다.\n",
        "\n",
        "trainer = DPOTrainer(\n",
        "    model,\n",
        "    ref_model=None,\n",
        "    args=training_args,\n",
        "    beta=0.1,\n",
        "    train_dataset=dataset['train'],\n",
        "    eval_dataset=dataset['test'],\n",
        "    tokenizer=tokenizer,\n",
        "    max_prompt_length=512,\n",
        "    max_length=768,\n",
        ")\n",
        "\n",
        "# 여기서 \"beta\"는 DPO Loss의 온도이며 일반적으로 0.1 ~ 0.5 범위입니다.\n",
        "# 이것은 beta가 작을수록 레퍼런스 모델을 무시한다는 의미로 레퍼런스 모델에 얼마나 많은 관심을 기울이는지를 나타냅니다."
      ],
      "metadata": {
        "id": "qmIkeRpKXMT-",
        "colab": {
          "base_uri": "https://localhost:8080/",
          "height": 172,
          "referenced_widgets": [
            "9248c88d793c4568b42f5bb756046af0",
            "d7f4861b1d6b4a9a923b9afec9e06d13",
            "b030c63daab2498f85ce14abee104146",
            "27096c493bdd4f68809bfd696773efd1",
            "65c0d80df7a84b6c8902a3938175e2cb",
            "66cf31b85d71408bbf200cb4239cd0ca",
            "18d5382685094c068c92bf64a95f73aa",
            "950b80602fca40849dbdaeecf166c116",
            "eb42087af0df409fa2befc0fa2b54bdb",
            "7aa9d821e4ed4f9884ee04708e8ee557",
            "9206edf073904b10928b48b63b63e761",
            "9cdadce41f53434cb7fdcfdaddeb4f1e",
            "c17a52d775b74862891c98e609587a86",
            "b0c2a2204a364c82b860bb10f23a9b95",
            "e34f015481f4424eb02fbc6a5c86d451",
            "4eb09514721a4ff68eb212b2adc806bb",
            "a265e83416ac4c05aaa2f26e0e28c305",
            "2f2f7adcbdb242eaba095d7ec321756a",
            "0639e8d849164885a66f45980f49a682",
            "a411bb2620ef4b90ba76e2203a452ac6",
            "f42ffaeb3677442cbe636310160f6739",
            "b931f7171d074035bdf400f269c91bc6"
          ]
        },
        "outputId": "48fcf324-b3cd-44c1-ecb6-b6b9609f1ba5"
      },
      "execution_count": null,
      "outputs": [
        {
          "output_type": "stream",
          "name": "stderr",
          "text": [
            "/usr/local/lib/python3.10/dist-packages/transformers/training_args.py:1494: FutureWarning: `evaluation_strategy` is deprecated and will be removed in version 4.46 of 🤗 Transformers. Use `eval_strategy` instead\n",
            "  warnings.warn(\n",
            "/usr/local/lib/python3.10/dist-packages/trl/trainer/dpo_trainer.py:332: UserWarning: When using DPODataCollatorWithPadding, you should set `remove_unused_columns=False` in your TrainingArguments we have set it for you, but you should do it yourself in the future.\n",
            "  warnings.warn(\n"
          ]
        },
        {
          "output_type": "display_data",
          "data": {
            "text/plain": [
              "Map:   0%|          | 0/914 [00:00<?, ? examples/s]"
            ],
            "application/vnd.jupyter.widget-view+json": {
              "version_major": 2,
              "version_minor": 0,
              "model_id": "9248c88d793c4568b42f5bb756046af0"
            }
          },
          "metadata": {}
        },
        {
          "output_type": "display_data",
          "data": {
            "text/plain": [
              "Map:   0%|          | 0/102 [00:00<?, ? examples/s]"
            ],
            "application/vnd.jupyter.widget-view+json": {
              "version_major": 2,
              "version_minor": 0,
              "model_id": "9cdadce41f53434cb7fdcfdaddeb4f1e"
            }
          },
          "metadata": {}
        }
      ]
    },
    {
      "cell_type": "code",
      "source": [
        "# 학습 시작\n",
        "\n",
        "trainer.train()\n",
        "\n",
        "# DPO 학습의 메트릭이 의미 하는 바는 다음과 같습니다.\n",
        "# Rewards/chosen : 베타로 스케일링된 선택된 응답의 정책 모델과 레퍼런스 모델의 로그 확률 간의 평균 차이\n",
        "# Rewards/rejected : 정책 모델과 거부된 응답에 대한 레퍼런스 모델의 로그 확률 간의 평균 차이(베타 스케일)\n",
        "# Rewards/accuracies : 선택한 보상이 해당 거부된 보상보다 높은 빈도의 평균\n",
        "# Rewards/margins : 선택한 보상과 해당 거부된 보상 간의 평균 차이"
      ],
      "metadata": {
        "id": "fIDZ6RlRXS9m",
        "colab": {
          "base_uri": "https://localhost:8080/",
          "height": 291
        },
        "outputId": "54b15398-d87e-4e5d-ec86-f2e23ba95cec"
      },
      "execution_count": null,
      "outputs": [
        {
          "output_type": "stream",
          "name": "stderr",
          "text": [
            "Could not estimate the number of tokens of the input, floating-point operations will not be computed\n"
          ]
        },
        {
          "output_type": "display_data",
          "data": {
            "text/plain": [
              "<IPython.core.display.HTML object>"
            ],
            "text/html": [
              "\n",
              "    <div>\n",
              "      \n",
              "      <progress value='229' max='229' style='width:300px; height:20px; vertical-align: middle;'></progress>\n",
              "      [229/229 03:20, Epoch 1/1]\n",
              "    </div>\n",
              "    <table border=\"1\" class=\"dataframe\">\n",
              "  <thead>\n",
              " <tr style=\"text-align: left;\">\n",
              "      <th>Step</th>\n",
              "      <th>Training Loss</th>\n",
              "      <th>Validation Loss</th>\n",
              "      <th>Rewards/chosen</th>\n",
              "      <th>Rewards/rejected</th>\n",
              "      <th>Rewards/accuracies</th>\n",
              "      <th>Rewards/margins</th>\n",
              "      <th>Logps/rejected</th>\n",
              "      <th>Logps/chosen</th>\n",
              "      <th>Logits/rejected</th>\n",
              "      <th>Logits/chosen</th>\n",
              "    </tr>\n",
              "  </thead>\n",
              "  <tbody>\n",
              "    <tr>\n",
              "      <td>50</td>\n",
              "      <td>0.665800</td>\n",
              "      <td>0.632830</td>\n",
              "      <td>0.003187</td>\n",
              "      <td>-0.127538</td>\n",
              "      <td>0.942308</td>\n",
              "      <td>0.130725</td>\n",
              "      <td>-232.497803</td>\n",
              "      <td>-167.729843</td>\n",
              "      <td>-105.271919</td>\n",
              "      <td>-105.167885</td>\n",
              "    </tr>\n",
              "    <tr>\n",
              "      <td>100</td>\n",
              "      <td>0.596400</td>\n",
              "      <td>0.577580</td>\n",
              "      <td>0.000829</td>\n",
              "      <td>-0.270499</td>\n",
              "      <td>0.951923</td>\n",
              "      <td>0.271329</td>\n",
              "      <td>-233.927414</td>\n",
              "      <td>-167.753418</td>\n",
              "      <td>-105.216461</td>\n",
              "      <td>-105.083138</td>\n",
              "    </tr>\n",
              "    <tr>\n",
              "      <td>150</td>\n",
              "      <td>0.535800</td>\n",
              "      <td>0.550431</td>\n",
              "      <td>-0.001330</td>\n",
              "      <td>-0.352153</td>\n",
              "      <td>0.951923</td>\n",
              "      <td>0.350822</td>\n",
              "      <td>-234.743927</td>\n",
              "      <td>-167.775009</td>\n",
              "      <td>-105.182892</td>\n",
              "      <td>-105.026505</td>\n",
              "    </tr>\n",
              "    <tr>\n",
              "      <td>200</td>\n",
              "      <td>0.514400</td>\n",
              "      <td>0.541014</td>\n",
              "      <td>-0.001734</td>\n",
              "      <td>-0.381820</td>\n",
              "      <td>0.951923</td>\n",
              "      <td>0.380086</td>\n",
              "      <td>-235.040619</td>\n",
              "      <td>-167.779068</td>\n",
              "      <td>-105.171791</td>\n",
              "      <td>-105.005730</td>\n",
              "    </tr>\n",
              "  </tbody>\n",
              "</table><p>"
            ]
          },
          "metadata": {}
        },
        {
          "output_type": "execute_result",
          "data": {
            "text/plain": [
              "TrainOutput(global_step=229, training_loss=0.5690554531380599, metrics={'train_runtime': 201.9427, 'train_samples_per_second': 4.526, 'train_steps_per_second': 1.134, 'total_flos': 0.0, 'train_loss': 0.5690554531380599, 'epoch': 1.0})"
            ]
          },
          "metadata": {},
          "execution_count": 59
        }
      ]
    },
    {
      "cell_type": "markdown",
      "source": [
        "\n",
        "\n",
        "### Reference\n",
        "\n",
        "#### [SFT code - Medium](https://medium.com/@csakash03/fine-tuning-llama-2-llm-on-google-colab-a-step-by-step-guide-cf7bb367e790)\n",
        "#### [RLHF, DPO explanation & code - Devocean](https://devocean.sk.com/blog/techBoardDetail.do?ID=165903&boardType=techBlog)\n",
        "#### [RLHF explanation - IBM](https://www.ibm.com/kr-ko/topics/rlhf)\n",
        "#### [RLHF explanation - huggingface](https://huggingface.co/blog/rlhf)\n",
        "\n",
        "#### [DPO paper](https://arxiv.org/abs/2305.18290)\n",
        "#### [DPO explanation & code - huggingface](https://huggingface.co/blog/pref-tuning)"
      ],
      "metadata": {
        "id": "NxPIzehYkPU_"
      }
    },
    {
      "cell_type": "code",
      "source": [],
      "metadata": {
        "id": "SLWocvMkkPsr"
      },
      "execution_count": null,
      "outputs": []
    }
  ]
}