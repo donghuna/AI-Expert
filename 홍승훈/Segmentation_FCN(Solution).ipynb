{
  "nbformat": 4,
  "nbformat_minor": 0,
  "metadata": {
    "colab": {
      "provenance": [],
      "include_colab_link": true
    },
    "kernelspec": {
      "name": "python3",
      "display_name": "Python 3"
    }
  },
  "cells": [
    {
      "cell_type": "markdown",
      "metadata": {
        "id": "view-in-github",
        "colab_type": "text"
      },
      "source": [
        "<a href=\"https://colab.research.google.com/github/donghuna/AI-Expert/blob/main/%ED%99%8D%EC%8A%B9%ED%9B%88/Segmentation_FCN(Solution).ipynb\" target=\"_parent\"><img src=\"https://colab.research.google.com/assets/colab-badge.svg\" alt=\"Open In Colab\"/></a>"
      ]
    },
    {
      "cell_type": "markdown",
      "metadata": {
        "id": "AYXIHngPoI2W"
      },
      "source": [
        "# Image Segmentation using Fully Convolutional Network (FCN)\n",
        "---\n",
        "TA : Jaehoon Yoo (wogns98@kaist.ac.kr)\n",
        "\n",
        "---\n",
        "## Instructions\n",
        "- In this assignment, we will perform semantic segmentation on PASCAL VOC 2011 dataset which contains 20 object categories. We use the Semantic Boundaries Dataset (SBD) as it contains more segmentation labels than the original dataset.\n",
        "- To this end, you need to implement necessary network components, load and fine-tune the pretrained network, and report segmentation performance on the validation set.\n",
        "- Fill in the section marked **Px.x** with the appropriate code. **You can only modify inside those areas, and not the skeleton code.**\n",
        "- To begin, you should download this ipynb file into your own Google drive clicking `make a copy(사본만들기)`. Find the copy in your drive, change their name to `Segmentation_FCN.ipynb`, if their names were changed to e.g. `Copy of Segmentation_FCN.ipyb` or `Segmentation_FCN.ipynb의 사본`.\n",
        "- Also, you have to download a pretrained VGG network [here](https://drive.google.com/file/d/1HbA8D08-dgglvB9nDCpLYwhgaDOOmPBP/view?usp=sharing). Upload it to your drive, place it in the same directory with your Colab notebook.\n",
        "- <font color=\"red\">You'll be training large models. We recommend you to create at least **6GB** of space available on your Google drive to run everything properly.</font>"
      ]
    },
    {
      "cell_type": "markdown",
      "metadata": {
        "id": "x1ZGXqrvlc_O"
      },
      "source": [
        "---\n",
        "## Prerequisite: Mount your gdrive."
      ]
    },
    {
      "cell_type": "code",
      "metadata": {
        "id": "a0HEy2Tok-2u",
        "colab": {
          "base_uri": "https://localhost:8080/"
        },
        "outputId": "129d89b9-70fb-47bc-b091-becf5ceebe86"
      },
      "source": [
        "import os\n",
        "from google.colab import drive\n",
        "drive.mount('/gdrive')"
      ],
      "execution_count": null,
      "outputs": [
        {
          "output_type": "stream",
          "name": "stdout",
          "text": [
            "Mounted at /gdrive\n"
          ]
        }
      ]
    },
    {
      "cell_type": "markdown",
      "metadata": {
        "id": "_Tsq4xR-liMH"
      },
      "source": [
        "---\n",
        "## Prerequisite: Setup the `root` directory properly."
      ]
    },
    {
      "cell_type": "code",
      "metadata": {
        "id": "SHzfVbfmloDz"
      },
      "source": [
        "# Specify the directory path where `Segmentation.ipynb` exists.\n",
        "# For example, if you saved `Segmentation.ipynb` in `/gdrive/MyDrive/Segmentation_FCN` directory,\n",
        "# then set root = '/gdrive/MyDrive/Segmentation_FCN'\n",
        "# root = '/gdrive/MyDrive/Segmentation_FCN'\n",
        "root = '/gdrive/MyDrive/2024S/실습/FCN'"
      ],
      "execution_count": null,
      "outputs": []
    },
    {
      "cell_type": "markdown",
      "metadata": {
        "id": "9XDVC3lJl1_H"
      },
      "source": [
        "---\n",
        "# Basic settings"
      ]
    },
    {
      "cell_type": "markdown",
      "metadata": {
        "id": "3jIiyjEGlwJ8"
      },
      "source": [
        "## Import libraries"
      ]
    },
    {
      "cell_type": "code",
      "metadata": {
        "id": "eGlC_yM9lvue",
        "colab": {
          "base_uri": "https://localhost:8080/"
        },
        "outputId": "b1f5f351-d683-40b6-dadf-52e438250839"
      },
      "source": [
        "import os\n",
        "import time\n",
        "import traceback\n",
        "import logging\n",
        "from easydict import EasyDict as edict\n",
        "import numpy as np\n",
        "from pathlib import Path\n",
        "from PIL import Image\n",
        "\n",
        "import torch\n",
        "import torch.nn as nn\n",
        "import torch.nn.functional as F\n",
        "from torch.optim import SGD\n",
        "from torch.utils.data import DataLoader\n",
        "from torch.utils.tensorboard import SummaryWriter\n",
        "from torchvision import transforms\n",
        "from torchvision.utils import make_grid\n",
        "from torchvision.datasets import VOCSegmentation, SBDataset\n",
        "from torchvision.datasets.vision import StandardTransform\n",
        "from torchvision.models.vgg import VGG, vgg16, make_layers\n",
        "\n",
        "torch.backends.cudnn.benchmark = True\n",
        "torch.use_deterministic_algorithms(True)\n",
        "\n",
        "!pip install git+https://github.com/lucasb-eyer/pydensecrf.git\n",
        "import pydensecrf.densecrf as dcrf\n",
        "import pydensecrf.utils as utils"
      ],
      "execution_count": null,
      "outputs": [
        {
          "output_type": "stream",
          "name": "stdout",
          "text": [
            "Collecting git+https://github.com/lucasb-eyer/pydensecrf.git\n",
            "  Cloning https://github.com/lucasb-eyer/pydensecrf.git to /tmp/pip-req-build-u9i1bb8y\n",
            "  Running command git clone --filter=blob:none --quiet https://github.com/lucasb-eyer/pydensecrf.git /tmp/pip-req-build-u9i1bb8y\n",
            "  Resolved https://github.com/lucasb-eyer/pydensecrf.git to commit 2723c7fa4f2ead16ae1ce3d8afe977724bb8f87f\n",
            "  Installing build dependencies ... \u001b[?25l\u001b[?25hdone\n",
            "  Getting requirements to build wheel ... \u001b[?25l\u001b[?25hdone\n",
            "  Preparing metadata (pyproject.toml) ... \u001b[?25l\u001b[?25hdone\n",
            "Building wheels for collected packages: pydensecrf\n",
            "  Building wheel for pydensecrf (pyproject.toml) ... \u001b[?25l\u001b[?25hdone\n",
            "  Created wheel for pydensecrf: filename=pydensecrf-1.0-cp310-cp310-linux_x86_64.whl size=3405187 sha256=61d4c4a0ea27b5fd91c564b78c66281205b33c3c22c2d3c2ef528bee0915e186\n",
            "  Stored in directory: /tmp/pip-ephem-wheel-cache-gm59jg02/wheels/01/5b/61/87443ed3bf03dd2940375cf2f8b6fba88efece935465e490b0\n",
            "Successfully built pydensecrf\n",
            "Installing collected packages: pydensecrf\n",
            "Successfully installed pydensecrf-1.0\n"
          ]
        }
      ]
    },
    {
      "cell_type": "markdown",
      "metadata": {
        "id": "W27cdKyEmJy1"
      },
      "source": [
        "## Hyperparameters"
      ]
    },
    {
      "cell_type": "code",
      "metadata": {
        "id": "dczwhJI1l8Kl"
      },
      "source": [
        "# Basic settings\n",
        "cfg = {'vgg16': [64, 64, 'M', 128, 128, 'M', 256, 256, 256, 'M', 512, 512, 512, 'M', 512, 512, 512, 'M']}\n",
        "\n",
        "torch.manual_seed(42)\n",
        "torch.cuda.manual_seed(42)\n",
        "\n",
        "args = edict()\n",
        "args.batch_size = 1\n",
        "args.lr = 1e-4\n",
        "args.momentum = 0.9\n",
        "args.weight_decay = 5e-4\n",
        "args.epoch = 2\n",
        "args.tensorboard = True\n",
        "args.gpu = True\n",
        "\n",
        "device = 'cuda' if torch.cuda.is_available() and args.gpu else 'cpu'\n",
        "\n",
        "# Create directory name.\n",
        "result_dir = Path(root) / 'results'\n",
        "result_dir.mkdir(parents=True, exist_ok=True)"
      ],
      "execution_count": null,
      "outputs": []
    },
    {
      "cell_type": "markdown",
      "metadata": {
        "id": "5iiGFJlxmCXW"
      },
      "source": [
        "## Tensorboard"
      ]
    },
    {
      "cell_type": "code",
      "metadata": {
        "id": "2b3_oX_2mDw1",
        "colab": {
          "base_uri": "https://localhost:8080/",
          "height": 820
        },
        "outputId": "a676dba4-b890-4a99-bc38-d889dd018412"
      },
      "source": [
        "# Setup tensorboard.\n",
        "if args.tensorboard:\n",
        "    %load_ext tensorboard\n",
        "    %tensorboard --logdir \"/gdrive/MyDrive/{str(result_dir).replace('/gdrive/MyDrive/', '')}\" --samples_per_plugin images=100\n",
        "else:\n",
        "    writer = None"
      ],
      "execution_count": null,
      "outputs": []
    },
    {
      "cell_type": "markdown",
      "metadata": {
        "id": "XQZvsEeDmeZt"
      },
      "source": [
        "---\n",
        "# Utility functions\n",
        "\n",
        "Here are some utility functions that we will use throughout this assignment. You don't have to modify any of these.  \n",
        "**Conditional Random Field (CRF)** is a technique to further improve segmentation performance, mainly focusing on better localization. Details can be found in the [DeepLab](https://arxiv.org/abs/1606.00915) paper."
      ]
    },
    {
      "cell_type": "code",
      "metadata": {
        "id": "LUOvr2A_mf4Q"
      },
      "source": [
        "def get_parameters(model, bias=False):\n",
        "    \"\"\" Extracts weight and bias parameters from a model. \"\"\"\n",
        "    for m in model.modules():\n",
        "        if isinstance(m, nn.Conv2d):\n",
        "            if bias:\n",
        "                yield m.bias\n",
        "            else:\n",
        "                yield m.weight\n",
        "        elif isinstance(m, nn.ConvTranspose2d):\n",
        "            # weight is frozen because it is just a bilinear upsampling\n",
        "            if bias:\n",
        "                assert m.bias is None\n",
        "\n",
        "\n",
        "def get_upsampling_weight(in_channels, out_channels, kernel_size):\n",
        "    \"\"\" Make a 2D bilinear kernel suitable for upsampling\n",
        "        https://github.com/shelhamer/fcn.berkeleyvision.org/blob/master/surgery.py\n",
        "    \"\"\"\n",
        "    factor = (kernel_size + 1) // 2\n",
        "    if kernel_size % 2 == 1:\n",
        "        center = factor - 1\n",
        "    else:\n",
        "        center = factor - 0.5\n",
        "    og = np.ogrid[:kernel_size, :kernel_size]\n",
        "    filt = (1 - abs(og[0] - center) / factor) * \\\n",
        "           (1 - abs(og[1] - center) / factor)\n",
        "    weight = np.zeros((in_channels, out_channels, kernel_size, kernel_size),\n",
        "                      dtype=np.float64)\n",
        "    weight[range(in_channels), range(out_channels), :, :] = filt\n",
        "    return torch.from_numpy(weight).float()\n",
        "\n",
        "\n",
        "class toLongTensor:\n",
        "    \"\"\" Convert a byte tensor to a long tensor \"\"\"\n",
        "    def __call__(self, img):\n",
        "        output = torch.from_numpy(np.array(img).astype(np.int32)).long()\n",
        "        output[output == 255] = 21\n",
        "        return output\n",
        "\n",
        "\n",
        "def _fast_hist(label_true, label_pred, n_class):\n",
        "    mask = (label_true >= 0) & (label_true < n_class)\n",
        "    hist = np.bincount(\n",
        "        n_class * label_true[mask].astype(int) +\n",
        "        label_pred[mask], minlength=n_class ** 2).reshape(n_class, n_class)\n",
        "    return hist\n",
        "\n",
        "\n",
        "def label_accuracy_score(label_trues, label_preds, n_class):\n",
        "    \"\"\" Returns overall accuracy and mean IoU \"\"\"\n",
        "    hist = np.zeros((n_class, n_class))\n",
        "    for lt, lp in zip(label_trues, label_preds):\n",
        "        hist += _fast_hist(lt.flatten(), lp.flatten(), n_class)\n",
        "    acc = np.diag(hist).sum() / hist.sum()\n",
        "    with np.errstate(divide='ignore', invalid='ignore'):\n",
        "        iou = np.diag(hist) / (\n",
        "            hist.sum(axis=1) + hist.sum(axis=0) - np.diag(hist)\n",
        "        )\n",
        "    mean_iou = np.nanmean(iou)\n",
        "    return acc, mean_iou\n",
        "\n",
        "\n",
        "class Colorize(object):\n",
        "    \"\"\" Colorize the segmentation labels \"\"\"\n",
        "    def __init__(self, n=35, cmap=None):\n",
        "        if cmap is None:\n",
        "            raise NotImplementedError()\n",
        "            self.cmap = labelcolormap(n)\n",
        "        else:\n",
        "            self.cmap = cmap\n",
        "        self.cmap = self.cmap[:n]\n",
        "\n",
        "    def preprocess(self, x):\n",
        "        if len(x.size()) > 3 and x.size(1) > 1:\n",
        "            # if x has a shape of [B, C, H, W],\n",
        "            # where B and C denote a batch size and the number of semantic classe\n",
        "            # then translate it into a shape of [B, 1, H, W]\n",
        "            x = x.argmax(dim=1, keepdim=True).float()\n",
        "        assert (len(x.shape) == 4) and (x.size(1) == 1), 'x should have a shape of [B, 1, H, W]'\n",
        "        return x\n",
        "\n",
        "    def __call__(self, x):\n",
        "        x = self.preprocess(x)\n",
        "        if (x.dtype == torch.float) and (x.max() < 2):\n",
        "            x = x.mul(255).long()\n",
        "        color_images = []\n",
        "        gray_image_shape = x.shape[1:]\n",
        "        for gray_image in x:\n",
        "            color_image = torch.ByteTensor(3, *gray_image_shape[1:]).fill_(0)\n",
        "            for label, cmap in enumerate(self.cmap):\n",
        "                mask = (label == gray_image[0]).cpu()\n",
        "                color_image[0][mask] = cmap[0]\n",
        "                color_image[1][mask] = cmap[1]\n",
        "                color_image[2][mask] = cmap[2]\n",
        "            color_images.append(color_image)\n",
        "        color_images = torch.stack(color_images)\n",
        "        return color_images\n",
        "\n",
        "\n",
        "def uint82bin(n, count=8):\n",
        "    \"\"\" Returns the binary of integer n, count refers to amount of bits \"\"\"\n",
        "    return ''.join([str((n >> y) & 1) for y in range(count-1, -1, -1)])\n",
        "\n",
        "\n",
        "def get_color_map():\n",
        "    \"\"\" Returns N color map \"\"\"\n",
        "    N=25\n",
        "    color_map = np.zeros((N, 3), dtype=np.uint8)\n",
        "    for i in range(N):\n",
        "        r, g, b = 0, 0, 0\n",
        "        id = i\n",
        "        for j in range(7):\n",
        "            str_id = uint82bin(id)\n",
        "            r = r ^ (np.uint8(str_id[-1]) << (7-j))\n",
        "            g = g ^ (np.uint8(str_id[-2]) << (7-j))\n",
        "            b = b ^ (np.uint8(str_id[-3]) << (7-j))\n",
        "            id = id >> 3\n",
        "        color_map[i, 0] = r\n",
        "        color_map[i, 1] = g\n",
        "        color_map[i, 2] = b\n",
        "    color_map = torch.from_numpy(color_map)\n",
        "    return color_map\n",
        "\n",
        "\n",
        "def dense_crf(img, output_probs):\n",
        "    \"\"\" Conditional Random Field for better segmentation\n",
        "        Refer to https://github.com/lucasb-eyer/pydensecrf for details.\n",
        "    \"\"\"\n",
        "    c = output_probs.shape[0]\n",
        "    h = output_probs.shape[1]\n",
        "    w = output_probs.shape[2]\n",
        "\n",
        "    U = utils.unary_from_softmax(output_probs)\n",
        "    U = np.ascontiguousarray(U)\n",
        "\n",
        "    img = np.ascontiguousarray(img)\n",
        "\n",
        "    d = dcrf.DenseCRF2D(w, h, c)\n",
        "    d.setUnaryEnergy(U)\n",
        "    d.addPairwiseGaussian(sxy=1, compat=3)\n",
        "    d.addPairwiseBilateral(sxy=67, srgb=3, rgbim=img, compat=4)\n",
        "\n",
        "    Q = d.inference(10)\n",
        "    Q = np.array(Q).reshape((c, h, w))\n",
        "    return Q\n",
        "\n",
        "\n",
        "def add_padding(img):\n",
        "    \"\"\" Zero-pad image(or any array-like object) to 500x500. \"\"\"\n",
        "    w, h = img.shape[-2], img.shape[-1]\n",
        "    MAX_SIZE = 500\n",
        "    IGNORE_IDX = 21\n",
        "\n",
        "    assert max(w, h) <= MAX_SIZE, f'both height and width should be less than {MAX_SIZE}'\n",
        "\n",
        "    _pad_left = (MAX_SIZE - w) // 2\n",
        "    _pad_right = (MAX_SIZE - w + 1) // 2\n",
        "    _pad_up = (MAX_SIZE - h) // 2\n",
        "    _pad_down = (MAX_SIZE - h + 1) // 2\n",
        "\n",
        "    _pad = (_pad_up, _pad_down, _pad_left, _pad_right)\n",
        "\n",
        "    padding_img = transforms.Pad(_pad)\n",
        "    padding_target = transforms.Pad(_pad, fill=IGNORE_IDX)\n",
        "\n",
        "    img = F.pad(img, pad=_pad)\n",
        "    return img\n"
      ],
      "execution_count": null,
      "outputs": []
    },
    {
      "cell_type": "markdown",
      "metadata": {
        "id": "r7WMaIEVmoub"
      },
      "source": [
        "---\n",
        "# Define `DataLoader` for training & validation set\n",
        "\n",
        "If the cell below fails with error message \"Destination path `./cls` already exists\", try again with `download=False`."
      ]
    },
    {
      "cell_type": "code",
      "metadata": {
        "id": "do8qfYkEmtNg"
      },
      "source": [
        "mean = [.485, .456, .406]\n",
        "std = [.229, .224, .225]\n",
        "\n",
        "# define transform functions.\n",
        "transform_train = transforms.Compose([\n",
        "    transforms.ToTensor(),\n",
        "    transforms.Normalize(mean, std)\n",
        "])\n",
        "transform_train_target = transforms.Compose([\n",
        "    toLongTensor()\n",
        "])\n",
        "transform_test = transforms.Compose([\n",
        "    transforms.ToTensor(),\n",
        "    transforms.Normalize(mean, std)\n",
        "])\n",
        "transform_test_target = transforms.Compose([\n",
        "    toLongTensor()\n",
        "])\n",
        "\n",
        "# define dataloader.\n",
        "sbd_transform_train = StandardTransform(transform_train, transform_train_target)\n",
        "sbd_transform_test = StandardTransform(transform_test, transform_test_target)\n",
        "train_dataset = SBDataset(root='.', image_set='train', mode='segmentation', download=True, transforms=sbd_transform_train)\n",
        "test_dataset = SBDataset(root='.', image_set='val', mode='segmentation', download=False, transforms=sbd_transform_test)\n",
        "train_loader = DataLoader(train_dataset, batch_size=args.batch_size, shuffle=True)\n",
        "test_loader = DataLoader(test_dataset, batch_size=args.batch_size, shuffle=False)"
      ],
      "execution_count": null,
      "outputs": []
    },
    {
      "cell_type": "markdown",
      "metadata": {
        "id": "OVy7Dc_rmw2A"
      },
      "source": [
        "---\n",
        "# Define networks"
      ]
    },
    {
      "cell_type": "markdown",
      "source": [
        "## P0. VGG16 Backbone"
      ],
      "metadata": {
        "id": "94PR5_BogsC-"
      }
    },
    {
      "cell_type": "code",
      "metadata": {
        "colab": {
          "base_uri": "https://localhost:8080/"
        },
        "id": "P4OKiddTXYgj",
        "outputId": "77882fc0-89b6-44d4-b5d0-612a26f6651f"
      },
      "source": [
        "class ClassificationCNN(VGG):\n",
        "    def __init__(self):\n",
        "        super().__init__(make_layers(cfg['vgg16']))\n",
        "\n",
        "print(ClassificationCNN())"
      ],
      "execution_count": null,
      "outputs": [
        {
          "output_type": "stream",
          "name": "stdout",
          "text": [
            "ClassificationCNN(\n",
            "  (features): Sequential(\n",
            "    (0): Conv2d(3, 64, kernel_size=(3, 3), stride=(1, 1), padding=(1, 1))\n",
            "    (1): ReLU(inplace=True)\n",
            "    (2): Conv2d(64, 64, kernel_size=(3, 3), stride=(1, 1), padding=(1, 1))\n",
            "    (3): ReLU(inplace=True)\n",
            "    (4): MaxPool2d(kernel_size=2, stride=2, padding=0, dilation=1, ceil_mode=False)\n",
            "    (5): Conv2d(64, 128, kernel_size=(3, 3), stride=(1, 1), padding=(1, 1))\n",
            "    (6): ReLU(inplace=True)\n",
            "    (7): Conv2d(128, 128, kernel_size=(3, 3), stride=(1, 1), padding=(1, 1))\n",
            "    (8): ReLU(inplace=True)\n",
            "    (9): MaxPool2d(kernel_size=2, stride=2, padding=0, dilation=1, ceil_mode=False)\n",
            "    (10): Conv2d(128, 256, kernel_size=(3, 3), stride=(1, 1), padding=(1, 1))\n",
            "    (11): ReLU(inplace=True)\n",
            "    (12): Conv2d(256, 256, kernel_size=(3, 3), stride=(1, 1), padding=(1, 1))\n",
            "    (13): ReLU(inplace=True)\n",
            "    (14): Conv2d(256, 256, kernel_size=(3, 3), stride=(1, 1), padding=(1, 1))\n",
            "    (15): ReLU(inplace=True)\n",
            "    (16): MaxPool2d(kernel_size=2, stride=2, padding=0, dilation=1, ceil_mode=False)\n",
            "    (17): Conv2d(256, 512, kernel_size=(3, 3), stride=(1, 1), padding=(1, 1))\n",
            "    (18): ReLU(inplace=True)\n",
            "    (19): Conv2d(512, 512, kernel_size=(3, 3), stride=(1, 1), padding=(1, 1))\n",
            "    (20): ReLU(inplace=True)\n",
            "    (21): Conv2d(512, 512, kernel_size=(3, 3), stride=(1, 1), padding=(1, 1))\n",
            "    (22): ReLU(inplace=True)\n",
            "    (23): MaxPool2d(kernel_size=2, stride=2, padding=0, dilation=1, ceil_mode=False)\n",
            "    (24): Conv2d(512, 512, kernel_size=(3, 3), stride=(1, 1), padding=(1, 1))\n",
            "    (25): ReLU(inplace=True)\n",
            "    (26): Conv2d(512, 512, kernel_size=(3, 3), stride=(1, 1), padding=(1, 1))\n",
            "    (27): ReLU(inplace=True)\n",
            "    (28): Conv2d(512, 512, kernel_size=(3, 3), stride=(1, 1), padding=(1, 1))\n",
            "    (29): ReLU(inplace=True)\n",
            "    (30): MaxPool2d(kernel_size=2, stride=2, padding=0, dilation=1, ceil_mode=False)\n",
            "  )\n",
            "  (avgpool): AdaptiveAvgPool2d(output_size=(7, 7))\n",
            "  (classifier): Sequential(\n",
            "    (0): Linear(in_features=25088, out_features=4096, bias=True)\n",
            "    (1): ReLU(inplace=True)\n",
            "    (2): Dropout(p=0.5, inplace=False)\n",
            "    (3): Linear(in_features=4096, out_features=4096, bias=True)\n",
            "    (4): ReLU(inplace=True)\n",
            "    (5): Dropout(p=0.5, inplace=False)\n",
            "    (6): Linear(in_features=4096, out_features=1000, bias=True)\n",
            "  )\n",
            ")\n"
          ]
        }
      ]
    },
    {
      "cell_type": "markdown",
      "metadata": {
        "id": "Yv94fT75mxac"
      },
      "source": [
        "## P1. Implement FCN32 [(Illustration)](https://docs.google.com/drawings/d/1Vlm1kdIH9MZiJU_gLFhVNO_-alFGWyxLF_zSmQxkaO0/edit?usp=sharing)\n",
        "\n",
        "### (a) Declare convolutional layers as an alternative to FC layers\n",
        "The VGG16 backbone contains two fully connected layers (fc6, fc7). In fully convolutional network, these fc layers will be convolutionized. You should define proper convolutional layers, which will be initialized from fc layers of pretrained model in section (d).\n",
        "\n",
        "### (b) Declare pixel-wise classification layer using 1x1 convolution\n",
        "This section declares 1x1 convolution layer that produces classification per pixel\n",
        "\n",
        "### (c) Declare a deconvolution layer\n",
        "Declare a learnable upsampling layer.\n",
        "\n",
        "### (d) Load pretrained weights\n",
        "As mentioned in section (a), you should convolutionize the two fc layers(fc6, fc7) of pretrained model inside `load_pretrained` method. Initialize two convolutional layers with fc6, fc7 layers of the pretrained model, respectively.\n",
        "\n",
        "### (e) Implement `forward` method\n",
        "The `forward` method should\n",
        "- Feed input through the backbone to get `pool5` (given)\n",
        "- On top of `pool5`, perform pixel-wise classification.\n",
        "- Upsample the prediction to create segmentation on the original image resolution level."
      ]
    },
    {
      "cell_type": "code",
      "metadata": {
        "id": "NLC1mpEFm05u"
      },
      "source": [
        "class FCN32(VGG):\n",
        "    def __init__(self):\n",
        "        super().__init__(make_layers(cfg['vgg16']))\n",
        "\n",
        "        self.numclass = 21\n",
        "\n",
        "        self.relu = nn.ReLU(inplace=True)\n",
        "        self.dropout = nn.Dropout2d()\n",
        "\n",
        "        # fc layers in vgg are all converted into conv layers.\n",
        "        #################################\n",
        "        ## P1(a). Write your code here ##\n",
        "        # self.conv6 =\n",
        "        # self.conv7 =\n",
        "        #################################\n",
        "        self.conv6 = nn.Conv2d(512, 4096, kernel_size=7)\n",
        "        self.conv7 = nn.Conv2d(4096, 4096, kernel_size=1)\n",
        "\n",
        "        # prediction layer with 1x1 convolution layer.\n",
        "        #################################\n",
        "        ## P1(b). Write your code here ##\n",
        "        # self.score_x32 =\n",
        "        #################################\n",
        "        self.score_x32 = nn.Conv2d(4096, self.numclass, kernel_size=1)\n",
        "\n",
        "        # learnable upsampling layers in FCN model.\n",
        "        #################################\n",
        "        ## P1(c). Write your code here ##\n",
        "        # self.deconv1 =\n",
        "        #################################\n",
        "        self.deconv1 = nn.ConvTranspose2d(self.numclass, self.numclass, kernel_size=64, stride=32, bias=False)\n",
        "\n",
        "        # initialize\n",
        "        self._initialize_weights() # initialize upsampling weight\n",
        "\n",
        "    def load_pretrained(self, pretrained_model):\n",
        "        self.features = pretrained_model.features\n",
        "        fc6 = pretrained_model.classifier[0]\n",
        "        fc7 = pretrained_model.classifier[3]\n",
        "\n",
        "        #################################\n",
        "        ## P1(d). Write your code here ##\n",
        "        # self.conv6.weight.data =\n",
        "        # self.conv6.bias.data =\n",
        "        # self.conv7.weight.data =\n",
        "        # self.conv7.bias.data =\n",
        "        #################################\n",
        "        self.conv6.weight.data = fc6.weight.data.view(self.conv6.weight.data.shape)\n",
        "        self.conv6.bias.data = fc6.bias.data.view(self.conv6.bias.data.shape)\n",
        "        self.conv7.weight.data = fc7.weight.data.view(self.conv7.weight.data.shape)\n",
        "        self.conv7.bias.data = fc7.bias.data.view(self.conv7.bias.data.shape)\n",
        "\n",
        "    def vgg_layer_forward(self, x, indices):\n",
        "        output = x\n",
        "        start_idx, end_idx = indices\n",
        "        for idx in range(start_idx, end_idx):\n",
        "            output = self.features[idx](output)\n",
        "        return output\n",
        "\n",
        "    def vgg_forward(self, x):\n",
        "        out = {}\n",
        "        layer_indices = [0, 5, 10, 17, 24, 31]\n",
        "        for layer_num in range(len(layer_indices)-1):\n",
        "            x = self.vgg_layer_forward(x, layer_indices[layer_num:layer_num+2])\n",
        "            out[f'pool{layer_num+1}'] = x\n",
        "        return out\n",
        "\n",
        "    def forward(self, x):\n",
        "        # padding for aligning to the input size\n",
        "        padded_x = F.pad(x, [100, 100, 100, 100], \"constant\", 0)\n",
        "        vgg_features = self.vgg_forward(padded_x)\n",
        "        vgg_pool5 = vgg_features['pool5'].detach()\n",
        "        vgg_pool4 = vgg_features['pool4'].detach()\n",
        "        vgg_pool3 = vgg_features['pool3'].detach()\n",
        "\n",
        "        #################################\n",
        "        ## P1(e). Write your code here ##\n",
        "        ## Add more lines as you wish. ##\n",
        "        # out =\n",
        "        #################################\n",
        "        # prediction at stride 32.\n",
        "        out = self.dropout(self.relu(self.conv6(vgg_pool5)))\n",
        "        out = self.dropout(self.relu(self.conv7(out)))\n",
        "        pred_x32 = self.score_x32(out)\n",
        "        # upsample with conv transpose.\n",
        "        out = self.deconv1(pred_x32)\n",
        "        out = out[..., 9:9+x.shape[-2], 9:9+x.shape[-1]]\n",
        "\n",
        "        return out\n",
        "\n",
        "    # initialize transdeconv layer with bilinear upsampling.\n",
        "    def _initialize_weights(self):\n",
        "        for m in self.modules():\n",
        "            if isinstance(m, nn.ConvTranspose2d):\n",
        "                assert m.kernel_size[0] == m.kernel_size[1]\n",
        "                initial_weight = get_upsampling_weight(\n",
        "                    m.in_channels, m.out_channels, m.kernel_size[0])\n",
        "                m.weight.data.copy_(initial_weight)"
      ],
      "execution_count": null,
      "outputs": []
    },
    {
      "cell_type": "markdown",
      "source": [
        "## P1 Tests\n",
        "\n",
        "This section tests your solution for P1. **Please do not modify the code!**"
      ],
      "metadata": {
        "id": "2CGmEKR5gN5h"
      }
    },
    {
      "cell_type": "code",
      "source": [
        "def run_tests_p1():\n",
        "    n_pass, n_test = 0, 13\n",
        "\n",
        "    try:\n",
        "        net = FCN32()\n",
        "        print(f\"[TEST  1/{n_test} Passed] FCN32.__init__ executed without errors\")\n",
        "        n_pass += 1\n",
        "    except Exception as e:\n",
        "        print(f\"[TEST  1/{n_test} Failed] FCN32.__init__ execution error; please see the traceback below\")\n",
        "        print(f\"\\n{traceback.format_exc()}\")\n",
        "        net = nn.Identity()\n",
        "\n",
        "    # P1(a). Declare convolutional layers as an alternative to FC layers\n",
        "    try:\n",
        "        assert hasattr(net, 'conv6') and hasattr(net, 'conv7')\n",
        "        print(f\"[TEST  2/{n_test} Passed] FCN32.conv6 and FCN32.conv7 found\")\n",
        "        n_pass += 1\n",
        "    except AssertionError:\n",
        "        print(f\"[TEST  2/{n_test} Failed] FCN32.conv6 or FCN32.conv7 not found\")\n",
        "        net.conv6 = nn.Identity()\n",
        "        net.conv7 = nn.Identity()\n",
        "    try:\n",
        "        assert net.conv6.weight.data.shape == torch.Size([4096, 512, 7, 7]) and net.conv6.bias.data.shape == torch.Size([4096])\n",
        "        assert net.conv7.weight.data.shape == torch.Size([4096, 4096, 1, 1]) and net.conv7.bias.data.shape == torch.Size([4096])\n",
        "        print(f\"[TEST  3/{n_test} Passed] FCN32.conv6 and FCN32.conv7 weights and biases have correct shapes\")\n",
        "        n_pass += 1\n",
        "    except Exception as e:\n",
        "        print(f\"[TEST  3/{n_test} Failed] Some of the FCN32.conv6 and FCN32.conv7 weights and biases have incorrect shapes\")\n",
        "\n",
        "    # P1(b). Declare pixel-wise classification layer using 1x1 convolution\n",
        "    try:\n",
        "        assert hasattr(net, 'score_x32')\n",
        "        print(f\"[TEST  4/{n_test} Passed] FCN32.score_x32 found\")\n",
        "        n_pass += 1\n",
        "    except AssertionError:\n",
        "        print(f\"[TEST  4/{n_test} Failed] FCN32.score_x32 not found\")\n",
        "        net.score_x32 = nn.Identity()\n",
        "    try:\n",
        "        assert net.score_x32.weight.data.shape == torch.Size([21, 4096, 1, 1]) and net.score_x32.bias.data.shape == torch.Size([21])\n",
        "        print(f\"[TEST  5/{n_test} Passed] FCN32.score_x32 weights and biases have correct shapes\")\n",
        "        n_pass += 1\n",
        "    except Exception as e:\n",
        "        print(f\"[TEST  5/{n_test} Failed] Some of the FCN32.score_x32 weights and biases have incorrect shapes\")\n",
        "\n",
        "    # P1(c). Declare a deconvolution layer\n",
        "    try:\n",
        "        assert hasattr(net, 'deconv1')\n",
        "        print(f\"[TEST  6/{n_test} Passed] FCN32.deconv1 found\")\n",
        "        n_pass += 1\n",
        "    except AssertionError:\n",
        "        print(f\"[TEST  6/{n_test} Failed] FCN32.deconv1 not found\")\n",
        "        net.deconv1 = nn.Identity()\n",
        "    try:\n",
        "        assert net.deconv1.weight.data.shape == torch.Size([21, 21, 64, 64]) and net.deconv1.bias is None\n",
        "        print(f\"[TEST  7/{n_test} Passed] FCN32.deconv1 weights and biases have correct shapes and configurations\")\n",
        "        n_pass += 1\n",
        "    except Exception as e:\n",
        "        print(f\"[TEST  7/{n_test} Failed] Some of the FCN32.deconv1 weights and biases have incorrect shapes or configurations\")\n",
        "\n",
        "    # P1(d). Load pretrained weights\n",
        "    pretrained_model = VGG(make_layers(cfg['vgg16']))\n",
        "    fc6, fc7 = pretrained_model.classifier[0], pretrained_model.classifier[3]\n",
        "    try:\n",
        "        net.load_pretrained(pretrained_model)\n",
        "        print(f\"[TEST  8/{n_test} Passed] FCN32.load_pretrained convolutionization (conv6 <- fc6 and conv7 <- fc7) executed without errors\")\n",
        "        n_pass += 1\n",
        "    except Exception as e:\n",
        "        print(f\"[TEST  8/{n_test} Failed] FCN32.load_pretrained convolutionization (conv6 <- fc6 and conv7 <- fc7) execution error; please see the traceback below\")\n",
        "        print(f\"\\n{traceback.format_exc()}\")\n",
        "    try:\n",
        "        torch.manual_seed(42)\n",
        "        torch.cuda.manual_seed(42)\n",
        "        x = torch.randn(16, 512, 7, 7)\n",
        "        x_conv6 = net.conv6(x)\n",
        "        x_conv7 = net.conv7(x_conv6)\n",
        "        x_fc6 = fc6(x.view(16, -1))\n",
        "        x_fc7 = fc7(x_fc6)\n",
        "        assert (x_conv6 - x_fc6.view(16, 4096, 1, 1)).abs().max() <= 1e-4 and (x_conv7 - x_fc7.view(16, 4096, 1, 1)).abs().max() <= 1e-4\n",
        "        print(f\"[TEST  9/{n_test} Passed] FCN32.load_pretrained convolutionization (conv6 <- fc6 and conv7 <- fc7) is correct\")\n",
        "        n_pass += 1\n",
        "    except Exception as e:\n",
        "        print(f\"[TEST  9/{n_test} Failed] FCN32.load_pretrained convolutionization (conv6 <- fc6 and conv7 <- fc7) is incorrect\")\n",
        "\n",
        "    # P1(e). Implement forward method\n",
        "    net.eval()\n",
        "    x = train_dataset[100][0].unsqueeze(0)\n",
        "    try:\n",
        "        pred = net(x)\n",
        "        print(f\"[TEST 10/{n_test} Passed] FCN32.forward executed without errors\")\n",
        "        n_pass += 1\n",
        "    except Exception as e:\n",
        "        print(f\"[TEST 10/{n_test} Failed] FCN32.forward execution error; please see the traceback below\")\n",
        "        print(f\"\\n{traceback.format_exc()}\")\n",
        "    try:\n",
        "        pred = net(x)\n",
        "        assert pred.shape == torch.Size([1, 21, x.shape[-2], x.shape[-1]])\n",
        "        print(f\"[TEST 11/{n_test} Passed] FCN32.forward output shape is correct\")\n",
        "        n_pass += 1\n",
        "    except Exception as e:\n",
        "        print(f\"[TEST 11/{n_test} Failed] FCN32.forward output shape is incorrect\")\n",
        "    try:\n",
        "        net.score_x32.weight.data.fill_(0.01)\n",
        "        net.score_x32.bias.data.fill_(0.01)\n",
        "        pred = net(x)\n",
        "        assert (pred.abs().mean() - (2.5568814277648926)).abs() <= 1e-5 and (pred.abs().std() - 2.5568814277648926) <= 1e-5\n",
        "        print(f\"[TEST 12/{n_test} Passed] FCN32.forward output mean and std are correct\")\n",
        "        n_pass += 1\n",
        "    except Exception as e:\n",
        "        print(f\"[TEST 12/{n_test} Failed] FCN32.forward output mean and std are incorrect; {(pred.abs().mean().item(), pred.abs().std().item())}\")\n",
        "    try:\n",
        "        net.score_x32.weight.data.fill_(0.01)\n",
        "        net.score_x32.bias.data.fill_(0.01)\n",
        "        pred = net(x)\n",
        "        torch.manual_seed(42)\n",
        "        torch.cuda.manual_seed(42)\n",
        "        rand_loss = (pred - torch.randn_like(pred)).mean()\n",
        "        net.zero_grad()\n",
        "        rand_loss.backward()\n",
        "        assert (net.conv6.weight.grad.abs().mean() - (0.0002854169288184494)).abs() <= 1e-8 and (net.conv6.weight.grad.abs().std() - 0.0006842449656687677) <= 1e-8\n",
        "        print(f\"[TEST 13/{n_test} Passed] FCN32.forward conv6.weight gradient mean and std are correct\")\n",
        "        n_pass += 1\n",
        "    except Exception as e:\n",
        "        print(f\"[TEST 13/{n_test} Failed] FCN32.forward conv6.weight gradient mean and std are incorrect; {(net.conv6.weight.grad.abs().mean().item(), net.conv6.weight.grad.abs().std().item())}\")\n",
        "\n",
        "    if n_pass == n_test:\n",
        "        print(f\"\\n[TEST] 🎉🎉🥳 All {n_pass}/{n_test} tests passed!\")\n",
        "    else:\n",
        "        print(f\"\\n[TEST] {n_pass}/{n_test} tests passed.\")\n",
        "\n",
        "\n",
        "run_tests_p1()"
      ],
      "metadata": {
        "colab": {
          "base_uri": "https://localhost:8080/"
        },
        "id": "73MHsqZKgknu",
        "outputId": "f22bef73-bff6-420e-db8d-8de1fde32a93"
      },
      "execution_count": null,
      "outputs": [
        {
          "output_type": "stream",
          "name": "stdout",
          "text": [
            "[TEST  1/13 Passed] FCN32.__init__ executed without errors\n",
            "[TEST  2/13 Passed] FCN32.conv6 and FCN32.conv7 found\n",
            "[TEST  3/13 Passed] FCN32.conv6 and FCN32.conv7 weights and biases have correct shapes\n",
            "[TEST  4/13 Passed] FCN32.score_x32 found\n",
            "[TEST  5/13 Passed] FCN32.score_x32 weights and biases have correct shapes\n",
            "[TEST  6/13 Passed] FCN32.deconv1 found\n",
            "[TEST  7/13 Passed] FCN32.deconv1 weights and biases have correct shapes and configurations\n",
            "[TEST  8/13 Passed] FCN32.load_pretrained convolutionization (conv6 <- fc6 and conv7 <- fc7) executed without errors\n",
            "[TEST  9/13 Passed] FCN32.load_pretrained convolutionization (conv6 <- fc6 and conv7 <- fc7) is correct\n",
            "[TEST 10/13 Passed] FCN32.forward executed without errors\n",
            "[TEST 11/13 Passed] FCN32.forward output shape is correct\n",
            "[TEST 12/13 Passed] FCN32.forward output mean and std are correct\n",
            "[TEST 13/13 Passed] FCN32.forward conv6.weight gradient mean and std are correct\n",
            "\n",
            "[TEST] 🎉🎉🥳 All 13/13 tests passed!\n"
          ]
        }
      ]
    },
    {
      "cell_type": "markdown",
      "metadata": {
        "id": "JNaw-IdOm0be"
      },
      "source": [
        "## P2. Implement FCN8 [(Illustration)](https://docs.google.com/drawings/d/1C5bbCgm6Wm_FEw_colmNvzI-feSZBffqtCcXP4hgRj0/edit?usp=sharing)\n",
        "This section **builds on top of** P1. Make sure you finished your implementation of FCN32 first.\n",
        "\n",
        "### (a) Declare convolutional layers as an alternative to FC layers\n",
        "The VGG16 backbone contains two fully connected layers (fc6, fc7). In fully convolutional network, these fc layers will be convolutionized. You should define proper convolutional layers.\n",
        "**Note**: If a layer inherited from `FCN32` is used the same way in `FCN8`, then there's no need to re-declare those layers.\n",
        "\n",
        "### (b) Declare pixel-wise classification layer using 1x1 convolution\n",
        "This section declares **three** 1x1 convolution layers that produce classification per pixel on different resolutions. Details are provided in illustration.\n",
        "\n",
        "### (c) Declare deconvolution layers\n",
        "Create **three** learnable upsampling layers. Details are provided in illustration.\n",
        "\n",
        "### (d) Implement skip connection and `forward` method\n",
        "The `forward` method should\n",
        "- Feed input through the backbone to get `pool5` (given)\n",
        "- perform pixel-wise classification on three levels (`vgg_pool[3~5]`).\n",
        "- Upsample the prediction of `pool5`, add a skip connection from the prediction of `pool4`.\n",
        "- Upsample the prediction of `pool4` and `pool5` combined, add a skip connection from the prediction of `pool3`.\n",
        "- Upsample the prediction of `pool[3~5]` combined to create segmentation on the input image resolution level."
      ]
    },
    {
      "cell_type": "code",
      "metadata": {
        "id": "15ONw36JnG1j"
      },
      "source": [
        "class FCN8(FCN32):\n",
        "    def __init__(self):\n",
        "        super().__init__()\n",
        "\n",
        "        self.numclass = 21\n",
        "\n",
        "        self.relu = nn.ReLU(inplace=True)\n",
        "        self.dropout = nn.Dropout2d()\n",
        "\n",
        "        # fc layers in vgg are all converted into conv layers.\n",
        "        #################################\n",
        "        ## P2(a). Write your code here ##\n",
        "        # self.conv6 =\n",
        "        # self.conv7 =\n",
        "        #################################\n",
        "        self.conv6 = nn.Conv2d(512, 4096, kernel_size=7)\n",
        "        self.conv7 = nn.Conv2d(4096, 4096, kernel_size=1)\n",
        "\n",
        "        # prediction layers with 1x1 convolution layers.\n",
        "        #################################\n",
        "        ## P2(b). Write your code here ##\n",
        "        # self.score_x32 =\n",
        "        # self.score_x16 =\n",
        "        # self.score_x8 =\n",
        "        #################################\n",
        "        self.score_x32 = nn.Conv2d(4096, self.numclass, kernel_size=1)\n",
        "        self.score_x16 = nn.Conv2d(512, self.numclass, kernel_size=1)\n",
        "        self.score_x8 = nn.Conv2d(256, self.numclass, kernel_size=1)\n",
        "\n",
        "        # learnable upsampling layers in FCN model.\n",
        "        #################################\n",
        "        ## P2(c). Write your code here ##\n",
        "        # self.deconv1 =\n",
        "        # self.deconv2 =\n",
        "        # self.deconv3 =\n",
        "        #################################\n",
        "        self.deconv1 = nn.ConvTranspose2d(self.numclass, self.numclass, kernel_size=4, stride=2, bias=False)\n",
        "        self.deconv2 = nn.ConvTranspose2d(self.numclass, self.numclass, kernel_size=4, stride=2, bias=False)\n",
        "        self.deconv3 = nn.ConvTranspose2d(self.numclass, self.numclass, kernel_size=16, stride=8, bias=False)\n",
        "\n",
        "        # initialize\n",
        "        self._initialize_weights() # initialize upsampling weight\n",
        "\n",
        "    def forward(self, x):\n",
        "        # Padding for aligning to the input size\n",
        "        padded_x = F.pad(x, [100, 100, 100, 100], \"constant\", 0)\n",
        "        vgg_features = self.vgg_forward(padded_x)\n",
        "        vgg_pool5 = vgg_features['pool5'].detach()\n",
        "        vgg_pool4 = vgg_features['pool4'].detach()\n",
        "        vgg_pool3 = vgg_features['pool3'].detach()\n",
        "\n",
        "        #################################\n",
        "        ## P2(d). Write your code here ##\n",
        "        ## Add more lines as you wish. ##\n",
        "        # out =\n",
        "        #################################\n",
        "        # prediction at stride 32.\n",
        "        out = self.dropout(self.relu(self.conv6(vgg_pool5)))\n",
        "        out = self.dropout(self.relu(self.conv7(out)))\n",
        "        pred_x32 = self.score_x32(out)\n",
        "        pred_x16 = self.score_x16(vgg_pool4 * 0.01) # For all at once training, we should compensate scaling\n",
        "        pred_x8 = self.score_x8(vgg_pool3 * 0.0001) # For all at once training, we should compensate scaling\n",
        "        # upsample.\n",
        "        up_pred_x32 = self.deconv1(pred_x32)\n",
        "        # sum two predictions from different layer.\n",
        "        out = up_pred_x32 + pred_x16[..., 5:5 + up_pred_x32.shape[-2], 5:5 + up_pred_x32.shape[-1]]\n",
        "        # upsample.\n",
        "\n",
        "\n",
        "\n",
        "\n",
        "\n",
        "\n",
        "\n",
        "        up_pred_x16 = self.deconv2(out)\n",
        "        # sum two predictions from different layer.\n",
        "        out = up_pred_x16 + pred_x8[..., 9:9 + up_pred_x16.shape[-2], 9:9 + up_pred_x16.shape[-1]]\n",
        "        # final upsampling to original resolution.\n",
        "        out = self.deconv3(out)\n",
        "        out = out[..., 31:31+x.shape[-2], 31:31+x.shape[-1]]\n",
        "\n",
        "        return out"
      ],
      "execution_count": null,
      "outputs": []
    },
    {
      "cell_type": "code",
      "source": [
        "def run_tests_p2():\n",
        "    n_pass, n_test = 0, 11\n",
        "\n",
        "    try:\n",
        "        net = FCN8()\n",
        "        print(f\"[TEST  1/{n_test} Passed] FCN8.__init__ executed without errors\")\n",
        "        n_pass += 1\n",
        "    except Exception as e:\n",
        "        print(f\"[TEST  1/{n_test} Failed] FCN8.__init__ execution error; please see the traceback below\")\n",
        "        print(f\"\\n{traceback.format_exc()}\")\n",
        "        net = nn.Identity()\n",
        "\n",
        "    # P2(a). Declare convolutional layers as an alternative to FC layers\n",
        "    try:\n",
        "        assert hasattr(net, 'conv6') and hasattr(net, 'conv7')\n",
        "        print(f\"[TEST  2/{n_test} Passed] FCN8.conv6 and FCN8.conv7 found\")\n",
        "        n_pass += 1\n",
        "    except AssertionError:\n",
        "        print(f\"[TEST  2/{n_test} Failed] FCN8.conv6 or FCN8.conv7 not found\")\n",
        "        net.conv6 = nn.Identity()\n",
        "        net.conv7 = nn.Identity()\n",
        "    try:\n",
        "        assert net.conv6.weight.data.shape == torch.Size([4096, 512, 7, 7]) and net.conv6.bias.data.shape == torch.Size([4096])\n",
        "        assert net.conv7.weight.data.shape == torch.Size([4096, 4096, 1, 1]) and net.conv7.bias.data.shape == torch.Size([4096])\n",
        "        print(f\"[TEST  3/{n_test} Passed] FCN8.conv6 and FCN8.conv7 weights and biases have correct shapes\")\n",
        "        n_pass += 1\n",
        "    except Exception as e:\n",
        "        print(f\"[TEST  3/{n_test} Failed] Some of the FCN8.conv6 and FCN8.conv7 weights and biases have incorrect shapes\")\n",
        "\n",
        "    # P2(b). Declare pixel-wise classification layer using 1x1 convolution\n",
        "    try:\n",
        "        assert hasattr(net, 'score_x32')\n",
        "        assert hasattr(net, 'score_x16')\n",
        "        assert hasattr(net, 'score_x8')\n",
        "        print(f\"[TEST  4/{n_test} Passed] FCN8.score_x32, x16, x8 found\")\n",
        "        n_pass += 1\n",
        "    except AssertionError:\n",
        "        print(f\"[TEST  4/{n_test} Failed] FCN8.score_x32 or x16 or x8 not found\")\n",
        "        net.score_x32 = nn.Identity()\n",
        "        net.score_x16 = nn.Identity()\n",
        "        net.score_x8 = nn.Identity()\n",
        "    try:\n",
        "        assert net.score_x32.weight.data.shape == torch.Size([21, 4096, 1, 1]) and net.score_x32.bias.data.shape == torch.Size([21])\n",
        "        assert net.score_x16.weight.data.shape == torch.Size([21, 512, 1, 1]) and net.score_x32.bias.data.shape == torch.Size([21])\n",
        "        assert net.score_x8.weight.data.shape == torch.Size([21, 256, 1, 1]) and net.score_x32.bias.data.shape == torch.Size([21])\n",
        "        print(f\"[TEST  5/{n_test} Passed] FCN8.score_x32, x16, x8 weights and biases have correct shapes\")\n",
        "        n_pass += 1\n",
        "    except Exception as e:\n",
        "        print(f\"[TEST  5/{n_test} Failed] Some of the FCN8.score_x32, x16, x8 weights and biases have incorrect shapes\")\n",
        "\n",
        "    # P2(c). Declare a deconvolution layer\n",
        "    try:\n",
        "        assert hasattr(net, 'deconv1')\n",
        "        assert hasattr(net, 'deconv2')\n",
        "        assert hasattr(net, 'deconv3')\n",
        "        print(f\"[TEST  6/{n_test} Passed] FCN8.deconv1, deconv2, deconv3 found\")\n",
        "        n_pass += 1\n",
        "    except AssertionError:\n",
        "        if not hasattr(net, 'deconv1'):\n",
        "          print(f\"[TEST  6/{n_test} Failed] FCN8.deconv1 not found\")\n",
        "          net.deconv1 = nn.Identity()\n",
        "        if not hasattr(net, 'deconv2'):\n",
        "          print(f\"[TEST  6/{n_test} Failed] FCN8.deconv2 not found\")\n",
        "          net.deconv2 = nn.Identity()\n",
        "        if not hasattr(net, 'deconv3'):\n",
        "          print(f\"[TEST  6/{n_test} Failed] FCN8.deconv3 not found\")\n",
        "          net.deconv3 = nn.Identity()\n",
        "    try:\n",
        "        assert net.deconv1.weight.data.shape == torch.Size([21, 21, 4, 4]) and net.deconv1.bias is None\n",
        "        assert net.deconv2.weight.data.shape == torch.Size([21, 21, 4, 4]) and net.deconv2.bias is None\n",
        "        assert net.deconv3.weight.data.shape == torch.Size([21, 21, 16, 16]) and net.deconv3.bias is None\n",
        "        print(f\"[TEST  7/{n_test} Passed] FCN8.deconv1 weights and biases have correct shapes and configurations\")\n",
        "        n_pass += 1\n",
        "    except Exception as e:\n",
        "        print(f\"[TEST  7/{n_test} Failed] Some of the FCN8.deconv weights and biases have incorrect shapes or configurations\")\n",
        "\n",
        "    # P2(d). Implement forward method\n",
        "    net.eval()\n",
        "    x = train_dataset[100][0].unsqueeze(0)\n",
        "    # TODO: change it to FCN8\n",
        "    try:\n",
        "        pred = net(x)\n",
        "        print(f\"[TEST  8/{n_test} Passed] FCN8.forward executed without errors\")\n",
        "        n_pass += 1\n",
        "    except Exception as e:\n",
        "        print(f\"[TEST  8/{n_test} Failed] FCN8.forward execution error; please see the traceback below\")\n",
        "        print(f\"\\n{traceback.format_exc()}\")\n",
        "    try:\n",
        "        pred = net(x)\n",
        "        assert pred.shape == torch.Size([1, 21, x.shape[-2], x.shape[-1]])\n",
        "        print(f\"[TEST  9/{n_test} Passed] FCN8.forward output shape is correct\")\n",
        "        n_pass += 1\n",
        "    except Exception as e:\n",
        "        print(f\"[TEST  9/{n_test} Failed] FCN8.forward output shape is incorrect\")\n",
        "    try:\n",
        "        net.score_x32.weight.data.fill_(0.01)\n",
        "        net.score_x32.bias.data.fill_(0.01)\n",
        "        pred = net(x)\n",
        "        assert (pred.abs().mean() - (0.855009913444519)).abs() <= 1e-5 and (pred.abs().std() - 0.297334223985672) <= 1e-5\n",
        "        print(f\"[TEST 10/{n_test} Passed] FCN8.forward output mean and std are correct\")\n",
        "        n_pass += 1\n",
        "    except Exception as e:\n",
        "        print(f\"[TEST 10/{n_test} Failed] FCN8.forward output mean and std are incorrect; {(pred.abs().mean().item(), pred.abs().std().item())}\")\n",
        "    try:\n",
        "        net.score_x32.weight.data.fill_(0.01)\n",
        "        net.score_x32.bias.data.fill_(0.01)\n",
        "        pred = net(x)\n",
        "        torch.manual_seed(42)\n",
        "        torch.cuda.manual_seed(42)\n",
        "        rand_loss = (pred - torch.randn_like(pred)).mean()\n",
        "        net.zero_grad()\n",
        "        rand_loss.backward()\n",
        "        assert (net.conv6.weight.grad.abs().mean() - (0.0002523009025026113)).abs() <= 1e-8 and (net.conv6.weight.grad.abs().std() - 0.0006021885783411562) <= 1e-8\n",
        "        print(f\"[TEST 11/{n_test} Passed] FCN8.forward conv6.weight gradient mean and std are correct\")\n",
        "        n_pass += 1\n",
        "    except Exception as e:\n",
        "        print(f\"[TEST 11/{n_test} Failed] FCN8.forward conv6.weight gradient mean and std are incorrect; {(net.conv6.weight.grad.abs().mean().item(), net.conv6.weight.grad.abs().std().item())}\")\n",
        "\n",
        "    if n_pass == n_test:\n",
        "        print(f\"\\n[TEST] 🎉🎉🥳 All {n_pass}/{n_test} tests passed!\")\n",
        "    else:\n",
        "        print(f\"\\n[TEST] {n_pass}/{n_test} tests passed.\")\n",
        "\n",
        "\n",
        "run_tests_p2()"
      ],
      "metadata": {
        "id": "0MJ6SN3cQEzR",
        "colab": {
          "base_uri": "https://localhost:8080/"
        },
        "outputId": "61f67430-95e0-4966-a882-5b03ee7fd865"
      },
      "execution_count": null,
      "outputs": [
        {
          "output_type": "stream",
          "name": "stdout",
          "text": [
            "[TEST  1/11 Passed] FCN8.__init__ executed without errors\n",
            "[TEST  2/11 Passed] FCN8.conv6 and FCN8.conv7 found\n",
            "[TEST  3/11 Passed] FCN8.conv6 and FCN8.conv7 weights and biases have correct shapes\n",
            "[TEST  4/11 Passed] FCN8.score_x32, x16, x8 found\n",
            "[TEST  5/11 Passed] FCN8.score_x32, x16, x8 weights and biases have correct shapes\n",
            "[TEST  6/11 Passed] FCN8.deconv1, deconv2, deconv3 found\n",
            "[TEST  7/11 Passed] FCN8.deconv1 weights and biases have correct shapes and configurations\n",
            "[TEST  8/11 Passed] FCN8.forward executed without errors\n",
            "[TEST  9/11 Passed] FCN8.forward output shape is correct\n",
            "[TEST 10/11 Passed] FCN8.forward output mean and std are correct\n",
            "[TEST 11/11 Passed] FCN8.forward conv6.weight gradient mean and std are correct\n",
            "\n",
            "[TEST] 🎉🎉🥳 All 11/11 tests passed!\n"
          ]
        }
      ]
    },
    {
      "cell_type": "markdown",
      "metadata": {
        "id": "Fz3cbKImnMnh"
      },
      "source": [
        "---\n",
        "# Training function"
      ]
    },
    {
      "cell_type": "markdown",
      "metadata": {
        "id": "ZKe_RQ9Zm3Ts"
      },
      "source": [
        "## P3. Implement training pipeline\n",
        "\n",
        "This section contains 2 problems.\n",
        "### (a) Forward/Backward step for training\n",
        "\n",
        "- Feed the image through the model.\n",
        "- Perform a gradient step based on the loss. Loss can be calculated using `criterion`, located at the beginning of the function.\n",
        "- Choose the highest logit per pixel as prediction.\n",
        "\n",
        "### (b) Forward step for validation\n",
        "- Feed the image through the model.\n",
        "- Calculate loss on current image.\n",
        "- Choose the highest logit per pixel as prediction."
      ]
    },
    {
      "cell_type": "code",
      "metadata": {
        "id": "qrGDOpkAnQMh"
      },
      "source": [
        "import tqdm\n",
        "\n",
        "def get_prediction(criterion, net, image, label):\n",
        "    #####################################################\n",
        "    ## P3. Run the model\n",
        "    ## Add more lines as you wish.\n",
        "    # output: feed foward.\n",
        "    # loss: calculate loss as scalar. (Aggregate with .mean()!)\n",
        "    # pred: choose the label with highest logit in each pixel.\n",
        "    #####################################################\n",
        "\n",
        "    # output =\n",
        "    # loss =\n",
        "    # pred =\n",
        "    output = net(image)\n",
        "    loss = criterion(output, label).mean()\n",
        "    pred = torch.argmax(output, dim=1)\n",
        "    return output, loss, pred\n",
        "\n",
        "def train_net(net, resume=False):\n",
        "    # 21 is the index for boundaries: therefore we ignore this index.\n",
        "    criterion = nn.CrossEntropyLoss(ignore_index=21, reduction='none')\n",
        "    colorize = Colorize(21, get_color_map())\n",
        "    best_valid_iou = 0\n",
        "\n",
        "    if resume:\n",
        "        checkpoint = torch.load(ckpt_path)\n",
        "        net.load_state_dict(checkpoint['state_dict'])\n",
        "        optimizer.load_state_dict(checkpoint['optimizer'])\n",
        "        epoch = checkpoint['epoch']\n",
        "        best_valid_iou = checkpoint['best_valid_iou']\n",
        "        print(f'Resume training from epoch {epoch+1}')\n",
        "    else:\n",
        "        epoch = 0\n",
        "\n",
        "    while epoch < args.epoch:\n",
        "        t1 = time.time()\n",
        "        saved_images, saved_labels = [], []\n",
        "\n",
        "        # start training\n",
        "        net.train()\n",
        "\n",
        "        loss_total = 0\n",
        "        ious = []\n",
        "        pixel_accs = []\n",
        "\n",
        "        for batch_idx, (image, label) in tqdm.tqdm(enumerate(train_loader)):\n",
        "            # save images for visualization.\n",
        "            if len(saved_images) < 4:\n",
        "                saved_images.append(image.cpu())\n",
        "                saved_labels.append(add_padding(label.cpu()))\n",
        "\n",
        "            # move variables to gpu.\n",
        "            image = image.to(device)\n",
        "            label = label.to(device)\n",
        "\n",
        "            #################################\n",
        "            ## P3. Run the model           ##\n",
        "            #################################\n",
        "            output, loss, pred = get_prediction(criterion, net, image, label)\n",
        "\n",
        "            optimizer.zero_grad()\n",
        "            loss.backward()\n",
        "            optimizer.step()\n",
        "            # update total loss.\n",
        "            loss_total += loss.item()\n",
        "\n",
        "            # target\n",
        "            target = label.squeeze(1).cpu().numpy()\n",
        "\n",
        "            # calculate pixel accuarcy and mean IoU\n",
        "            acc, mean_iu = label_accuracy_score(target, pred.cpu().detach().numpy(), n_class=21)\n",
        "\n",
        "            pixel_accs.append(acc)\n",
        "            ious.append(mean_iu)\n",
        "\n",
        "            if batch_idx % 50 == 0:\n",
        "                print(f'Epoch : {epoch} || {batch_idx}/{len(train_loader)} || loss : {loss.item():.3f}, iou : {mean_iu * 100:.3f} pixel_acc : {acc * 100:.3f}')\n",
        "                writer.add_scalar('train_loss_step', loss.item(), batch_idx + epoch * len(train_loader))\n",
        "                writer.add_scalar('pixel_acc_step', acc, batch_idx + epoch * len(train_loader))\n",
        "                writer.add_scalar('mean_iou_step', mean_iu, batch_idx + epoch * len(train_loader))\n",
        "\n",
        "        # calculate average IoU\n",
        "        total_ious = np.array(ious).T\n",
        "        total_ious = np.nanmean(total_ious).mean()\n",
        "        total_pixel_acc = np.array(pixel_accs).mean()\n",
        "\n",
        "        writer.add_scalar('train_loss', loss_total / len(train_loader), epoch)\n",
        "        writer.add_scalar('pixel_acc', total_pixel_acc, epoch)\n",
        "        writer.add_scalar('mean_iou', total_ious, epoch)\n",
        "\n",
        "        # image visualization\n",
        "        un_norms, preds, outputs = [], [], []\n",
        "        for image, label in zip(saved_images, saved_labels):\n",
        "            # denormalize the image.\n",
        "            image_permuted = image.permute(1, 0, 2, 3)\n",
        "            un_norm = torch.zeros_like(image_permuted)\n",
        "            for idx, (im, m, s) in enumerate(zip(image_permuted, mean, std)):\n",
        "                un_norm[idx] = (im * s) + m\n",
        "            un_norm = un_norm.permute(1, 0, 2, 3)\n",
        "            un_norms.append(add_padding(un_norm))\n",
        "\n",
        "            with torch.no_grad():\n",
        "                output = net(image.to(device))\n",
        "                pred = torch.argmax(output, dim=1)\n",
        "                preds.append(add_padding(pred))\n",
        "\n",
        "        # stitch images into a grid.\n",
        "        un_norm = make_grid(torch.cat(un_norms), nrow=2)\n",
        "        label = make_grid(colorize(torch.stack(saved_labels)), nrow=2)\n",
        "        pred = make_grid(colorize(torch.stack(preds)), nrow=2)\n",
        "\n",
        "        # write images to Tensorboard.\n",
        "        writer.add_image('img', un_norm, epoch)\n",
        "        writer.add_image('gt', label, epoch)\n",
        "        writer.add_image('pred', pred, epoch)\n",
        "\n",
        "        t = time.time() - t1\n",
        "        print(f'>> Epoch : {epoch} || AVG loss : {loss_total / len(train_loader):.3f}, iou : {total_ious * 100:.3f} pixel_acc : {total_pixel_acc * 100:.3f} {t:.3f} secs')\n",
        "\n",
        "        # evaluation\n",
        "        net.eval()\n",
        "        saved_images, saved_labels = [], []\n",
        "\n",
        "        valid_loss_total = 0\n",
        "        valid_ious = []\n",
        "        valid_pixel_accs = []\n",
        "\n",
        "        with torch.no_grad():\n",
        "            for batch_idx, (image, label) in tqdm.tqdm(enumerate(test_loader)):\n",
        "                # save images for visualization.\n",
        "                if len(saved_images) < 4:\n",
        "                    saved_images.append(image.cpu())\n",
        "                    saved_labels.append(add_padding(label.cpu()))\n",
        "\n",
        "                # move variables to gpu.\n",
        "                image = image.to(device)\n",
        "                label = label.to(device)\n",
        "\n",
        "                #################################\n",
        "                ## P3. Run the model           ##\n",
        "                #################################\n",
        "                output, loss, pred = get_prediction(criterion, net, image, label)\n",
        "\n",
        "                # update total loss.\n",
        "                valid_loss_total += loss.item()\n",
        "\n",
        "                output = output.data.cpu().numpy()\n",
        "                target = label.squeeze(1).cpu().numpy()\n",
        "\n",
        "                acc, mean_iu = label_accuracy_score(target, pred.cpu().numpy(), n_class=21)\n",
        "\n",
        "                valid_pixel_accs.append(acc)\n",
        "                valid_ious.append(mean_iu)\n",
        "\n",
        "        # calculate average IoU\n",
        "        total_valid_ious = np.array(valid_ious).T\n",
        "        total_valid_ious = np.nanmean(total_valid_ious).mean()\n",
        "        total_valid_pixel_acc = np.array(valid_pixel_accs).mean()\n",
        "\n",
        "        writer.add_scalar('valid_train_loss', valid_loss_total / len(test_loader), epoch)\n",
        "        writer.add_scalar('valid_pixel_acc', total_valid_pixel_acc, epoch)\n",
        "        writer.add_scalar('valid_mean_iou', total_valid_ious, epoch)\n",
        "\n",
        "        # image visualization + CRF\n",
        "        un_norms, preds, pred_crfs, outputs = [], [], [], []\n",
        "        for image, label in zip(saved_images, saved_labels):\n",
        "            # denormalize the image.\n",
        "            image_permuted = image.permute(1, 0, 2, 3)\n",
        "            un_norm = torch.zeros_like(image_permuted)\n",
        "            for idx, (im, m, s) in enumerate(zip(image_permuted, mean, std)):\n",
        "                un_norm[idx] = (im * s) + m\n",
        "            un_norm = un_norm.permute(1, 0, 2, 3)\n",
        "            un_norms.append(add_padding(un_norm))\n",
        "\n",
        "            with torch.no_grad():\n",
        "                output = net(image.to(device))\n",
        "                outputs.append(add_padding(output))\n",
        "                pred = torch.argmax(output, dim=1)\n",
        "                preds.append(add_padding(pred))\n",
        "\n",
        "            # CRF\n",
        "            output_softmax = torch.nn.functional.softmax(output, dim=1).detach().cpu()\n",
        "            un_norm_int = (un_norm * 255).squeeze().permute(1, 2, 0).numpy().astype(np.ubyte)\n",
        "            pred_crf = dense_crf(un_norm_int, output_softmax.squeeze().numpy())\n",
        "            pred_crfs.append(add_padding(torch.argmax(torch.Tensor(pred_crf), dim=0)).unsqueeze(0))\n",
        "\n",
        "        # stitch images into a grid.\n",
        "        valid_un_norm = make_grid(torch.cat(un_norms), nrow=2)\n",
        "        valid_label = make_grid(colorize(torch.stack(saved_labels)), nrow=2)\n",
        "        valid_pred = make_grid(colorize(torch.stack(preds)), nrow=2)\n",
        "        valid_pred_crf = make_grid(colorize(torch.stack(pred_crfs)), nrow=2)\n",
        "\n",
        "        # write images to tensorboard.\n",
        "        writer.add_image('valid_img', valid_un_norm, epoch)\n",
        "        writer.add_image('valid_gt', valid_label, epoch)\n",
        "        writer.add_image('valid_pred', valid_pred, epoch)\n",
        "        writer.add_image('valid_pred_crf', valid_pred_crf, epoch)\n",
        "\n",
        "        print(f'>> Epoch : {epoch} || AVG valid loss : {valid_loss_total / len(test_loader):.3f}, iou : {total_valid_ious * 100:.3f} pixel_acc : {total_valid_pixel_acc * 100:.3f} {t:.3f} secs')\n",
        "\n",
        "        # save checkpoints every epoch.\n",
        "        checkpoint = {\n",
        "            'epoch': epoch + 1,\n",
        "            'state_dict': net.state_dict(),\n",
        "            'optimizer': optimizer.state_dict(),\n",
        "            'best_valid_iou': best_valid_iou\n",
        "        }\n",
        "        torch.save(checkpoint, ckpt_path)\n",
        "\n",
        "        # save best checkpoint.\n",
        "        if total_valid_ious > best_valid_iou:\n",
        "            best_valid_iou = total_valid_ious\n",
        "            torch.save(net.state_dict(), ckpt_dir / 'best.pt')\n",
        "\n",
        "        epoch += 1\n",
        "    print(f'>> Best validation set iou: {best_valid_iou}')"
      ],
      "execution_count": null,
      "outputs": []
    },
    {
      "cell_type": "code",
      "source": [
        "def run_tests_p3():\n",
        "    torch.cuda.manual_seed(42)\n",
        "    torch.manual_seed(42)\n",
        "    np.random.seed(42)\n",
        "    net = FCN32()\n",
        "    net.eval()\n",
        "    net.to(device)\n",
        "    criterion = nn.CrossEntropyLoss(ignore_index=21, reduction='none')\n",
        "    image, label = next(iter(test_loader))\n",
        "    image = image.to(device)\n",
        "    label = label.to(device)\n",
        "    n_pass, n_test = 0, 6\n",
        "\n",
        "    try:\n",
        "        output, loss, pred = get_prediction(criterion, net, image, label)\n",
        "        print(f\"[TEST  1/{n_test} Passed] get_prediction executed without errors\")\n",
        "        n_pass += 1\n",
        "    except Exception as e:\n",
        "        print(f\"[TEST  1/{n_test} Failed] get_prediction execution error; please see the traceback below\")\n",
        "        print(f\"\\n{traceback.format_exc()}\")\n",
        "        return\n",
        "\n",
        "    try:\n",
        "        assert output.shape == torch.Size([1, 21, image.shape[-2], image.shape[-1]])\n",
        "        print(f\"[TEST  2/{n_test} Passed] get_prediction output shape is correct\")\n",
        "        n_pass += 1\n",
        "    except Exception as e:\n",
        "        print(f\"[TEST  2/{n_test} Failed] get_prediction output shape is incorrect\")\n",
        "\n",
        "    try:\n",
        "        assert (output.abs().mean() - (0.010025606490671635)).abs() <= 1e-8 and (output.abs().std() - 0.00683847488835454) <= 1e-8\n",
        "        print(f\"[TEST  3/{n_test} Passed] get_prediction output mean and std are correct\")\n",
        "        n_pass += 1\n",
        "    except:\n",
        "        print(f\"[TEST  3/{n_test} Failed] get_prediction output mean and std are incorrect; {(output.abs().mean().item(), output.abs().std().item())}\")\n",
        "\n",
        "    try:\n",
        "        assert (loss - (3.0301403999328613)).abs() <= 1e-5\n",
        "        print(f\"[TEST  4/{n_test} Passed] get_prediction loss is correct\")\n",
        "        n_pass += 1\n",
        "    except:\n",
        "        print(f\"[TEST  4/{n_test} Failed] get_prediction loss is incorrect; {loss.item()}\")\n",
        "\n",
        "    try:\n",
        "        assert pred.shape == torch.Size([1, image.shape[-2], image.shape[-1]])\n",
        "        assert pred.dtype == torch.int64\n",
        "        print(f\"[TEST  5/{n_test} Passed] get_prediction pred shape and dtype is correct\")\n",
        "        n_pass += 1\n",
        "    except:\n",
        "        print(f\"[TEST  5/{n_test} Failed] get_prediction pred shape and dtype is incorrect\")\n",
        "\n",
        "    try:\n",
        "      assert (pred.float().mean() - (9.697748184204102)).abs() <= 1e-5 and (pred.float().std() - 7.738012790679932) <= 1e-5\n",
        "      print(f\"[TEST  6/{n_test} Passed] get_prediction pred mean and std are correct\")\n",
        "      n_pass += 1\n",
        "    except:\n",
        "      print(f\"[TEST  6/{n_test} Failed] get_prediction pred mean and std are incorrect; {(pred.float().mean().item(), pred.float().std().item())}\")\n",
        "\n",
        "    if n_pass == n_test:\n",
        "        print(f\"\\n[TEST] 🎉🎉🥳 All {n_pass}/{n_test} tests passed!\")\n",
        "\n",
        "run_tests_p3()"
      ],
      "metadata": {
        "id": "N3GWdYW7RB2H",
        "colab": {
          "base_uri": "https://localhost:8080/"
        },
        "outputId": "d7bf2994-7a7f-4b1c-ac18-43c42de0d28f"
      },
      "execution_count": null,
      "outputs": [
        {
          "output_type": "stream",
          "name": "stdout",
          "text": [
            "[TEST  1/6 Passed] get_prediction executed without errors\n",
            "[TEST  2/6 Passed] get_prediction output shape is correct\n",
            "[TEST  3/6 Passed] get_prediction output mean and std are correct\n",
            "[TEST  4/6 Passed] get_prediction loss is correct\n",
            "[TEST  5/6 Passed] get_prediction pred shape and dtype is correct\n",
            "[TEST  6/6 Passed] get_prediction pred mean and std are correct\n",
            "\n",
            "[TEST] 🎉🎉🥳 All 6/6 tests passed!\n"
          ]
        }
      ]
    },
    {
      "cell_type": "markdown",
      "metadata": {
        "id": "k0758O0Fnbk2"
      },
      "source": [
        "---\n",
        "# Train models through the pipeline\n",
        "\n",
        "In this section, you will\n",
        "- Create/load directory.\n",
        "- Select which model to train.\n",
        "- Create model and optimizer.\n",
        "\n",
        "The training process will automatically save checkpoints to your Google drive after every epoch under `parent_dir`. Training could take up to 40 minutes per epoch. As we provide  pretrained weights to start with, you will only be training for 10 epochs on your own. Uncomment the lines after `# Select model here.` to choose which model to train.  \n",
        "**You must load the provided pretrained weights**, otherwise achieving reasonable performance will take much longer.  \n",
        "**If you would like to resume** from an existing `model.pt`, then\n",
        "- Comment out the line below `Load pretrained weights here.`,\n",
        "- Specify `parent_dir` as instructed,\n",
        "- Run the first code cell again, then run `train_net` with `resume=True` parameter.  \n",
        "\n",
        "<font color=\"red\">Do not terminate your process right after an epoch has finished.</font> Writing the saved model back to Google drive will take an extra couple of minutes, and aborting in the middle will likely ruin your checkpoint file."
      ]
    },
    {
      "cell_type": "code",
      "metadata": {
        "id": "xAs5ugisnfAA",
        "colab": {
          "base_uri": "https://localhost:8080/"
        },
        "outputId": "4ebdd3cc-0f16-4564-cc54-1593c101e6e0"
      },
      "source": [
        "num_trial=0\n",
        "result_dir= Path(root) / 'results'\n",
        "parent_dir = result_dir / f'trial_{num_trial}'\n",
        "while parent_dir.is_dir():\n",
        "    num_trial = int(parent_dir.name.replace('trial_',''))\n",
        "    parent_dir = result_dir / f'trial_{num_trial+1}'\n",
        "\n",
        "# modify parent_dir here if you want to resume from a checkpoint, or to rename directory.\n",
        "# parent_dir = result_dir / 'trial_99'\n",
        "print(f'Logs and ckpts will be saved in : {parent_dir}')\n",
        "\n",
        "log_dir = parent_dir\n",
        "ckpt_dir = parent_dir\n",
        "ckpt_path = parent_dir / 'model.pt'\n",
        "writer = SummaryWriter(log_dir)\n",
        "\n",
        "# load pretrained weights.\n",
        "pretrained_path = Path(root) / 'pretrained_vgg.pt'\n",
        "pretrained_VGG = vgg16().to(device)\n",
        "pretrained_VGG.load_state_dict(torch.load(pretrained_path, map_location=device))\n",
        "\n",
        "# select model here.\n",
        "model = FCN8().to(device)\n",
        "# model = FCN32().to(device)\n",
        "\n",
        "# load pretrained weights here.\n",
        "model.load_pretrained(pretrained_VGG)\n",
        "\n",
        "# define optimizer.\n",
        "# according to FCN paper, we doubled the learning rate of bias compared to that of weight.\n",
        "optimizer = SGD([{'params': get_parameters(model, True), 'lr': args.lr * 2, 'weight_decay': 0},\n",
        "                 {'params': get_parameters(model, False)}],\n",
        "                lr=args.lr, momentum=args.momentum, weight_decay=args.weight_decay)"
      ],
      "execution_count": null,
      "outputs": [
        {
          "output_type": "stream",
          "name": "stdout",
          "text": [
            "Logs and ckpts will be saved in : /gdrive/MyDrive/2024S/실습/FCN/results/trial_0\n"
          ]
        }
      ]
    },
    {
      "cell_type": "code",
      "metadata": {
        "id": "F5UErfucnhSy",
        "colab": {
          "base_uri": "https://localhost:8080/"
        },
        "outputId": "25940620-e456-4797-93e9-cf6530ab57de"
      },
      "source": [
        "train_net(model, resume=False)"
      ],
      "execution_count": null,
      "outputs": [
        {
          "output_type": "stream",
          "name": "stderr",
          "text": [
            "1it [00:06,  6.73s/it]"
          ]
        },
        {
          "output_type": "stream",
          "name": "stdout",
          "text": [
            "Epoch : 0 || 0/8498 || loss : 5.431, iou : 0.000 pixel_acc : 0.000\n"
          ]
        },
        {
          "output_type": "stream",
          "name": "stderr",
          "text": [
            "52it [01:03,  1.18it/s]"
          ]
        },
        {
          "output_type": "stream",
          "name": "stdout",
          "text": [
            "Epoch : 0 || 50/8498 || loss : 0.948, iou : 18.564 pixel_acc : 79.204\n"
          ]
        },
        {
          "output_type": "stream",
          "name": "stderr",
          "text": [
            "102it [01:26,  6.61it/s]"
          ]
        },
        {
          "output_type": "stream",
          "name": "stdout",
          "text": [
            "Epoch : 0 || 100/8498 || loss : 2.028, iou : 27.663 pixel_acc : 55.008\n"
          ]
        },
        {
          "output_type": "stream",
          "name": "stderr",
          "text": [
            "152it [01:44,  5.11it/s]"
          ]
        },
        {
          "output_type": "stream",
          "name": "stdout",
          "text": [
            "Epoch : 0 || 150/8498 || loss : 0.603, iou : 32.232 pixel_acc : 87.067\n"
          ]
        },
        {
          "output_type": "stream",
          "name": "stderr",
          "text": [
            "201it [02:10,  3.21it/s]"
          ]
        },
        {
          "output_type": "stream",
          "name": "stdout",
          "text": [
            "Epoch : 0 || 200/8498 || loss : 0.521, iou : 28.920 pixel_acc : 86.760\n"
          ]
        },
        {
          "output_type": "stream",
          "name": "stderr",
          "text": [
            "252it [02:47,  5.18it/s]"
          ]
        },
        {
          "output_type": "stream",
          "name": "stdout",
          "text": [
            "Epoch : 0 || 250/8498 || loss : 0.399, iou : 87.836 pixel_acc : 93.947\n"
          ]
        },
        {
          "output_type": "stream",
          "name": "stderr",
          "text": [
            "302it [03:11,  6.90it/s]"
          ]
        },
        {
          "output_type": "stream",
          "name": "stdout",
          "text": [
            "Epoch : 0 || 300/8498 || loss : 0.462, iou : 21.809 pixel_acc : 83.944\n"
          ]
        },
        {
          "output_type": "stream",
          "name": "stderr",
          "text": [
            "351it [03:36,  3.88it/s]"
          ]
        },
        {
          "output_type": "stream",
          "name": "stdout",
          "text": [
            "Epoch : 0 || 350/8498 || loss : 0.453, iou : 57.058 pixel_acc : 89.745\n"
          ]
        },
        {
          "output_type": "stream",
          "name": "stderr",
          "text": [
            "402it [04:05,  1.41it/s]"
          ]
        },
        {
          "output_type": "stream",
          "name": "stdout",
          "text": [
            "Epoch : 0 || 400/8498 || loss : 0.724, iou : 58.297 pixel_acc : 90.619\n"
          ]
        },
        {
          "output_type": "stream",
          "name": "stderr",
          "text": [
            "452it [04:32,  1.85it/s]"
          ]
        },
        {
          "output_type": "stream",
          "name": "stdout",
          "text": [
            "Epoch : 0 || 450/8498 || loss : 0.131, iou : 83.047 pixel_acc : 97.659\n"
          ]
        },
        {
          "output_type": "stream",
          "name": "stderr",
          "text": [
            "502it [04:45,  4.71it/s]"
          ]
        },
        {
          "output_type": "stream",
          "name": "stdout",
          "text": [
            "Epoch : 0 || 500/8498 || loss : 0.335, iou : 83.318 pixel_acc : 92.663\n"
          ]
        },
        {
          "output_type": "stream",
          "name": "stderr",
          "text": [
            "552it [05:02,  4.46it/s]"
          ]
        },
        {
          "output_type": "stream",
          "name": "stdout",
          "text": [
            "Epoch : 0 || 550/8498 || loss : 0.516, iou : 23.298 pixel_acc : 87.334\n"
          ]
        },
        {
          "output_type": "stream",
          "name": "stderr",
          "text": [
            "601it [05:19,  1.40it/s]"
          ]
        },
        {
          "output_type": "stream",
          "name": "stdout",
          "text": [
            "Epoch : 0 || 600/8498 || loss : 0.323, iou : 78.727 pixel_acc : 90.049\n"
          ]
        },
        {
          "output_type": "stream",
          "name": "stderr",
          "text": [
            "652it [05:32,  6.76it/s]"
          ]
        },
        {
          "output_type": "stream",
          "name": "stdout",
          "text": [
            "Epoch : 0 || 650/8498 || loss : 0.275, iou : 84.137 pixel_acc : 92.969\n"
          ]
        },
        {
          "output_type": "stream",
          "name": "stderr",
          "text": [
            "702it [05:51,  5.43it/s]"
          ]
        },
        {
          "output_type": "stream",
          "name": "stdout",
          "text": [
            "Epoch : 0 || 700/8498 || loss : 0.464, iou : 51.737 pixel_acc : 86.086\n"
          ]
        },
        {
          "output_type": "stream",
          "name": "stderr",
          "text": [
            "752it [06:13,  1.08s/it]"
          ]
        },
        {
          "output_type": "stream",
          "name": "stdout",
          "text": [
            "Epoch : 0 || 750/8498 || loss : 0.183, iou : 85.969 pixel_acc : 93.884\n"
          ]
        },
        {
          "output_type": "stream",
          "name": "stderr",
          "text": [
            "802it [06:29,  5.49it/s]"
          ]
        },
        {
          "output_type": "stream",
          "name": "stdout",
          "text": [
            "Epoch : 0 || 800/8498 || loss : 0.331, iou : 88.478 pixel_acc : 94.085\n"
          ]
        },
        {
          "output_type": "stream",
          "name": "stderr",
          "text": [
            "852it [06:52,  6.27it/s]"
          ]
        },
        {
          "output_type": "stream",
          "name": "stdout",
          "text": [
            "Epoch : 0 || 850/8498 || loss : 0.129, iou : 44.747 pixel_acc : 97.713\n"
          ]
        },
        {
          "output_type": "stream",
          "name": "stderr",
          "text": [
            "902it [07:05,  7.16it/s]"
          ]
        },
        {
          "output_type": "stream",
          "name": "stdout",
          "text": [
            "Epoch : 0 || 900/8498 || loss : 0.310, iou : 79.525 pixel_acc : 89.521\n"
          ]
        },
        {
          "output_type": "stream",
          "name": "stderr",
          "text": [
            "952it [07:18,  6.54it/s]"
          ]
        },
        {
          "output_type": "stream",
          "name": "stdout",
          "text": [
            "Epoch : 0 || 950/8498 || loss : 0.341, iou : 52.637 pixel_acc : 90.709\n"
          ]
        },
        {
          "output_type": "stream",
          "name": "stderr",
          "text": [
            "1002it [07:30,  5.94it/s]"
          ]
        },
        {
          "output_type": "stream",
          "name": "stdout",
          "text": [
            "Epoch : 0 || 1000/8498 || loss : 0.304, iou : 61.249 pixel_acc : 89.268\n"
          ]
        },
        {
          "output_type": "stream",
          "name": "stderr",
          "text": [
            "1052it [07:45,  4.64it/s]"
          ]
        },
        {
          "output_type": "stream",
          "name": "stdout",
          "text": [
            "Epoch : 0 || 1050/8498 || loss : 0.844, iou : 44.893 pixel_acc : 67.050\n"
          ]
        },
        {
          "output_type": "stream",
          "name": "stderr",
          "text": [
            "1102it [07:56,  4.31it/s]"
          ]
        },
        {
          "output_type": "stream",
          "name": "stdout",
          "text": [
            "Epoch : 0 || 1100/8498 || loss : 0.290, iou : 70.802 pixel_acc : 91.526\n"
          ]
        },
        {
          "output_type": "stream",
          "name": "stderr",
          "text": [
            "1152it [08:13,  4.18it/s]"
          ]
        },
        {
          "output_type": "stream",
          "name": "stdout",
          "text": [
            "Epoch : 0 || 1150/8498 || loss : 0.430, iou : 54.835 pixel_acc : 86.337\n"
          ]
        },
        {
          "output_type": "stream",
          "name": "stderr",
          "text": [
            "1202it [08:27,  7.09it/s]"
          ]
        },
        {
          "output_type": "stream",
          "name": "stdout",
          "text": [
            "Epoch : 0 || 1200/8498 || loss : 0.109, iou : 62.669 pixel_acc : 97.353\n"
          ]
        },
        {
          "output_type": "stream",
          "name": "stderr",
          "text": [
            "1252it [08:39,  4.94it/s]"
          ]
        },
        {
          "output_type": "stream",
          "name": "stdout",
          "text": [
            "Epoch : 0 || 1250/8498 || loss : 0.153, iou : 59.519 pixel_acc : 95.305\n"
          ]
        },
        {
          "output_type": "stream",
          "name": "stderr",
          "text": [
            "1302it [08:54,  4.99it/s]"
          ]
        },
        {
          "output_type": "stream",
          "name": "stdout",
          "text": [
            "Epoch : 0 || 1300/8498 || loss : 0.079, iou : 89.830 pixel_acc : 97.555\n"
          ]
        },
        {
          "output_type": "stream",
          "name": "stderr",
          "text": [
            "1352it [09:12,  1.76it/s]"
          ]
        },
        {
          "output_type": "stream",
          "name": "stdout",
          "text": [
            "Epoch : 0 || 1350/8498 || loss : 0.228, iou : 57.383 pixel_acc : 95.774\n"
          ]
        },
        {
          "output_type": "stream",
          "name": "stderr",
          "text": [
            "1402it [09:28,  7.03it/s]"
          ]
        },
        {
          "output_type": "stream",
          "name": "stdout",
          "text": [
            "Epoch : 0 || 1400/8498 || loss : 0.104, iou : 60.818 pixel_acc : 96.982\n"
          ]
        },
        {
          "output_type": "stream",
          "name": "stderr",
          "text": [
            "1452it [09:41,  6.78it/s]"
          ]
        },
        {
          "output_type": "stream",
          "name": "stdout",
          "text": [
            "Epoch : 0 || 1450/8498 || loss : 0.024, iou : 49.827 pixel_acc : 99.653\n"
          ]
        },
        {
          "output_type": "stream",
          "name": "stderr",
          "text": [
            "1501it [09:49,  7.61it/s]"
          ]
        },
        {
          "output_type": "stream",
          "name": "stdout",
          "text": [
            "Epoch : 0 || 1500/8498 || loss : 0.227, iou : 44.177 pixel_acc : 96.905\n"
          ]
        },
        {
          "output_type": "stream",
          "name": "stderr",
          "text": [
            "1552it [10:01,  5.54it/s]"
          ]
        },
        {
          "output_type": "stream",
          "name": "stdout",
          "text": [
            "Epoch : 0 || 1550/8498 || loss : 0.056, iou : 89.610 pixel_acc : 98.686\n"
          ]
        },
        {
          "output_type": "stream",
          "name": "stderr",
          "text": [
            "1602it [10:14,  7.27it/s]"
          ]
        },
        {
          "output_type": "stream",
          "name": "stdout",
          "text": [
            "Epoch : 0 || 1600/8498 || loss : 0.137, iou : 95.815 pixel_acc : 98.124\n"
          ]
        },
        {
          "output_type": "stream",
          "name": "stderr",
          "text": [
            "1652it [10:23,  6.97it/s]"
          ]
        },
        {
          "output_type": "stream",
          "name": "stdout",
          "text": [
            "Epoch : 0 || 1650/8498 || loss : 0.240, iou : 63.340 pixel_acc : 93.379\n"
          ]
        },
        {
          "output_type": "stream",
          "name": "stderr",
          "text": [
            "1702it [10:37,  6.33it/s]"
          ]
        },
        {
          "output_type": "stream",
          "name": "stdout",
          "text": [
            "Epoch : 0 || 1700/8498 || loss : 0.167, iou : 87.682 pixel_acc : 94.662\n"
          ]
        },
        {
          "output_type": "stream",
          "name": "stderr",
          "text": [
            "1752it [10:50,  3.02it/s]"
          ]
        },
        {
          "output_type": "stream",
          "name": "stdout",
          "text": [
            "Epoch : 0 || 1750/8498 || loss : 0.377, iou : 59.346 pixel_acc : 88.192\n"
          ]
        },
        {
          "output_type": "stream",
          "name": "stderr",
          "text": [
            "1802it [10:58,  6.97it/s]"
          ]
        },
        {
          "output_type": "stream",
          "name": "stdout",
          "text": [
            "Epoch : 0 || 1800/8498 || loss : 0.302, iou : 55.886 pixel_acc : 94.269\n"
          ]
        },
        {
          "output_type": "stream",
          "name": "stderr",
          "text": [
            "1852it [11:08,  7.11it/s]"
          ]
        },
        {
          "output_type": "stream",
          "name": "stdout",
          "text": [
            "Epoch : 0 || 1850/8498 || loss : 0.242, iou : 68.941 pixel_acc : 92.669\n"
          ]
        },
        {
          "output_type": "stream",
          "name": "stderr",
          "text": [
            "1902it [11:15,  7.13it/s]"
          ]
        },
        {
          "output_type": "stream",
          "name": "stdout",
          "text": [
            "Epoch : 0 || 1900/8498 || loss : 0.386, iou : 44.804 pixel_acc : 89.010\n"
          ]
        },
        {
          "output_type": "stream",
          "name": "stderr",
          "text": [
            "1952it [11:26,  5.98it/s]"
          ]
        },
        {
          "output_type": "stream",
          "name": "stdout",
          "text": [
            "Epoch : 0 || 1950/8498 || loss : 0.626, iou : 59.340 pixel_acc : 80.099\n"
          ]
        },
        {
          "output_type": "stream",
          "name": "stderr",
          "text": [
            "2002it [11:37,  4.19it/s]"
          ]
        },
        {
          "output_type": "stream",
          "name": "stdout",
          "text": [
            "Epoch : 0 || 2000/8498 || loss : 0.151, iou : 92.634 pixel_acc : 96.194\n"
          ]
        },
        {
          "output_type": "stream",
          "name": "stderr",
          "text": [
            "2051it [11:49,  3.05it/s]"
          ]
        },
        {
          "output_type": "stream",
          "name": "stdout",
          "text": [
            "Epoch : 0 || 2050/8498 || loss : 0.703, iou : 56.529 pixel_acc : 73.865\n"
          ]
        },
        {
          "output_type": "stream",
          "name": "stderr",
          "text": [
            "2102it [11:58,  7.44it/s]"
          ]
        },
        {
          "output_type": "stream",
          "name": "stdout",
          "text": [
            "Epoch : 0 || 2100/8498 || loss : 0.421, iou : 46.764 pixel_acc : 85.378\n"
          ]
        },
        {
          "output_type": "stream",
          "name": "stderr",
          "text": [
            "2152it [12:12,  6.71it/s]"
          ]
        },
        {
          "output_type": "stream",
          "name": "stdout",
          "text": [
            "Epoch : 0 || 2150/8498 || loss : 0.267, iou : 82.257 pixel_acc : 90.276\n"
          ]
        },
        {
          "output_type": "stream",
          "name": "stderr",
          "text": [
            "2201it [12:21,  4.89it/s]"
          ]
        },
        {
          "output_type": "stream",
          "name": "stdout",
          "text": [
            "Epoch : 0 || 2200/8498 || loss : 0.468, iou : 79.812 pixel_acc : 88.922\n"
          ]
        },
        {
          "output_type": "stream",
          "name": "stderr",
          "text": [
            "2252it [12:40,  7.21it/s]"
          ]
        },
        {
          "output_type": "stream",
          "name": "stdout",
          "text": [
            "Epoch : 0 || 2250/8498 || loss : 0.606, iou : 48.411 pixel_acc : 79.753\n"
          ]
        },
        {
          "output_type": "stream",
          "name": "stderr",
          "text": [
            "2302it [12:47,  6.93it/s]"
          ]
        },
        {
          "output_type": "stream",
          "name": "stdout",
          "text": [
            "Epoch : 0 || 2300/8498 || loss : 0.088, iou : 93.842 pixel_acc : 97.425\n"
          ]
        },
        {
          "output_type": "stream",
          "name": "stderr",
          "text": [
            "2352it [13:00,  6.69it/s]"
          ]
        },
        {
          "output_type": "stream",
          "name": "stdout",
          "text": [
            "Epoch : 0 || 2350/8498 || loss : 0.242, iou : 53.773 pixel_acc : 94.372\n"
          ]
        },
        {
          "output_type": "stream",
          "name": "stderr",
          "text": [
            "2402it [13:12,  4.77it/s]"
          ]
        },
        {
          "output_type": "stream",
          "name": "stdout",
          "text": [
            "Epoch : 0 || 2400/8498 || loss : 0.128, iou : 89.786 pixel_acc : 97.481\n"
          ]
        },
        {
          "output_type": "stream",
          "name": "stderr",
          "text": [
            "2452it [13:25,  3.67it/s]"
          ]
        },
        {
          "output_type": "stream",
          "name": "stdout",
          "text": [
            "Epoch : 0 || 2450/8498 || loss : 0.257, iou : 79.494 pixel_acc : 93.183\n"
          ]
        },
        {
          "output_type": "stream",
          "name": "stderr",
          "text": [
            "2502it [13:34,  7.30it/s]"
          ]
        },
        {
          "output_type": "stream",
          "name": "stdout",
          "text": [
            "Epoch : 0 || 2500/8498 || loss : 0.243, iou : 79.487 pixel_acc : 92.593\n"
          ]
        },
        {
          "output_type": "stream",
          "name": "stderr",
          "text": [
            "2551it [13:42,  6.48it/s]"
          ]
        },
        {
          "output_type": "stream",
          "name": "stdout",
          "text": [
            "Epoch : 0 || 2550/8498 || loss : 0.114, iou : 85.763 pixel_acc : 97.732\n"
          ]
        },
        {
          "output_type": "stream",
          "name": "stderr",
          "text": [
            "2602it [13:53,  6.78it/s]"
          ]
        },
        {
          "output_type": "stream",
          "name": "stdout",
          "text": [
            "Epoch : 0 || 2600/8498 || loss : 0.173, iou : 88.381 pixel_acc : 94.489\n"
          ]
        },
        {
          "output_type": "stream",
          "name": "stderr",
          "text": [
            "2652it [14:04,  7.03it/s]"
          ]
        },
        {
          "output_type": "stream",
          "name": "stdout",
          "text": [
            "Epoch : 0 || 2650/8498 || loss : 0.099, iou : 89.053 pixel_acc : 97.174\n"
          ]
        },
        {
          "output_type": "stream",
          "name": "stderr",
          "text": [
            "2702it [14:14,  3.95it/s]"
          ]
        },
        {
          "output_type": "stream",
          "name": "stdout",
          "text": [
            "Epoch : 0 || 2700/8498 || loss : 0.036, iou : 91.423 pixel_acc : 99.343\n"
          ]
        },
        {
          "output_type": "stream",
          "name": "stderr",
          "text": [
            "2752it [14:28,  6.88it/s]"
          ]
        },
        {
          "output_type": "stream",
          "name": "stdout",
          "text": [
            "Epoch : 0 || 2750/8498 || loss : 0.277, iou : 83.628 pixel_acc : 91.159\n"
          ]
        },
        {
          "output_type": "stream",
          "name": "stderr",
          "text": [
            "2802it [14:35,  6.88it/s]"
          ]
        },
        {
          "output_type": "stream",
          "name": "stdout",
          "text": [
            "Epoch : 0 || 2800/8498 || loss : 0.307, iou : 80.532 pixel_acc : 89.298\n"
          ]
        },
        {
          "output_type": "stream",
          "name": "stderr",
          "text": [
            "2852it [14:43,  7.30it/s]"
          ]
        },
        {
          "output_type": "stream",
          "name": "stdout",
          "text": [
            "Epoch : 0 || 2850/8498 || loss : 0.268, iou : 84.825 pixel_acc : 93.323\n"
          ]
        },
        {
          "output_type": "stream",
          "name": "stderr",
          "text": [
            "2902it [14:52,  6.73it/s]"
          ]
        },
        {
          "output_type": "stream",
          "name": "stdout",
          "text": [
            "Epoch : 0 || 2900/8498 || loss : 0.056, iou : 91.414 pixel_acc : 98.092\n"
          ]
        },
        {
          "output_type": "stream",
          "name": "stderr",
          "text": [
            "2952it [15:00,  7.25it/s]"
          ]
        },
        {
          "output_type": "stream",
          "name": "stdout",
          "text": [
            "Epoch : 0 || 2950/8498 || loss : 0.082, iou : 95.359 pixel_acc : 97.762\n"
          ]
        },
        {
          "output_type": "stream",
          "name": "stderr",
          "text": [
            "3002it [15:13,  5.79it/s]"
          ]
        },
        {
          "output_type": "stream",
          "name": "stdout",
          "text": [
            "Epoch : 0 || 3000/8498 || loss : 0.094, iou : 32.577 pixel_acc : 97.732\n"
          ]
        },
        {
          "output_type": "stream",
          "name": "stderr",
          "text": [
            "3052it [15:31,  4.39it/s]"
          ]
        },
        {
          "output_type": "stream",
          "name": "stdout",
          "text": [
            "Epoch : 0 || 3050/8498 || loss : 0.094, iou : 84.340 pixel_acc : 96.379\n"
          ]
        },
        {
          "output_type": "stream",
          "name": "stderr",
          "text": [
            "3102it [15:41,  7.14it/s]"
          ]
        },
        {
          "output_type": "stream",
          "name": "stdout",
          "text": [
            "Epoch : 0 || 3100/8498 || loss : 0.377, iou : 55.778 pixel_acc : 85.309\n"
          ]
        },
        {
          "output_type": "stream",
          "name": "stderr",
          "text": [
            "3152it [15:53,  7.01it/s]"
          ]
        },
        {
          "output_type": "stream",
          "name": "stdout",
          "text": [
            "Epoch : 0 || 3150/8498 || loss : 0.322, iou : 77.634 pixel_acc : 89.992\n"
          ]
        },
        {
          "output_type": "stream",
          "name": "stderr",
          "text": [
            "3202it [16:04,  5.12it/s]"
          ]
        },
        {
          "output_type": "stream",
          "name": "stdout",
          "text": [
            "Epoch : 0 || 3200/8498 || loss : 0.086, iou : 85.986 pixel_acc : 98.834\n"
          ]
        },
        {
          "output_type": "stream",
          "name": "stderr",
          "text": [
            "3252it [16:18,  5.03it/s]"
          ]
        },
        {
          "output_type": "stream",
          "name": "stdout",
          "text": [
            "Epoch : 0 || 3250/8498 || loss : 0.365, iou : 52.797 pixel_acc : 87.471\n"
          ]
        },
        {
          "output_type": "stream",
          "name": "stderr",
          "text": [
            "3302it [16:27,  7.27it/s]"
          ]
        },
        {
          "output_type": "stream",
          "name": "stdout",
          "text": [
            "Epoch : 0 || 3300/8498 || loss : 0.385, iou : 38.240 pixel_acc : 86.443\n"
          ]
        },
        {
          "output_type": "stream",
          "name": "stderr",
          "text": [
            "3352it [16:37,  6.56it/s]"
          ]
        },
        {
          "output_type": "stream",
          "name": "stdout",
          "text": [
            "Epoch : 0 || 3350/8498 || loss : 0.114, iou : 91.094 pixel_acc : 96.828\n"
          ]
        },
        {
          "output_type": "stream",
          "name": "stderr",
          "text": [
            "3402it [16:53,  1.88it/s]"
          ]
        },
        {
          "output_type": "stream",
          "name": "stdout",
          "text": [
            "Epoch : 0 || 3400/8498 || loss : 0.135, iou : 85.913 pixel_acc : 94.892\n"
          ]
        },
        {
          "output_type": "stream",
          "name": "stderr",
          "text": [
            "3452it [17:02,  6.59it/s]"
          ]
        },
        {
          "output_type": "stream",
          "name": "stdout",
          "text": [
            "Epoch : 0 || 3450/8498 || loss : 0.072, iou : 83.129 pixel_acc : 98.316\n"
          ]
        },
        {
          "output_type": "stream",
          "name": "stderr",
          "text": [
            "3502it [17:12,  6.13it/s]"
          ]
        },
        {
          "output_type": "stream",
          "name": "stdout",
          "text": [
            "Epoch : 0 || 3500/8498 || loss : 0.420, iou : 46.094 pixel_acc : 86.948\n"
          ]
        },
        {
          "output_type": "stream",
          "name": "stderr",
          "text": [
            "3552it [17:21,  6.76it/s]"
          ]
        },
        {
          "output_type": "stream",
          "name": "stdout",
          "text": [
            "Epoch : 0 || 3550/8498 || loss : 0.235, iou : 74.623 pixel_acc : 89.850\n"
          ]
        },
        {
          "output_type": "stream",
          "name": "stderr",
          "text": [
            "3602it [17:34,  3.68it/s]"
          ]
        },
        {
          "output_type": "stream",
          "name": "stdout",
          "text": [
            "Epoch : 0 || 3600/8498 || loss : 0.179, iou : 85.977 pixel_acc : 92.508\n"
          ]
        },
        {
          "output_type": "stream",
          "name": "stderr",
          "text": [
            "3652it [17:45,  4.61it/s]"
          ]
        },
        {
          "output_type": "stream",
          "name": "stdout",
          "text": [
            "Epoch : 0 || 3650/8498 || loss : 0.307, iou : 77.815 pixel_acc : 91.199\n"
          ]
        },
        {
          "output_type": "stream",
          "name": "stderr",
          "text": [
            "3702it [17:57,  6.97it/s]"
          ]
        },
        {
          "output_type": "stream",
          "name": "stdout",
          "text": [
            "Epoch : 0 || 3700/8498 || loss : 0.105, iou : 81.933 pixel_acc : 97.917\n"
          ]
        },
        {
          "output_type": "stream",
          "name": "stderr",
          "text": [
            "3752it [18:07,  7.09it/s]"
          ]
        },
        {
          "output_type": "stream",
          "name": "stdout",
          "text": [
            "Epoch : 0 || 3750/8498 || loss : 0.086, iou : 90.043 pixel_acc : 97.565\n"
          ]
        },
        {
          "output_type": "stream",
          "name": "stderr",
          "text": [
            "3802it [18:23,  6.02it/s]"
          ]
        },
        {
          "output_type": "stream",
          "name": "stdout",
          "text": [
            "Epoch : 0 || 3800/8498 || loss : 0.253, iou : 56.144 pixel_acc : 89.859\n"
          ]
        },
        {
          "output_type": "stream",
          "name": "stderr",
          "text": [
            "3852it [18:32,  7.17it/s]"
          ]
        },
        {
          "output_type": "stream",
          "name": "stdout",
          "text": [
            "Epoch : 0 || 3850/8498 || loss : 0.193, iou : 90.307 pixel_acc : 94.950\n"
          ]
        },
        {
          "output_type": "stream",
          "name": "stderr",
          "text": [
            "3902it [18:39,  7.55it/s]"
          ]
        },
        {
          "output_type": "stream",
          "name": "stdout",
          "text": [
            "Epoch : 0 || 3900/8498 || loss : 0.248, iou : 61.280 pixel_acc : 95.735\n"
          ]
        },
        {
          "output_type": "stream",
          "name": "stderr",
          "text": [
            "3952it [18:47,  7.23it/s]"
          ]
        },
        {
          "output_type": "stream",
          "name": "stdout",
          "text": [
            "Epoch : 0 || 3950/8498 || loss : 0.098, iou : 50.257 pixel_acc : 96.816\n"
          ]
        },
        {
          "output_type": "stream",
          "name": "stderr",
          "text": [
            "4002it [18:55,  7.18it/s]"
          ]
        },
        {
          "output_type": "stream",
          "name": "stdout",
          "text": [
            "Epoch : 0 || 4000/8498 || loss : 0.085, iou : 74.093 pixel_acc : 97.517\n"
          ]
        },
        {
          "output_type": "stream",
          "name": "stderr",
          "text": [
            "4052it [19:07,  6.98it/s]"
          ]
        },
        {
          "output_type": "stream",
          "name": "stdout",
          "text": [
            "Epoch : 0 || 4050/8498 || loss : 0.250, iou : 74.473 pixel_acc : 89.287\n"
          ]
        },
        {
          "output_type": "stream",
          "name": "stderr",
          "text": [
            "4102it [19:19,  7.30it/s]"
          ]
        },
        {
          "output_type": "stream",
          "name": "stdout",
          "text": [
            "Epoch : 0 || 4100/8498 || loss : 0.166, iou : 69.837 pixel_acc : 95.688\n"
          ]
        },
        {
          "output_type": "stream",
          "name": "stderr",
          "text": [
            "4152it [19:27,  6.86it/s]"
          ]
        },
        {
          "output_type": "stream",
          "name": "stdout",
          "text": [
            "Epoch : 0 || 4150/8498 || loss : 0.818, iou : 43.892 pixel_acc : 80.958\n"
          ]
        },
        {
          "output_type": "stream",
          "name": "stderr",
          "text": [
            "4201it [19:36,  7.11it/s]"
          ]
        },
        {
          "output_type": "stream",
          "name": "stdout",
          "text": [
            "Epoch : 0 || 4200/8498 || loss : 0.790, iou : 33.101 pixel_acc : 77.316\n"
          ]
        },
        {
          "output_type": "stream",
          "name": "stderr",
          "text": [
            "4252it [19:45,  7.20it/s]"
          ]
        },
        {
          "output_type": "stream",
          "name": "stdout",
          "text": [
            "Epoch : 0 || 4250/8498 || loss : 0.069, iou : 91.980 pixel_acc : 98.031\n"
          ]
        },
        {
          "output_type": "stream",
          "name": "stderr",
          "text": [
            "4302it [19:55,  7.33it/s]"
          ]
        },
        {
          "output_type": "stream",
          "name": "stdout",
          "text": [
            "Epoch : 0 || 4300/8498 || loss : 0.369, iou : 20.554 pixel_acc : 88.286\n"
          ]
        },
        {
          "output_type": "stream",
          "name": "stderr",
          "text": [
            "4352it [20:06,  6.87it/s]"
          ]
        },
        {
          "output_type": "stream",
          "name": "stdout",
          "text": [
            "Epoch : 0 || 4350/8498 || loss : 0.414, iou : 55.788 pixel_acc : 86.680\n"
          ]
        },
        {
          "output_type": "stream",
          "name": "stderr",
          "text": [
            "4402it [20:14,  5.99it/s]"
          ]
        },
        {
          "output_type": "stream",
          "name": "stdout",
          "text": [
            "Epoch : 0 || 4400/8498 || loss : 0.150, iou : 91.805 pixel_acc : 96.425\n"
          ]
        },
        {
          "output_type": "stream",
          "name": "stderr",
          "text": [
            "4452it [20:24,  4.03it/s]"
          ]
        },
        {
          "output_type": "stream",
          "name": "stdout",
          "text": [
            "Epoch : 0 || 4450/8498 || loss : 0.177, iou : 90.775 pixel_acc : 95.606\n"
          ]
        },
        {
          "output_type": "stream",
          "name": "stderr",
          "text": [
            "4502it [20:32,  6.65it/s]"
          ]
        },
        {
          "output_type": "stream",
          "name": "stdout",
          "text": [
            "Epoch : 0 || 4500/8498 || loss : 0.097, iou : 49.677 pixel_acc : 99.354\n"
          ]
        },
        {
          "output_type": "stream",
          "name": "stderr",
          "text": [
            "4552it [20:41,  7.35it/s]"
          ]
        },
        {
          "output_type": "stream",
          "name": "stdout",
          "text": [
            "Epoch : 0 || 4550/8498 || loss : 0.140, iou : 66.829 pixel_acc : 95.703\n"
          ]
        },
        {
          "output_type": "stream",
          "name": "stderr",
          "text": [
            "4602it [20:50,  6.81it/s]"
          ]
        },
        {
          "output_type": "stream",
          "name": "stdout",
          "text": [
            "Epoch : 0 || 4600/8498 || loss : 0.248, iou : 52.385 pixel_acc : 92.391\n"
          ]
        },
        {
          "output_type": "stream",
          "name": "stderr",
          "text": [
            "4652it [20:59,  7.37it/s]"
          ]
        },
        {
          "output_type": "stream",
          "name": "stdout",
          "text": [
            "Epoch : 0 || 4650/8498 || loss : 0.142, iou : 89.595 pixel_acc : 96.169\n"
          ]
        },
        {
          "output_type": "stream",
          "name": "stderr",
          "text": [
            "4702it [21:06,  7.39it/s]"
          ]
        },
        {
          "output_type": "stream",
          "name": "stdout",
          "text": [
            "Epoch : 0 || 4700/8498 || loss : 0.411, iou : 63.088 pixel_acc : 88.660\n"
          ]
        },
        {
          "output_type": "stream",
          "name": "stderr",
          "text": [
            "4752it [21:14,  6.69it/s]"
          ]
        },
        {
          "output_type": "stream",
          "name": "stdout",
          "text": [
            "Epoch : 0 || 4750/8498 || loss : 0.091, iou : 97.004 pixel_acc : 98.491\n"
          ]
        },
        {
          "output_type": "stream",
          "name": "stderr",
          "text": [
            "4802it [21:25,  4.19it/s]"
          ]
        },
        {
          "output_type": "stream",
          "name": "stdout",
          "text": [
            "Epoch : 0 || 4800/8498 || loss : 0.183, iou : 90.152 pixel_acc : 95.010\n"
          ]
        },
        {
          "output_type": "stream",
          "name": "stderr",
          "text": [
            "4851it [21:37,  1.72it/s]"
          ]
        },
        {
          "output_type": "stream",
          "name": "stdout",
          "text": [
            "Epoch : 0 || 4850/8498 || loss : 0.294, iou : 34.666 pixel_acc : 89.566\n"
          ]
        },
        {
          "output_type": "stream",
          "name": "stderr",
          "text": [
            "4902it [21:47,  7.57it/s]"
          ]
        },
        {
          "output_type": "stream",
          "name": "stdout",
          "text": [
            "Epoch : 0 || 4900/8498 || loss : 0.129, iou : 85.811 pixel_acc : 97.063\n"
          ]
        },
        {
          "output_type": "stream",
          "name": "stderr",
          "text": [
            "4952it [21:59,  6.75it/s]"
          ]
        },
        {
          "output_type": "stream",
          "name": "stdout",
          "text": [
            "Epoch : 0 || 4950/8498 || loss : 0.096, iou : 51.763 pixel_acc : 98.634\n"
          ]
        },
        {
          "output_type": "stream",
          "name": "stderr",
          "text": [
            "5002it [22:06,  7.31it/s]"
          ]
        },
        {
          "output_type": "stream",
          "name": "stdout",
          "text": [
            "Epoch : 0 || 5000/8498 || loss : 0.049, iou : 89.093 pixel_acc : 99.022\n"
          ]
        },
        {
          "output_type": "stream",
          "name": "stderr",
          "text": [
            "5052it [22:13,  7.12it/s]"
          ]
        },
        {
          "output_type": "stream",
          "name": "stdout",
          "text": [
            "Epoch : 0 || 5050/8498 || loss : 0.525, iou : 26.510 pixel_acc : 85.247\n"
          ]
        },
        {
          "output_type": "stream",
          "name": "stderr",
          "text": [
            "5102it [22:23,  6.87it/s]"
          ]
        },
        {
          "output_type": "stream",
          "name": "stdout",
          "text": [
            "Epoch : 0 || 5100/8498 || loss : 0.467, iou : 73.007 pixel_acc : 85.715\n"
          ]
        },
        {
          "output_type": "stream",
          "name": "stderr",
          "text": [
            "5152it [22:37,  5.50it/s]"
          ]
        },
        {
          "output_type": "stream",
          "name": "stdout",
          "text": [
            "Epoch : 0 || 5150/8498 || loss : 0.312, iou : 45.394 pixel_acc : 90.049\n"
          ]
        },
        {
          "output_type": "stream",
          "name": "stderr",
          "text": [
            "5202it [22:48,  7.08it/s]"
          ]
        },
        {
          "output_type": "stream",
          "name": "stdout",
          "text": [
            "Epoch : 0 || 5200/8498 || loss : 0.428, iou : 71.019 pixel_acc : 88.676\n"
          ]
        },
        {
          "output_type": "stream",
          "name": "stderr",
          "text": [
            "5252it [22:57,  6.95it/s]"
          ]
        },
        {
          "output_type": "stream",
          "name": "stdout",
          "text": [
            "Epoch : 0 || 5250/8498 || loss : 0.184, iou : 89.730 pixel_acc : 94.622\n"
          ]
        },
        {
          "output_type": "stream",
          "name": "stderr",
          "text": [
            "5302it [23:05,  7.29it/s]"
          ]
        },
        {
          "output_type": "stream",
          "name": "stdout",
          "text": [
            "Epoch : 0 || 5300/8498 || loss : 0.281, iou : 37.225 pixel_acc : 95.737\n"
          ]
        },
        {
          "output_type": "stream",
          "name": "stderr",
          "text": [
            "5352it [23:13,  5.58it/s]"
          ]
        },
        {
          "output_type": "stream",
          "name": "stdout",
          "text": [
            "Epoch : 0 || 5350/8498 || loss : 0.117, iou : 91.368 pixel_acc : 97.218\n"
          ]
        },
        {
          "output_type": "stream",
          "name": "stderr",
          "text": [
            "5402it [23:22,  6.72it/s]"
          ]
        },
        {
          "output_type": "stream",
          "name": "stdout",
          "text": [
            "Epoch : 0 || 5400/8498 || loss : 0.193, iou : 57.449 pixel_acc : 93.489\n"
          ]
        },
        {
          "output_type": "stream",
          "name": "stderr",
          "text": [
            "5452it [23:31,  6.87it/s]"
          ]
        },
        {
          "output_type": "stream",
          "name": "stdout",
          "text": [
            "Epoch : 0 || 5450/8498 || loss : 0.293, iou : 81.915 pixel_acc : 90.352\n"
          ]
        },
        {
          "output_type": "stream",
          "name": "stderr",
          "text": [
            "5502it [23:38,  7.12it/s]"
          ]
        },
        {
          "output_type": "stream",
          "name": "stdout",
          "text": [
            "Epoch : 0 || 5500/8498 || loss : 0.029, iou : 50.748 pixel_acc : 99.548\n"
          ]
        },
        {
          "output_type": "stream",
          "name": "stderr",
          "text": [
            "5551it [23:46,  6.83it/s]"
          ]
        },
        {
          "output_type": "stream",
          "name": "stdout",
          "text": [
            "Epoch : 0 || 5550/8498 || loss : 0.440, iou : 62.855 pixel_acc : 84.969\n"
          ]
        },
        {
          "output_type": "stream",
          "name": "stderr",
          "text": [
            "5602it [23:59,  3.95it/s]"
          ]
        },
        {
          "output_type": "stream",
          "name": "stdout",
          "text": [
            "Epoch : 0 || 5600/8498 || loss : 0.090, iou : 56.951 pixel_acc : 98.125\n"
          ]
        },
        {
          "output_type": "stream",
          "name": "stderr",
          "text": [
            "5652it [24:07,  7.12it/s]"
          ]
        },
        {
          "output_type": "stream",
          "name": "stdout",
          "text": [
            "Epoch : 0 || 5650/8498 || loss : 0.139, iou : 42.555 pixel_acc : 95.678\n"
          ]
        },
        {
          "output_type": "stream",
          "name": "stderr",
          "text": [
            "5702it [24:16,  6.30it/s]"
          ]
        },
        {
          "output_type": "stream",
          "name": "stdout",
          "text": [
            "Epoch : 0 || 5700/8498 || loss : 0.352, iou : 77.318 pixel_acc : 87.546\n"
          ]
        },
        {
          "output_type": "stream",
          "name": "stderr",
          "text": [
            "5752it [24:23,  7.03it/s]"
          ]
        },
        {
          "output_type": "stream",
          "name": "stdout",
          "text": [
            "Epoch : 0 || 5750/8498 || loss : 0.538, iou : 67.271 pixel_acc : 83.746\n"
          ]
        },
        {
          "output_type": "stream",
          "name": "stderr",
          "text": [
            "5802it [24:31,  7.20it/s]"
          ]
        },
        {
          "output_type": "stream",
          "name": "stdout",
          "text": [
            "Epoch : 0 || 5800/8498 || loss : 0.303, iou : 41.925 pixel_acc : 88.124\n"
          ]
        },
        {
          "output_type": "stream",
          "name": "stderr",
          "text": [
            "5852it [24:40,  6.85it/s]"
          ]
        },
        {
          "output_type": "stream",
          "name": "stdout",
          "text": [
            "Epoch : 0 || 5850/8498 || loss : 0.212, iou : 87.867 pixel_acc : 94.698\n"
          ]
        },
        {
          "output_type": "stream",
          "name": "stderr",
          "text": [
            "5902it [24:48,  7.09it/s]"
          ]
        },
        {
          "output_type": "stream",
          "name": "stdout",
          "text": [
            "Epoch : 0 || 5900/8498 || loss : 0.280, iou : 85.152 pixel_acc : 91.637\n"
          ]
        },
        {
          "output_type": "stream",
          "name": "stderr",
          "text": [
            "5952it [24:56,  4.07it/s]"
          ]
        },
        {
          "output_type": "stream",
          "name": "stdout",
          "text": [
            "Epoch : 0 || 5950/8498 || loss : 0.015, iou : 92.129 pixel_acc : 99.562\n"
          ]
        },
        {
          "output_type": "stream",
          "name": "stderr",
          "text": [
            "6002it [25:08,  7.03it/s]"
          ]
        },
        {
          "output_type": "stream",
          "name": "stdout",
          "text": [
            "Epoch : 0 || 6000/8498 || loss : 0.326, iou : 50.174 pixel_acc : 91.830\n"
          ]
        },
        {
          "output_type": "stream",
          "name": "stderr",
          "text": [
            "6052it [25:21,  1.57it/s]"
          ]
        },
        {
          "output_type": "stream",
          "name": "stdout",
          "text": [
            "Epoch : 0 || 6050/8498 || loss : 0.301, iou : 84.217 pixel_acc : 91.410\n"
          ]
        },
        {
          "output_type": "stream",
          "name": "stderr",
          "text": [
            "6102it [25:29,  6.78it/s]"
          ]
        },
        {
          "output_type": "stream",
          "name": "stdout",
          "text": [
            "Epoch : 0 || 6100/8498 || loss : 0.424, iou : 78.953 pixel_acc : 88.416\n"
          ]
        },
        {
          "output_type": "stream",
          "name": "stderr",
          "text": [
            "6152it [25:38,  3.10it/s]"
          ]
        },
        {
          "output_type": "stream",
          "name": "stdout",
          "text": [
            "Epoch : 0 || 6150/8498 || loss : 0.250, iou : 82.759 pixel_acc : 90.863\n"
          ]
        },
        {
          "output_type": "stream",
          "name": "stderr",
          "text": [
            "6202it [25:46,  5.73it/s]"
          ]
        },
        {
          "output_type": "stream",
          "name": "stdout",
          "text": [
            "Epoch : 0 || 6200/8498 || loss : 0.149, iou : 89.839 pixel_acc : 95.730\n"
          ]
        },
        {
          "output_type": "stream",
          "name": "stderr",
          "text": [
            "6252it [25:54,  4.58it/s]"
          ]
        },
        {
          "output_type": "stream",
          "name": "stdout",
          "text": [
            "Epoch : 0 || 6250/8498 || loss : 0.449, iou : 62.459 pixel_acc : 85.753\n"
          ]
        },
        {
          "output_type": "stream",
          "name": "stderr",
          "text": [
            "6302it [26:03,  6.81it/s]"
          ]
        },
        {
          "output_type": "stream",
          "name": "stdout",
          "text": [
            "Epoch : 0 || 6300/8498 || loss : 0.376, iou : 72.419 pixel_acc : 86.443\n"
          ]
        },
        {
          "output_type": "stream",
          "name": "stderr",
          "text": [
            "6352it [26:13,  6.92it/s]"
          ]
        },
        {
          "output_type": "stream",
          "name": "stdout",
          "text": [
            "Epoch : 0 || 6350/8498 || loss : 0.099, iou : 71.666 pixel_acc : 97.801\n"
          ]
        },
        {
          "output_type": "stream",
          "name": "stderr",
          "text": [
            "6402it [26:20,  7.02it/s]"
          ]
        },
        {
          "output_type": "stream",
          "name": "stdout",
          "text": [
            "Epoch : 0 || 6400/8498 || loss : 0.623, iou : 45.181 pixel_acc : 76.353\n"
          ]
        },
        {
          "output_type": "stream",
          "name": "stderr",
          "text": [
            "6452it [26:28,  6.83it/s]"
          ]
        },
        {
          "output_type": "stream",
          "name": "stdout",
          "text": [
            "Epoch : 0 || 6450/8498 || loss : 0.064, iou : 56.568 pixel_acc : 99.258\n"
          ]
        },
        {
          "output_type": "stream",
          "name": "stderr",
          "text": [
            "6502it [26:40,  7.23it/s]"
          ]
        },
        {
          "output_type": "stream",
          "name": "stdout",
          "text": [
            "Epoch : 0 || 6500/8498 || loss : 0.307, iou : 78.886 pixel_acc : 90.016\n"
          ]
        },
        {
          "output_type": "stream",
          "name": "stderr",
          "text": [
            "6552it [26:53,  6.88it/s]"
          ]
        },
        {
          "output_type": "stream",
          "name": "stdout",
          "text": [
            "Epoch : 0 || 6550/8498 || loss : 0.195, iou : 82.009 pixel_acc : 94.475\n"
          ]
        },
        {
          "output_type": "stream",
          "name": "stderr",
          "text": [
            "6601it [27:01,  7.31it/s]"
          ]
        },
        {
          "output_type": "stream",
          "name": "stdout",
          "text": [
            "Epoch : 0 || 6600/8498 || loss : 0.065, iou : 96.129 pixel_acc : 99.169\n"
          ]
        },
        {
          "output_type": "stream",
          "name": "stderr",
          "text": [
            "6651it [27:14,  3.33it/s]"
          ]
        },
        {
          "output_type": "stream",
          "name": "stdout",
          "text": [
            "Epoch : 0 || 6650/8498 || loss : 0.100, iou : 77.142 pixel_acc : 97.504\n"
          ]
        },
        {
          "output_type": "stream",
          "name": "stderr",
          "text": [
            "6702it [27:22,  7.18it/s]"
          ]
        },
        {
          "output_type": "stream",
          "name": "stdout",
          "text": [
            "Epoch : 0 || 6700/8498 || loss : 0.175, iou : 56.402 pixel_acc : 97.579\n"
          ]
        },
        {
          "output_type": "stream",
          "name": "stderr",
          "text": [
            "6752it [27:31,  4.98it/s]"
          ]
        },
        {
          "output_type": "stream",
          "name": "stdout",
          "text": [
            "Epoch : 0 || 6750/8498 || loss : 0.117, iou : 90.105 pixel_acc : 96.174\n"
          ]
        },
        {
          "output_type": "stream",
          "name": "stderr",
          "text": [
            "6802it [27:43,  7.44it/s]"
          ]
        },
        {
          "output_type": "stream",
          "name": "stdout",
          "text": [
            "Epoch : 0 || 6800/8498 || loss : 0.297, iou : 74.204 pixel_acc : 90.294\n"
          ]
        },
        {
          "output_type": "stream",
          "name": "stderr",
          "text": [
            "6852it [27:51,  4.14it/s]"
          ]
        },
        {
          "output_type": "stream",
          "name": "stdout",
          "text": [
            "Epoch : 0 || 6850/8498 || loss : 0.212, iou : 86.589 pixel_acc : 94.205\n"
          ]
        },
        {
          "output_type": "stream",
          "name": "stderr",
          "text": [
            "6901it [28:01,  7.03it/s]"
          ]
        },
        {
          "output_type": "stream",
          "name": "stdout",
          "text": [
            "Epoch : 0 || 6900/8498 || loss : 0.338, iou : 74.381 pixel_acc : 89.530\n"
          ]
        },
        {
          "output_type": "stream",
          "name": "stderr",
          "text": [
            "6952it [28:10,  7.43it/s]"
          ]
        },
        {
          "output_type": "stream",
          "name": "stdout",
          "text": [
            "Epoch : 0 || 6950/8498 || loss : 0.086, iou : 93.082 pixel_acc : 97.321\n"
          ]
        },
        {
          "output_type": "stream",
          "name": "stderr",
          "text": [
            "7002it [28:21,  6.38it/s]"
          ]
        },
        {
          "output_type": "stream",
          "name": "stdout",
          "text": [
            "Epoch : 0 || 7000/8498 || loss : 0.301, iou : 42.993 pixel_acc : 91.568\n"
          ]
        },
        {
          "output_type": "stream",
          "name": "stderr",
          "text": [
            "7052it [28:29,  7.22it/s]"
          ]
        },
        {
          "output_type": "stream",
          "name": "stdout",
          "text": [
            "Epoch : 0 || 7050/8498 || loss : 0.144, iou : 92.121 pixel_acc : 96.271\n"
          ]
        },
        {
          "output_type": "stream",
          "name": "stderr",
          "text": [
            "7102it [28:38,  2.23it/s]"
          ]
        },
        {
          "output_type": "stream",
          "name": "stdout",
          "text": [
            "Epoch : 0 || 7100/8498 || loss : 0.284, iou : 75.653 pixel_acc : 90.480\n"
          ]
        },
        {
          "output_type": "stream",
          "name": "stderr",
          "text": [
            "7152it [28:49,  7.15it/s]"
          ]
        },
        {
          "output_type": "stream",
          "name": "stdout",
          "text": [
            "Epoch : 0 || 7150/8498 || loss : 0.103, iou : 93.317 pixel_acc : 96.619\n"
          ]
        },
        {
          "output_type": "stream",
          "name": "stderr",
          "text": [
            "7202it [28:58,  5.77it/s]"
          ]
        },
        {
          "output_type": "stream",
          "name": "stdout",
          "text": [
            "Epoch : 0 || 7200/8498 || loss : 0.186, iou : 82.225 pixel_acc : 94.875\n"
          ]
        },
        {
          "output_type": "stream",
          "name": "stderr",
          "text": [
            "7252it [29:07,  7.40it/s]"
          ]
        },
        {
          "output_type": "stream",
          "name": "stdout",
          "text": [
            "Epoch : 0 || 7250/8498 || loss : 0.167, iou : 73.002 pixel_acc : 94.977\n"
          ]
        },
        {
          "output_type": "stream",
          "name": "stderr",
          "text": [
            "7302it [29:14,  7.01it/s]"
          ]
        },
        {
          "output_type": "stream",
          "name": "stdout",
          "text": [
            "Epoch : 0 || 7300/8498 || loss : 0.175, iou : 89.531 pixel_acc : 94.805\n"
          ]
        },
        {
          "output_type": "stream",
          "name": "stderr",
          "text": [
            "7352it [29:24,  6.88it/s]"
          ]
        },
        {
          "output_type": "stream",
          "name": "stdout",
          "text": [
            "Epoch : 0 || 7350/8498 || loss : 0.207, iou : 58.348 pixel_acc : 95.822\n"
          ]
        },
        {
          "output_type": "stream",
          "name": "stderr",
          "text": [
            "7402it [29:33,  4.99it/s]"
          ]
        },
        {
          "output_type": "stream",
          "name": "stdout",
          "text": [
            "Epoch : 0 || 7400/8498 || loss : 0.231, iou : 50.629 pixel_acc : 93.045\n"
          ]
        },
        {
          "output_type": "stream",
          "name": "stderr",
          "text": [
            "7452it [29:42,  5.14it/s]"
          ]
        },
        {
          "output_type": "stream",
          "name": "stdout",
          "text": [
            "Epoch : 0 || 7450/8498 || loss : 0.436, iou : 73.572 pixel_acc : 86.653\n"
          ]
        },
        {
          "output_type": "stream",
          "name": "stderr",
          "text": [
            "7502it [29:49,  6.92it/s]"
          ]
        },
        {
          "output_type": "stream",
          "name": "stdout",
          "text": [
            "Epoch : 0 || 7500/8498 || loss : 0.101, iou : 94.459 pixel_acc : 97.152\n"
          ]
        },
        {
          "output_type": "stream",
          "name": "stderr",
          "text": [
            "7552it [29:56,  7.06it/s]"
          ]
        },
        {
          "output_type": "stream",
          "name": "stdout",
          "text": [
            "Epoch : 0 || 7550/8498 || loss : 0.238, iou : 84.542 pixel_acc : 91.716\n"
          ]
        },
        {
          "output_type": "stream",
          "name": "stderr",
          "text": [
            "7602it [30:03,  6.85it/s]"
          ]
        },
        {
          "output_type": "stream",
          "name": "stdout",
          "text": [
            "Epoch : 0 || 7600/8498 || loss : 0.102, iou : 93.450 pixel_acc : 96.891\n"
          ]
        },
        {
          "output_type": "stream",
          "name": "stderr",
          "text": [
            "7652it [30:14,  6.02it/s]"
          ]
        },
        {
          "output_type": "stream",
          "name": "stdout",
          "text": [
            "Epoch : 0 || 7650/8498 || loss : 0.214, iou : 85.193 pixel_acc : 92.117\n"
          ]
        },
        {
          "output_type": "stream",
          "name": "stderr",
          "text": [
            "7702it [30:25,  2.72it/s]"
          ]
        },
        {
          "output_type": "stream",
          "name": "stdout",
          "text": [
            "Epoch : 0 || 7700/8498 || loss : 0.216, iou : 50.665 pixel_acc : 92.905\n"
          ]
        },
        {
          "output_type": "stream",
          "name": "stderr",
          "text": [
            "7752it [30:35,  7.17it/s]"
          ]
        },
        {
          "output_type": "stream",
          "name": "stdout",
          "text": [
            "Epoch : 0 || 7750/8498 || loss : 0.141, iou : 74.419 pixel_acc : 96.654\n"
          ]
        },
        {
          "output_type": "stream",
          "name": "stderr",
          "text": [
            "7802it [30:43,  7.07it/s]"
          ]
        },
        {
          "output_type": "stream",
          "name": "stdout",
          "text": [
            "Epoch : 0 || 7800/8498 || loss : 0.149, iou : 83.268 pixel_acc : 95.663\n"
          ]
        },
        {
          "output_type": "stream",
          "name": "stderr",
          "text": [
            "7852it [30:52,  7.34it/s]"
          ]
        },
        {
          "output_type": "stream",
          "name": "stdout",
          "text": [
            "Epoch : 0 || 7850/8498 || loss : 0.075, iou : 42.114 pixel_acc : 98.789\n"
          ]
        },
        {
          "output_type": "stream",
          "name": "stderr",
          "text": [
            "7902it [31:00,  7.20it/s]"
          ]
        },
        {
          "output_type": "stream",
          "name": "stdout",
          "text": [
            "Epoch : 0 || 7900/8498 || loss : 0.113, iou : 48.691 pixel_acc : 97.383\n"
          ]
        },
        {
          "output_type": "stream",
          "name": "stderr",
          "text": [
            "7952it [31:08,  3.46it/s]"
          ]
        },
        {
          "output_type": "stream",
          "name": "stdout",
          "text": [
            "Epoch : 0 || 7950/8498 || loss : 0.232, iou : 54.751 pixel_acc : 92.110\n"
          ]
        },
        {
          "output_type": "stream",
          "name": "stderr",
          "text": [
            "8002it [31:18,  6.83it/s]"
          ]
        },
        {
          "output_type": "stream",
          "name": "stdout",
          "text": [
            "Epoch : 0 || 8000/8498 || loss : 0.477, iou : 53.133 pixel_acc : 84.290\n"
          ]
        },
        {
          "output_type": "stream",
          "name": "stderr",
          "text": [
            "8052it [31:25,  6.87it/s]"
          ]
        },
        {
          "output_type": "stream",
          "name": "stdout",
          "text": [
            "Epoch : 0 || 8050/8498 || loss : 0.305, iou : 61.372 pixel_acc : 89.300\n"
          ]
        },
        {
          "output_type": "stream",
          "name": "stderr",
          "text": [
            "8102it [31:35,  7.32it/s]"
          ]
        },
        {
          "output_type": "stream",
          "name": "stdout",
          "text": [
            "Epoch : 0 || 8100/8498 || loss : 0.064, iou : 89.297 pixel_acc : 98.562\n"
          ]
        },
        {
          "output_type": "stream",
          "name": "stderr",
          "text": [
            "8152it [31:44,  7.05it/s]"
          ]
        },
        {
          "output_type": "stream",
          "name": "stdout",
          "text": [
            "Epoch : 0 || 8150/8498 || loss : 0.202, iou : 59.131 pixel_acc : 93.459\n"
          ]
        },
        {
          "output_type": "stream",
          "name": "stderr",
          "text": [
            "8201it [31:54,  7.08it/s]"
          ]
        },
        {
          "output_type": "stream",
          "name": "stdout",
          "text": [
            "Epoch : 0 || 8200/8498 || loss : 0.297, iou : 56.250 pixel_acc : 90.306\n"
          ]
        },
        {
          "output_type": "stream",
          "name": "stderr",
          "text": [
            "8252it [32:04,  7.18it/s]"
          ]
        },
        {
          "output_type": "stream",
          "name": "stdout",
          "text": [
            "Epoch : 0 || 8250/8498 || loss : 0.250, iou : 59.063 pixel_acc : 93.594\n"
          ]
        },
        {
          "output_type": "stream",
          "name": "stderr",
          "text": [
            "8302it [32:12,  6.96it/s]"
          ]
        },
        {
          "output_type": "stream",
          "name": "stdout",
          "text": [
            "Epoch : 0 || 8300/8498 || loss : 0.294, iou : 65.360 pixel_acc : 92.310\n"
          ]
        },
        {
          "output_type": "stream",
          "name": "stderr",
          "text": [
            "8352it [32:20,  7.16it/s]"
          ]
        },
        {
          "output_type": "stream",
          "name": "stdout",
          "text": [
            "Epoch : 0 || 8350/8498 || loss : 0.402, iou : 71.577 pixel_acc : 88.877\n"
          ]
        },
        {
          "output_type": "stream",
          "name": "stderr",
          "text": [
            "8401it [32:27,  6.78it/s]"
          ]
        },
        {
          "output_type": "stream",
          "name": "stdout",
          "text": [
            "Epoch : 0 || 8400/8498 || loss : 0.106, iou : 79.620 pixel_acc : 96.443\n"
          ]
        },
        {
          "output_type": "stream",
          "name": "stderr",
          "text": [
            "8452it [32:35,  6.97it/s]"
          ]
        },
        {
          "output_type": "stream",
          "name": "stdout",
          "text": [
            "Epoch : 0 || 8450/8498 || loss : 0.157, iou : 86.297 pixel_acc : 94.213\n"
          ]
        },
        {
          "output_type": "stream",
          "name": "stderr",
          "text": [
            "8498it [32:47,  4.32it/s]\n"
          ]
        },
        {
          "output_type": "stream",
          "name": "stdout",
          "text": [
            ">> Epoch : 0 || AVG loss : 0.264, iou : 68.604 pixel_acc : 92.327 1968.331 secs\n"
          ]
        },
        {
          "output_type": "stream",
          "name": "stderr",
          "text": [
            "2857it [05:54,  8.07it/s]\n"
          ]
        },
        {
          "output_type": "stream",
          "name": "stdout",
          "text": [
            ">> Epoch : 0 || AVG valid loss : 0.468, iou : 59.678 pixel_acc : 88.016 1968.331 secs\n"
          ]
        },
        {
          "output_type": "stream",
          "name": "stderr",
          "text": [
            "2it [00:00,  5.68it/s]"
          ]
        },
        {
          "output_type": "stream",
          "name": "stdout",
          "text": [
            "Epoch : 1 || 0/8498 || loss : 0.158, iou : 90.126 pixel_acc : 94.923\n"
          ]
        },
        {
          "output_type": "stream",
          "name": "stderr",
          "text": [
            "52it [00:07,  6.78it/s]"
          ]
        },
        {
          "output_type": "stream",
          "name": "stdout",
          "text": [
            "Epoch : 1 || 50/8498 || loss : 0.096, iou : 85.595 pixel_acc : 96.497\n"
          ]
        },
        {
          "output_type": "stream",
          "name": "stderr",
          "text": [
            "102it [00:16,  5.57it/s]"
          ]
        },
        {
          "output_type": "stream",
          "name": "stdout",
          "text": [
            "Epoch : 1 || 100/8498 || loss : 0.148, iou : 59.353 pixel_acc : 94.395\n"
          ]
        },
        {
          "output_type": "stream",
          "name": "stderr",
          "text": [
            "152it [00:24,  6.99it/s]"
          ]
        },
        {
          "output_type": "stream",
          "name": "stdout",
          "text": [
            "Epoch : 1 || 150/8498 || loss : 0.179, iou : 88.829 pixel_acc : 94.086\n"
          ]
        },
        {
          "output_type": "stream",
          "name": "stderr",
          "text": [
            "202it [00:31,  6.92it/s]"
          ]
        },
        {
          "output_type": "stream",
          "name": "stdout",
          "text": [
            "Epoch : 1 || 200/8498 || loss : 0.103, iou : 82.820 pixel_acc : 96.739\n"
          ]
        },
        {
          "output_type": "stream",
          "name": "stderr",
          "text": [
            "252it [00:38,  6.77it/s]"
          ]
        },
        {
          "output_type": "stream",
          "name": "stdout",
          "text": [
            "Epoch : 1 || 250/8498 || loss : 0.110, iou : 48.090 pixel_acc : 95.599\n"
          ]
        },
        {
          "output_type": "stream",
          "name": "stderr",
          "text": [
            "302it [00:45,  7.49it/s]"
          ]
        },
        {
          "output_type": "stream",
          "name": "stdout",
          "text": [
            "Epoch : 1 || 300/8498 || loss : 0.117, iou : 75.024 pixel_acc : 95.811\n"
          ]
        },
        {
          "output_type": "stream",
          "name": "stderr",
          "text": [
            "352it [00:52,  6.88it/s]"
          ]
        },
        {
          "output_type": "stream",
          "name": "stdout",
          "text": [
            "Epoch : 1 || 350/8498 || loss : 0.195, iou : 82.248 pixel_acc : 95.809\n"
          ]
        },
        {
          "output_type": "stream",
          "name": "stderr",
          "text": [
            "402it [00:59,  7.76it/s]"
          ]
        },
        {
          "output_type": "stream",
          "name": "stdout",
          "text": [
            "Epoch : 1 || 400/8498 || loss : 0.124, iou : 36.706 pixel_acc : 96.024\n"
          ]
        },
        {
          "output_type": "stream",
          "name": "stderr",
          "text": [
            "452it [01:06,  7.29it/s]"
          ]
        },
        {
          "output_type": "stream",
          "name": "stdout",
          "text": [
            "Epoch : 1 || 450/8498 || loss : 0.350, iou : 71.008 pixel_acc : 88.583\n"
          ]
        },
        {
          "output_type": "stream",
          "name": "stderr",
          "text": [
            "502it [01:13,  7.91it/s]"
          ]
        },
        {
          "output_type": "stream",
          "name": "stdout",
          "text": [
            "Epoch : 1 || 500/8498 || loss : 0.095, iou : 73.053 pixel_acc : 96.162\n"
          ]
        },
        {
          "output_type": "stream",
          "name": "stderr",
          "text": [
            "552it [01:20,  6.93it/s]"
          ]
        },
        {
          "output_type": "stream",
          "name": "stdout",
          "text": [
            "Epoch : 1 || 550/8498 || loss : 0.203, iou : 87.334 pixel_acc : 94.066\n"
          ]
        },
        {
          "output_type": "stream",
          "name": "stderr",
          "text": [
            "602it [01:27,  7.26it/s]"
          ]
        },
        {
          "output_type": "stream",
          "name": "stdout",
          "text": [
            "Epoch : 1 || 600/8498 || loss : 0.070, iou : 66.644 pixel_acc : 98.279\n"
          ]
        },
        {
          "output_type": "stream",
          "name": "stderr",
          "text": [
            "652it [01:34,  7.16it/s]"
          ]
        },
        {
          "output_type": "stream",
          "name": "stdout",
          "text": [
            "Epoch : 1 || 650/8498 || loss : 0.379, iou : 45.882 pixel_acc : 88.812\n"
          ]
        },
        {
          "output_type": "stream",
          "name": "stderr",
          "text": [
            "702it [01:41,  6.97it/s]"
          ]
        },
        {
          "output_type": "stream",
          "name": "stdout",
          "text": [
            "Epoch : 1 || 700/8498 || loss : 0.202, iou : 78.180 pixel_acc : 94.457\n"
          ]
        },
        {
          "output_type": "stream",
          "name": "stderr",
          "text": [
            "752it [01:48,  7.21it/s]"
          ]
        },
        {
          "output_type": "stream",
          "name": "stdout",
          "text": [
            "Epoch : 1 || 750/8498 || loss : 0.058, iou : 93.442 pixel_acc : 98.308\n"
          ]
        },
        {
          "output_type": "stream",
          "name": "stderr",
          "text": [
            "802it [01:55,  7.10it/s]"
          ]
        },
        {
          "output_type": "stream",
          "name": "stdout",
          "text": [
            "Epoch : 1 || 800/8498 || loss : 0.339, iou : 77.672 pixel_acc : 87.487\n"
          ]
        },
        {
          "output_type": "stream",
          "name": "stderr",
          "text": [
            "852it [02:02,  6.86it/s]"
          ]
        },
        {
          "output_type": "stream",
          "name": "stdout",
          "text": [
            "Epoch : 1 || 850/8498 || loss : 0.294, iou : 77.089 pixel_acc : 90.090\n"
          ]
        },
        {
          "output_type": "stream",
          "name": "stderr",
          "text": [
            "902it [02:09,  7.28it/s]"
          ]
        },
        {
          "output_type": "stream",
          "name": "stdout",
          "text": [
            "Epoch : 1 || 900/8498 || loss : 0.297, iou : 56.786 pixel_acc : 92.104\n"
          ]
        },
        {
          "output_type": "stream",
          "name": "stderr",
          "text": [
            "951it [02:16,  7.15it/s]"
          ]
        },
        {
          "output_type": "stream",
          "name": "stdout",
          "text": [
            "Epoch : 1 || 950/8498 || loss : 0.187, iou : 59.880 pixel_acc : 94.500\n"
          ]
        },
        {
          "output_type": "stream",
          "name": "stderr",
          "text": [
            "1002it [02:23,  6.94it/s]"
          ]
        },
        {
          "output_type": "stream",
          "name": "stdout",
          "text": [
            "Epoch : 1 || 1000/8498 || loss : 0.435, iou : 37.230 pixel_acc : 85.465\n"
          ]
        },
        {
          "output_type": "stream",
          "name": "stderr",
          "text": [
            "1052it [02:30,  7.41it/s]"
          ]
        },
        {
          "output_type": "stream",
          "name": "stdout",
          "text": [
            "Epoch : 1 || 1050/8498 || loss : 0.510, iou : 66.273 pixel_acc : 83.217\n"
          ]
        },
        {
          "output_type": "stream",
          "name": "stderr",
          "text": [
            "1102it [02:37,  7.57it/s]"
          ]
        },
        {
          "output_type": "stream",
          "name": "stdout",
          "text": [
            "Epoch : 1 || 1100/8498 || loss : 0.075, iou : 94.556 pixel_acc : 97.846\n"
          ]
        },
        {
          "output_type": "stream",
          "name": "stderr",
          "text": [
            "1152it [02:44,  6.97it/s]"
          ]
        },
        {
          "output_type": "stream",
          "name": "stdout",
          "text": [
            "Epoch : 1 || 1150/8498 || loss : 0.116, iou : 91.539 pixel_acc : 95.749\n"
          ]
        },
        {
          "output_type": "stream",
          "name": "stderr",
          "text": [
            "1202it [02:51,  7.25it/s]"
          ]
        },
        {
          "output_type": "stream",
          "name": "stdout",
          "text": [
            "Epoch : 1 || 1200/8498 || loss : 0.190, iou : 85.085 pixel_acc : 93.084\n"
          ]
        },
        {
          "output_type": "stream",
          "name": "stderr",
          "text": [
            "1252it [02:58,  6.98it/s]"
          ]
        },
        {
          "output_type": "stream",
          "name": "stdout",
          "text": [
            "Epoch : 1 || 1250/8498 || loss : 0.138, iou : 48.894 pixel_acc : 95.570\n"
          ]
        },
        {
          "output_type": "stream",
          "name": "stderr",
          "text": [
            "1302it [03:05,  7.03it/s]"
          ]
        },
        {
          "output_type": "stream",
          "name": "stdout",
          "text": [
            "Epoch : 1 || 1300/8498 || loss : 0.230, iou : 88.702 pixel_acc : 94.045\n"
          ]
        },
        {
          "output_type": "stream",
          "name": "stderr",
          "text": [
            "1352it [03:12,  7.21it/s]"
          ]
        },
        {
          "output_type": "stream",
          "name": "stdout",
          "text": [
            "Epoch : 1 || 1350/8498 || loss : 0.099, iou : 84.491 pixel_acc : 96.452\n"
          ]
        },
        {
          "output_type": "stream",
          "name": "stderr",
          "text": [
            "1402it [03:19,  7.37it/s]"
          ]
        },
        {
          "output_type": "stream",
          "name": "stdout",
          "text": [
            "Epoch : 1 || 1400/8498 || loss : 0.028, iou : 93.856 pixel_acc : 99.295\n"
          ]
        },
        {
          "output_type": "stream",
          "name": "stderr",
          "text": [
            "1452it [03:26,  7.05it/s]"
          ]
        },
        {
          "output_type": "stream",
          "name": "stdout",
          "text": [
            "Epoch : 1 || 1450/8498 || loss : 0.294, iou : 57.753 pixel_acc : 93.525\n"
          ]
        },
        {
          "output_type": "stream",
          "name": "stderr",
          "text": [
            "1502it [03:33,  6.84it/s]"
          ]
        },
        {
          "output_type": "stream",
          "name": "stdout",
          "text": [
            "Epoch : 1 || 1500/8498 || loss : 0.287, iou : 79.539 pixel_acc : 90.685\n"
          ]
        },
        {
          "output_type": "stream",
          "name": "stderr",
          "text": [
            "1552it [03:39,  7.34it/s]"
          ]
        },
        {
          "output_type": "stream",
          "name": "stdout",
          "text": [
            "Epoch : 1 || 1550/8498 || loss : 0.123, iou : 92.771 pixel_acc : 96.296\n"
          ]
        },
        {
          "output_type": "stream",
          "name": "stderr",
          "text": [
            "1602it [03:46,  7.08it/s]"
          ]
        },
        {
          "output_type": "stream",
          "name": "stdout",
          "text": [
            "Epoch : 1 || 1600/8498 || loss : 0.061, iou : 93.427 pixel_acc : 98.217\n"
          ]
        },
        {
          "output_type": "stream",
          "name": "stderr",
          "text": [
            "1652it [03:54,  7.06it/s]"
          ]
        },
        {
          "output_type": "stream",
          "name": "stdout",
          "text": [
            "Epoch : 1 || 1650/8498 || loss : 0.033, iou : 76.212 pixel_acc : 99.509\n"
          ]
        },
        {
          "output_type": "stream",
          "name": "stderr",
          "text": [
            "1702it [04:00,  7.27it/s]"
          ]
        },
        {
          "output_type": "stream",
          "name": "stdout",
          "text": [
            "Epoch : 1 || 1700/8498 || loss : 0.140, iou : 86.576 pixel_acc : 96.301\n"
          ]
        },
        {
          "output_type": "stream",
          "name": "stderr",
          "text": [
            "1752it [04:07,  7.10it/s]"
          ]
        },
        {
          "output_type": "stream",
          "name": "stdout",
          "text": [
            "Epoch : 1 || 1750/8498 || loss : 0.080, iou : 89.080 pixel_acc : 96.787\n"
          ]
        },
        {
          "output_type": "stream",
          "name": "stderr",
          "text": [
            "1802it [04:14,  7.21it/s]"
          ]
        },
        {
          "output_type": "stream",
          "name": "stdout",
          "text": [
            "Epoch : 1 || 1800/8498 || loss : 0.081, iou : 55.113 pixel_acc : 96.469\n"
          ]
        },
        {
          "output_type": "stream",
          "name": "stderr",
          "text": [
            "1852it [04:21,  7.32it/s]"
          ]
        },
        {
          "output_type": "stream",
          "name": "stdout",
          "text": [
            "Epoch : 1 || 1850/8498 || loss : 0.168, iou : 82.595 pixel_acc : 94.379\n"
          ]
        },
        {
          "output_type": "stream",
          "name": "stderr",
          "text": [
            "1902it [04:28,  6.99it/s]"
          ]
        },
        {
          "output_type": "stream",
          "name": "stdout",
          "text": [
            "Epoch : 1 || 1900/8498 || loss : 0.237, iou : 58.676 pixel_acc : 93.190\n"
          ]
        },
        {
          "output_type": "stream",
          "name": "stderr",
          "text": [
            "1952it [04:35,  6.79it/s]"
          ]
        },
        {
          "output_type": "stream",
          "name": "stdout",
          "text": [
            "Epoch : 1 || 1950/8498 || loss : 0.201, iou : 70.841 pixel_acc : 92.446\n"
          ]
        },
        {
          "output_type": "stream",
          "name": "stderr",
          "text": [
            "2002it [04:42,  7.23it/s]"
          ]
        },
        {
          "output_type": "stream",
          "name": "stdout",
          "text": [
            "Epoch : 1 || 2000/8498 || loss : 0.091, iou : 44.400 pixel_acc : 97.998\n"
          ]
        },
        {
          "output_type": "stream",
          "name": "stderr",
          "text": [
            "2052it [04:49,  7.28it/s]"
          ]
        },
        {
          "output_type": "stream",
          "name": "stdout",
          "text": [
            "Epoch : 1 || 2050/8498 || loss : 0.257, iou : 73.966 pixel_acc : 88.658\n"
          ]
        },
        {
          "output_type": "stream",
          "name": "stderr",
          "text": [
            "2102it [04:56,  6.96it/s]"
          ]
        },
        {
          "output_type": "stream",
          "name": "stdout",
          "text": [
            "Epoch : 1 || 2100/8498 || loss : 0.124, iou : 87.844 pixel_acc : 96.138\n"
          ]
        },
        {
          "output_type": "stream",
          "name": "stderr",
          "text": [
            "2152it [05:03,  7.35it/s]"
          ]
        },
        {
          "output_type": "stream",
          "name": "stdout",
          "text": [
            "Epoch : 1 || 2150/8498 || loss : 0.121, iou : 61.398 pixel_acc : 95.648\n"
          ]
        },
        {
          "output_type": "stream",
          "name": "stderr",
          "text": [
            "2202it [05:10,  7.06it/s]"
          ]
        },
        {
          "output_type": "stream",
          "name": "stdout",
          "text": [
            "Epoch : 1 || 2200/8498 || loss : 0.338, iou : 80.848 pixel_acc : 89.250\n"
          ]
        },
        {
          "output_type": "stream",
          "name": "stderr",
          "text": [
            "2252it [05:17,  6.85it/s]"
          ]
        },
        {
          "output_type": "stream",
          "name": "stdout",
          "text": [
            "Epoch : 1 || 2250/8498 || loss : 0.087, iou : 57.684 pixel_acc : 97.412\n"
          ]
        },
        {
          "output_type": "stream",
          "name": "stderr",
          "text": [
            "2302it [05:24,  7.27it/s]"
          ]
        },
        {
          "output_type": "stream",
          "name": "stdout",
          "text": [
            "Epoch : 1 || 2300/8498 || loss : 0.109, iou : 89.019 pixel_acc : 95.942\n"
          ]
        },
        {
          "output_type": "stream",
          "name": "stderr",
          "text": [
            "2352it [05:31,  7.10it/s]"
          ]
        },
        {
          "output_type": "stream",
          "name": "stdout",
          "text": [
            "Epoch : 1 || 2350/8498 || loss : 0.130, iou : 83.136 pixel_acc : 94.337\n"
          ]
        },
        {
          "output_type": "stream",
          "name": "stderr",
          "text": [
            "2402it [05:38,  7.31it/s]"
          ]
        },
        {
          "output_type": "stream",
          "name": "stdout",
          "text": [
            "Epoch : 1 || 2400/8498 || loss : 0.321, iou : 75.445 pixel_acc : 86.898\n"
          ]
        },
        {
          "output_type": "stream",
          "name": "stderr",
          "text": [
            "2452it [05:45,  7.34it/s]"
          ]
        },
        {
          "output_type": "stream",
          "name": "stdout",
          "text": [
            "Epoch : 1 || 2450/8498 || loss : 0.629, iou : 56.271 pixel_acc : 82.599\n"
          ]
        },
        {
          "output_type": "stream",
          "name": "stderr",
          "text": [
            "2502it [05:52,  7.73it/s]"
          ]
        },
        {
          "output_type": "stream",
          "name": "stdout",
          "text": [
            "Epoch : 1 || 2500/8498 || loss : 0.125, iou : 87.159 pixel_acc : 95.676\n"
          ]
        },
        {
          "output_type": "stream",
          "name": "stderr",
          "text": [
            "2552it [05:59,  7.00it/s]"
          ]
        },
        {
          "output_type": "stream",
          "name": "stdout",
          "text": [
            "Epoch : 1 || 2550/8498 || loss : 0.197, iou : 92.779 pixel_acc : 96.519\n"
          ]
        },
        {
          "output_type": "stream",
          "name": "stderr",
          "text": [
            "2602it [06:06,  7.19it/s]"
          ]
        },
        {
          "output_type": "stream",
          "name": "stdout",
          "text": [
            "Epoch : 1 || 2600/8498 || loss : 0.261, iou : 82.950 pixel_acc : 90.977\n"
          ]
        },
        {
          "output_type": "stream",
          "name": "stderr",
          "text": [
            "2652it [06:13,  8.05it/s]"
          ]
        },
        {
          "output_type": "stream",
          "name": "stdout",
          "text": [
            "Epoch : 1 || 2650/8498 || loss : 0.367, iou : 58.548 pixel_acc : 86.766\n"
          ]
        },
        {
          "output_type": "stream",
          "name": "stderr",
          "text": [
            "2702it [06:20,  6.95it/s]"
          ]
        },
        {
          "output_type": "stream",
          "name": "stdout",
          "text": [
            "Epoch : 1 || 2700/8498 || loss : 0.157, iou : 59.814 pixel_acc : 95.066\n"
          ]
        },
        {
          "output_type": "stream",
          "name": "stderr",
          "text": [
            "2752it [06:27,  7.35it/s]"
          ]
        },
        {
          "output_type": "stream",
          "name": "stdout",
          "text": [
            "Epoch : 1 || 2750/8498 || loss : 0.529, iou : 74.168 pixel_acc : 85.969\n"
          ]
        },
        {
          "output_type": "stream",
          "name": "stderr",
          "text": [
            "2802it [06:33,  7.96it/s]"
          ]
        },
        {
          "output_type": "stream",
          "name": "stdout",
          "text": [
            "Epoch : 1 || 2800/8498 || loss : 0.118, iou : 64.829 pixel_acc : 95.394\n"
          ]
        },
        {
          "output_type": "stream",
          "name": "stderr",
          "text": [
            "2852it [06:40,  6.85it/s]"
          ]
        },
        {
          "output_type": "stream",
          "name": "stdout",
          "text": [
            "Epoch : 1 || 2850/8498 || loss : 0.462, iou : 63.619 pixel_acc : 80.904\n"
          ]
        },
        {
          "output_type": "stream",
          "name": "stderr",
          "text": [
            "2902it [06:48,  7.22it/s]"
          ]
        },
        {
          "output_type": "stream",
          "name": "stdout",
          "text": [
            "Epoch : 1 || 2900/8498 || loss : 0.346, iou : 54.790 pixel_acc : 89.849\n"
          ]
        },
        {
          "output_type": "stream",
          "name": "stderr",
          "text": [
            "2952it [06:54,  7.22it/s]"
          ]
        },
        {
          "output_type": "stream",
          "name": "stdout",
          "text": [
            "Epoch : 1 || 2950/8498 || loss : 0.416, iou : 76.886 pixel_acc : 88.019\n"
          ]
        },
        {
          "output_type": "stream",
          "name": "stderr",
          "text": [
            "3002it [07:01,  6.94it/s]"
          ]
        },
        {
          "output_type": "stream",
          "name": "stdout",
          "text": [
            "Epoch : 1 || 3000/8498 || loss : 0.330, iou : 79.725 pixel_acc : 89.196\n"
          ]
        },
        {
          "output_type": "stream",
          "name": "stderr",
          "text": [
            "3052it [07:09,  7.42it/s]"
          ]
        },
        {
          "output_type": "stream",
          "name": "stdout",
          "text": [
            "Epoch : 1 || 3050/8498 || loss : 0.459, iou : 42.508 pixel_acc : 83.562\n"
          ]
        },
        {
          "output_type": "stream",
          "name": "stderr",
          "text": [
            "3103it [07:15,  8.37it/s]"
          ]
        },
        {
          "output_type": "stream",
          "name": "stdout",
          "text": [
            "Epoch : 1 || 3100/8498 || loss : 0.121, iou : 89.027 pixel_acc : 96.770\n"
          ]
        },
        {
          "output_type": "stream",
          "name": "stderr",
          "text": [
            "3152it [07:22,  7.23it/s]"
          ]
        },
        {
          "output_type": "stream",
          "name": "stdout",
          "text": [
            "Epoch : 1 || 3150/8498 || loss : 0.149, iou : 92.989 pixel_acc : 97.234\n"
          ]
        },
        {
          "output_type": "stream",
          "name": "stderr",
          "text": [
            "3202it [07:29,  7.13it/s]"
          ]
        },
        {
          "output_type": "stream",
          "name": "stdout",
          "text": [
            "Epoch : 1 || 3200/8498 || loss : 0.180, iou : 85.862 pixel_acc : 93.051\n"
          ]
        },
        {
          "output_type": "stream",
          "name": "stderr",
          "text": [
            "3252it [07:36,  7.30it/s]"
          ]
        },
        {
          "output_type": "stream",
          "name": "stdout",
          "text": [
            "Epoch : 1 || 3250/8498 || loss : 0.154, iou : 67.715 pixel_acc : 94.055\n"
          ]
        },
        {
          "output_type": "stream",
          "name": "stderr",
          "text": [
            "3302it [07:43,  7.02it/s]"
          ]
        },
        {
          "output_type": "stream",
          "name": "stdout",
          "text": [
            "Epoch : 1 || 3300/8498 || loss : 0.272, iou : 66.192 pixel_acc : 88.881\n"
          ]
        },
        {
          "output_type": "stream",
          "name": "stderr",
          "text": [
            "3351it [07:50,  6.98it/s]"
          ]
        },
        {
          "output_type": "stream",
          "name": "stdout",
          "text": [
            "Epoch : 1 || 3350/8498 || loss : 0.528, iou : 31.113 pixel_acc : 83.270\n"
          ]
        },
        {
          "output_type": "stream",
          "name": "stderr",
          "text": [
            "3402it [07:57,  7.32it/s]"
          ]
        },
        {
          "output_type": "stream",
          "name": "stdout",
          "text": [
            "Epoch : 1 || 3400/8498 || loss : 0.116, iou : 91.889 pixel_acc : 95.808\n"
          ]
        },
        {
          "output_type": "stream",
          "name": "stderr",
          "text": [
            "3452it [08:04,  6.96it/s]"
          ]
        },
        {
          "output_type": "stream",
          "name": "stdout",
          "text": [
            "Epoch : 1 || 3450/8498 || loss : 0.044, iou : 86.103 pixel_acc : 98.815\n"
          ]
        },
        {
          "output_type": "stream",
          "name": "stderr",
          "text": [
            "3502it [08:11,  6.83it/s]"
          ]
        },
        {
          "output_type": "stream",
          "name": "stdout",
          "text": [
            "Epoch : 1 || 3500/8498 || loss : 0.290, iou : 56.504 pixel_acc : 90.621\n"
          ]
        },
        {
          "output_type": "stream",
          "name": "stderr",
          "text": [
            "3552it [08:18,  7.34it/s]"
          ]
        },
        {
          "output_type": "stream",
          "name": "stdout",
          "text": [
            "Epoch : 1 || 3550/8498 || loss : 0.112, iou : 84.897 pixel_acc : 96.349\n"
          ]
        },
        {
          "output_type": "stream",
          "name": "stderr",
          "text": [
            "3602it [08:25,  6.90it/s]"
          ]
        },
        {
          "output_type": "stream",
          "name": "stdout",
          "text": [
            "Epoch : 1 || 3600/8498 || loss : 0.633, iou : 50.832 pixel_acc : 79.748\n"
          ]
        },
        {
          "output_type": "stream",
          "name": "stderr",
          "text": [
            "3652it [08:32,  6.74it/s]"
          ]
        },
        {
          "output_type": "stream",
          "name": "stdout",
          "text": [
            "Epoch : 1 || 3650/8498 || loss : 0.254, iou : 84.163 pixel_acc : 91.743\n"
          ]
        },
        {
          "output_type": "stream",
          "name": "stderr",
          "text": [
            "3702it [08:39,  7.33it/s]"
          ]
        },
        {
          "output_type": "stream",
          "name": "stdout",
          "text": [
            "Epoch : 1 || 3700/8498 || loss : 0.263, iou : 60.728 pixel_acc : 93.267\n"
          ]
        },
        {
          "output_type": "stream",
          "name": "stderr",
          "text": [
            "3752it [08:46,  7.19it/s]"
          ]
        },
        {
          "output_type": "stream",
          "name": "stdout",
          "text": [
            "Epoch : 1 || 3750/8498 || loss : 0.163, iou : 73.146 pixel_acc : 94.214\n"
          ]
        },
        {
          "output_type": "stream",
          "name": "stderr",
          "text": [
            "3802it [08:53,  6.87it/s]"
          ]
        },
        {
          "output_type": "stream",
          "name": "stdout",
          "text": [
            "Epoch : 1 || 3800/8498 || loss : 0.096, iou : 90.669 pixel_acc : 96.928\n"
          ]
        },
        {
          "output_type": "stream",
          "name": "stderr",
          "text": [
            "3852it [09:00,  7.28it/s]"
          ]
        },
        {
          "output_type": "stream",
          "name": "stdout",
          "text": [
            "Epoch : 1 || 3850/8498 || loss : 0.357, iou : 48.246 pixel_acc : 91.098\n"
          ]
        },
        {
          "output_type": "stream",
          "name": "stderr",
          "text": [
            "3902it [09:07,  6.98it/s]"
          ]
        },
        {
          "output_type": "stream",
          "name": "stdout",
          "text": [
            "Epoch : 1 || 3900/8498 || loss : 0.545, iou : 40.711 pixel_acc : 82.725\n"
          ]
        },
        {
          "output_type": "stream",
          "name": "stderr",
          "text": [
            "3952it [09:14,  6.88it/s]"
          ]
        },
        {
          "output_type": "stream",
          "name": "stdout",
          "text": [
            "Epoch : 1 || 3950/8498 || loss : 0.125, iou : 73.368 pixel_acc : 96.367\n"
          ]
        },
        {
          "output_type": "stream",
          "name": "stderr",
          "text": [
            "4002it [09:21,  7.43it/s]"
          ]
        },
        {
          "output_type": "stream",
          "name": "stdout",
          "text": [
            "Epoch : 1 || 4000/8498 || loss : 0.184, iou : 89.998 pixel_acc : 95.465\n"
          ]
        },
        {
          "output_type": "stream",
          "name": "stderr",
          "text": [
            "4052it [09:28,  7.23it/s]"
          ]
        },
        {
          "output_type": "stream",
          "name": "stdout",
          "text": [
            "Epoch : 1 || 4050/8498 || loss : 0.143, iou : 88.203 pixel_acc : 94.721\n"
          ]
        },
        {
          "output_type": "stream",
          "name": "stderr",
          "text": [
            "4102it [09:35,  6.88it/s]"
          ]
        },
        {
          "output_type": "stream",
          "name": "stdout",
          "text": [
            "Epoch : 1 || 4100/8498 || loss : 0.097, iou : 89.057 pixel_acc : 98.732\n"
          ]
        },
        {
          "output_type": "stream",
          "name": "stderr",
          "text": [
            "4152it [09:42,  7.28it/s]"
          ]
        },
        {
          "output_type": "stream",
          "name": "stdout",
          "text": [
            "Epoch : 1 || 4150/8498 || loss : 0.071, iou : 62.474 pixel_acc : 97.754\n"
          ]
        },
        {
          "output_type": "stream",
          "name": "stderr",
          "text": [
            "4202it [09:48,  7.24it/s]"
          ]
        },
        {
          "output_type": "stream",
          "name": "stdout",
          "text": [
            "Epoch : 1 || 4200/8498 || loss : 0.170, iou : 75.448 pixel_acc : 95.619\n"
          ]
        },
        {
          "output_type": "stream",
          "name": "stderr",
          "text": [
            "4252it [09:56,  6.67it/s]"
          ]
        },
        {
          "output_type": "stream",
          "name": "stdout",
          "text": [
            "Epoch : 1 || 4250/8498 || loss : 0.336, iou : 69.130 pixel_acc : 89.171\n"
          ]
        },
        {
          "output_type": "stream",
          "name": "stderr",
          "text": [
            "4301it [10:03,  7.30it/s]"
          ]
        },
        {
          "output_type": "stream",
          "name": "stdout",
          "text": [
            "Epoch : 1 || 4300/8498 || loss : 0.059, iou : 81.158 pixel_acc : 98.818\n"
          ]
        },
        {
          "output_type": "stream",
          "name": "stderr",
          "text": [
            "4352it [10:09,  7.28it/s]"
          ]
        },
        {
          "output_type": "stream",
          "name": "stdout",
          "text": [
            "Epoch : 1 || 4350/8498 || loss : 0.349, iou : 59.210 pixel_acc : 90.581\n"
          ]
        },
        {
          "output_type": "stream",
          "name": "stderr",
          "text": [
            "4402it [10:17,  6.90it/s]"
          ]
        },
        {
          "output_type": "stream",
          "name": "stdout",
          "text": [
            "Epoch : 1 || 4400/8498 || loss : 0.153, iou : 71.809 pixel_acc : 93.519\n"
          ]
        },
        {
          "output_type": "stream",
          "name": "stderr",
          "text": [
            "4451it [10:23,  7.39it/s]"
          ]
        },
        {
          "output_type": "stream",
          "name": "stdout",
          "text": [
            "Epoch : 1 || 4450/8498 || loss : 0.377, iou : 57.743 pixel_acc : 88.861\n"
          ]
        },
        {
          "output_type": "stream",
          "name": "stderr",
          "text": [
            "4502it [10:30,  7.21it/s]"
          ]
        },
        {
          "output_type": "stream",
          "name": "stdout",
          "text": [
            "Epoch : 1 || 4500/8498 || loss : 0.077, iou : 80.383 pixel_acc : 97.132\n"
          ]
        },
        {
          "output_type": "stream",
          "name": "stderr",
          "text": [
            "4552it [10:37,  6.99it/s]"
          ]
        },
        {
          "output_type": "stream",
          "name": "stdout",
          "text": [
            "Epoch : 1 || 4550/8498 || loss : 0.110, iou : 91.509 pixel_acc : 96.036\n"
          ]
        },
        {
          "output_type": "stream",
          "name": "stderr",
          "text": [
            "4602it [10:44,  7.00it/s]"
          ]
        },
        {
          "output_type": "stream",
          "name": "stdout",
          "text": [
            "Epoch : 1 || 4600/8498 || loss : 0.252, iou : 80.576 pixel_acc : 92.046\n"
          ]
        },
        {
          "output_type": "stream",
          "name": "stderr",
          "text": [
            "4652it [10:51,  7.21it/s]"
          ]
        },
        {
          "output_type": "stream",
          "name": "stdout",
          "text": [
            "Epoch : 1 || 4650/8498 || loss : 0.227, iou : 50.859 pixel_acc : 93.450\n"
          ]
        },
        {
          "output_type": "stream",
          "name": "stderr",
          "text": [
            "4702it [10:58,  7.05it/s]"
          ]
        },
        {
          "output_type": "stream",
          "name": "stdout",
          "text": [
            "Epoch : 1 || 4700/8498 || loss : 0.113, iou : 92.530 pixel_acc : 96.863\n"
          ]
        },
        {
          "output_type": "stream",
          "name": "stderr",
          "text": [
            "4752it [11:06,  6.71it/s]"
          ]
        },
        {
          "output_type": "stream",
          "name": "stdout",
          "text": [
            "Epoch : 1 || 4750/8498 || loss : 0.188, iou : 90.303 pixel_acc : 94.904\n"
          ]
        },
        {
          "output_type": "stream",
          "name": "stderr",
          "text": [
            "4802it [11:12,  7.43it/s]"
          ]
        },
        {
          "output_type": "stream",
          "name": "stdout",
          "text": [
            "Epoch : 1 || 4800/8498 || loss : 0.051, iou : 92.500 pixel_acc : 98.243\n"
          ]
        },
        {
          "output_type": "stream",
          "name": "stderr",
          "text": [
            "4852it [11:19,  7.27it/s]"
          ]
        },
        {
          "output_type": "stream",
          "name": "stdout",
          "text": [
            "Epoch : 1 || 4850/8498 || loss : 0.239, iou : 84.957 pixel_acc : 92.669\n"
          ]
        },
        {
          "output_type": "stream",
          "name": "stderr",
          "text": [
            "4902it [11:26,  6.88it/s]"
          ]
        },
        {
          "output_type": "stream",
          "name": "stdout",
          "text": [
            "Epoch : 1 || 4900/8498 || loss : 0.033, iou : 49.889 pixel_acc : 99.002\n"
          ]
        },
        {
          "output_type": "stream",
          "name": "stderr",
          "text": [
            "4952it [11:33,  7.31it/s]"
          ]
        },
        {
          "output_type": "stream",
          "name": "stdout",
          "text": [
            "Epoch : 1 || 4950/8498 || loss : 0.104, iou : 93.491 pixel_acc : 96.645\n"
          ]
        },
        {
          "output_type": "stream",
          "name": "stderr",
          "text": [
            "5002it [11:40,  6.95it/s]"
          ]
        },
        {
          "output_type": "stream",
          "name": "stdout",
          "text": [
            "Epoch : 1 || 5000/8498 || loss : 0.152, iou : 90.288 pixel_acc : 94.987\n"
          ]
        },
        {
          "output_type": "stream",
          "name": "stderr",
          "text": [
            "5052it [11:47,  7.01it/s]"
          ]
        },
        {
          "output_type": "stream",
          "name": "stdout",
          "text": [
            "Epoch : 1 || 5050/8498 || loss : 0.121, iou : 93.211 pixel_acc : 96.506\n"
          ]
        },
        {
          "output_type": "stream",
          "name": "stderr",
          "text": [
            "5102it [11:54,  7.22it/s]"
          ]
        },
        {
          "output_type": "stream",
          "name": "stdout",
          "text": [
            "Epoch : 1 || 5100/8498 || loss : 0.112, iou : 93.517 pixel_acc : 96.713\n"
          ]
        },
        {
          "output_type": "stream",
          "name": "stderr",
          "text": [
            "5152it [12:01,  7.02it/s]"
          ]
        },
        {
          "output_type": "stream",
          "name": "stdout",
          "text": [
            "Epoch : 1 || 5150/8498 || loss : 0.379, iou : 48.106 pixel_acc : 85.540\n"
          ]
        },
        {
          "output_type": "stream",
          "name": "stderr",
          "text": [
            "5202it [12:08,  6.70it/s]"
          ]
        },
        {
          "output_type": "stream",
          "name": "stdout",
          "text": [
            "Epoch : 1 || 5200/8498 || loss : 0.278, iou : 51.825 pixel_acc : 90.584\n"
          ]
        },
        {
          "output_type": "stream",
          "name": "stderr",
          "text": [
            "5252it [12:15,  7.27it/s]"
          ]
        },
        {
          "output_type": "stream",
          "name": "stdout",
          "text": [
            "Epoch : 1 || 5250/8498 || loss : 0.121, iou : 91.048 pixel_acc : 96.178\n"
          ]
        },
        {
          "output_type": "stream",
          "name": "stderr",
          "text": [
            "5302it [12:22,  7.32it/s]"
          ]
        },
        {
          "output_type": "stream",
          "name": "stdout",
          "text": [
            "Epoch : 1 || 5300/8498 || loss : 0.075, iou : 94.812 pixel_acc : 98.859\n"
          ]
        },
        {
          "output_type": "stream",
          "name": "stderr",
          "text": [
            "5352it [12:29,  6.69it/s]"
          ]
        },
        {
          "output_type": "stream",
          "name": "stdout",
          "text": [
            "Epoch : 1 || 5350/8498 || loss : 0.180, iou : 88.723 pixel_acc : 95.888\n"
          ]
        },
        {
          "output_type": "stream",
          "name": "stderr",
          "text": [
            "5402it [12:36,  7.58it/s]"
          ]
        },
        {
          "output_type": "stream",
          "name": "stdout",
          "text": [
            "Epoch : 1 || 5400/8498 || loss : 0.174, iou : 88.623 pixel_acc : 94.049\n"
          ]
        },
        {
          "output_type": "stream",
          "name": "stderr",
          "text": [
            "5452it [12:43,  7.32it/s]"
          ]
        },
        {
          "output_type": "stream",
          "name": "stdout",
          "text": [
            "Epoch : 1 || 5450/8498 || loss : 0.164, iou : 78.811 pixel_acc : 95.266\n"
          ]
        },
        {
          "output_type": "stream",
          "name": "stderr",
          "text": [
            "5502it [12:50,  7.33it/s]"
          ]
        },
        {
          "output_type": "stream",
          "name": "stdout",
          "text": [
            "Epoch : 1 || 5500/8498 || loss : 0.143, iou : 90.383 pixel_acc : 94.993\n"
          ]
        },
        {
          "output_type": "stream",
          "name": "stderr",
          "text": [
            "5552it [12:57,  7.16it/s]"
          ]
        },
        {
          "output_type": "stream",
          "name": "stdout",
          "text": [
            "Epoch : 1 || 5550/8498 || loss : 0.165, iou : 53.970 pixel_acc : 94.209\n"
          ]
        },
        {
          "output_type": "stream",
          "name": "stderr",
          "text": [
            "5602it [13:04,  7.27it/s]"
          ]
        },
        {
          "output_type": "stream",
          "name": "stdout",
          "text": [
            "Epoch : 1 || 5600/8498 || loss : 0.385, iou : 64.880 pixel_acc : 87.009\n"
          ]
        },
        {
          "output_type": "stream",
          "name": "stderr",
          "text": [
            "5652it [13:11,  6.81it/s]"
          ]
        },
        {
          "output_type": "stream",
          "name": "stdout",
          "text": [
            "Epoch : 1 || 5650/8498 || loss : 0.183, iou : 66.654 pixel_acc : 90.483\n"
          ]
        },
        {
          "output_type": "stream",
          "name": "stderr",
          "text": [
            "5702it [13:18,  7.24it/s]"
          ]
        },
        {
          "output_type": "stream",
          "name": "stdout",
          "text": [
            "Epoch : 1 || 5700/8498 || loss : 0.181, iou : 72.876 pixel_acc : 93.125\n"
          ]
        },
        {
          "output_type": "stream",
          "name": "stderr",
          "text": [
            "5752it [13:25,  7.17it/s]"
          ]
        },
        {
          "output_type": "stream",
          "name": "stdout",
          "text": [
            "Epoch : 1 || 5750/8498 || loss : 0.475, iou : 32.770 pixel_acc : 86.910\n"
          ]
        },
        {
          "output_type": "stream",
          "name": "stderr",
          "text": [
            "5802it [13:32,  6.87it/s]"
          ]
        },
        {
          "output_type": "stream",
          "name": "stdout",
          "text": [
            "Epoch : 1 || 5800/8498 || loss : 0.056, iou : 73.525 pixel_acc : 98.247\n"
          ]
        },
        {
          "output_type": "stream",
          "name": "stderr",
          "text": [
            "5852it [13:39,  7.06it/s]"
          ]
        },
        {
          "output_type": "stream",
          "name": "stdout",
          "text": [
            "Epoch : 1 || 5850/8498 || loss : 0.078, iou : 81.313 pixel_acc : 98.461\n"
          ]
        },
        {
          "output_type": "stream",
          "name": "stderr",
          "text": [
            "5902it [13:46,  7.22it/s]"
          ]
        },
        {
          "output_type": "stream",
          "name": "stdout",
          "text": [
            "Epoch : 1 || 5900/8498 || loss : 0.674, iou : 49.744 pixel_acc : 74.463\n"
          ]
        },
        {
          "output_type": "stream",
          "name": "stderr",
          "text": [
            "5952it [13:53,  7.33it/s]"
          ]
        },
        {
          "output_type": "stream",
          "name": "stdout",
          "text": [
            "Epoch : 1 || 5950/8498 || loss : 0.239, iou : 59.713 pixel_acc : 93.267\n"
          ]
        },
        {
          "output_type": "stream",
          "name": "stderr",
          "text": [
            "6002it [14:00,  6.86it/s]"
          ]
        },
        {
          "output_type": "stream",
          "name": "stdout",
          "text": [
            "Epoch : 1 || 6000/8498 || loss : 0.586, iou : 68.210 pixel_acc : 83.282\n"
          ]
        },
        {
          "output_type": "stream",
          "name": "stderr",
          "text": [
            "6052it [14:07,  7.14it/s]"
          ]
        },
        {
          "output_type": "stream",
          "name": "stdout",
          "text": [
            "Epoch : 1 || 6050/8498 || loss : 0.166, iou : 89.760 pixel_acc : 95.386\n"
          ]
        },
        {
          "output_type": "stream",
          "name": "stderr",
          "text": [
            "6102it [14:14,  6.99it/s]"
          ]
        },
        {
          "output_type": "stream",
          "name": "stdout",
          "text": [
            "Epoch : 1 || 6100/8498 || loss : 0.148, iou : 63.178 pixel_acc : 93.845\n"
          ]
        },
        {
          "output_type": "stream",
          "name": "stderr",
          "text": [
            "6152it [14:21,  7.14it/s]"
          ]
        },
        {
          "output_type": "stream",
          "name": "stdout",
          "text": [
            "Epoch : 1 || 6150/8498 || loss : 0.109, iou : 86.751 pixel_acc : 95.801\n"
          ]
        },
        {
          "output_type": "stream",
          "name": "stderr",
          "text": [
            "6202it [14:28,  7.44it/s]"
          ]
        },
        {
          "output_type": "stream",
          "name": "stdout",
          "text": [
            "Epoch : 1 || 6200/8498 || loss : 0.032, iou : 80.974 pixel_acc : 99.386\n"
          ]
        },
        {
          "output_type": "stream",
          "name": "stderr",
          "text": [
            "6252it [14:35,  7.03it/s]"
          ]
        },
        {
          "output_type": "stream",
          "name": "stdout",
          "text": [
            "Epoch : 1 || 6250/8498 || loss : 0.156, iou : 79.997 pixel_acc : 93.777\n"
          ]
        },
        {
          "output_type": "stream",
          "name": "stderr",
          "text": [
            "6302it [14:42,  7.24it/s]"
          ]
        },
        {
          "output_type": "stream",
          "name": "stdout",
          "text": [
            "Epoch : 1 || 6300/8498 || loss : 0.114, iou : 62.536 pixel_acc : 96.591\n"
          ]
        },
        {
          "output_type": "stream",
          "name": "stderr",
          "text": [
            "6352it [14:49,  7.29it/s]"
          ]
        },
        {
          "output_type": "stream",
          "name": "stdout",
          "text": [
            "Epoch : 1 || 6350/8498 || loss : 0.121, iou : 87.607 pixel_acc : 95.315\n"
          ]
        },
        {
          "output_type": "stream",
          "name": "stderr",
          "text": [
            "6402it [14:56,  7.73it/s]"
          ]
        },
        {
          "output_type": "stream",
          "name": "stdout",
          "text": [
            "Epoch : 1 || 6400/8498 || loss : 0.197, iou : 85.644 pixel_acc : 94.105\n"
          ]
        },
        {
          "output_type": "stream",
          "name": "stderr",
          "text": [
            "6452it [15:03,  6.91it/s]"
          ]
        },
        {
          "output_type": "stream",
          "name": "stdout",
          "text": [
            "Epoch : 1 || 6450/8498 || loss : 0.114, iou : 86.243 pixel_acc : 96.454\n"
          ]
        },
        {
          "output_type": "stream",
          "name": "stderr",
          "text": [
            "6502it [15:10,  7.20it/s]"
          ]
        },
        {
          "output_type": "stream",
          "name": "stdout",
          "text": [
            "Epoch : 1 || 6500/8498 || loss : 0.127, iou : 89.089 pixel_acc : 96.422\n"
          ]
        },
        {
          "output_type": "stream",
          "name": "stderr",
          "text": [
            "6552it [15:17,  7.40it/s]"
          ]
        },
        {
          "output_type": "stream",
          "name": "stdout",
          "text": [
            "Epoch : 1 || 6550/8498 || loss : 0.236, iou : 81.826 pixel_acc : 90.433\n"
          ]
        },
        {
          "output_type": "stream",
          "name": "stderr",
          "text": [
            "6602it [15:24,  6.87it/s]"
          ]
        },
        {
          "output_type": "stream",
          "name": "stdout",
          "text": [
            "Epoch : 1 || 6600/8498 || loss : 0.508, iou : 51.804 pixel_acc : 81.109\n"
          ]
        },
        {
          "output_type": "stream",
          "name": "stderr",
          "text": [
            "6652it [15:31,  7.17it/s]"
          ]
        },
        {
          "output_type": "stream",
          "name": "stdout",
          "text": [
            "Epoch : 1 || 6650/8498 || loss : 0.347, iou : 55.665 pixel_acc : 90.059\n"
          ]
        },
        {
          "output_type": "stream",
          "name": "stderr",
          "text": [
            "6701it [15:38,  7.32it/s]"
          ]
        },
        {
          "output_type": "stream",
          "name": "stdout",
          "text": [
            "Epoch : 1 || 6700/8498 || loss : 0.132, iou : 92.267 pixel_acc : 95.982\n"
          ]
        },
        {
          "output_type": "stream",
          "name": "stderr",
          "text": [
            "6752it [15:45,  6.96it/s]"
          ]
        },
        {
          "output_type": "stream",
          "name": "stdout",
          "text": [
            "Epoch : 1 || 6750/8498 || loss : 0.089, iou : 87.605 pixel_acc : 97.023\n"
          ]
        },
        {
          "output_type": "stream",
          "name": "stderr",
          "text": [
            "6802it [15:52,  7.35it/s]"
          ]
        },
        {
          "output_type": "stream",
          "name": "stdout",
          "text": [
            "Epoch : 1 || 6800/8498 || loss : 0.241, iou : 82.891 pixel_acc : 92.292\n"
          ]
        },
        {
          "output_type": "stream",
          "name": "stderr",
          "text": [
            "6851it [15:58,  7.17it/s]"
          ]
        },
        {
          "output_type": "stream",
          "name": "stdout",
          "text": [
            "Epoch : 1 || 6850/8498 || loss : 0.171, iou : 69.370 pixel_acc : 94.818\n"
          ]
        },
        {
          "output_type": "stream",
          "name": "stderr",
          "text": [
            "6902it [16:05,  7.07it/s]"
          ]
        },
        {
          "output_type": "stream",
          "name": "stdout",
          "text": [
            "Epoch : 1 || 6900/8498 || loss : 0.156, iou : 89.200 pixel_acc : 94.427\n"
          ]
        },
        {
          "output_type": "stream",
          "name": "stderr",
          "text": [
            "6952it [16:12,  7.31it/s]"
          ]
        },
        {
          "output_type": "stream",
          "name": "stdout",
          "text": [
            "Epoch : 1 || 6950/8498 || loss : 0.316, iou : 70.287 pixel_acc : 87.890\n"
          ]
        },
        {
          "output_type": "stream",
          "name": "stderr",
          "text": [
            "7002it [16:19,  7.25it/s]"
          ]
        },
        {
          "output_type": "stream",
          "name": "stdout",
          "text": [
            "Epoch : 1 || 7000/8498 || loss : 0.098, iou : 91.858 pixel_acc : 96.069\n"
          ]
        },
        {
          "output_type": "stream",
          "name": "stderr",
          "text": [
            "7052it [16:26,  7.70it/s]"
          ]
        },
        {
          "output_type": "stream",
          "name": "stdout",
          "text": [
            "Epoch : 1 || 7050/8498 || loss : 0.071, iou : 92.150 pixel_acc : 97.477\n"
          ]
        },
        {
          "output_type": "stream",
          "name": "stderr",
          "text": [
            "7102it [16:33,  6.95it/s]"
          ]
        },
        {
          "output_type": "stream",
          "name": "stdout",
          "text": [
            "Epoch : 1 || 7100/8498 || loss : 0.144, iou : 86.606 pixel_acc : 95.521\n"
          ]
        },
        {
          "output_type": "stream",
          "name": "stderr",
          "text": [
            "7152it [16:40,  7.26it/s]"
          ]
        },
        {
          "output_type": "stream",
          "name": "stdout",
          "text": [
            "Epoch : 1 || 7150/8498 || loss : 0.165, iou : 79.320 pixel_acc : 94.810\n"
          ]
        },
        {
          "output_type": "stream",
          "name": "stderr",
          "text": [
            "7202it [16:47,  7.53it/s]"
          ]
        },
        {
          "output_type": "stream",
          "name": "stdout",
          "text": [
            "Epoch : 1 || 7200/8498 || loss : 0.235, iou : 81.780 pixel_acc : 91.829\n"
          ]
        },
        {
          "output_type": "stream",
          "name": "stderr",
          "text": [
            "7252it [16:54,  6.80it/s]"
          ]
        },
        {
          "output_type": "stream",
          "name": "stdout",
          "text": [
            "Epoch : 1 || 7250/8498 || loss : 0.069, iou : 90.141 pixel_acc : 97.849\n"
          ]
        },
        {
          "output_type": "stream",
          "name": "stderr",
          "text": [
            "7302it [17:01,  7.33it/s]"
          ]
        },
        {
          "output_type": "stream",
          "name": "stdout",
          "text": [
            "Epoch : 1 || 7300/8498 || loss : 0.128, iou : 65.631 pixel_acc : 96.471\n"
          ]
        },
        {
          "output_type": "stream",
          "name": "stderr",
          "text": [
            "7352it [17:08,  6.90it/s]"
          ]
        },
        {
          "output_type": "stream",
          "name": "stdout",
          "text": [
            "Epoch : 1 || 7350/8498 || loss : 0.319, iou : 47.072 pixel_acc : 88.929\n"
          ]
        },
        {
          "output_type": "stream",
          "name": "stderr",
          "text": [
            "7402it [17:15,  7.22it/s]"
          ]
        },
        {
          "output_type": "stream",
          "name": "stdout",
          "text": [
            "Epoch : 1 || 7400/8498 || loss : 0.079, iou : 89.224 pixel_acc : 97.058\n"
          ]
        },
        {
          "output_type": "stream",
          "name": "stderr",
          "text": [
            "7452it [17:22,  7.39it/s]"
          ]
        },
        {
          "output_type": "stream",
          "name": "stdout",
          "text": [
            "Epoch : 1 || 7450/8498 || loss : 0.716, iou : 46.784 pixel_acc : 79.089\n"
          ]
        },
        {
          "output_type": "stream",
          "name": "stderr",
          "text": [
            "7502it [17:29,  7.11it/s]"
          ]
        },
        {
          "output_type": "stream",
          "name": "stdout",
          "text": [
            "Epoch : 1 || 7500/8498 || loss : 0.147, iou : 89.109 pixel_acc : 94.952\n"
          ]
        },
        {
          "output_type": "stream",
          "name": "stderr",
          "text": [
            "7552it [17:36,  7.16it/s]"
          ]
        },
        {
          "output_type": "stream",
          "name": "stdout",
          "text": [
            "Epoch : 1 || 7550/8498 || loss : 0.140, iou : 88.858 pixel_acc : 94.124\n"
          ]
        },
        {
          "output_type": "stream",
          "name": "stderr",
          "text": [
            "7602it [17:42,  7.97it/s]"
          ]
        },
        {
          "output_type": "stream",
          "name": "stdout",
          "text": [
            "Epoch : 1 || 7600/8498 || loss : 0.229, iou : 83.348 pixel_acc : 92.155\n"
          ]
        },
        {
          "output_type": "stream",
          "name": "stderr",
          "text": [
            "7652it [17:49,  7.27it/s]"
          ]
        },
        {
          "output_type": "stream",
          "name": "stdout",
          "text": [
            "Epoch : 1 || 7650/8498 || loss : 0.177, iou : 75.957 pixel_acc : 93.410\n"
          ]
        },
        {
          "output_type": "stream",
          "name": "stderr",
          "text": [
            "7702it [17:56,  6.92it/s]"
          ]
        },
        {
          "output_type": "stream",
          "name": "stdout",
          "text": [
            "Epoch : 1 || 7700/8498 || loss : 0.202, iou : 70.553 pixel_acc : 92.569\n"
          ]
        },
        {
          "output_type": "stream",
          "name": "stderr",
          "text": [
            "7752it [18:03,  7.23it/s]"
          ]
        },
        {
          "output_type": "stream",
          "name": "stdout",
          "text": [
            "Epoch : 1 || 7750/8498 || loss : 0.222, iou : 86.573 pixel_acc : 92.817\n"
          ]
        },
        {
          "output_type": "stream",
          "name": "stderr",
          "text": [
            "7802it [18:10,  7.17it/s]"
          ]
        },
        {
          "output_type": "stream",
          "name": "stdout",
          "text": [
            "Epoch : 1 || 7800/8498 || loss : 0.175, iou : 59.067 pixel_acc : 94.251\n"
          ]
        },
        {
          "output_type": "stream",
          "name": "stderr",
          "text": [
            "7852it [18:17,  6.82it/s]"
          ]
        },
        {
          "output_type": "stream",
          "name": "stdout",
          "text": [
            "Epoch : 1 || 7850/8498 || loss : 0.147, iou : 49.597 pixel_acc : 95.923\n"
          ]
        },
        {
          "output_type": "stream",
          "name": "stderr",
          "text": [
            "7902it [18:25,  7.14it/s]"
          ]
        },
        {
          "output_type": "stream",
          "name": "stdout",
          "text": [
            "Epoch : 1 || 7900/8498 || loss : 0.078, iou : 90.945 pixel_acc : 97.385\n"
          ]
        },
        {
          "output_type": "stream",
          "name": "stderr",
          "text": [
            "7952it [18:31,  7.23it/s]"
          ]
        },
        {
          "output_type": "stream",
          "name": "stdout",
          "text": [
            "Epoch : 1 || 7950/8498 || loss : 0.220, iou : 58.795 pixel_acc : 93.665\n"
          ]
        },
        {
          "output_type": "stream",
          "name": "stderr",
          "text": [
            "8002it [18:38,  6.90it/s]"
          ]
        },
        {
          "output_type": "stream",
          "name": "stdout",
          "text": [
            "Epoch : 1 || 8000/8498 || loss : 0.186, iou : 51.493 pixel_acc : 93.281\n"
          ]
        },
        {
          "output_type": "stream",
          "name": "stderr",
          "text": [
            "8052it [18:46,  7.26it/s]"
          ]
        },
        {
          "output_type": "stream",
          "name": "stdout",
          "text": [
            "Epoch : 1 || 8050/8498 || loss : 0.063, iou : 88.597 pixel_acc : 97.537\n"
          ]
        },
        {
          "output_type": "stream",
          "name": "stderr",
          "text": [
            "8102it [18:53,  7.23it/s]"
          ]
        },
        {
          "output_type": "stream",
          "name": "stdout",
          "text": [
            "Epoch : 1 || 8100/8498 || loss : 0.199, iou : 87.042 pixel_acc : 93.077\n"
          ]
        },
        {
          "output_type": "stream",
          "name": "stderr",
          "text": [
            "8152it [18:59,  7.90it/s]"
          ]
        },
        {
          "output_type": "stream",
          "name": "stdout",
          "text": [
            "Epoch : 1 || 8150/8498 || loss : 0.155, iou : 60.827 pixel_acc : 95.015\n"
          ]
        },
        {
          "output_type": "stream",
          "name": "stderr",
          "text": [
            "8202it [19:07,  7.11it/s]"
          ]
        },
        {
          "output_type": "stream",
          "name": "stdout",
          "text": [
            "Epoch : 1 || 8200/8498 || loss : 0.039, iou : 95.191 pixel_acc : 98.441\n"
          ]
        },
        {
          "output_type": "stream",
          "name": "stderr",
          "text": [
            "8252it [19:13,  7.28it/s]"
          ]
        },
        {
          "output_type": "stream",
          "name": "stdout",
          "text": [
            "Epoch : 1 || 8250/8498 || loss : 0.177, iou : 87.490 pixel_acc : 93.337\n"
          ]
        },
        {
          "output_type": "stream",
          "name": "stderr",
          "text": [
            "8302it [19:20,  7.18it/s]"
          ]
        },
        {
          "output_type": "stream",
          "name": "stdout",
          "text": [
            "Epoch : 1 || 8300/8498 || loss : 0.161, iou : 54.439 pixel_acc : 95.131\n"
          ]
        },
        {
          "output_type": "stream",
          "name": "stderr",
          "text": [
            "8352it [19:27,  6.96it/s]"
          ]
        },
        {
          "output_type": "stream",
          "name": "stdout",
          "text": [
            "Epoch : 1 || 8350/8498 || loss : 0.398, iou : 73.648 pixel_acc : 85.958\n"
          ]
        },
        {
          "output_type": "stream",
          "name": "stderr",
          "text": [
            "8402it [19:34,  6.95it/s]"
          ]
        },
        {
          "output_type": "stream",
          "name": "stdout",
          "text": [
            "Epoch : 1 || 8400/8498 || loss : 0.033, iou : 58.572 pixel_acc : 98.986\n"
          ]
        },
        {
          "output_type": "stream",
          "name": "stderr",
          "text": [
            "8452it [19:41,  7.09it/s]"
          ]
        },
        {
          "output_type": "stream",
          "name": "stdout",
          "text": [
            "Epoch : 1 || 8450/8498 || loss : 0.218, iou : 79.318 pixel_acc : 92.814\n"
          ]
        },
        {
          "output_type": "stream",
          "name": "stderr",
          "text": [
            "8498it [19:48,  7.15it/s]\n"
          ]
        },
        {
          "output_type": "stream",
          "name": "stdout",
          "text": [
            ">> Epoch : 1 || AVG loss : 0.192, iou : 73.276 pixel_acc : 93.852 1189.364 secs\n"
          ]
        },
        {
          "output_type": "stream",
          "name": "stderr",
          "text": [
            "2857it [04:37, 10.29it/s]\n"
          ]
        },
        {
          "output_type": "stream",
          "name": "stdout",
          "text": [
            ">> Epoch : 1 || AVG valid loss : 0.474, iou : 60.310 pixel_acc : 88.244 1189.364 secs\n"
          ]
        },
        {
          "output_type": "stream",
          "name": "stderr",
          "text": [
            "2it [00:00,  5.91it/s]"
          ]
        },
        {
          "output_type": "stream",
          "name": "stdout",
          "text": [
            "Epoch : 2 || 0/8498 || loss : 0.105, iou : 94.935 pixel_acc : 97.527\n"
          ]
        },
        {
          "output_type": "stream",
          "name": "stderr",
          "text": [
            "52it [00:08,  6.36it/s]"
          ]
        },
        {
          "output_type": "stream",
          "name": "stdout",
          "text": [
            "Epoch : 2 || 50/8498 || loss : 0.269, iou : 80.015 pixel_acc : 89.060\n"
          ]
        },
        {
          "output_type": "stream",
          "name": "stderr",
          "text": [
            "102it [00:18,  6.50it/s]"
          ]
        },
        {
          "output_type": "stream",
          "name": "stdout",
          "text": [
            "Epoch : 2 || 100/8498 || loss : 0.675, iou : 45.243 pixel_acc : 81.682\n"
          ]
        },
        {
          "output_type": "stream",
          "name": "stderr",
          "text": [
            "152it [00:25,  6.75it/s]"
          ]
        },
        {
          "output_type": "stream",
          "name": "stdout",
          "text": [
            "Epoch : 2 || 150/8498 || loss : 0.294, iou : 73.726 pixel_acc : 86.723\n"
          ]
        },
        {
          "output_type": "stream",
          "name": "stderr",
          "text": [
            "202it [00:33,  6.46it/s]"
          ]
        },
        {
          "output_type": "stream",
          "name": "stdout",
          "text": [
            "Epoch : 2 || 200/8498 || loss : 0.205, iou : 32.452 pixel_acc : 97.355\n"
          ]
        },
        {
          "output_type": "stream",
          "name": "stderr",
          "text": [
            "252it [00:40,  6.67it/s]"
          ]
        },
        {
          "output_type": "stream",
          "name": "stdout",
          "text": [
            "Epoch : 2 || 250/8498 || loss : 0.170, iou : 89.063 pixel_acc : 95.501\n"
          ]
        },
        {
          "output_type": "stream",
          "name": "stderr",
          "text": [
            "302it [00:47,  8.00it/s]"
          ]
        },
        {
          "output_type": "stream",
          "name": "stdout",
          "text": [
            "Epoch : 2 || 300/8498 || loss : 0.107, iou : 58.241 pixel_acc : 96.693\n"
          ]
        },
        {
          "output_type": "stream",
          "name": "stderr",
          "text": [
            "352it [00:54,  7.74it/s]"
          ]
        },
        {
          "output_type": "stream",
          "name": "stdout",
          "text": [
            "Epoch : 2 || 350/8498 || loss : 0.225, iou : 81.570 pixel_acc : 91.206\n"
          ]
        },
        {
          "output_type": "stream",
          "name": "stderr",
          "text": [
            "402it [01:01,  6.90it/s]"
          ]
        },
        {
          "output_type": "stream",
          "name": "stdout",
          "text": [
            "Epoch : 2 || 400/8498 || loss : 0.351, iou : 68.614 pixel_acc : 88.056\n"
          ]
        },
        {
          "output_type": "stream",
          "name": "stderr",
          "text": [
            "452it [01:08,  7.51it/s]"
          ]
        },
        {
          "output_type": "stream",
          "name": "stdout",
          "text": [
            "Epoch : 2 || 450/8498 || loss : 0.206, iou : 72.586 pixel_acc : 94.307\n"
          ]
        },
        {
          "output_type": "stream",
          "name": "stderr",
          "text": [
            "502it [01:15,  7.27it/s]"
          ]
        },
        {
          "output_type": "stream",
          "name": "stdout",
          "text": [
            "Epoch : 2 || 500/8498 || loss : 0.164, iou : 88.323 pixel_acc : 93.845\n"
          ]
        },
        {
          "output_type": "stream",
          "name": "stderr",
          "text": [
            "552it [01:22,  7.11it/s]"
          ]
        },
        {
          "output_type": "stream",
          "name": "stdout",
          "text": [
            "Epoch : 2 || 550/8498 || loss : 0.064, iou : 95.626 pixel_acc : 98.080\n"
          ]
        },
        {
          "output_type": "stream",
          "name": "stderr",
          "text": [
            "602it [01:29,  7.33it/s]"
          ]
        },
        {
          "output_type": "stream",
          "name": "stdout",
          "text": [
            "Epoch : 2 || 600/8498 || loss : 0.059, iou : 96.480 pixel_acc : 98.274\n"
          ]
        },
        {
          "output_type": "stream",
          "name": "stderr",
          "text": [
            "652it [01:36,  7.18it/s]"
          ]
        },
        {
          "output_type": "stream",
          "name": "stdout",
          "text": [
            "Epoch : 2 || 650/8498 || loss : 0.487, iou : 54.915 pixel_acc : 82.484\n"
          ]
        },
        {
          "output_type": "stream",
          "name": "stderr",
          "text": [
            "702it [01:43,  6.92it/s]"
          ]
        },
        {
          "output_type": "stream",
          "name": "stdout",
          "text": [
            "Epoch : 2 || 700/8498 || loss : 0.237, iou : 50.533 pixel_acc : 91.471\n"
          ]
        },
        {
          "output_type": "stream",
          "name": "stderr",
          "text": [
            "752it [01:50,  7.23it/s]"
          ]
        },
        {
          "output_type": "stream",
          "name": "stdout",
          "text": [
            "Epoch : 2 || 750/8498 || loss : 0.061, iou : 89.179 pixel_acc : 98.964\n"
          ]
        },
        {
          "output_type": "stream",
          "name": "stderr",
          "text": [
            "802it [01:58,  6.85it/s]"
          ]
        },
        {
          "output_type": "stream",
          "name": "stdout",
          "text": [
            "Epoch : 2 || 800/8498 || loss : 0.176, iou : 41.826 pixel_acc : 94.487\n"
          ]
        },
        {
          "output_type": "stream",
          "name": "stderr",
          "text": [
            "852it [02:04,  6.96it/s]"
          ]
        },
        {
          "output_type": "stream",
          "name": "stdout",
          "text": [
            "Epoch : 2 || 850/8498 || loss : 0.146, iou : 92.140 pixel_acc : 96.096\n"
          ]
        },
        {
          "output_type": "stream",
          "name": "stderr",
          "text": [
            "902it [02:12,  6.90it/s]"
          ]
        },
        {
          "output_type": "stream",
          "name": "stdout",
          "text": [
            "Epoch : 2 || 900/8498 || loss : 0.120, iou : 91.832 pixel_acc : 95.758\n"
          ]
        },
        {
          "output_type": "stream",
          "name": "stderr",
          "text": [
            "952it [02:19,  7.49it/s]"
          ]
        },
        {
          "output_type": "stream",
          "name": "stdout",
          "text": [
            "Epoch : 2 || 950/8498 || loss : 0.183, iou : 87.343 pixel_acc : 95.624\n"
          ]
        },
        {
          "output_type": "stream",
          "name": "stderr",
          "text": [
            "1002it [02:26,  7.01it/s]"
          ]
        },
        {
          "output_type": "stream",
          "name": "stdout",
          "text": [
            "Epoch : 2 || 1000/8498 || loss : 0.128, iou : 90.469 pixel_acc : 95.041\n"
          ]
        },
        {
          "output_type": "stream",
          "name": "stderr",
          "text": [
            "1052it [02:33,  6.81it/s]"
          ]
        },
        {
          "output_type": "stream",
          "name": "stdout",
          "text": [
            "Epoch : 2 || 1050/8498 || loss : 0.070, iou : 93.797 pixel_acc : 97.940\n"
          ]
        },
        {
          "output_type": "stream",
          "name": "stderr",
          "text": [
            "1102it [02:40,  7.19it/s]"
          ]
        },
        {
          "output_type": "stream",
          "name": "stdout",
          "text": [
            "Epoch : 2 || 1100/8498 || loss : 0.124, iou : 91.341 pixel_acc : 95.476\n"
          ]
        },
        {
          "output_type": "stream",
          "name": "stderr",
          "text": [
            "1152it [02:47,  7.50it/s]"
          ]
        },
        {
          "output_type": "stream",
          "name": "stdout",
          "text": [
            "Epoch : 2 || 1150/8498 || loss : 0.123, iou : 92.913 pixel_acc : 96.525\n"
          ]
        },
        {
          "output_type": "stream",
          "name": "stderr",
          "text": [
            "1202it [02:54,  6.86it/s]"
          ]
        },
        {
          "output_type": "stream",
          "name": "stdout",
          "text": [
            "Epoch : 2 || 1200/8498 || loss : 0.225, iou : 79.168 pixel_acc : 92.222\n"
          ]
        },
        {
          "output_type": "stream",
          "name": "stderr",
          "text": [
            "1252it [03:01,  7.33it/s]"
          ]
        },
        {
          "output_type": "stream",
          "name": "stdout",
          "text": [
            "Epoch : 2 || 1250/8498 || loss : 0.203, iou : 73.717 pixel_acc : 93.348\n"
          ]
        },
        {
          "output_type": "stream",
          "name": "stderr",
          "text": [
            "1302it [03:08,  7.23it/s]"
          ]
        },
        {
          "output_type": "stream",
          "name": "stdout",
          "text": [
            "Epoch : 2 || 1300/8498 || loss : 0.196, iou : 81.548 pixel_acc : 93.673\n"
          ]
        },
        {
          "output_type": "stream",
          "name": "stderr",
          "text": [
            "1352it [03:15,  6.68it/s]"
          ]
        },
        {
          "output_type": "stream",
          "name": "stdout",
          "text": [
            "Epoch : 2 || 1350/8498 || loss : 0.370, iou : 47.318 pixel_acc : 87.144\n"
          ]
        },
        {
          "output_type": "stream",
          "name": "stderr",
          "text": [
            "1402it [03:22,  7.20it/s]"
          ]
        },
        {
          "output_type": "stream",
          "name": "stdout",
          "text": [
            "Epoch : 2 || 1400/8498 || loss : 0.090, iou : 81.758 pixel_acc : 97.779\n"
          ]
        },
        {
          "output_type": "stream",
          "name": "stderr",
          "text": [
            "1452it [03:29,  7.42it/s]"
          ]
        },
        {
          "output_type": "stream",
          "name": "stdout",
          "text": [
            "Epoch : 2 || 1450/8498 || loss : 0.087, iou : 87.226 pixel_acc : 96.417\n"
          ]
        },
        {
          "output_type": "stream",
          "name": "stderr",
          "text": [
            "1502it [03:36,  6.79it/s]"
          ]
        },
        {
          "output_type": "stream",
          "name": "stdout",
          "text": [
            "Epoch : 2 || 1500/8498 || loss : 0.309, iou : 54.596 pixel_acc : 91.153\n"
          ]
        },
        {
          "output_type": "stream",
          "name": "stderr",
          "text": [
            "1552it [03:43,  6.77it/s]"
          ]
        },
        {
          "output_type": "stream",
          "name": "stdout",
          "text": [
            "Epoch : 2 || 1550/8498 || loss : 0.075, iou : 92.630 pixel_acc : 97.590\n"
          ]
        },
        {
          "output_type": "stream",
          "name": "stderr",
          "text": [
            "1602it [03:50,  7.25it/s]"
          ]
        },
        {
          "output_type": "stream",
          "name": "stdout",
          "text": [
            "Epoch : 2 || 1600/8498 || loss : 0.142, iou : 91.462 pixel_acc : 95.854\n"
          ]
        },
        {
          "output_type": "stream",
          "name": "stderr",
          "text": [
            "1652it [03:57,  6.94it/s]"
          ]
        },
        {
          "output_type": "stream",
          "name": "stdout",
          "text": [
            "Epoch : 2 || 1650/8498 || loss : 0.075, iou : 94.610 pixel_acc : 97.453\n"
          ]
        },
        {
          "output_type": "stream",
          "name": "stderr",
          "text": [
            "1702it [04:04,  6.78it/s]"
          ]
        },
        {
          "output_type": "stream",
          "name": "stdout",
          "text": [
            "Epoch : 2 || 1700/8498 || loss : 0.088, iou : 85.343 pixel_acc : 97.836\n"
          ]
        },
        {
          "output_type": "stream",
          "name": "stderr",
          "text": [
            "1752it [04:11,  7.52it/s]"
          ]
        },
        {
          "output_type": "stream",
          "name": "stdout",
          "text": [
            "Epoch : 2 || 1750/8498 || loss : 0.204, iou : 82.471 pixel_acc : 92.404\n"
          ]
        },
        {
          "output_type": "stream",
          "name": "stderr",
          "text": [
            "1802it [04:18,  7.23it/s]"
          ]
        },
        {
          "output_type": "stream",
          "name": "stdout",
          "text": [
            "Epoch : 2 || 1800/8498 || loss : 0.035, iou : 84.455 pixel_acc : 98.844\n"
          ]
        },
        {
          "output_type": "stream",
          "name": "stderr",
          "text": [
            "1852it [04:25,  6.89it/s]"
          ]
        },
        {
          "output_type": "stream",
          "name": "stdout",
          "text": [
            "Epoch : 2 || 1850/8498 || loss : 0.191, iou : 36.639 pixel_acc : 92.771\n"
          ]
        },
        {
          "output_type": "stream",
          "name": "stderr",
          "text": [
            "1902it [04:33,  7.28it/s]"
          ]
        },
        {
          "output_type": "stream",
          "name": "stdout",
          "text": [
            "Epoch : 2 || 1900/8498 || loss : 0.060, iou : 91.612 pixel_acc : 98.111\n"
          ]
        },
        {
          "output_type": "stream",
          "name": "stderr",
          "text": [
            "1952it [04:39,  7.64it/s]"
          ]
        },
        {
          "output_type": "stream",
          "name": "stdout",
          "text": [
            "Epoch : 2 || 1950/8498 || loss : 0.064, iou : 85.473 pixel_acc : 97.778\n"
          ]
        },
        {
          "output_type": "stream",
          "name": "stderr",
          "text": [
            "2002it [04:47,  6.73it/s]"
          ]
        },
        {
          "output_type": "stream",
          "name": "stdout",
          "text": [
            "Epoch : 2 || 2000/8498 || loss : 0.168, iou : 77.734 pixel_acc : 94.238\n"
          ]
        },
        {
          "output_type": "stream",
          "name": "stderr",
          "text": [
            "2052it [04:54,  7.03it/s]"
          ]
        },
        {
          "output_type": "stream",
          "name": "stdout",
          "text": [
            "Epoch : 2 || 2050/8498 || loss : 0.145, iou : 77.134 pixel_acc : 95.908\n"
          ]
        },
        {
          "output_type": "stream",
          "name": "stderr",
          "text": [
            "2102it [05:01,  8.10it/s]"
          ]
        },
        {
          "output_type": "stream",
          "name": "stdout",
          "text": [
            "Epoch : 2 || 2100/8498 || loss : 0.176, iou : 70.914 pixel_acc : 92.501\n"
          ]
        },
        {
          "output_type": "stream",
          "name": "stderr",
          "text": [
            "2152it [05:08,  7.04it/s]"
          ]
        },
        {
          "output_type": "stream",
          "name": "stdout",
          "text": [
            "Epoch : 2 || 2150/8498 || loss : 0.044, iou : 96.922 pixel_acc : 98.656\n"
          ]
        },
        {
          "output_type": "stream",
          "name": "stderr",
          "text": [
            "2202it [05:15,  7.54it/s]"
          ]
        },
        {
          "output_type": "stream",
          "name": "stdout",
          "text": [
            "Epoch : 2 || 2200/8498 || loss : 0.178, iou : 83.217 pixel_acc : 93.607\n"
          ]
        },
        {
          "output_type": "stream",
          "name": "stderr",
          "text": [
            "2252it [05:22,  7.22it/s]"
          ]
        },
        {
          "output_type": "stream",
          "name": "stdout",
          "text": [
            "Epoch : 2 || 2250/8498 || loss : 0.116, iou : 77.093 pixel_acc : 96.321\n"
          ]
        },
        {
          "output_type": "stream",
          "name": "stderr",
          "text": [
            "2302it [05:29,  7.36it/s]"
          ]
        },
        {
          "output_type": "stream",
          "name": "stdout",
          "text": [
            "Epoch : 2 || 2300/8498 || loss : 0.089, iou : 90.458 pixel_acc : 97.093\n"
          ]
        },
        {
          "output_type": "stream",
          "name": "stderr",
          "text": [
            "2352it [05:36,  6.88it/s]"
          ]
        },
        {
          "output_type": "stream",
          "name": "stdout",
          "text": [
            "Epoch : 2 || 2350/8498 || loss : 0.207, iou : 65.475 pixel_acc : 91.106\n"
          ]
        },
        {
          "output_type": "stream",
          "name": "stderr",
          "text": [
            "2402it [05:43,  7.21it/s]"
          ]
        },
        {
          "output_type": "stream",
          "name": "stdout",
          "text": [
            "Epoch : 2 || 2400/8498 || loss : 0.216, iou : 52.223 pixel_acc : 92.303\n"
          ]
        },
        {
          "output_type": "stream",
          "name": "stderr",
          "text": [
            "2452it [05:50,  6.97it/s]"
          ]
        },
        {
          "output_type": "stream",
          "name": "stdout",
          "text": [
            "Epoch : 2 || 2450/8498 || loss : 0.195, iou : 53.696 pixel_acc : 93.895\n"
          ]
        },
        {
          "output_type": "stream",
          "name": "stderr",
          "text": [
            "2501it [05:57,  6.87it/s]"
          ]
        },
        {
          "output_type": "stream",
          "name": "stdout",
          "text": [
            "Epoch : 2 || 2500/8498 || loss : 0.160, iou : 90.280 pixel_acc : 95.786\n"
          ]
        },
        {
          "output_type": "stream",
          "name": "stderr",
          "text": [
            "2552it [06:04,  7.09it/s]"
          ]
        },
        {
          "output_type": "stream",
          "name": "stdout",
          "text": [
            "Epoch : 2 || 2550/8498 || loss : 0.160, iou : 89.167 pixel_acc : 94.875\n"
          ]
        },
        {
          "output_type": "stream",
          "name": "stderr",
          "text": [
            "2602it [06:11,  7.01it/s]"
          ]
        },
        {
          "output_type": "stream",
          "name": "stdout",
          "text": [
            "Epoch : 2 || 2600/8498 || loss : 0.335, iou : 80.697 pixel_acc : 88.325\n"
          ]
        },
        {
          "output_type": "stream",
          "name": "stderr",
          "text": [
            "2652it [06:18,  6.53it/s]"
          ]
        },
        {
          "output_type": "stream",
          "name": "stdout",
          "text": [
            "Epoch : 2 || 2650/8498 || loss : 0.148, iou : 61.119 pixel_acc : 95.362\n"
          ]
        },
        {
          "output_type": "stream",
          "name": "stderr",
          "text": [
            "2702it [06:25,  6.84it/s]"
          ]
        },
        {
          "output_type": "stream",
          "name": "stdout",
          "text": [
            "Epoch : 2 || 2700/8498 || loss : 0.268, iou : 84.788 pixel_acc : 91.409\n"
          ]
        },
        {
          "output_type": "stream",
          "name": "stderr",
          "text": [
            "2752it [06:32,  7.17it/s]"
          ]
        },
        {
          "output_type": "stream",
          "name": "stdout",
          "text": [
            "Epoch : 2 || 2750/8498 || loss : 0.084, iou : 48.985 pixel_acc : 96.489\n"
          ]
        },
        {
          "output_type": "stream",
          "name": "stderr",
          "text": [
            "2802it [06:39,  6.85it/s]"
          ]
        },
        {
          "output_type": "stream",
          "name": "stdout",
          "text": [
            "Epoch : 2 || 2800/8498 || loss : 0.302, iou : 64.139 pixel_acc : 89.808\n"
          ]
        },
        {
          "output_type": "stream",
          "name": "stderr",
          "text": [
            "2852it [06:47,  7.22it/s]"
          ]
        },
        {
          "output_type": "stream",
          "name": "stdout",
          "text": [
            "Epoch : 2 || 2850/8498 || loss : 0.022, iou : 79.792 pixel_acc : 99.139\n"
          ]
        },
        {
          "output_type": "stream",
          "name": "stderr",
          "text": [
            "2902it [06:53,  7.18it/s]"
          ]
        },
        {
          "output_type": "stream",
          "name": "stdout",
          "text": [
            "Epoch : 2 || 2900/8498 || loss : 0.139, iou : 81.837 pixel_acc : 95.006\n"
          ]
        },
        {
          "output_type": "stream",
          "name": "stderr",
          "text": [
            "2952it [07:01,  6.72it/s]"
          ]
        },
        {
          "output_type": "stream",
          "name": "stdout",
          "text": [
            "Epoch : 2 || 2950/8498 || loss : 0.138, iou : 59.208 pixel_acc : 94.634\n"
          ]
        },
        {
          "output_type": "stream",
          "name": "stderr",
          "text": [
            "3002it [07:08,  6.99it/s]"
          ]
        },
        {
          "output_type": "stream",
          "name": "stdout",
          "text": [
            "Epoch : 2 || 3000/8498 || loss : 0.063, iou : 89.468 pixel_acc : 97.984\n"
          ]
        },
        {
          "output_type": "stream",
          "name": "stderr",
          "text": [
            "3052it [07:15,  6.95it/s]"
          ]
        },
        {
          "output_type": "stream",
          "name": "stdout",
          "text": [
            "Epoch : 2 || 3050/8498 || loss : 0.188, iou : 54.447 pixel_acc : 92.827\n"
          ]
        },
        {
          "output_type": "stream",
          "name": "stderr",
          "text": [
            "3102it [07:22,  7.07it/s]"
          ]
        },
        {
          "output_type": "stream",
          "name": "stdout",
          "text": [
            "Epoch : 2 || 3100/8498 || loss : 0.287, iou : 55.963 pixel_acc : 91.403\n"
          ]
        },
        {
          "output_type": "stream",
          "name": "stderr",
          "text": [
            "3152it [07:29,  6.67it/s]"
          ]
        },
        {
          "output_type": "stream",
          "name": "stdout",
          "text": [
            "Epoch : 2 || 3150/8498 || loss : 0.164, iou : 87.546 pixel_acc : 93.423\n"
          ]
        },
        {
          "output_type": "stream",
          "name": "stderr",
          "text": [
            "3202it [07:36,  7.27it/s]"
          ]
        },
        {
          "output_type": "stream",
          "name": "stdout",
          "text": [
            "Epoch : 2 || 3200/8498 || loss : 0.120, iou : 87.575 pixel_acc : 94.935\n"
          ]
        },
        {
          "output_type": "stream",
          "name": "stderr",
          "text": [
            "3252it [07:43,  7.57it/s]"
          ]
        },
        {
          "output_type": "stream",
          "name": "stdout",
          "text": [
            "Epoch : 2 || 3250/8498 || loss : 0.158, iou : 88.809 pixel_acc : 95.157\n"
          ]
        },
        {
          "output_type": "stream",
          "name": "stderr",
          "text": [
            "3302it [07:50,  7.57it/s]"
          ]
        },
        {
          "output_type": "stream",
          "name": "stdout",
          "text": [
            "Epoch : 2 || 3300/8498 || loss : 0.087, iou : 91.725 pixel_acc : 96.759\n"
          ]
        },
        {
          "output_type": "stream",
          "name": "stderr",
          "text": [
            "3352it [07:57,  7.22it/s]"
          ]
        },
        {
          "output_type": "stream",
          "name": "stdout",
          "text": [
            "Epoch : 2 || 3350/8498 || loss : 0.147, iou : 85.670 pixel_acc : 96.881\n"
          ]
        },
        {
          "output_type": "stream",
          "name": "stderr",
          "text": [
            "3402it [08:04,  6.92it/s]"
          ]
        },
        {
          "output_type": "stream",
          "name": "stdout",
          "text": [
            "Epoch : 2 || 3400/8498 || loss : 0.049, iou : 86.566 pixel_acc : 98.353\n"
          ]
        },
        {
          "output_type": "stream",
          "name": "stderr",
          "text": [
            "3452it [08:12,  6.87it/s]"
          ]
        },
        {
          "output_type": "stream",
          "name": "stdout",
          "text": [
            "Epoch : 2 || 3450/8498 || loss : 0.155, iou : 64.488 pixel_acc : 94.747\n"
          ]
        },
        {
          "output_type": "stream",
          "name": "stderr",
          "text": [
            "3502it [08:19,  7.30it/s]"
          ]
        },
        {
          "output_type": "stream",
          "name": "stdout",
          "text": [
            "Epoch : 2 || 3500/8498 || loss : 0.064, iou : 95.925 pixel_acc : 99.121\n"
          ]
        },
        {
          "output_type": "stream",
          "name": "stderr",
          "text": [
            "3552it [08:25,  7.49it/s]"
          ]
        },
        {
          "output_type": "stream",
          "name": "stdout",
          "text": [
            "Epoch : 2 || 3550/8498 || loss : 0.171, iou : 67.614 pixel_acc : 93.581\n"
          ]
        },
        {
          "output_type": "stream",
          "name": "stderr",
          "text": [
            "3602it [08:32,  6.89it/s]"
          ]
        },
        {
          "output_type": "stream",
          "name": "stdout",
          "text": [
            "Epoch : 2 || 3600/8498 || loss : 0.129, iou : 80.018 pixel_acc : 95.412\n"
          ]
        },
        {
          "output_type": "stream",
          "name": "stderr",
          "text": [
            "3652it [08:39,  7.12it/s]"
          ]
        },
        {
          "output_type": "stream",
          "name": "stdout",
          "text": [
            "Epoch : 2 || 3650/8498 || loss : 0.073, iou : 88.953 pixel_acc : 97.897\n"
          ]
        },
        {
          "output_type": "stream",
          "name": "stderr",
          "text": [
            "3702it [08:46,  7.76it/s]"
          ]
        },
        {
          "output_type": "stream",
          "name": "stdout",
          "text": [
            "Epoch : 2 || 3700/8498 || loss : 0.033, iou : 89.367 pixel_acc : 98.959\n"
          ]
        },
        {
          "output_type": "stream",
          "name": "stderr",
          "text": [
            "3752it [08:54,  6.99it/s]"
          ]
        },
        {
          "output_type": "stream",
          "name": "stdout",
          "text": [
            "Epoch : 2 || 3750/8498 || loss : 0.371, iou : 74.470 pixel_acc : 86.266\n"
          ]
        },
        {
          "output_type": "stream",
          "name": "stderr",
          "text": [
            "3802it [09:01,  7.40it/s]"
          ]
        },
        {
          "output_type": "stream",
          "name": "stdout",
          "text": [
            "Epoch : 2 || 3800/8498 || loss : 0.106, iou : 61.788 pixel_acc : 96.479\n"
          ]
        },
        {
          "output_type": "stream",
          "name": "stderr",
          "text": [
            "3852it [09:08,  6.72it/s]"
          ]
        },
        {
          "output_type": "stream",
          "name": "stdout",
          "text": [
            "Epoch : 2 || 3850/8498 || loss : 0.074, iou : 89.960 pixel_acc : 98.186\n"
          ]
        },
        {
          "output_type": "stream",
          "name": "stderr",
          "text": [
            "3902it [09:15,  7.11it/s]"
          ]
        },
        {
          "output_type": "stream",
          "name": "stdout",
          "text": [
            "Epoch : 2 || 3900/8498 || loss : 0.186, iou : 78.479 pixel_acc : 94.344\n"
          ]
        },
        {
          "output_type": "stream",
          "name": "stderr",
          "text": [
            "3952it [09:22,  7.16it/s]"
          ]
        },
        {
          "output_type": "stream",
          "name": "stdout",
          "text": [
            "Epoch : 2 || 3950/8498 || loss : 0.260, iou : 62.691 pixel_acc : 92.526\n"
          ]
        },
        {
          "output_type": "stream",
          "name": "stderr",
          "text": [
            "4002it [09:29,  7.16it/s]"
          ]
        },
        {
          "output_type": "stream",
          "name": "stdout",
          "text": [
            "Epoch : 2 || 4000/8498 || loss : 0.288, iou : 43.008 pixel_acc : 92.340\n"
          ]
        },
        {
          "output_type": "stream",
          "name": "stderr",
          "text": [
            "4052it [09:36,  6.98it/s]"
          ]
        },
        {
          "output_type": "stream",
          "name": "stdout",
          "text": [
            "Epoch : 2 || 4050/8498 || loss : 0.690, iou : 45.351 pixel_acc : 73.230\n"
          ]
        },
        {
          "output_type": "stream",
          "name": "stderr",
          "text": [
            "4102it [09:43,  6.69it/s]"
          ]
        },
        {
          "output_type": "stream",
          "name": "stdout",
          "text": [
            "Epoch : 2 || 4100/8498 || loss : 0.282, iou : 52.137 pixel_acc : 89.166\n"
          ]
        },
        {
          "output_type": "stream",
          "name": "stderr",
          "text": [
            "4152it [09:50,  7.08it/s]"
          ]
        },
        {
          "output_type": "stream",
          "name": "stdout",
          "text": [
            "Epoch : 2 || 4150/8498 || loss : 0.434, iou : 63.429 pixel_acc : 84.601\n"
          ]
        },
        {
          "output_type": "stream",
          "name": "stderr",
          "text": [
            "4202it [09:57,  7.06it/s]"
          ]
        },
        {
          "output_type": "stream",
          "name": "stdout",
          "text": [
            "Epoch : 2 || 4200/8498 || loss : 0.143, iou : 79.222 pixel_acc : 94.102\n"
          ]
        },
        {
          "output_type": "stream",
          "name": "stderr",
          "text": [
            "4252it [10:04,  7.08it/s]"
          ]
        },
        {
          "output_type": "stream",
          "name": "stdout",
          "text": [
            "Epoch : 2 || 4250/8498 || loss : 0.273, iou : 54.870 pixel_acc : 91.888\n"
          ]
        },
        {
          "output_type": "stream",
          "name": "stderr",
          "text": [
            "4302it [10:11,  7.18it/s]"
          ]
        },
        {
          "output_type": "stream",
          "name": "stdout",
          "text": [
            "Epoch : 2 || 4300/8498 || loss : 0.037, iou : 46.338 pixel_acc : 98.534\n"
          ]
        },
        {
          "output_type": "stream",
          "name": "stderr",
          "text": [
            "4352it [10:18,  7.26it/s]"
          ]
        },
        {
          "output_type": "stream",
          "name": "stdout",
          "text": [
            "Epoch : 2 || 4350/8498 || loss : 0.180, iou : 75.009 pixel_acc : 95.473\n"
          ]
        },
        {
          "output_type": "stream",
          "name": "stderr",
          "text": [
            "4402it [10:25,  7.44it/s]"
          ]
        },
        {
          "output_type": "stream",
          "name": "stdout",
          "text": [
            "Epoch : 2 || 4400/8498 || loss : 0.151, iou : 67.565 pixel_acc : 93.726\n"
          ]
        },
        {
          "output_type": "stream",
          "name": "stderr",
          "text": [
            "4452it [10:33,  7.05it/s]"
          ]
        },
        {
          "output_type": "stream",
          "name": "stdout",
          "text": [
            "Epoch : 2 || 4450/8498 || loss : 0.172, iou : 87.177 pixel_acc : 93.374\n"
          ]
        },
        {
          "output_type": "stream",
          "name": "stderr",
          "text": [
            "4502it [10:39,  8.10it/s]"
          ]
        },
        {
          "output_type": "stream",
          "name": "stdout",
          "text": [
            "Epoch : 2 || 4500/8498 || loss : 0.142, iou : 84.688 pixel_acc : 94.426\n"
          ]
        },
        {
          "output_type": "stream",
          "name": "stderr",
          "text": [
            "4552it [10:46,  7.77it/s]"
          ]
        },
        {
          "output_type": "stream",
          "name": "stdout",
          "text": [
            "Epoch : 2 || 4550/8498 || loss : 0.162, iou : 64.714 pixel_acc : 94.528\n"
          ]
        },
        {
          "output_type": "stream",
          "name": "stderr",
          "text": [
            "4602it [10:54,  7.09it/s]"
          ]
        },
        {
          "output_type": "stream",
          "name": "stdout",
          "text": [
            "Epoch : 2 || 4600/8498 || loss : 0.061, iou : 60.650 pixel_acc : 98.681\n"
          ]
        },
        {
          "output_type": "stream",
          "name": "stderr",
          "text": [
            "4652it [11:01,  7.16it/s]"
          ]
        },
        {
          "output_type": "stream",
          "name": "stdout",
          "text": [
            "Epoch : 2 || 4650/8498 || loss : 0.239, iou : 68.959 pixel_acc : 89.069\n"
          ]
        },
        {
          "output_type": "stream",
          "name": "stderr",
          "text": [
            "4702it [11:08,  7.05it/s]"
          ]
        },
        {
          "output_type": "stream",
          "name": "stdout",
          "text": [
            "Epoch : 2 || 4700/8498 || loss : 0.290, iou : 51.312 pixel_acc : 89.878\n"
          ]
        },
        {
          "output_type": "stream",
          "name": "stderr",
          "text": [
            "4752it [11:15,  6.64it/s]"
          ]
        },
        {
          "output_type": "stream",
          "name": "stdout",
          "text": [
            "Epoch : 2 || 4750/8498 || loss : 0.341, iou : 50.408 pixel_acc : 89.236\n"
          ]
        },
        {
          "output_type": "stream",
          "name": "stderr",
          "text": [
            "4802it [11:22,  7.36it/s]"
          ]
        },
        {
          "output_type": "stream",
          "name": "stdout",
          "text": [
            "Epoch : 2 || 4800/8498 || loss : 0.259, iou : 81.362 pixel_acc : 91.149\n"
          ]
        },
        {
          "output_type": "stream",
          "name": "stderr",
          "text": [
            "4852it [11:29,  6.99it/s]"
          ]
        },
        {
          "output_type": "stream",
          "name": "stdout",
          "text": [
            "Epoch : 2 || 4850/8498 || loss : 0.101, iou : 92.412 pixel_acc : 96.183\n"
          ]
        },
        {
          "output_type": "stream",
          "name": "stderr",
          "text": [
            "4902it [11:36,  6.80it/s]"
          ]
        },
        {
          "output_type": "stream",
          "name": "stdout",
          "text": [
            "Epoch : 2 || 4900/8498 || loss : 0.155, iou : 87.710 pixel_acc : 94.258\n"
          ]
        },
        {
          "output_type": "stream",
          "name": "stderr",
          "text": [
            "4952it [11:43,  7.24it/s]"
          ]
        },
        {
          "output_type": "stream",
          "name": "stdout",
          "text": [
            "Epoch : 2 || 4950/8498 || loss : 0.013, iou : 49.797 pixel_acc : 99.593\n"
          ]
        },
        {
          "output_type": "stream",
          "name": "stderr",
          "text": [
            "5002it [11:50,  6.90it/s]"
          ]
        },
        {
          "output_type": "stream",
          "name": "stdout",
          "text": [
            "Epoch : 2 || 5000/8498 || loss : 0.480, iou : 71.439 pixel_acc : 84.295\n"
          ]
        },
        {
          "output_type": "stream",
          "name": "stderr",
          "text": [
            "5052it [11:57,  6.84it/s]"
          ]
        },
        {
          "output_type": "stream",
          "name": "stdout",
          "text": [
            "Epoch : 2 || 5050/8498 || loss : 0.133, iou : 24.622 pixel_acc : 98.489\n"
          ]
        },
        {
          "output_type": "stream",
          "name": "stderr",
          "text": [
            "5102it [12:05,  7.19it/s]"
          ]
        },
        {
          "output_type": "stream",
          "name": "stdout",
          "text": [
            "Epoch : 2 || 5100/8498 || loss : 0.104, iou : 65.902 pixel_acc : 97.509\n"
          ]
        },
        {
          "output_type": "stream",
          "name": "stderr",
          "text": [
            "5152it [12:11,  7.52it/s]"
          ]
        },
        {
          "output_type": "stream",
          "name": "stdout",
          "text": [
            "Epoch : 2 || 5150/8498 || loss : 0.121, iou : 92.864 pixel_acc : 96.301\n"
          ]
        },
        {
          "output_type": "stream",
          "name": "stderr",
          "text": [
            "5202it [12:19,  7.11it/s]"
          ]
        },
        {
          "output_type": "stream",
          "name": "stdout",
          "text": [
            "Epoch : 2 || 5200/8498 || loss : 0.151, iou : 88.888 pixel_acc : 96.151\n"
          ]
        },
        {
          "output_type": "stream",
          "name": "stderr",
          "text": [
            "5252it [12:26,  6.99it/s]"
          ]
        },
        {
          "output_type": "stream",
          "name": "stdout",
          "text": [
            "Epoch : 2 || 5250/8498 || loss : 0.261, iou : 67.866 pixel_acc : 92.467\n"
          ]
        },
        {
          "output_type": "stream",
          "name": "stderr",
          "text": [
            "5302it [12:33,  7.34it/s]"
          ]
        },
        {
          "output_type": "stream",
          "name": "stdout",
          "text": [
            "Epoch : 2 || 5300/8498 || loss : 0.101, iou : 92.054 pixel_acc : 96.493\n"
          ]
        },
        {
          "output_type": "stream",
          "name": "stderr",
          "text": [
            "5352it [12:40,  6.95it/s]"
          ]
        },
        {
          "output_type": "stream",
          "name": "stdout",
          "text": [
            "Epoch : 2 || 5350/8498 || loss : 0.046, iou : 93.676 pixel_acc : 98.329\n"
          ]
        },
        {
          "output_type": "stream",
          "name": "stderr",
          "text": [
            "5402it [12:47,  6.88it/s]"
          ]
        },
        {
          "output_type": "stream",
          "name": "stdout",
          "text": [
            "Epoch : 2 || 5400/8498 || loss : 0.594, iou : 40.527 pixel_acc : 81.565\n"
          ]
        },
        {
          "output_type": "stream",
          "name": "stderr",
          "text": [
            "5452it [12:54,  7.01it/s]"
          ]
        },
        {
          "output_type": "stream",
          "name": "stdout",
          "text": [
            "Epoch : 2 || 5450/8498 || loss : 0.041, iou : 33.225 pixel_acc : 99.469\n"
          ]
        },
        {
          "output_type": "stream",
          "name": "stderr",
          "text": [
            "5502it [13:01,  7.42it/s]"
          ]
        },
        {
          "output_type": "stream",
          "name": "stdout",
          "text": [
            "Epoch : 2 || 5500/8498 || loss : 0.144, iou : 91.210 pixel_acc : 95.500\n"
          ]
        },
        {
          "output_type": "stream",
          "name": "stderr",
          "text": [
            "5552it [13:09,  6.86it/s]"
          ]
        },
        {
          "output_type": "stream",
          "name": "stdout",
          "text": [
            "Epoch : 2 || 5550/8498 || loss : 0.067, iou : 91.421 pixel_acc : 97.559\n"
          ]
        },
        {
          "output_type": "stream",
          "name": "stderr",
          "text": [
            "5602it [13:16,  7.22it/s]"
          ]
        },
        {
          "output_type": "stream",
          "name": "stdout",
          "text": [
            "Epoch : 2 || 5600/8498 || loss : 0.172, iou : 84.298 pixel_acc : 95.771\n"
          ]
        },
        {
          "output_type": "stream",
          "name": "stderr",
          "text": [
            "5652it [13:22,  6.90it/s]"
          ]
        },
        {
          "output_type": "stream",
          "name": "stdout",
          "text": [
            "Epoch : 2 || 5650/8498 || loss : 0.051, iou : 84.664 pixel_acc : 98.069\n"
          ]
        },
        {
          "output_type": "stream",
          "name": "stderr",
          "text": [
            "5702it [13:30,  6.80it/s]"
          ]
        },
        {
          "output_type": "stream",
          "name": "stdout",
          "text": [
            "Epoch : 2 || 5700/8498 || loss : 0.085, iou : 59.248 pixel_acc : 96.664\n"
          ]
        },
        {
          "output_type": "stream",
          "name": "stderr",
          "text": [
            "5752it [13:37,  7.07it/s]"
          ]
        },
        {
          "output_type": "stream",
          "name": "stdout",
          "text": [
            "Epoch : 2 || 5750/8498 || loss : 0.081, iou : 90.792 pixel_acc : 97.191\n"
          ]
        },
        {
          "output_type": "stream",
          "name": "stderr",
          "text": [
            "5802it [13:44,  7.06it/s]"
          ]
        },
        {
          "output_type": "stream",
          "name": "stdout",
          "text": [
            "Epoch : 2 || 5800/8498 || loss : 0.186, iou : 56.870 pixel_acc : 94.190\n"
          ]
        },
        {
          "output_type": "stream",
          "name": "stderr",
          "text": [
            "5852it [13:51,  6.68it/s]"
          ]
        },
        {
          "output_type": "stream",
          "name": "stdout",
          "text": [
            "Epoch : 2 || 5850/8498 || loss : 0.170, iou : 57.556 pixel_acc : 93.933\n"
          ]
        },
        {
          "output_type": "stream",
          "name": "stderr",
          "text": [
            "5902it [13:58,  6.92it/s]"
          ]
        },
        {
          "output_type": "stream",
          "name": "stdout",
          "text": [
            "Epoch : 2 || 5900/8498 || loss : 0.422, iou : 66.017 pixel_acc : 86.058\n"
          ]
        },
        {
          "output_type": "stream",
          "name": "stderr",
          "text": [
            "5952it [14:05,  7.19it/s]"
          ]
        },
        {
          "output_type": "stream",
          "name": "stdout",
          "text": [
            "Epoch : 2 || 5950/8498 || loss : 0.140, iou : 94.197 pixel_acc : 97.020\n"
          ]
        },
        {
          "output_type": "stream",
          "name": "stderr",
          "text": [
            "6002it [14:12,  7.16it/s]"
          ]
        },
        {
          "output_type": "stream",
          "name": "stdout",
          "text": [
            "Epoch : 2 || 6000/8498 || loss : 0.174, iou : 59.704 pixel_acc : 94.802\n"
          ]
        },
        {
          "output_type": "stream",
          "name": "stderr",
          "text": [
            "6052it [14:20,  7.21it/s]"
          ]
        },
        {
          "output_type": "stream",
          "name": "stdout",
          "text": [
            "Epoch : 2 || 6050/8498 || loss : 0.251, iou : 80.187 pixel_acc : 89.098\n"
          ]
        },
        {
          "output_type": "stream",
          "name": "stderr",
          "text": [
            "6102it [14:26,  7.29it/s]"
          ]
        },
        {
          "output_type": "stream",
          "name": "stdout",
          "text": [
            "Epoch : 2 || 6100/8498 || loss : 0.044, iou : 86.522 pixel_acc : 98.132\n"
          ]
        },
        {
          "output_type": "stream",
          "name": "stderr",
          "text": [
            "6152it [14:33,  6.93it/s]"
          ]
        },
        {
          "output_type": "stream",
          "name": "stdout",
          "text": [
            "Epoch : 2 || 6150/8498 || loss : 0.420, iou : 43.974 pixel_acc : 86.628\n"
          ]
        },
        {
          "output_type": "stream",
          "name": "stderr",
          "text": [
            "6202it [14:41,  6.86it/s]"
          ]
        },
        {
          "output_type": "stream",
          "name": "stdout",
          "text": [
            "Epoch : 2 || 6200/8498 || loss : 0.201, iou : 86.294 pixel_acc : 93.971\n"
          ]
        },
        {
          "output_type": "stream",
          "name": "stderr",
          "text": [
            "6252it [14:48,  7.24it/s]"
          ]
        },
        {
          "output_type": "stream",
          "name": "stdout",
          "text": [
            "Epoch : 2 || 6250/8498 || loss : 0.070, iou : 88.021 pixel_acc : 98.694\n"
          ]
        },
        {
          "output_type": "stream",
          "name": "stderr",
          "text": [
            "6302it [14:55,  7.01it/s]"
          ]
        },
        {
          "output_type": "stream",
          "name": "stdout",
          "text": [
            "Epoch : 2 || 6300/8498 || loss : 0.196, iou : 85.100 pixel_acc : 93.549\n"
          ]
        },
        {
          "output_type": "stream",
          "name": "stderr",
          "text": [
            "6352it [15:02,  6.90it/s]"
          ]
        },
        {
          "output_type": "stream",
          "name": "stdout",
          "text": [
            "Epoch : 2 || 6350/8498 || loss : 0.328, iou : 60.785 pixel_acc : 89.468\n"
          ]
        },
        {
          "output_type": "stream",
          "name": "stderr",
          "text": [
            "6402it [15:09,  7.17it/s]"
          ]
        },
        {
          "output_type": "stream",
          "name": "stdout",
          "text": [
            "Epoch : 2 || 6400/8498 || loss : 0.406, iou : 40.523 pixel_acc : 91.347\n"
          ]
        },
        {
          "output_type": "stream",
          "name": "stderr",
          "text": [
            "6452it [15:16,  7.09it/s]"
          ]
        },
        {
          "output_type": "stream",
          "name": "stdout",
          "text": [
            "Epoch : 2 || 6450/8498 || loss : 0.105, iou : 91.442 pixel_acc : 96.909\n"
          ]
        },
        {
          "output_type": "stream",
          "name": "stderr",
          "text": [
            "6502it [15:24,  6.54it/s]"
          ]
        },
        {
          "output_type": "stream",
          "name": "stdout",
          "text": [
            "Epoch : 2 || 6500/8498 || loss : 0.048, iou : 68.767 pixel_acc : 98.408\n"
          ]
        },
        {
          "output_type": "stream",
          "name": "stderr",
          "text": [
            "6552it [15:31,  7.32it/s]"
          ]
        },
        {
          "output_type": "stream",
          "name": "stdout",
          "text": [
            "Epoch : 2 || 6550/8498 || loss : 0.122, iou : 89.924 pixel_acc : 95.193\n"
          ]
        },
        {
          "output_type": "stream",
          "name": "stderr",
          "text": [
            "6602it [15:38,  7.05it/s]"
          ]
        },
        {
          "output_type": "stream",
          "name": "stdout",
          "text": [
            "Epoch : 2 || 6600/8498 || loss : 0.184, iou : 87.804 pixel_acc : 93.605\n"
          ]
        },
        {
          "output_type": "stream",
          "name": "stderr",
          "text": [
            "6652it [15:45,  6.87it/s]"
          ]
        },
        {
          "output_type": "stream",
          "name": "stdout",
          "text": [
            "Epoch : 2 || 6650/8498 || loss : 0.395, iou : 67.763 pixel_acc : 87.527\n"
          ]
        },
        {
          "output_type": "stream",
          "name": "stderr",
          "text": [
            "6702it [15:52,  7.23it/s]"
          ]
        },
        {
          "output_type": "stream",
          "name": "stdout",
          "text": [
            "Epoch : 2 || 6700/8498 || loss : 0.114, iou : 73.636 pixel_acc : 95.876\n"
          ]
        },
        {
          "output_type": "stream",
          "name": "stderr",
          "text": [
            "6752it [15:59,  7.24it/s]"
          ]
        },
        {
          "output_type": "stream",
          "name": "stdout",
          "text": [
            "Epoch : 2 || 6750/8498 || loss : 0.075, iou : 88.117 pixel_acc : 97.810\n"
          ]
        },
        {
          "output_type": "stream",
          "name": "stderr",
          "text": [
            "6802it [16:06,  7.20it/s]"
          ]
        },
        {
          "output_type": "stream",
          "name": "stdout",
          "text": [
            "Epoch : 2 || 6800/8498 || loss : 0.143, iou : 73.743 pixel_acc : 94.687\n"
          ]
        },
        {
          "output_type": "stream",
          "name": "stderr",
          "text": [
            "6852it [16:13,  7.16it/s]"
          ]
        },
        {
          "output_type": "stream",
          "name": "stdout",
          "text": [
            "Epoch : 2 || 6850/8498 || loss : 0.313, iou : 80.112 pixel_acc : 89.506\n"
          ]
        },
        {
          "output_type": "stream",
          "name": "stderr",
          "text": [
            "6902it [16:20,  7.16it/s]"
          ]
        },
        {
          "output_type": "stream",
          "name": "stdout",
          "text": [
            "Epoch : 2 || 6900/8498 || loss : 0.098, iou : 94.652 pixel_acc : 97.889\n"
          ]
        },
        {
          "output_type": "stream",
          "name": "stderr",
          "text": [
            "6952it [16:28,  7.03it/s]"
          ]
        },
        {
          "output_type": "stream",
          "name": "stdout",
          "text": [
            "Epoch : 2 || 6950/8498 || loss : 0.163, iou : 89.652 pixel_acc : 95.057\n"
          ]
        },
        {
          "output_type": "stream",
          "name": "stderr",
          "text": [
            "7002it [16:35,  7.13it/s]"
          ]
        },
        {
          "output_type": "stream",
          "name": "stdout",
          "text": [
            "Epoch : 2 || 7000/8498 || loss : 0.332, iou : 87.238 pixel_acc : 93.886\n"
          ]
        },
        {
          "output_type": "stream",
          "name": "stderr",
          "text": [
            "7052it [16:42,  7.17it/s]"
          ]
        },
        {
          "output_type": "stream",
          "name": "stdout",
          "text": [
            "Epoch : 2 || 7050/8498 || loss : 0.106, iou : 91.529 pixel_acc : 96.220\n"
          ]
        },
        {
          "output_type": "stream",
          "name": "stderr",
          "text": [
            "7102it [16:49,  7.08it/s]"
          ]
        },
        {
          "output_type": "stream",
          "name": "stdout",
          "text": [
            "Epoch : 2 || 7100/8498 || loss : 0.308, iou : 54.463 pixel_acc : 89.983\n"
          ]
        },
        {
          "output_type": "stream",
          "name": "stderr",
          "text": [
            "7152it [16:56,  7.49it/s]"
          ]
        },
        {
          "output_type": "stream",
          "name": "stdout",
          "text": [
            "Epoch : 2 || 7150/8498 || loss : 0.186, iou : 90.419 pixel_acc : 95.035\n"
          ]
        },
        {
          "output_type": "stream",
          "name": "stderr",
          "text": [
            "7202it [17:03,  7.15it/s]"
          ]
        },
        {
          "output_type": "stream",
          "name": "stdout",
          "text": [
            "Epoch : 2 || 7200/8498 || loss : 0.097, iou : 94.936 pixel_acc : 97.570\n"
          ]
        },
        {
          "output_type": "stream",
          "name": "stderr",
          "text": [
            "7252it [17:10,  6.73it/s]"
          ]
        },
        {
          "output_type": "stream",
          "name": "stdout",
          "text": [
            "Epoch : 2 || 7250/8498 || loss : 0.036, iou : 62.503 pixel_acc : 98.922\n"
          ]
        },
        {
          "output_type": "stream",
          "name": "stderr",
          "text": [
            "7302it [17:17,  6.84it/s]"
          ]
        },
        {
          "output_type": "stream",
          "name": "stdout",
          "text": [
            "Epoch : 2 || 7300/8498 || loss : 0.107, iou : 93.523 pixel_acc : 96.680\n"
          ]
        },
        {
          "output_type": "stream",
          "name": "stderr",
          "text": [
            "7352it [17:24,  7.61it/s]"
          ]
        },
        {
          "output_type": "stream",
          "name": "stdout",
          "text": [
            "Epoch : 2 || 7350/8498 || loss : 0.146, iou : 87.032 pixel_acc : 94.415\n"
          ]
        },
        {
          "output_type": "stream",
          "name": "stderr",
          "text": [
            "7402it [17:31,  7.47it/s]"
          ]
        },
        {
          "output_type": "stream",
          "name": "stdout",
          "text": [
            "Epoch : 2 || 7400/8498 || loss : 0.102, iou : 94.939 pixel_acc : 97.925\n"
          ]
        },
        {
          "output_type": "stream",
          "name": "stderr",
          "text": [
            "7452it [17:39,  7.32it/s]"
          ]
        },
        {
          "output_type": "stream",
          "name": "stdout",
          "text": [
            "Epoch : 2 || 7450/8498 || loss : 0.094, iou : 90.631 pixel_acc : 96.062\n"
          ]
        },
        {
          "output_type": "stream",
          "name": "stderr",
          "text": [
            "7502it [17:46,  7.14it/s]"
          ]
        },
        {
          "output_type": "stream",
          "name": "stdout",
          "text": [
            "Epoch : 2 || 7500/8498 || loss : 0.458, iou : 55.006 pixel_acc : 85.528\n"
          ]
        },
        {
          "output_type": "stream",
          "name": "stderr",
          "text": [
            "7552it [17:52,  7.22it/s]"
          ]
        },
        {
          "output_type": "stream",
          "name": "stdout",
          "text": [
            "Epoch : 2 || 7550/8498 || loss : 0.255, iou : 84.300 pixel_acc : 91.484\n"
          ]
        },
        {
          "output_type": "stream",
          "name": "stderr",
          "text": [
            "7602it [18:00,  7.38it/s]"
          ]
        },
        {
          "output_type": "stream",
          "name": "stdout",
          "text": [
            "Epoch : 2 || 7600/8498 || loss : 0.217, iou : 59.977 pixel_acc : 93.425\n"
          ]
        },
        {
          "output_type": "stream",
          "name": "stderr",
          "text": [
            "7652it [18:07,  7.19it/s]"
          ]
        },
        {
          "output_type": "stream",
          "name": "stdout",
          "text": [
            "Epoch : 2 || 7650/8498 || loss : 0.109, iou : 57.846 pixel_acc : 97.466\n"
          ]
        },
        {
          "output_type": "stream",
          "name": "stderr",
          "text": [
            "7702it [18:14,  7.13it/s]"
          ]
        },
        {
          "output_type": "stream",
          "name": "stdout",
          "text": [
            "Epoch : 2 || 7700/8498 || loss : 0.088, iou : 88.927 pixel_acc : 96.965\n"
          ]
        },
        {
          "output_type": "stream",
          "name": "stderr",
          "text": [
            "7752it [18:21,  6.96it/s]"
          ]
        },
        {
          "output_type": "stream",
          "name": "stdout",
          "text": [
            "Epoch : 2 || 7750/8498 || loss : 0.063, iou : 83.963 pixel_acc : 97.922\n"
          ]
        },
        {
          "output_type": "stream",
          "name": "stderr",
          "text": [
            "7802it [18:28,  7.07it/s]"
          ]
        },
        {
          "output_type": "stream",
          "name": "stdout",
          "text": [
            "Epoch : 2 || 7800/8498 || loss : 0.222, iou : 87.506 pixel_acc : 93.500\n"
          ]
        },
        {
          "output_type": "stream",
          "name": "stderr",
          "text": [
            "7852it [18:35,  6.86it/s]"
          ]
        },
        {
          "output_type": "stream",
          "name": "stdout",
          "text": [
            "Epoch : 2 || 7850/8498 || loss : 0.045, iou : 83.565 pixel_acc : 98.294\n"
          ]
        },
        {
          "output_type": "stream",
          "name": "stderr",
          "text": [
            "7902it [18:42,  6.95it/s]"
          ]
        },
        {
          "output_type": "stream",
          "name": "stdout",
          "text": [
            "Epoch : 2 || 7900/8498 || loss : 0.095, iou : 49.303 pixel_acc : 98.607\n"
          ]
        },
        {
          "output_type": "stream",
          "name": "stderr",
          "text": [
            "7952it [18:49,  7.11it/s]"
          ]
        },
        {
          "output_type": "stream",
          "name": "stdout",
          "text": [
            "Epoch : 2 || 7950/8498 || loss : 0.264, iou : 33.942 pixel_acc : 93.298\n"
          ]
        },
        {
          "output_type": "stream",
          "name": "stderr",
          "text": [
            "8002it [18:56,  7.21it/s]"
          ]
        },
        {
          "output_type": "stream",
          "name": "stdout",
          "text": [
            "Epoch : 2 || 8000/8498 || loss : 0.071, iou : 91.067 pixel_acc : 97.596\n"
          ]
        },
        {
          "output_type": "stream",
          "name": "stderr",
          "text": [
            "8052it [19:03,  6.83it/s]"
          ]
        },
        {
          "output_type": "stream",
          "name": "stdout",
          "text": [
            "Epoch : 2 || 8050/8498 || loss : 0.320, iou : 52.065 pixel_acc : 87.850\n"
          ]
        },
        {
          "output_type": "stream",
          "name": "stderr",
          "text": [
            "8102it [19:10,  6.63it/s]"
          ]
        },
        {
          "output_type": "stream",
          "name": "stdout",
          "text": [
            "Epoch : 2 || 8100/8498 || loss : 0.146, iou : 78.689 pixel_acc : 96.268\n"
          ]
        },
        {
          "output_type": "stream",
          "name": "stderr",
          "text": [
            "8152it [19:17,  7.18it/s]"
          ]
        },
        {
          "output_type": "stream",
          "name": "stdout",
          "text": [
            "Epoch : 2 || 8150/8498 || loss : 0.464, iou : 34.782 pixel_acc : 83.994\n"
          ]
        },
        {
          "output_type": "stream",
          "name": "stderr",
          "text": [
            "8202it [19:24,  7.01it/s]"
          ]
        },
        {
          "output_type": "stream",
          "name": "stdout",
          "text": [
            "Epoch : 2 || 8200/8498 || loss : 0.132, iou : 76.240 pixel_acc : 95.641\n"
          ]
        },
        {
          "output_type": "stream",
          "name": "stderr",
          "text": [
            "8252it [19:32,  6.77it/s]"
          ]
        },
        {
          "output_type": "stream",
          "name": "stdout",
          "text": [
            "Epoch : 2 || 8250/8498 || loss : 0.038, iou : 93.263 pixel_acc : 99.228\n"
          ]
        },
        {
          "output_type": "stream",
          "name": "stderr",
          "text": [
            "8302it [19:39,  7.17it/s]"
          ]
        },
        {
          "output_type": "stream",
          "name": "stdout",
          "text": [
            "Epoch : 2 || 8300/8498 || loss : 0.199, iou : 88.567 pixel_acc : 95.572\n"
          ]
        },
        {
          "output_type": "stream",
          "name": "stderr",
          "text": [
            "8352it [19:46,  7.51it/s]"
          ]
        },
        {
          "output_type": "stream",
          "name": "stdout",
          "text": [
            "Epoch : 2 || 8350/8498 || loss : 0.130, iou : 32.880 pixel_acc : 98.639\n"
          ]
        },
        {
          "output_type": "stream",
          "name": "stderr",
          "text": [
            "8402it [19:53,  6.65it/s]"
          ]
        },
        {
          "output_type": "stream",
          "name": "stdout",
          "text": [
            "Epoch : 2 || 8400/8498 || loss : 0.115, iou : 89.626 pixel_acc : 96.746\n"
          ]
        },
        {
          "output_type": "stream",
          "name": "stderr",
          "text": [
            "8452it [20:00,  7.17it/s]"
          ]
        },
        {
          "output_type": "stream",
          "name": "stdout",
          "text": [
            "Epoch : 2 || 8450/8498 || loss : 0.191, iou : 48.908 pixel_acc : 97.816\n"
          ]
        },
        {
          "output_type": "stream",
          "name": "stderr",
          "text": [
            "8498it [20:06,  7.04it/s]\n"
          ]
        },
        {
          "output_type": "stream",
          "name": "stdout",
          "text": [
            ">> Epoch : 2 || AVG loss : 0.182, iou : 74.108 pixel_acc : 94.055 1207.828 secs\n"
          ]
        },
        {
          "output_type": "stream",
          "name": "stderr",
          "text": [
            "2857it [04:35, 10.36it/s]\n"
          ]
        },
        {
          "output_type": "stream",
          "name": "stdout",
          "text": [
            ">> Epoch : 2 || AVG valid loss : 0.478, iou : 61.361 pixel_acc : 88.569 1207.828 secs\n"
          ]
        },
        {
          "output_type": "stream",
          "name": "stderr",
          "text": [
            "2it [00:00,  6.07it/s]"
          ]
        },
        {
          "output_type": "stream",
          "name": "stdout",
          "text": [
            "Epoch : 3 || 0/8498 || loss : 0.201, iou : 55.087 pixel_acc : 93.244\n"
          ]
        },
        {
          "output_type": "stream",
          "name": "stderr",
          "text": [
            "52it [00:08,  5.76it/s]"
          ]
        },
        {
          "output_type": "stream",
          "name": "stdout",
          "text": [
            "Epoch : 3 || 50/8498 || loss : 0.247, iou : 77.627 pixel_acc : 90.957\n"
          ]
        },
        {
          "output_type": "stream",
          "name": "stderr",
          "text": [
            "101it [00:16,  5.51it/s]"
          ]
        },
        {
          "output_type": "stream",
          "name": "stdout",
          "text": [
            "Epoch : 3 || 100/8498 || loss : 0.086, iou : 91.454 pixel_acc : 96.864\n"
          ]
        },
        {
          "output_type": "stream",
          "name": "stderr",
          "text": [
            "152it [00:23,  7.12it/s]"
          ]
        },
        {
          "output_type": "stream",
          "name": "stdout",
          "text": [
            "Epoch : 3 || 150/8498 || loss : 0.059, iou : 95.365 pixel_acc : 97.639\n"
          ]
        },
        {
          "output_type": "stream",
          "name": "stderr",
          "text": [
            "202it [00:31,  6.48it/s]"
          ]
        },
        {
          "output_type": "stream",
          "name": "stdout",
          "text": [
            "Epoch : 3 || 200/8498 || loss : 0.169, iou : 88.327 pixel_acc : 94.027\n"
          ]
        },
        {
          "output_type": "stream",
          "name": "stderr",
          "text": [
            "252it [00:39,  6.38it/s]"
          ]
        },
        {
          "output_type": "stream",
          "name": "stdout",
          "text": [
            "Epoch : 3 || 250/8498 || loss : 0.074, iou : 82.333 pixel_acc : 97.230\n"
          ]
        },
        {
          "output_type": "stream",
          "name": "stderr",
          "text": [
            "302it [00:47,  7.17it/s]"
          ]
        },
        {
          "output_type": "stream",
          "name": "stdout",
          "text": [
            "Epoch : 3 || 300/8498 || loss : 0.113, iou : 61.785 pixel_acc : 96.024\n"
          ]
        },
        {
          "output_type": "stream",
          "name": "stderr",
          "text": [
            "352it [00:54,  7.03it/s]"
          ]
        },
        {
          "output_type": "stream",
          "name": "stdout",
          "text": [
            "Epoch : 3 || 350/8498 || loss : 0.276, iou : 56.317 pixel_acc : 92.223\n"
          ]
        },
        {
          "output_type": "stream",
          "name": "stderr",
          "text": [
            "402it [01:01,  6.95it/s]"
          ]
        },
        {
          "output_type": "stream",
          "name": "stdout",
          "text": [
            "Epoch : 3 || 400/8498 || loss : 0.267, iou : 78.563 pixel_acc : 91.917\n"
          ]
        },
        {
          "output_type": "stream",
          "name": "stderr",
          "text": [
            "452it [01:08,  7.34it/s]"
          ]
        },
        {
          "output_type": "stream",
          "name": "stdout",
          "text": [
            "Epoch : 3 || 450/8498 || loss : 0.121, iou : 89.953 pixel_acc : 95.699\n"
          ]
        },
        {
          "output_type": "stream",
          "name": "stderr",
          "text": [
            "502it [01:15,  7.31it/s]"
          ]
        },
        {
          "output_type": "stream",
          "name": "stdout",
          "text": [
            "Epoch : 3 || 500/8498 || loss : 0.060, iou : 83.857 pixel_acc : 98.220\n"
          ]
        },
        {
          "output_type": "stream",
          "name": "stderr",
          "text": [
            "552it [01:22,  6.59it/s]"
          ]
        },
        {
          "output_type": "stream",
          "name": "stdout",
          "text": [
            "Epoch : 3 || 550/8498 || loss : 0.233, iou : 83.448 pixel_acc : 91.085\n"
          ]
        },
        {
          "output_type": "stream",
          "name": "stderr",
          "text": [
            "602it [01:29,  7.33it/s]"
          ]
        },
        {
          "output_type": "stream",
          "name": "stdout",
          "text": [
            "Epoch : 3 || 600/8498 || loss : 0.279, iou : 68.813 pixel_acc : 90.299\n"
          ]
        },
        {
          "output_type": "stream",
          "name": "stderr",
          "text": [
            "652it [01:36,  7.09it/s]"
          ]
        },
        {
          "output_type": "stream",
          "name": "stdout",
          "text": [
            "Epoch : 3 || 650/8498 || loss : 0.141, iou : 90.584 pixel_acc : 95.060\n"
          ]
        },
        {
          "output_type": "stream",
          "name": "stderr",
          "text": [
            "702it [01:43,  6.86it/s]"
          ]
        },
        {
          "output_type": "stream",
          "name": "stdout",
          "text": [
            "Epoch : 3 || 700/8498 || loss : 0.213, iou : 86.518 pixel_acc : 92.874\n"
          ]
        },
        {
          "output_type": "stream",
          "name": "stderr",
          "text": [
            "752it [01:50,  6.71it/s]"
          ]
        },
        {
          "output_type": "stream",
          "name": "stdout",
          "text": [
            "Epoch : 3 || 750/8498 || loss : 0.160, iou : 88.504 pixel_acc : 94.729\n"
          ]
        },
        {
          "output_type": "stream",
          "name": "stderr",
          "text": [
            "802it [01:57,  7.59it/s]"
          ]
        },
        {
          "output_type": "stream",
          "name": "stdout",
          "text": [
            "Epoch : 3 || 800/8498 || loss : 0.094, iou : 85.996 pixel_acc : 96.377\n"
          ]
        },
        {
          "output_type": "stream",
          "name": "stderr",
          "text": [
            "852it [02:04,  6.84it/s]"
          ]
        },
        {
          "output_type": "stream",
          "name": "stdout",
          "text": [
            "Epoch : 3 || 850/8498 || loss : 0.055, iou : 84.638 pixel_acc : 98.990\n"
          ]
        },
        {
          "output_type": "stream",
          "name": "stderr",
          "text": [
            "902it [02:12,  6.42it/s]"
          ]
        },
        {
          "output_type": "stream",
          "name": "stdout",
          "text": [
            "Epoch : 3 || 900/8498 || loss : 0.213, iou : 84.407 pixel_acc : 92.606\n"
          ]
        },
        {
          "output_type": "stream",
          "name": "stderr",
          "text": [
            "952it [02:19,  7.23it/s]"
          ]
        },
        {
          "output_type": "stream",
          "name": "stdout",
          "text": [
            "Epoch : 3 || 950/8498 || loss : 0.313, iou : 70.920 pixel_acc : 88.297\n"
          ]
        },
        {
          "output_type": "stream",
          "name": "stderr",
          "text": [
            "1002it [02:26,  6.84it/s]"
          ]
        },
        {
          "output_type": "stream",
          "name": "stdout",
          "text": [
            "Epoch : 3 || 1000/8498 || loss : 0.101, iou : 87.599 pixel_acc : 95.971\n"
          ]
        },
        {
          "output_type": "stream",
          "name": "stderr",
          "text": [
            "1052it [02:33,  6.54it/s]"
          ]
        },
        {
          "output_type": "stream",
          "name": "stdout",
          "text": [
            "Epoch : 3 || 1050/8498 || loss : 0.068, iou : 92.977 pixel_acc : 97.330\n"
          ]
        },
        {
          "output_type": "stream",
          "name": "stderr",
          "text": [
            "1102it [02:40,  7.45it/s]"
          ]
        },
        {
          "output_type": "stream",
          "name": "stdout",
          "text": [
            "Epoch : 3 || 1100/8498 || loss : 0.046, iou : 94.026 pixel_acc : 98.387\n"
          ]
        },
        {
          "output_type": "stream",
          "name": "stderr",
          "text": [
            "1152it [02:47,  7.09it/s]"
          ]
        },
        {
          "output_type": "stream",
          "name": "stdout",
          "text": [
            "Epoch : 3 || 1150/8498 || loss : 0.191, iou : 85.711 pixel_acc : 94.388\n"
          ]
        },
        {
          "output_type": "stream",
          "name": "stderr",
          "text": [
            "1201it [02:54,  6.72it/s]"
          ]
        },
        {
          "output_type": "stream",
          "name": "stdout",
          "text": [
            "Epoch : 3 || 1200/8498 || loss : 0.056, iou : 89.354 pixel_acc : 97.661\n"
          ]
        },
        {
          "output_type": "stream",
          "name": "stderr",
          "text": [
            "1251it [03:01,  7.21it/s]"
          ]
        },
        {
          "output_type": "stream",
          "name": "stdout",
          "text": [
            "Epoch : 3 || 1250/8498 || loss : 0.132, iou : 89.511 pixel_acc : 95.549\n"
          ]
        },
        {
          "output_type": "stream",
          "name": "stderr",
          "text": [
            "1302it [03:08,  7.33it/s]"
          ]
        },
        {
          "output_type": "stream",
          "name": "stdout",
          "text": [
            "Epoch : 3 || 1300/8498 || loss : 0.117, iou : 83.430 pixel_acc : 97.608\n"
          ]
        },
        {
          "output_type": "stream",
          "name": "stderr",
          "text": [
            "1352it [03:15,  6.89it/s]"
          ]
        },
        {
          "output_type": "stream",
          "name": "stdout",
          "text": [
            "Epoch : 3 || 1350/8498 || loss : 0.196, iou : 88.191 pixel_acc : 94.453\n"
          ]
        },
        {
          "output_type": "stream",
          "name": "stderr",
          "text": [
            "1402it [03:22,  7.18it/s]"
          ]
        },
        {
          "output_type": "stream",
          "name": "stdout",
          "text": [
            "Epoch : 3 || 1400/8498 || loss : 0.081, iou : 82.634 pixel_acc : 96.943\n"
          ]
        },
        {
          "output_type": "stream",
          "name": "stderr",
          "text": [
            "1451it [03:29,  7.30it/s]"
          ]
        },
        {
          "output_type": "stream",
          "name": "stdout",
          "text": [
            "Epoch : 3 || 1450/8498 || loss : 0.261, iou : 70.093 pixel_acc : 90.806\n"
          ]
        },
        {
          "output_type": "stream",
          "name": "stderr",
          "text": [
            "1501it [03:35,  7.03it/s]"
          ]
        },
        {
          "output_type": "stream",
          "name": "stdout",
          "text": [
            "Epoch : 3 || 1500/8498 || loss : 0.082, iou : 49.331 pixel_acc : 98.662\n"
          ]
        },
        {
          "output_type": "stream",
          "name": "stderr",
          "text": [
            "1552it [03:43,  6.95it/s]"
          ]
        },
        {
          "output_type": "stream",
          "name": "stdout",
          "text": [
            "Epoch : 3 || 1550/8498 || loss : 0.292, iou : 42.435 pixel_acc : 89.389\n"
          ]
        },
        {
          "output_type": "stream",
          "name": "stderr",
          "text": [
            "1602it [03:50,  7.18it/s]"
          ]
        },
        {
          "output_type": "stream",
          "name": "stdout",
          "text": [
            "Epoch : 3 || 1600/8498 || loss : 0.096, iou : 93.960 pixel_acc : 96.895\n"
          ]
        },
        {
          "output_type": "stream",
          "name": "stderr",
          "text": [
            "1652it [03:57,  7.47it/s]"
          ]
        },
        {
          "output_type": "stream",
          "name": "stdout",
          "text": [
            "Epoch : 3 || 1650/8498 || loss : 0.250, iou : 59.014 pixel_acc : 93.103\n"
          ]
        },
        {
          "output_type": "stream",
          "name": "stderr",
          "text": [
            "1702it [04:04,  6.88it/s]"
          ]
        },
        {
          "output_type": "stream",
          "name": "stdout",
          "text": [
            "Epoch : 3 || 1700/8498 || loss : 0.117, iou : 41.875 pixel_acc : 95.951\n"
          ]
        },
        {
          "output_type": "stream",
          "name": "stderr",
          "text": [
            "1752it [04:11,  7.22it/s]"
          ]
        },
        {
          "output_type": "stream",
          "name": "stdout",
          "text": [
            "Epoch : 3 || 1750/8498 || loss : 0.291, iou : 84.211 pixel_acc : 91.607\n"
          ]
        },
        {
          "output_type": "stream",
          "name": "stderr",
          "text": [
            "1802it [04:17,  7.41it/s]"
          ]
        },
        {
          "output_type": "stream",
          "name": "stdout",
          "text": [
            "Epoch : 3 || 1800/8498 || loss : 0.057, iou : 93.853 pixel_acc : 98.483\n"
          ]
        },
        {
          "output_type": "stream",
          "name": "stderr",
          "text": [
            "1852it [04:25,  6.93it/s]"
          ]
        },
        {
          "output_type": "stream",
          "name": "stdout",
          "text": [
            "Epoch : 3 || 1850/8498 || loss : 0.129, iou : 92.437 pixel_acc : 96.341\n"
          ]
        },
        {
          "output_type": "stream",
          "name": "stderr",
          "text": [
            "1902it [04:32,  7.51it/s]"
          ]
        },
        {
          "output_type": "stream",
          "name": "stdout",
          "text": [
            "Epoch : 3 || 1900/8498 || loss : 0.117, iou : 78.822 pixel_acc : 95.307\n"
          ]
        },
        {
          "output_type": "stream",
          "name": "stderr",
          "text": [
            "1952it [04:39,  7.24it/s]"
          ]
        },
        {
          "output_type": "stream",
          "name": "stdout",
          "text": [
            "Epoch : 3 || 1950/8498 || loss : 0.044, iou : 89.684 pixel_acc : 98.540\n"
          ]
        },
        {
          "output_type": "stream",
          "name": "stderr",
          "text": [
            "2002it [04:46,  6.78it/s]"
          ]
        },
        {
          "output_type": "stream",
          "name": "stdout",
          "text": [
            "Epoch : 3 || 2000/8498 || loss : 0.160, iou : 61.450 pixel_acc : 95.393\n"
          ]
        },
        {
          "output_type": "stream",
          "name": "stderr",
          "text": [
            "2052it [04:53,  7.19it/s]"
          ]
        },
        {
          "output_type": "stream",
          "name": "stdout",
          "text": [
            "Epoch : 3 || 2050/8498 || loss : 0.203, iou : 87.098 pixel_acc : 93.154\n"
          ]
        },
        {
          "output_type": "stream",
          "name": "stderr",
          "text": [
            "2102it [05:00,  7.60it/s]"
          ]
        },
        {
          "output_type": "stream",
          "name": "stdout",
          "text": [
            "Epoch : 3 || 2100/8498 || loss : 0.112, iou : 58.210 pixel_acc : 96.519\n"
          ]
        },
        {
          "output_type": "stream",
          "name": "stderr",
          "text": [
            "2152it [05:07,  6.98it/s]"
          ]
        },
        {
          "output_type": "stream",
          "name": "stdout",
          "text": [
            "Epoch : 3 || 2150/8498 || loss : 0.097, iou : 84.524 pixel_acc : 97.368\n"
          ]
        },
        {
          "output_type": "stream",
          "name": "stderr",
          "text": [
            "2202it [05:14,  6.92it/s]"
          ]
        },
        {
          "output_type": "stream",
          "name": "stdout",
          "text": [
            "Epoch : 3 || 2200/8498 || loss : 0.122, iou : 71.990 pixel_acc : 94.682\n"
          ]
        },
        {
          "output_type": "stream",
          "name": "stderr",
          "text": [
            "2252it [05:21,  7.85it/s]"
          ]
        },
        {
          "output_type": "stream",
          "name": "stdout",
          "text": [
            "Epoch : 3 || 2250/8498 || loss : 0.187, iou : 86.217 pixel_acc : 93.061\n"
          ]
        },
        {
          "output_type": "stream",
          "name": "stderr",
          "text": [
            "2302it [05:28,  6.51it/s]"
          ]
        },
        {
          "output_type": "stream",
          "name": "stdout",
          "text": [
            "Epoch : 3 || 2300/8498 || loss : 0.268, iou : 81.035 pixel_acc : 91.865\n"
          ]
        },
        {
          "output_type": "stream",
          "name": "stderr",
          "text": [
            "2352it [05:35,  7.39it/s]"
          ]
        },
        {
          "output_type": "stream",
          "name": "stdout",
          "text": [
            "Epoch : 3 || 2350/8498 || loss : 0.362, iou : 39.998 pixel_acc : 87.911\n"
          ]
        },
        {
          "output_type": "stream",
          "name": "stderr",
          "text": [
            "2402it [05:42,  7.31it/s]"
          ]
        },
        {
          "output_type": "stream",
          "name": "stdout",
          "text": [
            "Epoch : 3 || 2400/8498 || loss : 0.223, iou : 77.315 pixel_acc : 91.713\n"
          ]
        },
        {
          "output_type": "stream",
          "name": "stderr",
          "text": [
            "2452it [05:49,  6.95it/s]"
          ]
        },
        {
          "output_type": "stream",
          "name": "stdout",
          "text": [
            "Epoch : 3 || 2450/8498 || loss : 0.284, iou : 75.490 pixel_acc : 91.004\n"
          ]
        },
        {
          "output_type": "stream",
          "name": "stderr",
          "text": [
            "2502it [05:56,  6.64it/s]"
          ]
        },
        {
          "output_type": "stream",
          "name": "stdout",
          "text": [
            "Epoch : 3 || 2500/8498 || loss : 0.218, iou : 86.299 pixel_acc : 92.702\n"
          ]
        },
        {
          "output_type": "stream",
          "name": "stderr",
          "text": [
            "2552it [06:03,  7.31it/s]"
          ]
        },
        {
          "output_type": "stream",
          "name": "stdout",
          "text": [
            "Epoch : 3 || 2550/8498 || loss : 0.028, iou : 92.413 pixel_acc : 99.045\n"
          ]
        },
        {
          "output_type": "stream",
          "name": "stderr",
          "text": [
            "2601it [06:10,  6.88it/s]"
          ]
        },
        {
          "output_type": "stream",
          "name": "stdout",
          "text": [
            "Epoch : 3 || 2600/8498 || loss : 0.071, iou : 93.820 pixel_acc : 97.530\n"
          ]
        },
        {
          "output_type": "stream",
          "name": "stderr",
          "text": [
            "2652it [06:17,  6.93it/s]"
          ]
        },
        {
          "output_type": "stream",
          "name": "stdout",
          "text": [
            "Epoch : 3 || 2650/8498 || loss : 0.197, iou : 70.573 pixel_acc : 92.639\n"
          ]
        },
        {
          "output_type": "stream",
          "name": "stderr",
          "text": [
            "2702it [06:24,  7.23it/s]"
          ]
        },
        {
          "output_type": "stream",
          "name": "stdout",
          "text": [
            "Epoch : 3 || 2700/8498 || loss : 0.134, iou : 77.139 pixel_acc : 94.193\n"
          ]
        },
        {
          "output_type": "stream",
          "name": "stderr",
          "text": [
            "2752it [06:31,  7.20it/s]"
          ]
        },
        {
          "output_type": "stream",
          "name": "stdout",
          "text": [
            "Epoch : 3 || 2750/8498 || loss : 0.086, iou : 68.251 pixel_acc : 98.013\n"
          ]
        },
        {
          "output_type": "stream",
          "name": "stderr",
          "text": [
            "2802it [06:38,  6.91it/s]"
          ]
        },
        {
          "output_type": "stream",
          "name": "stdout",
          "text": [
            "Epoch : 3 || 2800/8498 || loss : 0.107, iou : 93.772 pixel_acc : 96.839\n"
          ]
        },
        {
          "output_type": "stream",
          "name": "stderr",
          "text": [
            "2852it [06:45,  7.41it/s]"
          ]
        },
        {
          "output_type": "stream",
          "name": "stdout",
          "text": [
            "Epoch : 3 || 2850/8498 || loss : 0.145, iou : 63.896 pixel_acc : 94.523\n"
          ]
        },
        {
          "output_type": "stream",
          "name": "stderr",
          "text": [
            "2902it [06:52,  7.12it/s]"
          ]
        },
        {
          "output_type": "stream",
          "name": "stdout",
          "text": [
            "Epoch : 3 || 2900/8498 || loss : 0.332, iou : 76.533 pixel_acc : 88.035\n"
          ]
        },
        {
          "output_type": "stream",
          "name": "stderr",
          "text": [
            "2952it [06:59,  7.18it/s]"
          ]
        },
        {
          "output_type": "stream",
          "name": "stdout",
          "text": [
            "Epoch : 3 || 2950/8498 || loss : 0.064, iou : 91.216 pixel_acc : 97.461\n"
          ]
        },
        {
          "output_type": "stream",
          "name": "stderr",
          "text": [
            "3002it [07:07,  6.81it/s]"
          ]
        },
        {
          "output_type": "stream",
          "name": "stdout",
          "text": [
            "Epoch : 3 || 3000/8498 || loss : 0.199, iou : 62.028 pixel_acc : 91.317\n"
          ]
        },
        {
          "output_type": "stream",
          "name": "stderr",
          "text": [
            "3052it [07:14,  7.20it/s]"
          ]
        },
        {
          "output_type": "stream",
          "name": "stdout",
          "text": [
            "Epoch : 3 || 3050/8498 || loss : 0.062, iou : 92.417 pixel_acc : 97.503\n"
          ]
        },
        {
          "output_type": "stream",
          "name": "stderr",
          "text": [
            "3102it [07:21,  6.86it/s]"
          ]
        },
        {
          "output_type": "stream",
          "name": "stdout",
          "text": [
            "Epoch : 3 || 3100/8498 || loss : 0.267, iou : 67.118 pixel_acc : 92.371\n"
          ]
        },
        {
          "output_type": "stream",
          "name": "stderr",
          "text": [
            "3152it [07:28,  6.79it/s]"
          ]
        },
        {
          "output_type": "stream",
          "name": "stdout",
          "text": [
            "Epoch : 3 || 3150/8498 || loss : 0.155, iou : 46.546 pixel_acc : 95.835\n"
          ]
        },
        {
          "output_type": "stream",
          "name": "stderr",
          "text": [
            "3202it [07:35,  7.27it/s]"
          ]
        },
        {
          "output_type": "stream",
          "name": "stdout",
          "text": [
            "Epoch : 3 || 3200/8498 || loss : 0.086, iou : 86.826 pixel_acc : 97.087\n"
          ]
        },
        {
          "output_type": "stream",
          "name": "stderr",
          "text": [
            "3252it [07:42,  7.05it/s]"
          ]
        },
        {
          "output_type": "stream",
          "name": "stdout",
          "text": [
            "Epoch : 3 || 3250/8498 || loss : 0.180, iou : 84.871 pixel_acc : 93.968\n"
          ]
        },
        {
          "output_type": "stream",
          "name": "stderr",
          "text": [
            "3302it [07:49,  6.89it/s]"
          ]
        },
        {
          "output_type": "stream",
          "name": "stdout",
          "text": [
            "Epoch : 3 || 3300/8498 || loss : 0.190, iou : 80.394 pixel_acc : 93.493\n"
          ]
        },
        {
          "output_type": "stream",
          "name": "stderr",
          "text": [
            "3352it [07:56,  7.26it/s]"
          ]
        },
        {
          "output_type": "stream",
          "name": "stdout",
          "text": [
            "Epoch : 3 || 3350/8498 || loss : 0.089, iou : 70.789 pixel_acc : 96.116\n"
          ]
        },
        {
          "output_type": "stream",
          "name": "stderr",
          "text": [
            "3402it [08:03,  7.36it/s]"
          ]
        },
        {
          "output_type": "stream",
          "name": "stdout",
          "text": [
            "Epoch : 3 || 3400/8498 || loss : 0.074, iou : 93.439 pixel_acc : 97.661\n"
          ]
        },
        {
          "output_type": "stream",
          "name": "stderr",
          "text": [
            "3452it [08:10,  6.85it/s]"
          ]
        },
        {
          "output_type": "stream",
          "name": "stdout",
          "text": [
            "Epoch : 3 || 3450/8498 || loss : 0.213, iou : 84.632 pixel_acc : 91.909\n"
          ]
        },
        {
          "output_type": "stream",
          "name": "stderr",
          "text": [
            "3502it [08:17,  7.22it/s]"
          ]
        },
        {
          "output_type": "stream",
          "name": "stdout",
          "text": [
            "Epoch : 3 || 3500/8498 || loss : 0.209, iou : 76.285 pixel_acc : 92.454\n"
          ]
        },
        {
          "output_type": "stream",
          "name": "stderr",
          "text": [
            "3552it [08:24,  7.39it/s]"
          ]
        },
        {
          "output_type": "stream",
          "name": "stdout",
          "text": [
            "Epoch : 3 || 3550/8498 || loss : 0.171, iou : 62.943 pixel_acc : 93.495\n"
          ]
        },
        {
          "output_type": "stream",
          "name": "stderr",
          "text": [
            "3601it [08:31,  6.68it/s]"
          ]
        },
        {
          "output_type": "stream",
          "name": "stdout",
          "text": [
            "Epoch : 3 || 3600/8498 || loss : 0.305, iou : 62.576 pixel_acc : 89.364\n"
          ]
        },
        {
          "output_type": "stream",
          "name": "stderr",
          "text": [
            "3652it [08:38,  7.01it/s]"
          ]
        },
        {
          "output_type": "stream",
          "name": "stdout",
          "text": [
            "Epoch : 3 || 3650/8498 || loss : 0.167, iou : 77.625 pixel_acc : 93.094\n"
          ]
        },
        {
          "output_type": "stream",
          "name": "stderr",
          "text": [
            "3702it [08:45,  7.16it/s]"
          ]
        },
        {
          "output_type": "stream",
          "name": "stdout",
          "text": [
            "Epoch : 3 || 3700/8498 || loss : 0.174, iou : 60.071 pixel_acc : 94.638\n"
          ]
        },
        {
          "output_type": "stream",
          "name": "stderr",
          "text": [
            "3752it [08:52,  7.14it/s]"
          ]
        },
        {
          "output_type": "stream",
          "name": "stdout",
          "text": [
            "Epoch : 3 || 3750/8498 || loss : 0.220, iou : 86.662 pixel_acc : 94.610\n"
          ]
        },
        {
          "output_type": "stream",
          "name": "stderr",
          "text": [
            "3801it [08:59,  7.28it/s]"
          ]
        },
        {
          "output_type": "stream",
          "name": "stdout",
          "text": [
            "Epoch : 3 || 3800/8498 || loss : 0.112, iou : 81.827 pixel_acc : 96.200\n"
          ]
        },
        {
          "output_type": "stream",
          "name": "stderr",
          "text": [
            "3852it [09:06,  7.04it/s]"
          ]
        },
        {
          "output_type": "stream",
          "name": "stdout",
          "text": [
            "Epoch : 3 || 3850/8498 || loss : 0.188, iou : 58.628 pixel_acc : 93.381\n"
          ]
        },
        {
          "output_type": "stream",
          "name": "stderr",
          "text": [
            "3902it [09:13,  7.09it/s]"
          ]
        },
        {
          "output_type": "stream",
          "name": "stdout",
          "text": [
            "Epoch : 3 || 3900/8498 || loss : 0.021, iou : 77.056 pixel_acc : 99.389\n"
          ]
        },
        {
          "output_type": "stream",
          "name": "stderr",
          "text": [
            "3952it [09:21,  7.87it/s]"
          ]
        },
        {
          "output_type": "stream",
          "name": "stdout",
          "text": [
            "Epoch : 3 || 3950/8498 || loss : 0.172, iou : 85.550 pixel_acc : 93.365\n"
          ]
        },
        {
          "output_type": "stream",
          "name": "stderr",
          "text": [
            "4002it [09:28,  7.13it/s]"
          ]
        },
        {
          "output_type": "stream",
          "name": "stdout",
          "text": [
            "Epoch : 3 || 4000/8498 || loss : 0.195, iou : 75.837 pixel_acc : 92.574\n"
          ]
        },
        {
          "output_type": "stream",
          "name": "stderr",
          "text": [
            "4052it [09:35,  6.83it/s]"
          ]
        },
        {
          "output_type": "stream",
          "name": "stdout",
          "text": [
            "Epoch : 3 || 4050/8498 || loss : 0.245, iou : 68.700 pixel_acc : 93.426\n"
          ]
        },
        {
          "output_type": "stream",
          "name": "stderr",
          "text": [
            "4102it [09:42,  6.89it/s]"
          ]
        },
        {
          "output_type": "stream",
          "name": "stdout",
          "text": [
            "Epoch : 3 || 4100/8498 || loss : 0.153, iou : 52.723 pixel_acc : 95.771\n"
          ]
        },
        {
          "output_type": "stream",
          "name": "stderr",
          "text": [
            "4152it [09:49,  7.54it/s]"
          ]
        },
        {
          "output_type": "stream",
          "name": "stdout",
          "text": [
            "Epoch : 3 || 4150/8498 || loss : 0.175, iou : 86.856 pixel_acc : 92.971\n"
          ]
        },
        {
          "output_type": "stream",
          "name": "stderr",
          "text": [
            "4202it [09:56,  7.21it/s]"
          ]
        },
        {
          "output_type": "stream",
          "name": "stdout",
          "text": [
            "Epoch : 3 || 4200/8498 || loss : 0.142, iou : 91.530 pixel_acc : 95.866\n"
          ]
        },
        {
          "output_type": "stream",
          "name": "stderr",
          "text": [
            "4252it [10:03,  6.94it/s]"
          ]
        },
        {
          "output_type": "stream",
          "name": "stdout",
          "text": [
            "Epoch : 3 || 4250/8498 || loss : 0.113, iou : 86.032 pixel_acc : 96.751\n"
          ]
        },
        {
          "output_type": "stream",
          "name": "stderr",
          "text": [
            "4302it [10:10,  7.29it/s]"
          ]
        },
        {
          "output_type": "stream",
          "name": "stdout",
          "text": [
            "Epoch : 3 || 4300/8498 || loss : 0.207, iou : 67.877 pixel_acc : 93.434\n"
          ]
        },
        {
          "output_type": "stream",
          "name": "stderr",
          "text": [
            "4352it [10:17,  7.28it/s]"
          ]
        },
        {
          "output_type": "stream",
          "name": "stdout",
          "text": [
            "Epoch : 3 || 4350/8498 || loss : 0.114, iou : 88.812 pixel_acc : 95.390\n"
          ]
        },
        {
          "output_type": "stream",
          "name": "stderr",
          "text": [
            "4402it [10:24,  7.55it/s]"
          ]
        },
        {
          "output_type": "stream",
          "name": "stdout",
          "text": [
            "Epoch : 3 || 4400/8498 || loss : 0.129, iou : 89.549 pixel_acc : 96.801\n"
          ]
        },
        {
          "output_type": "stream",
          "name": "stderr",
          "text": [
            "4452it [10:31,  6.92it/s]"
          ]
        },
        {
          "output_type": "stream",
          "name": "stdout",
          "text": [
            "Epoch : 3 || 4450/8498 || loss : 0.146, iou : 78.189 pixel_acc : 95.454\n"
          ]
        },
        {
          "output_type": "stream",
          "name": "stderr",
          "text": [
            "4502it [10:38,  7.44it/s]"
          ]
        },
        {
          "output_type": "stream",
          "name": "stdout",
          "text": [
            "Epoch : 3 || 4500/8498 || loss : 0.106, iou : 90.872 pixel_acc : 95.881\n"
          ]
        },
        {
          "output_type": "stream",
          "name": "stderr",
          "text": [
            "4552it [10:45,  7.05it/s]"
          ]
        },
        {
          "output_type": "stream",
          "name": "stdout",
          "text": [
            "Epoch : 3 || 4550/8498 || loss : 0.272, iou : 79.245 pixel_acc : 90.777\n"
          ]
        },
        {
          "output_type": "stream",
          "name": "stderr",
          "text": [
            "4602it [10:52,  6.70it/s]"
          ]
        },
        {
          "output_type": "stream",
          "name": "stdout",
          "text": [
            "Epoch : 3 || 4600/8498 || loss : 0.262, iou : 56.129 pixel_acc : 92.614\n"
          ]
        },
        {
          "output_type": "stream",
          "name": "stderr",
          "text": [
            "4652it [10:59,  7.46it/s]"
          ]
        },
        {
          "output_type": "stream",
          "name": "stdout",
          "text": [
            "Epoch : 3 || 4650/8498 || loss : 0.159, iou : 89.614 pixel_acc : 94.687\n"
          ]
        },
        {
          "output_type": "stream",
          "name": "stderr",
          "text": [
            "4702it [11:06,  6.99it/s]"
          ]
        },
        {
          "output_type": "stream",
          "name": "stdout",
          "text": [
            "Epoch : 3 || 4700/8498 || loss : 0.216, iou : 74.031 pixel_acc : 94.539\n"
          ]
        },
        {
          "output_type": "stream",
          "name": "stderr",
          "text": [
            "4752it [11:13,  6.78it/s]"
          ]
        },
        {
          "output_type": "stream",
          "name": "stdout",
          "text": [
            "Epoch : 3 || 4750/8498 || loss : 0.273, iou : 76.272 pixel_acc : 90.543\n"
          ]
        },
        {
          "output_type": "stream",
          "name": "stderr",
          "text": [
            "4802it [11:20,  7.19it/s]"
          ]
        },
        {
          "output_type": "stream",
          "name": "stdout",
          "text": [
            "Epoch : 3 || 4800/8498 || loss : 0.146, iou : 90.258 pixel_acc : 95.113\n"
          ]
        },
        {
          "output_type": "stream",
          "name": "stderr",
          "text": [
            "4839it [11:25,  7.17it/s]"
          ]
        }
      ]
    },
    {
      "cell_type": "markdown",
      "metadata": {
        "id": "yLSgFytb11DV"
      },
      "source": [
        "# Aggregating Results"
      ]
    },
    {
      "cell_type": "markdown",
      "source": [
        "After you've trained FCN32 or FCN8, load your best models and run the following block to check validation accuracy, and compare IoU improvements made by CRF. Since the validation set contains nearly 3,000 images, this will take up to 30 minutes.\n",
        "\n",
        "You can regard that your implementation is correct if performance is in ± 2%p (pixel accuracy), 0.01 (mIoU) of the following values:\n",
        "- FCN32\n",
        "  - Without CRF: 88% pixel accuracy, 0.596 mIoU\n",
        "- FCN8\n",
        "  - Without CRF: 89% pixel accuracy, 0.614 mIoU.  \n",
        "\n",
        "The exact values are subject to change, don't worry too much if you missed the range by a small margin."
      ],
      "metadata": {
        "id": "hxzyms5sZWvx"
      }
    },
    {
      "cell_type": "code",
      "metadata": {
        "id": "4pbH7_yA12Qz"
      },
      "source": [
        "# specify path to your best trained model.\n",
        "# for example if you want to FCN32 load from folder 'trial_5', modify 'trial_99' into 'trial_5'.\n",
        "FCN32_path = result_dir / 'trial_1' / 'best.pt'\n",
        "# FCN8_path = result_dir / 'trial_5' / 'best.pt'\n",
        "\n",
        "# OPTIONAL: Read text below this code cell.\n",
        "use_crf = False\n",
        "\n",
        "model1 = FCN32().to(device)\n",
        "model1.load_state_dict(torch.load(FCN32_path, map_location=device))\n",
        "# model2 = FCN8().to(device)\n",
        "# model2.load_state_dict(torch.load(FCN8_path, map_location=device))\n",
        "\n",
        "criterion = nn.CrossEntropyLoss(ignore_index=21, reduction='none')\n",
        "colorize = Colorize(21, get_color_map())\n",
        "\n",
        "net = model1\n",
        "# for net in [model1, model2]:\n",
        "net.eval()\n",
        "\n",
        "valid_loss_total = 0\n",
        "valid_ious = []\n",
        "valid_pixel_accs = []\n",
        "valid_ious_crf = []\n",
        "valid_pixel_accs_crf = []\n",
        "\n",
        "with torch.no_grad():\n",
        "    for batch_idx, (image, label) in enumerate(test_loader):\n",
        "        # Move variables to gpu.\n",
        "        image = image.to(device)\n",
        "        label = label.to(device)\n",
        "\n",
        "        output, loss, pred = get_prediction(criterion, net, image, label)\n",
        "        # CRF for some images.\n",
        "        if use_crf:\n",
        "            image_permuted = image.cpu().permute(1, 0, 2, 3)\n",
        "            un_norm = torch.zeros_like(image_permuted)\n",
        "            for idx, (im, m, s) in enumerate(zip(image_permuted, mean, std)):\n",
        "                un_norm[idx] = (im * s) + m\n",
        "            un_norm = un_norm.permute(1, 0, 2, 3)\n",
        "\n",
        "            output_softmax = torch.nn.functional.softmax(output, dim=1).detach().cpu()\n",
        "            un_norm_int = (un_norm * 255).squeeze().permute(1, 2, 0).numpy().astype(np.ubyte)\n",
        "            pred_crf = dense_crf(un_norm_int, output_softmax.squeeze().numpy())\n",
        "            pred_crf = np.expand_dims(np.argmax(pred_crf, 0), 0)\n",
        "\n",
        "            target = label.squeeze(1).cpu().numpy()\n",
        "            acc_crf, mean_iu_crf = label_accuracy_score(target, pred_crf, n_class=21)\n",
        "            valid_pixel_accs_crf.append(acc_crf)\n",
        "            valid_ious_crf.append(mean_iu_crf)\n",
        "\n",
        "        target = label.squeeze(1).cpu().numpy()\n",
        "        acc, mean_iu = label_accuracy_score(target, pred.cpu().numpy(), n_class=21)\n",
        "\n",
        "        # update total loss.\n",
        "        valid_loss_total += loss.item()\n",
        "\n",
        "        valid_pixel_accs.append(acc)\n",
        "        valid_ious.append(mean_iu)\n",
        "\n",
        "        # # this is only for testing\n",
        "        # if batch_idx > 50:\n",
        "        #   break\n",
        "\n",
        "    # calculate average IoU\n",
        "    total_valid_ious = np.array(valid_ious).T\n",
        "    total_valid_ious = np.nanmean(total_valid_ious).mean()\n",
        "    total_valid_pixel_acc = np.array(valid_pixel_accs).mean()\n",
        "\n",
        "    print(f'{type(net).__name__}:')\n",
        "    print(f'Pixel accuracy: {total_valid_pixel_acc * 100:.3f}, mIoU: {total_valid_ious:.3f}')\n",
        "\n",
        "    if use_crf:\n",
        "        total_valid_ious_crf = np.array(valid_ious_crf).T\n",
        "        total_valid_ious_crf = np.nanmean(total_valid_ious_crf).mean()\n",
        "        total_valid_pixel_acc_crf = np.array(valid_pixel_accs_crf).mean()\n",
        "        print(f'CRF Pixel accuracy: {total_valid_pixel_acc_crf * 100:.3f}, CRF mIoU: {total_valid_ious_crf:.3f}')\n"
      ],
      "execution_count": null,
      "outputs": []
    },
    {
      "cell_type": "markdown",
      "metadata": {
        "id": "D2M0KqxoWnnY"
      },
      "source": [
        "**Optional**: One way to improve the semantic segmentation is to apply Conditional Randon Field (CRF) as post-processing. In a nutshell, CRF will constrain the labeling via penalizing different labels to similar pixels. Since the CRF works in the original image, some detailed structure information lost in the encoder can be reconstructed via this process.\n",
        "\n",
        "You can practice the CRF by setting `use_crf=True` in the above code block. Feel free to try it and see how it refines the labels."
      ]
    },
    {
      "cell_type": "code",
      "metadata": {
        "id": "jk4xF29CKiOb"
      },
      "source": [],
      "execution_count": null,
      "outputs": []
    }
  ]
}