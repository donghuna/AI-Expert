{
  "cells": [
    {
      "cell_type": "markdown",
      "metadata": {
        "id": "view-in-github",
        "colab_type": "text"
      },
      "source": [
        "<a href=\"https://colab.research.google.com/github/donghuna/AI-Expert/blob/main/%ED%95%98%EC%88%9C%ED%9A%8C/Lab2_Pruning%EC%8B%A4%EC%8A%B5_MNIST.ipynb\" target=\"_parent\"><img src=\"https://colab.research.google.com/assets/colab-badge.svg\" alt=\"Open In Colab\"/></a>"
      ]
    },
    {
      "cell_type": "markdown",
      "source": [
        "# Pruning model for MNIST dataset\n",
        "find the differences between Unstructured Pruning and Structured Pruning\n",
        "observe the structure of weights after the two pruning methods"
      ],
      "metadata": {
        "id": "TOZKAW6zMK7B"
      }
    },
    {
      "cell_type": "code",
      "source": [
        "# # https://github.com/googlecolab/colabtools/issues/2600\n",
        "# !apt install --allow-change-held-packages libcudnn8=8.1.0.77-1+cuda11.2"
      ],
      "metadata": {
        "id": "xHlD2_aXMWFM"
      },
      "execution_count": null,
      "outputs": []
    },
    {
      "cell_type": "code",
      "source": [
        "!pip install numpy\n",
        "!pip install tensorflow-model-optimization\n",
        "!pip install matplotlib"
      ],
      "metadata": {
        "colab": {
          "base_uri": "https://localhost:8080/"
        },
        "id": "6tXJJtO_r-uG",
        "outputId": "ec3e06bd-348a-419f-d0e8-2f395bdfdb24"
      },
      "execution_count": null,
      "outputs": [
        {
          "output_type": "stream",
          "name": "stdout",
          "text": [
            "Requirement already satisfied: numpy in /usr/local/lib/python3.10/dist-packages (1.25.2)\n",
            "Requirement already satisfied: tensorflow-model-optimization in /usr/local/lib/python3.10/dist-packages (0.8.0)\n",
            "Requirement already satisfied: absl-py~=1.2 in /usr/local/lib/python3.10/dist-packages (from tensorflow-model-optimization) (1.4.0)\n",
            "Requirement already satisfied: dm-tree~=0.1.1 in /usr/local/lib/python3.10/dist-packages (from tensorflow-model-optimization) (0.1.8)\n",
            "Requirement already satisfied: numpy~=1.23 in /usr/local/lib/python3.10/dist-packages (from tensorflow-model-optimization) (1.25.2)\n",
            "Requirement already satisfied: six~=1.14 in /usr/local/lib/python3.10/dist-packages (from tensorflow-model-optimization) (1.16.0)\n",
            "Requirement already satisfied: matplotlib in /usr/local/lib/python3.10/dist-packages (3.7.1)\n",
            "Requirement already satisfied: contourpy>=1.0.1 in /usr/local/lib/python3.10/dist-packages (from matplotlib) (1.2.1)\n",
            "Requirement already satisfied: cycler>=0.10 in /usr/local/lib/python3.10/dist-packages (from matplotlib) (0.12.1)\n",
            "Requirement already satisfied: fonttools>=4.22.0 in /usr/local/lib/python3.10/dist-packages (from matplotlib) (4.53.1)\n",
            "Requirement already satisfied: kiwisolver>=1.0.1 in /usr/local/lib/python3.10/dist-packages (from matplotlib) (1.4.5)\n",
            "Requirement already satisfied: numpy>=1.20 in /usr/local/lib/python3.10/dist-packages (from matplotlib) (1.25.2)\n",
            "Requirement already satisfied: packaging>=20.0 in /usr/local/lib/python3.10/dist-packages (from matplotlib) (24.1)\n",
            "Requirement already satisfied: pillow>=6.2.0 in /usr/local/lib/python3.10/dist-packages (from matplotlib) (9.4.0)\n",
            "Requirement already satisfied: pyparsing>=2.3.1 in /usr/local/lib/python3.10/dist-packages (from matplotlib) (3.1.2)\n",
            "Requirement already satisfied: python-dateutil>=2.7 in /usr/local/lib/python3.10/dist-packages (from matplotlib) (2.8.2)\n",
            "Requirement already satisfied: six>=1.5 in /usr/local/lib/python3.10/dist-packages (from python-dateutil>=2.7->matplotlib) (1.16.0)\n"
          ]
        }
      ]
    },
    {
      "cell_type": "code",
      "execution_count": null,
      "metadata": {
        "id": "WvNVMI6bal6U"
      },
      "outputs": [],
      "source": [
        "import shutil\n",
        "from pathlib import Path\n",
        "\n",
        "import numpy as np\n",
        "import tensorflow as tf\n",
        "import tensorflow_model_optimization as tfmot\n",
        "from tensorflow import keras\n",
        "from tensorflow.keras import layers, models, regularizers, datasets, utils, callbacks, optimizers, losses\n",
        "from tensorflow.keras.preprocessing.image import ImageDataGenerator\n",
        "from keras.datasets import cifar10\n",
        "import tempfile\n",
        "import os\n",
        "%load_ext tensorboard\n",
        "\n"
      ]
    },
    {
      "cell_type": "markdown",
      "source": [
        "## Train a model for MNIST without pruning\n",
        "\n",
        "To perform pruning on the ResNet-20 model, we will first try pruning a simpler custom model that classifies the MNIST dataset."
      ],
      "metadata": {
        "id": "MtpHCAGyO3P6"
      }
    },
    {
      "cell_type": "code",
      "source": [
        "# Load MNIST dataset\n",
        "mnist = keras.datasets.mnist\n",
        "(train_images, train_labels), (test_images, test_labels) = mnist.load_data()\n",
        "\n",
        "# Normalize the input image so that each pixel value is between 0 and 1.\n",
        "train_images = train_images / 255.0\n",
        "test_images = test_images / 255.0\n",
        "\n",
        "# Define the model architecture.\n",
        "model = keras.Sequential([\n",
        "  keras.layers.Conv2D(32, 5, padding='same', activation='relu', input_shape=(28,28,1)),\n",
        "  keras.layers.MaxPooling2D(pool_size=(2, 2), strides=(2,2), padding='same'),\n",
        "  keras.layers.Conv2D(64, 5, padding='same'),\n",
        "  keras.layers.BatchNormalization(),\n",
        "  keras.layers.ReLU(),\n",
        "  keras.layers.MaxPooling2D(pool_size=(2, 2), strides=(2,2), padding='same'),\n",
        "  keras.layers.Flatten(),\n",
        "  keras.layers.Dense(1024, activation='relu'),\n",
        "  keras.layers.Dropout(0.4),\n",
        "  keras.layers.Dense(10)\n",
        "])\n",
        "\n",
        "# Train the digit classification model\n",
        "model.compile(optimizer='adam',\n",
        "              loss=tf.keras.losses.SparseCategoricalCrossentropy(from_logits=True),\n",
        "              metrics=['accuracy'])\n",
        "\n",
        "model.fit(\n",
        "  train_images,\n",
        "  train_labels,\n",
        "  epochs=4,\n",
        "  validation_split=0.1,\n",
        ")\n",
        "# Print model summary\n",
        "model.summary()"
      ],
      "metadata": {
        "colab": {
          "base_uri": "https://localhost:8080/"
        },
        "id": "H-MuneXMx34F",
        "outputId": "6d64ae52-54b8-41d5-98fd-5191f2a2dd86"
      },
      "execution_count": null,
      "outputs": [
        {
          "output_type": "stream",
          "name": "stdout",
          "text": [
            "Epoch 1/4\n",
            "1688/1688 [==============================] - 30s 6ms/step - loss: 0.1683 - accuracy: 0.9546 - val_loss: 0.0559 - val_accuracy: 0.9838\n",
            "Epoch 2/4\n",
            "1688/1688 [==============================] - 9s 5ms/step - loss: 0.0654 - accuracy: 0.9808 - val_loss: 0.0506 - val_accuracy: 0.9882\n",
            "Epoch 3/4\n",
            "1688/1688 [==============================] - 9s 5ms/step - loss: 0.0450 - accuracy: 0.9869 - val_loss: 0.0309 - val_accuracy: 0.9917\n",
            "Epoch 4/4\n",
            "1688/1688 [==============================] - 9s 5ms/step - loss: 0.0342 - accuracy: 0.9894 - val_loss: 0.0284 - val_accuracy: 0.9937\n",
            "Model: \"sequential\"\n",
            "_________________________________________________________________\n",
            " Layer (type)                Output Shape              Param #   \n",
            "=================================================================\n",
            " conv2d (Conv2D)             (None, 28, 28, 32)        832       \n",
            "                                                                 \n",
            " max_pooling2d (MaxPooling2  (None, 14, 14, 32)        0         \n",
            " D)                                                              \n",
            "                                                                 \n",
            " conv2d_1 (Conv2D)           (None, 14, 14, 64)        51264     \n",
            "                                                                 \n",
            " batch_normalization (Batch  (None, 14, 14, 64)        256       \n",
            " Normalization)                                                  \n",
            "                                                                 \n",
            " re_lu (ReLU)                (None, 14, 14, 64)        0         \n",
            "                                                                 \n",
            " max_pooling2d_1 (MaxPoolin  (None, 7, 7, 64)          0         \n",
            " g2D)                                                            \n",
            "                                                                 \n",
            " flatten (Flatten)           (None, 3136)              0         \n",
            "                                                                 \n",
            " dense (Dense)               (None, 1024)              3212288   \n",
            "                                                                 \n",
            " dropout (Dropout)           (None, 1024)              0         \n",
            "                                                                 \n",
            " dense_1 (Dense)             (None, 10)                10250     \n",
            "                                                                 \n",
            "=================================================================\n",
            "Total params: 3274890 (12.49 MB)\n",
            "Trainable params: 3274762 (12.49 MB)\n",
            "Non-trainable params: 128 (512.00 Byte)\n",
            "_________________________________________________________________\n"
          ]
        }
      ]
    },
    {
      "cell_type": "code",
      "source": [
        "# Model accuracy before pruning\n",
        "_, baseline_model_accuracy = model.evaluate(\n",
        "    test_images, test_labels, verbose=0)\n",
        "\n",
        "print('Baseline test accuracy:', baseline_model_accuracy)\n",
        "\n",
        "_, keras_file = tempfile.mkstemp('.h5')\n",
        "tf.keras.models.save_model(model, keras_file, include_optimizer=False)\n",
        "print('Saved baseline model to:', keras_file)"
      ],
      "metadata": {
        "colab": {
          "base_uri": "https://localhost:8080/"
        },
        "id": "lKG0HRnqyKhc",
        "outputId": "1523322f-e3ee-40a8-c857-ed17b3c96fba"
      },
      "execution_count": null,
      "outputs": [
        {
          "output_type": "stream",
          "name": "stdout",
          "text": [
            "Baseline test accuracy: 0.9916999936103821\n",
            "Saved baseline model to: /tmp/tmpvsncxy5l.h5\n"
          ]
        },
        {
          "output_type": "stream",
          "name": "stderr",
          "text": [
            "<ipython-input-5-fe27daf98d1b>:8: UserWarning: You are saving your model as an HDF5 file via `model.save()`. This file format is considered legacy. We recommend using instead the native Keras format, e.g. `model.save('my_model.keras')`.\n",
            "  tf.keras.models.save_model(model, keras_file, include_optimizer=False)\n"
          ]
        }
      ]
    },
    {
      "cell_type": "markdown",
      "source": [
        "## Prune whole model"
      ],
      "metadata": {
        "id": "KoFg-4mqPQ_z"
      }
    },
    {
      "cell_type": "code",
      "source": [
        "prune_low_magnitude = tfmot.sparsity.keras.prune_low_magnitude\n",
        "pruning_params_sparsity_0_5 = {\n",
        "    'pruning_schedule': tfmot.sparsity.keras.ConstantSparsity(target_sparsity=0.5,\n",
        "                                                              begin_step=0,\n",
        "                                                              frequency=100)\n",
        "}\n",
        "model_whole_prune = keras.Sequential([\n",
        "    keras.layers.Conv2D(\n",
        "            32, 5, padding='same', activation='relu',\n",
        "            input_shape=(28, 28, 1)),\n",
        "    keras.layers.MaxPooling2D((2, 2), (2, 2), padding='same'),\n",
        "    keras.layers.Conv2D(\n",
        "            64, 5, padding='same'),\n",
        "    keras.layers.BatchNormalization(),\n",
        "    keras.layers.ReLU(),\n",
        "    keras.layers.MaxPooling2D((2, 2), (2, 2), padding='same'),\n",
        "    keras.layers.Flatten(),\n",
        "    keras.layers.Dense(\n",
        "            1024, activation='relu'),\n",
        "    keras.layers.Dropout(0.4),\n",
        "    keras.layers.Dense(10)\n",
        "])\n",
        "\n",
        "model_whole_prune = prune_low_magnitude(model_whole_prune, **pruning_params_sparsity_0_5)\n",
        "\n",
        "model_whole_prune.compile(optimizer='adam',\n",
        "              loss=keras.losses.SparseCategoricalCrossentropy(from_logits=True),\n",
        "              metrics=['accuracy'])\n",
        "\n",
        "model_whole_prune.summary()"
      ],
      "metadata": {
        "id": "tFJY_sXYR4x-",
        "colab": {
          "base_uri": "https://localhost:8080/"
        },
        "outputId": "527475cb-366a-4951-e5d9-bfb0b081a608"
      },
      "execution_count": null,
      "outputs": [
        {
          "output_type": "stream",
          "name": "stdout",
          "text": [
            "Model: \"sequential_1\"\n",
            "_________________________________________________________________\n",
            " Layer (type)                Output Shape              Param #   \n",
            "=================================================================\n",
            " prune_low_magnitude_conv2d  (None, 28, 28, 32)        1634      \n",
            " _2 (PruneLowMagnitude)                                          \n",
            "                                                                 \n",
            " prune_low_magnitude_max_po  (None, 14, 14, 32)        1         \n",
            " oling2d_2 (PruneLowMagnitu                                      \n",
            " de)                                                             \n",
            "                                                                 \n",
            " prune_low_magnitude_conv2d  (None, 14, 14, 64)        102466    \n",
            " _3 (PruneLowMagnitude)                                          \n",
            "                                                                 \n",
            " prune_low_magnitude_batch_  (None, 14, 14, 64)        257       \n",
            " normalization_1 (PruneLowM                                      \n",
            " agnitude)                                                       \n",
            "                                                                 \n",
            " prune_low_magnitude_re_lu_  (None, 14, 14, 64)        1         \n",
            " 1 (PruneLowMagnitude)                                           \n",
            "                                                                 \n",
            " prune_low_magnitude_max_po  (None, 7, 7, 64)          1         \n",
            " oling2d_3 (PruneLowMagnitu                                      \n",
            " de)                                                             \n",
            "                                                                 \n",
            " prune_low_magnitude_flatte  (None, 3136)              1         \n",
            " n_1 (PruneLowMagnitude)                                         \n",
            "                                                                 \n",
            " prune_low_magnitude_dense_  (None, 1024)              6423554   \n",
            " 2 (PruneLowMagnitude)                                           \n",
            "                                                                 \n",
            " prune_low_magnitude_dropou  (None, 1024)              1         \n",
            " t_1 (PruneLowMagnitude)                                         \n",
            "                                                                 \n",
            " prune_low_magnitude_dense_  (None, 10)                20492     \n",
            " 3 (PruneLowMagnitude)                                           \n",
            "                                                                 \n",
            "=================================================================\n",
            "Total params: 6548408 (24.98 MB)\n",
            "Trainable params: 3274762 (12.49 MB)\n",
            "Non-trainable params: 3273646 (12.49 MB)\n",
            "_________________________________________________________________\n"
          ]
        }
      ]
    },
    {
      "cell_type": "code",
      "source": [
        "# Model accuracy after pruning\n",
        "batch_size = 128\n",
        "epochs = 4\n",
        "\n",
        "model_whole_prune.fit(\n",
        "    train_images,\n",
        "    train_labels,\n",
        "    batch_size=batch_size,\n",
        "    epochs=epochs,\n",
        "    verbose=1,\n",
        "    callbacks=tfmot.sparsity.keras.UpdatePruningStep(),\n",
        "    validation_split=0.1)\n",
        "\n",
        "_, pruned_whole_model_accuracy = model_whole_prune.evaluate(test_images, test_labels, verbose=0)\n",
        "print('Pruned whole model test accuracy:', pruned_whole_model_accuracy)"
      ],
      "metadata": {
        "colab": {
          "base_uri": "https://localhost:8080/"
        },
        "id": "_l-sibBVuEMP",
        "outputId": "63a646a4-53cf-46a6-cfa9-9f863ffdc1c1"
      },
      "execution_count": null,
      "outputs": [
        {
          "output_type": "stream",
          "name": "stdout",
          "text": [
            "Epoch 1/4\n",
            "422/422 [==============================] - 11s 12ms/step - loss: 0.2346 - accuracy: 0.9405 - val_loss: 0.1569 - val_accuracy: 0.9863\n",
            "Epoch 2/4\n",
            "422/422 [==============================] - 4s 8ms/step - loss: 0.0566 - accuracy: 0.9821 - val_loss: 0.0455 - val_accuracy: 0.9872\n",
            "Epoch 3/4\n",
            "422/422 [==============================] - 4s 8ms/step - loss: 0.0436 - accuracy: 0.9866 - val_loss: 0.0370 - val_accuracy: 0.9888\n",
            "Epoch 4/4\n",
            "422/422 [==============================] - 4s 8ms/step - loss: 0.0346 - accuracy: 0.9891 - val_loss: 0.0324 - val_accuracy: 0.9905\n",
            "Pruned whole model test accuracy: 0.9909999966621399\n"
          ]
        }
      ]
    },
    {
      "cell_type": "markdown",
      "source": [
        "## Prune model layer by layer"
      ],
      "metadata": {
        "id": "UgVxd8dXQ156"
      }
    },
    {
      "cell_type": "code",
      "execution_count": null,
      "metadata": {
        "id": "_q73wAucbX21",
        "colab": {
          "base_uri": "https://localhost:8080/"
        },
        "outputId": "989d47f7-c6c7-4615-8148-1f1e2f7d1390"
      },
      "outputs": [
        {
          "output_type": "stream",
          "name": "stdout",
          "text": [
            "Model: \"sequential_2\"\n",
            "_________________________________________________________________\n",
            " Layer (type)                Output Shape              Param #   \n",
            "=================================================================\n",
            " prune_low_magnitude_prunin  (None, 28, 28, 32)        1634      \n",
            " g_sparsity_0_5 (PruneLowMa                                      \n",
            " gnitude)                                                        \n",
            "                                                                 \n",
            " max_pooling2d_4 (MaxPoolin  (None, 14, 14, 32)        0         \n",
            " g2D)                                                            \n",
            "                                                                 \n",
            " prune_low_magnitude_struct  (None, 14, 14, 64)        102466    \n",
            " ural_pruning (PruneLowMagn                                      \n",
            " itude)                                                          \n",
            "                                                                 \n",
            " batch_normalization_2 (Bat  (None, 14, 14, 64)        256       \n",
            " chNormalization)                                                \n",
            "                                                                 \n",
            " re_lu_2 (ReLU)              (None, 14, 14, 64)        0         \n",
            "                                                                 \n",
            " max_pooling2d_5 (MaxPoolin  (None, 7, 7, 64)          0         \n",
            " g2D)                                                            \n",
            "                                                                 \n",
            " flatten_2 (Flatten)         (None, 3136)              0         \n",
            "                                                                 \n",
            " prune_low_magnitude_struct  (None, 1024)              6423554   \n",
            " ural_pruning_dense (PruneL                                      \n",
            " owMagnitude)                                                    \n",
            "                                                                 \n",
            " dropout_2 (Dropout)         (None, 1024)              0         \n",
            "                                                                 \n",
            " dense_4 (Dense)             (None, 10)                10250     \n",
            "                                                                 \n",
            "=================================================================\n",
            "Total params: 6538160 (24.94 MB)\n",
            "Trainable params: 3274762 (12.49 MB)\n",
            "Non-trainable params: 3263398 (12.45 MB)\n",
            "_________________________________________________________________\n"
          ]
        }
      ],
      "source": [
        "prune_low_magnitude = tfmot.sparsity.keras.prune_low_magnitude\n",
        "pruning_params_2_by_4 = {\n",
        "    'sparsity_m_by_n': (2, 4),\n",
        "}\n",
        "pruning_params_sparsity_0_5 = {\n",
        "    'pruning_schedule': tfmot.sparsity.keras.ConstantSparsity(target_sparsity=0.5,\n",
        "                                                              begin_step=0,\n",
        "                                                              frequency=100)\n",
        "}\n",
        "model_layer_prune = keras.Sequential([\n",
        "    prune_low_magnitude(\n",
        "        keras.layers.Conv2D(\n",
        "            32, 5, padding='same', activation='relu',\n",
        "            input_shape=(28, 28, 1),\n",
        "            name=\"pruning_sparsity_0_5\"),\n",
        "        **pruning_params_sparsity_0_5),\n",
        "    keras.layers.MaxPooling2D((2, 2), (2, 2), padding='same'),\n",
        "    prune_low_magnitude(\n",
        "        keras.layers.Conv2D(\n",
        "            64, 5, padding='same',\n",
        "            name=\"structural_pruning\"),\n",
        "        **pruning_params_2_by_4),\n",
        "    keras.layers.BatchNormalization(),\n",
        "    keras.layers.ReLU(),\n",
        "    keras.layers.MaxPooling2D((2, 2), (2, 2), padding='same'),\n",
        "    keras.layers.Flatten(),\n",
        "    prune_low_magnitude(\n",
        "        keras.layers.Dense(\n",
        "            1024, activation='relu',\n",
        "            name=\"structural_pruning_dense\"),\n",
        "        **pruning_params_2_by_4),\n",
        "    keras.layers.Dropout(0.4),\n",
        "    keras.layers.Dense(10)\n",
        "])\n",
        "\n",
        "model_layer_prune.compile(optimizer='adam',\n",
        "              loss=keras.losses.SparseCategoricalCrossentropy(from_logits=True),\n",
        "              metrics=['accuracy'])\n",
        "\n",
        "model_layer_prune.summary()"
      ]
    },
    {
      "cell_type": "code",
      "execution_count": null,
      "metadata": {
        "colab": {
          "base_uri": "https://localhost:8080/"
        },
        "id": "K8t3jD0UcKyy",
        "outputId": "bcbd8a49-442d-427c-86e6-4db4a8c73da6"
      },
      "outputs": [
        {
          "output_type": "stream",
          "name": "stdout",
          "text": [
            "Epoch 1/4\n",
            "422/422 [==============================] - 7s 8ms/step - loss: 0.1868 - accuracy: 0.9449 - val_loss: 0.1455 - val_accuracy: 0.9890\n",
            "Epoch 2/4\n",
            "422/422 [==============================] - 3s 7ms/step - loss: 0.0577 - accuracy: 0.9818 - val_loss: 0.0409 - val_accuracy: 0.9877\n",
            "Epoch 3/4\n",
            "422/422 [==============================] - 3s 7ms/step - loss: 0.0412 - accuracy: 0.9866 - val_loss: 0.0395 - val_accuracy: 0.9873\n",
            "Epoch 4/4\n",
            "422/422 [==============================] - 3s 7ms/step - loss: 0.0332 - accuracy: 0.9897 - val_loss: 0.0368 - val_accuracy: 0.9907\n",
            "Pruned layer model test accuracy: 0.9908999800682068\n"
          ]
        }
      ],
      "source": [
        "# Model accuracy after pruning\n",
        "batch_size = 128\n",
        "epochs = 4\n",
        "\n",
        "model_layer_prune.fit(\n",
        "    train_images,\n",
        "    train_labels,\n",
        "    batch_size=batch_size,\n",
        "    epochs=epochs,\n",
        "    verbose=1,\n",
        "    callbacks=tfmot.sparsity.keras.UpdatePruningStep(),\n",
        "    validation_split=0.1)\n",
        "\n",
        "_, pruned_layer_model_accuracy = model_layer_prune.evaluate(test_images, test_labels, verbose=0)\n",
        "print('Pruned layer model test accuracy:', pruned_layer_model_accuracy)"
      ]
    },
    {
      "cell_type": "code",
      "source": [
        "print('Baseline test accuracy:', baseline_model_accuracy)\n",
        "print('Pruned whole model test accuracy:', pruned_whole_model_accuracy)\n",
        "print('Pruned layer model test accuracy:', pruned_layer_model_accuracy)"
      ],
      "metadata": {
        "colab": {
          "base_uri": "https://localhost:8080/"
        },
        "id": "ut1Me-YaRh1Q",
        "outputId": "2373abee-d3ea-4e64-d307-98361c428d8e"
      },
      "execution_count": null,
      "outputs": [
        {
          "output_type": "stream",
          "name": "stdout",
          "text": [
            "Baseline test accuracy: 0.9916999936103821\n",
            "Pruned whole model test accuracy: 0.9909999966621399\n",
            "Pruned layer model test accuracy: 0.9908999800682068\n"
          ]
        }
      ]
    },
    {
      "cell_type": "markdown",
      "source": [
        "# Visualize"
      ],
      "metadata": {
        "id": "KiYWGDbWRXqk"
      }
    },
    {
      "cell_type": "code",
      "execution_count": null,
      "metadata": {
        "id": "CD7uz5JIciGc"
      },
      "outputs": [],
      "source": [
        "# Once a model has been pruned to required sparsity, this method can be used to restore the original model with the sparse weights\n",
        "model = model_layer_prune\n",
        "model = tfmot.sparsity.keras.strip_pruning(model)"
      ]
    },
    {
      "cell_type": "code",
      "execution_count": null,
      "metadata": {
        "id": "Ak6cV3DjbY7h",
        "colab": {
          "base_uri": "https://localhost:8080/"
        },
        "outputId": "fa344b51-fbfc-4a42-8af6-14d52a382fbc"
      },
      "outputs": [
        {
          "output_type": "stream",
          "name": "stdout",
          "text": [
            "Saved converted pruned model to: pruned_model_mnist.tflite\n"
          ]
        }
      ],
      "source": [
        "converter = tf.lite.TFLiteConverter.from_keras_model(model)\n",
        "tflite_model = converter.convert()\n",
        "\n",
        "tflite_file = 'pruned_model_mnist.tflite'\n",
        "print('Saved converted pruned model to:', tflite_file)\n",
        "tf.io.write_file(tflite_file, tflite_model)"
      ]
    },
    {
      "cell_type": "code",
      "source": [
        "# Model Sparsity after pruning\n",
        "from __future__ import print_function\n",
        "from tensorflow_model_optimization.python.core.sparsity.keras import pruning_utils\n",
        "\n",
        "\n",
        "# Dont check layer if its name has one of word from this list.\n",
        "IGNORE_LIST = [\n",
        "    \"relu\", \"pooling\", \"reshape\", \"identity\", \"input\", \"add\", \"flatten\"\n",
        "]\n",
        "\n",
        "def ignore_tensor(details, ignore_list):\n",
        "  \"\"\"Returns boolean that indicates whether to ignore the tensor.\"\"\"\n",
        "  name = details[\"name\"].casefold()\n",
        "  if not name:\n",
        "    return True\n",
        "  for to_ignore in ignore_list:\n",
        "    if to_ignore in name:\n",
        "      return True\n",
        "  return False\n",
        "\n",
        "def calculate_sparsity(weights):\n",
        "  number_of_weights = np.size(weights)\n",
        "  number_of_non_zero_weights = np.count_nonzero(weights)\n",
        "  sparsity = 1.0 - float(\n",
        "      number_of_non_zero_weights\n",
        "  ) / number_of_weights if number_of_non_zero_weights != 0 else 1.0\n",
        "  return sparsity\n",
        "\n",
        "def run(input_tflite_path, m_by_n):\n",
        "  \"\"\"Checks type of sparsity for each layer of the model.\"\"\"\n",
        "\n",
        "  interpreter = tf.lite.Interpreter(model_path=input_tflite_path)\n",
        "  interpreter.allocate_tensors()\n",
        "\n",
        "  details = interpreter.get_tensor_details()\n",
        "  # Don't consider layers that can't be pruned.\n",
        "  details = [x for x in details if not ignore_tensor(x, IGNORE_LIST)]\n",
        "\n",
        "  for detail in details:\n",
        "    name = detail[\"name\"]\n",
        "    shape = detail[\"shape\"]\n",
        "    weights = interpreter.tensor(detail[\"index\"])()\n",
        "\n",
        "    weights_ts = tf.constant(weights)\n",
        "    pruned_m_by_n = pruning_utils.is_pruned_m_by_n(weights_ts, m_by_n, \"C_IN\")\n",
        "    sparsity = calculate_sparsity(weights_ts)\n",
        "\n",
        "    print(f\"{name}: shape: {shape}, sparsity: {sparsity}, \"\n",
        "          f\"{m_by_n[0]}_by_{m_by_n[1]} sparsity: {pruned_m_by_n}.\")\n",
        "\n",
        "if __name__ == \"__main__\":\n",
        "  run(tflite_file, (2,4))\n"
      ],
      "metadata": {
        "colab": {
          "base_uri": "https://localhost:8080/"
        },
        "id": "FbihosglvK14",
        "outputId": "002d878e-f4d0-4da2-eae7-99333d2e77ad"
      },
      "execution_count": null,
      "outputs": [
        {
          "output_type": "stream",
          "name": "stdout",
          "text": [
            "sequential_2/pruning_sparsity_0_5/Conv2D: shape: [32  5  5  1], sparsity: 0.5, 2_by_4 sparsity: True.\n",
            "sequential_2/structural_pruning/Conv2D: shape: [64  5  5 32], sparsity: 0.5, 2_by_4 sparsity: True.\n",
            "sequential_2/structural_pruning_dense/MatMul: shape: [1024 3136], sparsity: 0.5, 2_by_4 sparsity: True.\n",
            "sequential_2/dense_4/MatMul: shape: [  10 1024], sparsity: 0.0, 2_by_4 sparsity: False.\n",
            "StatefulPartitionedCall:0: shape: [ 1 10], sparsity: 0.30000000000000004, 2_by_4 sparsity: False.\n",
            "Conv_hwcn_weights: shape: [25 32], sparsity: 0.49, 2_by_4 sparsity: False.\n",
            "Conv_hwcn_weights: shape: [800  64], sparsity: 0.20017578125000002, 2_by_4 sparsity: False.\n"
          ]
        }
      ]
    },
    {
      "cell_type": "code",
      "execution_count": null,
      "metadata": {
        "id": "dUXiv5q8b06v"
      },
      "outputs": [],
      "source": [
        "# Load tflite file with the created pruned model\n",
        "interpreter = tf.lite.Interpreter(model_path=tflite_file)\n",
        "interpreter.allocate_tensors()\n",
        "\n",
        "details = interpreter.get_tensor_details()\n",
        "\n",
        "# Weights of the dense layer that has been pruned.\n",
        "tensor_name = 'structural_pruning_dense/MatMul'\n",
        "detail = [x for x in details if tensor_name in x[\"name\"]]\n",
        "\n",
        "# We need the first layer.\n",
        "tensor_data = interpreter.tensor(detail[0][\"index\"])()"
      ]
    },
    {
      "cell_type": "code",
      "execution_count": null,
      "metadata": {
        "colab": {
          "base_uri": "https://localhost:8080/"
        },
        "id": "alKRuqWmcqID",
        "outputId": "2487c6d1-1662-4e7e-e255-ede6fec9255b"
      },
      "outputs": [
        {
          "output_type": "stream",
          "name": "stdout",
          "text": [
            "Shape of Dense layer is (1024, 3136)\n"
          ]
        }
      ],
      "source": [
        "print(f\"Shape of Dense layer is {tensor_data.shape}\")"
      ]
    },
    {
      "cell_type": "code",
      "source": [
        "import matplotlib.pyplot as plt\n",
        "import numpy as np\n",
        "\n",
        "# The value 24 is chosen for convenience.\n",
        "width = height = 24\n",
        "\n",
        "subset_values_to_display = tensor_data[0:height, 0:width]\n",
        "\n",
        "val_ones = np.ones([height, width])\n",
        "val_zeros = np.zeros([height, width])\n",
        "subset_values_to_display = np.where(abs(subset_values_to_display) > 0, val_ones, val_zeros)"
      ],
      "metadata": {
        "id": "gVZzYMl2O78R"
      },
      "execution_count": null,
      "outputs": []
    },
    {
      "cell_type": "code",
      "source": [
        "def plot_separation_lines(height, width):\n",
        "\n",
        "    block_size = [1, 4]\n",
        "\n",
        "    # Add separation lines to the figure.\n",
        "    num_hlines = int((height - 1) / block_size[0])\n",
        "    num_vlines = int((width - 1) / block_size[1])\n",
        "    line_y_pos = [y * block_size[0] for y in range(1, num_hlines + 1)]\n",
        "    line_x_pos = [x * block_size[1] for x in range(1, num_vlines + 1)]\n",
        "\n",
        "    for y_pos in line_y_pos:\n",
        "        plt.plot([-0.5, width], [y_pos - 0.5 , y_pos - 0.5], color='w')\n",
        "\n",
        "    for x_pos in line_x_pos:\n",
        "        plt.plot([x_pos - 0.5, x_pos - 0.5], [-0.5, height], color='w')"
      ],
      "metadata": {
        "id": "RJt8Pu0mxCm5"
      },
      "execution_count": null,
      "outputs": []
    },
    {
      "cell_type": "code",
      "source": [
        "plot_separation_lines(height, width)\n",
        "\n",
        "plt.axis('off')\n",
        "plt.imshow(subset_values_to_display)\n",
        "plt.colorbar()\n",
        "plt.title(\"Structural pruning for Dense layer\")\n",
        "plt.show()"
      ],
      "metadata": {
        "colab": {
          "base_uri": "https://localhost:8080/",
          "height": 437
        },
        "id": "QxGhroZRNK-A",
        "outputId": "fce698ae-bf26-42ec-b10e-4a3391a82b1b"
      },
      "execution_count": null,
      "outputs": [
        {
          "output_type": "display_data",
          "data": {
            "text/plain": [
              "<Figure size 640x480 with 2 Axes>"
            ],
            "image/png": "[encoded data removed]"
          },
          "metadata": {}
        }
      ]
    },
    {
      "cell_type": "code",
      "source": [
        "# Get weights of the convolutional layer that has been pruned with 2 by 4 sparsity.\n",
        "tensor_name = 'structural_pruning/Conv2D'\n",
        "detail = [x for x in details if tensor_name in x[\"name\"]]\n",
        "tensor_data = interpreter.tensor(detail[1][\"index\"])()\n",
        "print(f\"Shape of the weight tensor is {tensor_data.shape}\")"
      ],
      "metadata": {
        "colab": {
          "base_uri": "https://localhost:8080/"
        },
        "id": "L0x9kA9jxOyO",
        "outputId": "ac8082ab-5d0e-4aa8-bdfd-5c97d7b350a8"
      },
      "execution_count": null,
      "outputs": [
        {
          "output_type": "stream",
          "name": "stdout",
          "text": [
            "Shape of the weight tensor is (64, 5, 5, 32)\n"
          ]
        }
      ]
    },
    {
      "cell_type": "code",
      "source": [
        "weights_to_display = tf.reshape(tensor_data, [tf.reduce_prod(tensor_data.shape[:-1]), -1])\n",
        "weights_to_display = weights_to_display[0:width, 0:height]\n",
        "\n",
        "val_ones = np.ones([height, width])\n",
        "val_zeros = np.zeros([height, width])\n",
        "subset_values_to_display = np.where(abs(weights_to_display) > 1e-9, val_ones, val_zeros)\n",
        "\n",
        "plot_separation_lines(height, width)\n",
        "\n",
        "plt.axis('off')\n",
        "plt.imshow(subset_values_to_display)\n",
        "plt.colorbar()\n",
        "plt.title(\"Structurally pruned weights for Conv2D layer\")\n",
        "plt.show()"
      ],
      "metadata": {
        "colab": {
          "base_uri": "https://localhost:8080/",
          "height": 437
        },
        "id": "QsB1MbIexRAC",
        "outputId": "21b5d2da-9ac5-4dfd-d991-9b64cc99b6ed"
      },
      "execution_count": null,
      "outputs": [
        {
          "output_type": "display_data",
          "data": {
            "text/plain": [
              "<Figure size 640x480 with 2 Axes>"
            ],
            "image/png": "[encoded data removed]"
          },
          "metadata": {}
        }
      ]
    },
    {
      "cell_type": "code",
      "source": [
        "# Get weights of the convolutional layer that has been pruned with random pruning.\n",
        "tensor_name = 'pruning_sparsity_0_5/Conv2D'\n",
        "detail = [x for x in details if tensor_name in x[\"name\"]]\n",
        "tensor_data = interpreter.tensor(detail[0][\"index\"])()\n",
        "print(f\"Shape of the weight tensor is {tensor_data.shape}\")"
      ],
      "metadata": {
        "colab": {
          "base_uri": "https://localhost:8080/"
        },
        "id": "XOPZzCTqxYp0",
        "outputId": "36acf1b5-e9a4-4bee-f369-02a63a200979"
      },
      "execution_count": null,
      "outputs": [
        {
          "output_type": "stream",
          "name": "stdout",
          "text": [
            "Shape of the weight tensor is (32, 5, 5, 1)\n"
          ]
        }
      ]
    },
    {
      "cell_type": "code",
      "source": [
        "weights_to_display = tf.reshape(tensor_data, [tensor_data.shape[0],tf.reduce_prod(tensor_data.shape[1:])])\n",
        "weights_to_display = weights_to_display[0:width, 0:height]\n",
        "\n",
        "val_ones = np.ones([height, width])\n",
        "val_zeros = np.zeros([height, width])\n",
        "subset_values_to_display = np.where(abs(weights_to_display) > 0, val_ones, val_zeros)\n",
        "\n",
        "plot_separation_lines(height, width)\n",
        "\n",
        "plt.axis('off')\n",
        "plt.imshow(subset_values_to_display)\n",
        "plt.colorbar()\n",
        "plt.title(\"Unstructed pruned weights for Conv2D layer\")\n",
        "plt.show()"
      ],
      "metadata": {
        "colab": {
          "base_uri": "https://localhost:8080/",
          "height": 437
        },
        "id": "9FUwmJZJxcAd",
        "outputId": "ab95bd90-a18a-478d-d031-f5c8ee2d6336"
      },
      "execution_count": null,
      "outputs": [
        {
          "output_type": "display_data",
          "data": {
            "text/plain": [
              "<Figure size 640x480 with 2 Axes>"
            ],
            "image/png": "[encoded data removed]"
          },
          "metadata": {}
        }
      ]
    }
  ],
  "metadata": {
    "accelerator": "GPU",
    "colab": {
      "provenance": [],
      "collapsed_sections": [
        "KoFg-4mqPQ_z"
      ],
      "include_colab_link": true
    },
    "gpuClass": "standard",
    "kernelspec": {
      "display_name": "Python 3",
      "name": "python3"
    },
    "language_info": {
      "name": "python"
    }
  },
  "nbformat": 4,
  "nbformat_minor": 0
}