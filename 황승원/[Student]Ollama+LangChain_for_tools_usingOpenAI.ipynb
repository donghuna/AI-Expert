{
  "nbformat": 4,
  "nbformat_minor": 0,
  "metadata": {
    "colab": {
      "provenance": [],
      "gpuType": "T4",
      "include_colab_link": true
    },
    "kernelspec": {
      "name": "python3",
      "display_name": "Python 3"
    },
    "language_info": {
      "name": "python"
    },
    "accelerator": "GPU"
  },
  "cells": [
    {
      "cell_type": "markdown",
      "metadata": {
        "id": "view-in-github",
        "colab_type": "text"
      },
      "source": [
        "<a href=\"https://colab.research.google.com/github/donghuna/AI-Expert/blob/main/%ED%99%A9%EC%8A%B9%EC%9B%90/%5BStudent%5DOllama%2BLangChain_for_tools_usingOpenAI.ipynb\" target=\"_parent\"><img src=\"https://colab.research.google.com/assets/colab-badge.svg\" alt=\"Open In Colab\"/></a>"
      ]
    },
    {
      "cell_type": "markdown",
      "source": [
        "# Effective & Effiecient LLM use\n",
        "\n",
        "이 노트북에서는 LLM을 효과적으로 사용하는 방법에 대해서 다룹니다.\n",
        "\n",
        "openai api를 사용하기 힘든 상황을 가정해 local에서 small-LLM을 배포해 사용합니다.\n",
        "\n",
        "## Overview\n",
        "1. LLM via api (로컬 환경에서)\n",
        "  1. Ollama 설치 및 사용법 익히기 (web-ui)\n",
        "  2. Ollama api 사용하기\n",
        "2. LLM으로 논문 요약본 만들기\n",
        "3. LLM으로 DB에서 중요한 정보 추출하기"
      ],
      "metadata": {
        "id": "sWYu_uKZvpfY"
      }
    },
    {
      "cell_type": "markdown",
      "source": [
        "# 패키지 설치하기\n",
        "이 노트북에서 사용하는 모든 패키지를 미리 설치합니다.\n"
      ],
      "metadata": {
        "id": "zyG2sJRnO-Oi"
      }
    },
    {
      "cell_type": "code",
      "execution_count": 1,
      "metadata": {
        "id": "H8IqGG4mHXhX",
        "colab": {
          "base_uri": "https://localhost:8080/"
        },
        "outputId": "2022b2ec-9397-4c9f-d610-4ff9b4c05841"
      },
      "outputs": [
        {
          "output_type": "stream",
          "name": "stdout",
          "text": [
            "\u001b[2K     \u001b[90m━━━━━━━━━━━━━━━━━━━━━━━━━━━━━━━━━━━━━━━━\u001b[0m \u001b[32m328.3/328.3 kB\u001b[0m \u001b[31m6.6 MB/s\u001b[0m eta \u001b[36m0:00:00\u001b[0m\n",
            "\u001b[2K     \u001b[90m━━━━━━━━━━━━━━━━━━━━━━━━━━━━━━━━━━━━━━━━\u001b[0m \u001b[32m983.6/983.6 kB\u001b[0m \u001b[31m15.0 MB/s\u001b[0m eta \u001b[36m0:00:00\u001b[0m\n",
            "\u001b[2K     \u001b[90m━━━━━━━━━━━━━━━━━━━━━━━━━━━━━━━━━━━━━━━━\u001b[0m \u001b[32m2.2/2.2 MB\u001b[0m \u001b[31m39.2 MB/s\u001b[0m eta \u001b[36m0:00:00\u001b[0m\n",
            "\u001b[2K     \u001b[90m━━━━━━━━━━━━━━━━━━━━━━━━━━━━━━━━━━━━━━━━\u001b[0m \u001b[32m355.8/355.8 kB\u001b[0m \u001b[31m21.4 MB/s\u001b[0m eta \u001b[36m0:00:00\u001b[0m\n",
            "\u001b[2K     \u001b[90m━━━━━━━━━━━━━━━━━━━━━━━━━━━━━━━━━━━━━━━━\u001b[0m \u001b[32m45.9/45.9 kB\u001b[0m \u001b[31m3.8 MB/s\u001b[0m eta \u001b[36m0:00:00\u001b[0m\n",
            "\u001b[?25h  Preparing metadata (setup.py) ... \u001b[?25l\u001b[?25hdone\n",
            "\u001b[2K     \u001b[90m━━━━━━━━━━━━━━━━━━━━━━━━━━━━━━━━━━━━━━━━\u001b[0m \u001b[32m2.1/2.1 MB\u001b[0m \u001b[31m37.8 MB/s\u001b[0m eta \u001b[36m0:00:00\u001b[0m\n",
            "\u001b[2K     \u001b[90m━━━━━━━━━━━━━━━━━━━━━━━━━━━━━━━━━━━━━━━━\u001b[0m \u001b[32m3.5/3.5 MB\u001b[0m \u001b[31m40.4 MB/s\u001b[0m eta \u001b[36m0:00:00\u001b[0m\n",
            "\u001b[2K     \u001b[90m━━━━━━━━━━━━━━━━━━━━━━━━━━━━━━━━━━━━━━━━\u001b[0m \u001b[32m1.1/1.1 MB\u001b[0m \u001b[31m44.1 MB/s\u001b[0m eta \u001b[36m0:00:00\u001b[0m\n",
            "\u001b[2K     \u001b[90m━━━━━━━━━━━━━━━━━━━━━━━━━━━━━━━━━━━━━━━━\u001b[0m \u001b[32m8.6/8.6 MB\u001b[0m \u001b[31m57.9 MB/s\u001b[0m eta \u001b[36m0:00:00\u001b[0m\n",
            "\u001b[2K     \u001b[90m━━━━━━━━━━━━━━━━━━━━━━━━━━━━━━━━━━━━━━━━\u001b[0m \u001b[32m327.0/327.0 kB\u001b[0m \u001b[31m30.9 MB/s\u001b[0m eta \u001b[36m0:00:00\u001b[0m\n",
            "\u001b[?25h  Preparing metadata (setup.py) ... \u001b[?25l\u001b[?25hdone\n",
            "\u001b[2K     \u001b[90m━━━━━━━━━━━━━━━━━━━━━━━━━━━━━━━━━━━━━━━━\u001b[0m \u001b[32m75.6/75.6 kB\u001b[0m \u001b[31m5.8 MB/s\u001b[0m eta \u001b[36m0:00:00\u001b[0m\n",
            "\u001b[2K     \u001b[90m━━━━━━━━━━━━━━━━━━━━━━━━━━━━━━━━━━━━━━━━\u001b[0m \u001b[32m127.9/127.9 kB\u001b[0m \u001b[31m13.8 MB/s\u001b[0m eta \u001b[36m0:00:00\u001b[0m\n",
            "\u001b[2K     \u001b[90m━━━━━━━━━━━━━━━━━━━━━━━━━━━━━━━━━━━━━━━━\u001b[0m \u001b[32m431.4/431.4 kB\u001b[0m \u001b[31m39.2 MB/s\u001b[0m eta \u001b[36m0:00:00\u001b[0m\n",
            "\u001b[2K     \u001b[90m━━━━━━━━━━━━━━━━━━━━━━━━━━━━━━━━━━━━━━━━\u001b[0m \u001b[32m274.7/274.7 kB\u001b[0m \u001b[31m32.6 MB/s\u001b[0m eta \u001b[36m0:00:00\u001b[0m\n",
            "\u001b[2K     \u001b[90m━━━━━━━━━━━━━━━━━━━━━━━━━━━━━━━━━━━━━━━━\u001b[0m \u001b[32m981.5/981.5 kB\u001b[0m \u001b[31m52.6 MB/s\u001b[0m eta \u001b[36m0:00:00\u001b[0m\n",
            "\u001b[?25h  Preparing metadata (setup.py) ... \u001b[?25l\u001b[?25hdone\n",
            "\u001b[2K     \u001b[90m━━━━━━━━━━━━━━━━━━━━━━━━━━━━━━━━━━━━━━━━\u001b[0m \u001b[32m3.4/3.4 MB\u001b[0m \u001b[31m11.8 MB/s\u001b[0m eta \u001b[36m0:00:00\u001b[0m\n",
            "\u001b[2K     \u001b[90m━━━━━━━━━━━━━━━━━━━━━━━━━━━━━━━━━━━━━━━━\u001b[0m \u001b[32m41.0/41.0 kB\u001b[0m \u001b[31m3.7 MB/s\u001b[0m eta \u001b[36m0:00:00\u001b[0m\n",
            "\u001b[2K     \u001b[90m━━━━━━━━━━━━━━━━━━━━━━━━━━━━━━━━━━━━━━━━\u001b[0m \u001b[32m81.3/81.3 kB\u001b[0m \u001b[31m12.3 MB/s\u001b[0m eta \u001b[36m0:00:00\u001b[0m\n",
            "\u001b[2K     \u001b[90m━━━━━━━━━━━━━━━━━━━━━━━━━━━━━━━━━━━━━━━━\u001b[0m \u001b[32m64.9/64.9 kB\u001b[0m \u001b[31m8.4 MB/s\u001b[0m eta \u001b[36m0:00:00\u001b[0m\n",
            "\u001b[2K     \u001b[90m━━━━━━━━━━━━━━━━━━━━━━━━━━━━━━━━━━━━━━━━\u001b[0m \u001b[32m15.7/15.7 MB\u001b[0m \u001b[31m58.3 MB/s\u001b[0m eta \u001b[36m0:00:00\u001b[0m\n",
            "\u001b[2K     \u001b[90m━━━━━━━━━━━━━━━━━━━━━━━━━━━━━━━━━━━━━━━━\u001b[0m \u001b[32m207.3/207.3 kB\u001b[0m \u001b[31m25.8 MB/s\u001b[0m eta \u001b[36m0:00:00\u001b[0m\n",
            "\u001b[2K     \u001b[90m━━━━━━━━━━━━━━━━━━━━━━━━━━━━━━━━━━━━━━━━\u001b[0m \u001b[32m6.9/6.9 MB\u001b[0m \u001b[31m98.0 MB/s\u001b[0m eta \u001b[36m0:00:00\u001b[0m\n",
            "\u001b[2K     \u001b[90m━━━━━━━━━━━━━━━━━━━━━━━━━━━━━━━━━━━━━━━━\u001b[0m \u001b[32m83.0/83.0 kB\u001b[0m \u001b[31m11.3 MB/s\u001b[0m eta \u001b[36m0:00:00\u001b[0m\n",
            "\u001b[2K     \u001b[90m━━━━━━━━━━━━━━━━━━━━━━━━━━━━━━━━━━━━━━━━\u001b[0m \u001b[32m49.2/49.2 kB\u001b[0m \u001b[31m6.9 MB/s\u001b[0m eta \u001b[36m0:00:00\u001b[0m\n",
            "\u001b[?25h  Preparing metadata (setup.py) ... \u001b[?25l\u001b[?25hdone\n",
            "\u001b[2K     \u001b[90m━━━━━━━━━━━━━━━━━━━━━━━━━━━━━━━━━━━━━━━━\u001b[0m \u001b[32m62.7/62.7 kB\u001b[0m \u001b[31m8.8 MB/s\u001b[0m eta \u001b[36m0:00:00\u001b[0m\n",
            "\u001b[2K     \u001b[90m━━━━━━━━━━━━━━━━━━━━━━━━━━━━━━━━━━━━━━━━\u001b[0m \u001b[32m77.9/77.9 kB\u001b[0m \u001b[31m11.0 MB/s\u001b[0m eta \u001b[36m0:00:00\u001b[0m\n",
            "\u001b[2K     \u001b[90m━━━━━━━━━━━━━━━━━━━━━━━━━━━━━━━━━━━━━━━━\u001b[0m \u001b[32m58.3/58.3 kB\u001b[0m \u001b[31m9.4 MB/s\u001b[0m eta \u001b[36m0:00:00\u001b[0m\n",
            "\u001b[2K     \u001b[90m━━━━━━━━━━━━━━━━━━━━━━━━━━━━━━━━━━━━━━━━\u001b[0m \u001b[32m141.1/141.1 kB\u001b[0m \u001b[31m15.1 MB/s\u001b[0m eta \u001b[36m0:00:00\u001b[0m\n",
            "\u001b[2K     \u001b[90m━━━━━━━━━━━━━━━━━━━━━━━━━━━━━━━━━━━━━━━━\u001b[0m \u001b[32m80.8/80.8 kB\u001b[0m \u001b[31m11.5 MB/s\u001b[0m eta \u001b[36m0:00:00\u001b[0m\n",
            "\u001b[2K     \u001b[90m━━━━━━━━━━━━━━━━━━━━━━━━━━━━━━━━━━━━━━━━\u001b[0m \u001b[32m290.4/290.4 kB\u001b[0m \u001b[31m38.3 MB/s\u001b[0m eta \u001b[36m0:00:00\u001b[0m\n",
            "\u001b[2K     \u001b[90m━━━━━━━━━━━━━━━━━━━━━━━━━━━━━━━━━━━━━━━━\u001b[0m \u001b[32m54.5/54.5 kB\u001b[0m \u001b[31m7.4 MB/s\u001b[0m eta \u001b[36m0:00:00\u001b[0m\n",
            "\u001b[?25h  Building wheel for google-search-results (setup.py) ... \u001b[?25l\u001b[?25hdone\n",
            "  Building wheel for wikipedia (setup.py) ... \u001b[?25l\u001b[?25hdone\n",
            "  Building wheel for langdetect (setup.py) ... \u001b[?25l\u001b[?25hdone\n",
            "  Building wheel for sgmllib3k (setup.py) ... \u001b[?25l\u001b[?25hdone\n",
            "\u001b[31mERROR: pip's dependency resolver does not currently take into account all the packages that are installed. This behaviour is the source of the following dependency conflicts.\n",
            "google-colab 1.0.0 requires requests==2.31.0, but you have requests 2.32.3 which is incompatible.\u001b[0m\u001b[31m\n",
            "\u001b[0m"
          ]
        }
      ],
      "source": [
        "!pip install --quiet openai \\\n",
        "  langchain langchain_community langchain_core langchain_openai langchainhub \\\n",
        "  python-dotenv \\\n",
        "  tenacity \\\n",
        "  google-search-results \\\n",
        "  unstructured \\\n",
        "  arxiv pymupdf \\\n",
        "  tiktoken \\\n",
        "  streamlit streamlit-folium wikipedia"
      ]
    },
    {
      "cell_type": "markdown",
      "source": [
        "# 1. LLM을 api로 사용해보기!\n",
        "\n",
        "작년 봄부터 chatgpt가 유명해짐에 따라 LLM을 web-ui에서 chat형태로 많이 사용해보셨을 거 같습니다.\n",
        "\n",
        "최근에는 여러 플러그인도 chatgpt에서 지원함에 따라 다양한 기능을 할 수 있는 gpt-store도 사용가능한데요.\n",
        "\n",
        "이 챕터에서는 LLM 사용을 web에서의 chat형태에서 벗어나 python코드로 사용할 수 있는 방법으로 확장해나가려합니다."
      ],
      "metadata": {
        "id": "_Rmw892tzUsS"
      }
    },
    {
      "cell_type": "markdown",
      "source": [
        "# 로컬에서 LLM 사용하기\n",
        "보안 혹은 비용 문제로 openai의 api를 사용하기 힘든 경우가 있습니다.\n",
        "\n",
        "보안과 비용문제가 없다면 [openai api 문서](https://platform.openai.com/docs/overview) 를 보면서 코드를 작성해보셔도 좋습니다.\n",
        "\n",
        "하지만 이 노트북에서는 openai api 사용이 힘든 경우를 가정해 진행됩니다.\n",
        "\n",
        "추가로 최근에는 sLLM (7\\~13B 규모), medium size LLM (70\\~200B)의 성능이 chatgpt (gpt4)를 능가하는 경우도 많이 리포팅되고 있어 어떤 상황에서는 gpt보다는 이 노트북에서 소개해드리는 방식을 사용하는 게 좋을 수 있습니다.\n",
        "\n",
        "## Ollama 배포하기\n",
        "### Reference\n",
        "* [Ollama.com](https://ollama.com/library)\n",
        "*  [Quick Start](https://github.com/ollama/ollama?tab=readme-ov-file#ollama)\n",
        "\n",
        "\n",
        "#### Ollama 공식, 베어메탈 장비에 배포하기\n",
        "~~~bash\n",
        "# install\n",
        "curl -fsSL https://ollama.com/install.sh | sh\n",
        "# run\n",
        "ollama run llama3\n",
        "~~~\n",
        "\n",
        "#### Ollama 공식, 도커로 배포하기\n",
        "[reference](https://hub.docker.com/r/ollama/ollama)\n",
        "~~~bash\n",
        "# cpu only\n",
        "docker run -d -v ollama:/root/.ollama -p 11434:11434 --name ollama ollama/ollama\n",
        "\n",
        "# for gpu please refer the link. The command differs by the GPU vendor.\n",
        "~~~\n",
        "\n",
        "#### 웹 UI 포함한 도커 컴포즈로 배포하기\n",
        "[reference](https://github.com/open-webui/open-webui)\n",
        "\n",
        "**USE THIS! Easiest with web ui**\n"
      ],
      "metadata": {
        "id": "MyYKjNSJv-q-"
      }
    },
    {
      "cell_type": "markdown",
      "source": [
        "## LLAMA3 example\n",
        "### If runned with Official\n",
        "~~~bash\n",
        "ollama run llama3\n",
        "ollama run llama3:70b\n",
        "ollama run llama3:text\n",
        "ollama run llama3:70b-text\n",
        "~~~\n",
        "\n",
        "### with web ui\n",
        "just select the model then you can use it (if the model is not downloaded, it will download automatically)"
      ],
      "metadata": {
        "id": "XzJC2RXzwPWD"
      }
    },
    {
      "cell_type": "markdown",
      "source": [
        "## WebUI 사용해보기\n",
        "* 주소: http://ldi.snu.ac.kr:3000/\n",
        "* email: samsung.test@samsung.test.kr\n",
        "* password: 1234"
      ],
      "metadata": {
        "id": "OJT1iWHD02fj"
      }
    },
    {
      "cell_type": "markdown",
      "source": [
        "## ollama api를 openai api로 사용하기\n",
        "ollama의 내부 api는 openai api를 mimic해서 만들어져 있습니다.\n",
        "\n",
        "그렇기 때문에 openai 라이브러리로 ollama 에 배포되어 있는 모델을 사용해볼 수 있습니다.\n"
      ],
      "metadata": {
        "id": "XhlqkWxA0-B8"
      }
    },
    {
      "cell_type": "code",
      "source": [
        "# 환경 설정하기\n",
        "# OPENAI_API_BASE 와 OPENAI_API_KEY 를 환경변수로 설정해줍니다.\n",
        "\n",
        "import os\n",
        "\n",
        "\n",
        "# should be http://{deployed server url}:11434/v1\n",
        "\n",
        "# os.environ[\"OPENAI_API_BASE\"] = \"http://ldi.snu.ac.kr:11434/v1\" # RTX 3080, 11GB\n",
        "# model_name = \"llama3\"\n",
        "\n",
        "os.environ[\"OPENAI_API_BASE\"] = \"http://dilab15.snu.ac.kr:11434/v1\" # A6000, 48GB\n",
        "model_name = \"llama3:8b-instruct-fp16\"\n",
        "\n",
        "os.environ[\"OPENAI_API_KEY\"] = \"ollama\"\n"
      ],
      "metadata": {
        "id": "mZoy_pDozf6y"
      },
      "execution_count": 4,
      "outputs": []
    },
    {
      "cell_type": "markdown",
      "source": [
        "## openai api로 chatting 해보기"
      ],
      "metadata": {
        "id": "rRnLCoiL0_5-"
      }
    },
    {
      "cell_type": "code",
      "source": [
        "from openai import OpenAI\n",
        "from google.colab import userdata\n",
        "\n",
        "\n",
        "# OpenAI 인스턴스 init\n",
        "client = OpenAI(\n",
        "    # base_url=os.environ[\"OPENAI_API_BASE\"],\n",
        "    api_key=userdata.get('OPEN-AI_KEY'),\n",
        "    organization=userdata.get('MY_OPENAI_ORG_ID'),\n",
        "    project=userdata.get('MY_OPENAI_PROJECT_ID')\n",
        ")\n",
        "\n",
        "# chat completion으로 응답 생성하기\n",
        "response = client.chat.completions.create(\n",
        "    model='gpt-3.5-turbo',\n",
        "    messages=[\n",
        "        # 시스템 프롬프트, LLM이 어떤 역할을 하거나, 전체 대화에서의 제약사항을 적어줄 수 있습니다.\n",
        "        {\"role\": \"system\", \"content\": \"You are a helpful assistant.\"},\n",
        "\n",
        "        # 메인 프롬프트: user와 assitant가 번갈아가면서 나옵니다.\n",
        "        # 보통 user로 시작합니다.\n",
        "        # 아래 예시의 경우, LLM이 한번 답변을 한 상황입니다.\n",
        "        # LLM의 답변은 assitant role로 적어주야합니다.\n",
        "\n",
        "        ### 대화의 내용은 2020년 월드 시리즈에서 어느 팀이 이겼는지를 묻고 있습니다.\n",
        "        ### 2020년에 Dodgers가 Rays 상대로 3:1로 우승한 것을 확인할 수 있습니다. (https://www.google.com/search?q=2020+world+series&oq=2020+world+series&sourceid=chrome&ie=UTF-8)\n",
        "        ### (LLama3는 2020년 이후에 학습되었기 때문에 해당 정보를 학습하고 기억하고 있는 모습입니다.)\n",
        "        ### 어디서 경기가 열렸는지 추가로 질문해봅시다.\n",
        "        {\"role\": \"user\", \"content\": \"Who won the world series in 2020?\"},\n",
        "        {\"role\": \"assistant\", \"content\": \"The LA Dodgers won in 2020.\"},\n",
        "        {\"role\": \"user\", \"content\": \"Where did the game start?\"}\n",
        "    ]\n",
        ")\n",
        "\n",
        "print(response.choices[0].message.content)"
      ],
      "metadata": {
        "colab": {
          "base_uri": "https://localhost:8080/"
        },
        "id": "jWyBOMkC0K9s",
        "outputId": "23cfdc5d-2c15-46a3-c358-7d0e3e057b26"
      },
      "execution_count": 6,
      "outputs": [
        {
          "output_type": "stream",
          "name": "stdout",
          "text": [
            "The 2020 World Series was played at a neutral site due to the COVID-19 pandemic. The games were held at Globe Life Field in Arlington, Texas.\n"
          ]
        }
      ]
    },
    {
      "cell_type": "code",
      "source": [
        "# 이어서 대화를 해봅시다.\n",
        "msgs = [\n",
        "     {\"role\": \"user\", \"content\": \"Recommend me 5 Korean foods for dinner.\"}\n",
        "  ]\n",
        "# chat completion으로 응답 생성하기\n",
        "response = client.chat.completions.create(\n",
        "    model=model_name,\n",
        "    messages=msgs\n",
        ")\n",
        "\n",
        "print(response.choices[0].message.content)"
      ],
      "metadata": {
        "id": "XdI2gNG928p5",
        "colab": {
          "base_uri": "https://localhost:8080/"
        },
        "outputId": "f288a015-5943-4772-b371-a05a9f1bdfc7"
      },
      "execution_count": null,
      "outputs": [
        {
          "output_type": "stream",
          "name": "stdout",
          "text": [
            "Here are 5 delicious Korean dishes that are perfect for dinner:\n",
            "\n",
            "1. **Bulgogi** (): A classic Korean dish, bulgogi is a marinated beef dish that's grilled to perfection. The sweet and savory marinade makes the beef tender and flavorful.\n",
            "2. **Jeyuk bokkeum** (): This spicy stir-fried pork dish is a staple in Korean cuisine. Thinly sliced pork is stir-fried with vegetables, chili peppers, and a variety of spices, creating a bold and aromatic flavor profile.\n",
            "3. **Naengmyeon** (): If you're looking for something light and refreshing, naengmyeon (cold buckwheat or starch noodles) is the way to go. This dish typically consists of chewy noodles served with a spicy sauce, sliced cucumbers, pear slices, and boiled egg.\n",
            "4. **Dakgangjeong** (): Crispy fried chicken glazed in a sweet and savory soy-ginger sauce - what's not to love? Dakgangjeong (Korean-style fried chicken) is a popular Korean dish that's easy to make and always satisfying.\n",
            "5. **Doenjang jjigae** (): For those who love fermented foods, doenjang jjigae (fermented soybean paste stew) is a must-try. This hearty stew is made with doenjang (similar to miso), vegetables, and gochugaru (Korean chili flakes). It's a flavorful and nutritious option for dinner.\n",
            "\n",
            "I hope you enjoy trying these delicious Korean dishes!\n"
          ]
        }
      ]
    },
    {
      "cell_type": "code",
      "source": [
        "# 수학 문제 풀어보기\n",
        "# CoT, ICL\n",
        "# CoT: https://arxiv.org/pdf/2205.11916\n",
        "# Define the prompt with a one-shot example\n",
        "# in-context learning 관련 논문들이 많이 나온 이후로 예시를 프롬프트와 함께 제공하는, few-shot example, 방식이 많이 정형화 되었습니다.\n",
        "# 일부 테스크에서는 예시가 없으면 성능이 크게 저하되는 모습을 보여줄정도로 in-context learning은 LLM prompting에서 새로운 era를 열었습니다.\n",
        "prompt = [\n",
        "    {\"role\": \"user\", \"content\": \"\"\"\n",
        "Solve the following math problem:\n",
        "\n",
        "Example:\n",
        "Problem: What is 7 + 5?\n",
        "Solution: 7 + 5 = 12\n",
        "\n",
        "Now solve this problem:\n",
        "Problem: What is 8 * 6?\n",
        "\n",
        "Think step by step.\n",
        "\n",
        "Solution:\n",
        "\"\"\"}\n",
        "]\n",
        "\n",
        "# Call the OpenAI API with the defined prompt\n",
        "response = client.chat.completions.create(\n",
        "    model=model_name,\n",
        "    messages=prompt,\n",
        "    temperature=0.2\n",
        ")\n",
        "\n",
        "# Extract and print the response\n",
        "solution = response.choices[0].message.content.strip()\n",
        "print(solution)\n"
      ],
      "metadata": {
        "colab": {
          "base_uri": "https://localhost:8080/"
        },
        "id": "uN13J6K-FF4L",
        "outputId": "cff59df5-7fd8-49d9-ca75-8eb85c6029aa"
      },
      "execution_count": null,
      "outputs": [
        {
          "output_type": "stream",
          "name": "stdout",
          "text": [
            "Let's solve the problem step by step.\n",
            "\n",
            "Problem: What is 8 * 6?\n",
            "\n",
            "Step 1: Multiply 8 and 6\n",
            "\n",
            "8 × 6 = ?\n",
            "\n",
            "To multiply, I'll count how many groups of 8 there are in 6 sets:\n",
            "\n",
            "* 8 + 8 = 16 (2 groups)\n",
            "* 16 + 8 = 24 (3 groups)\n",
            "* 24 + 8 = 32 (4 groups)\n",
            "* 32 + 8 = 40 (5 groups)\n",
            "* 40 + 8 = 48 (6 groups)\n",
            "\n",
            "So, the result of multiplying 8 and 6 is:\n",
            "\n",
            "8 × 6 = 48\n",
            "\n",
            "Solution:\n",
            "Problem: What is 8 * 6?\n",
            "Solution: 8 * 6 = 48\n"
          ]
        }
      ]
    },
    {
      "cell_type": "code",
      "source": [
        "# llama3-8B의 학습데이터는 2023년 3월까지의 정보입니다.\n",
        "# https://huggingface.co/meta-llama/Meta-Llama-3-8B\n",
        "msgs = [\n",
        "     {\"role\": \"user\", \"content\": \"How is the interest rate in US?\"}\n",
        "  ]\n",
        "# chat completion으로 응답 생성하기\n",
        "response = client.chat.completions.create(\n",
        "    model=model_name,\n",
        "    messages=msgs\n",
        ")\n",
        "\n",
        "print(response.choices[0].message.content)"
      ],
      "metadata": {
        "colab": {
          "base_uri": "https://localhost:8080/"
        },
        "id": "vXOieIAPXYkF",
        "outputId": "979c8333-e01b-4dfc-d24d-ffc9a860f25c"
      },
      "execution_count": null,
      "outputs": [
        {
          "output_type": "stream",
          "name": "stdout",
          "text": [
            "The current interest rates in the United States are set by the Federal Reserve, which is the central bank of the country. The Fed uses monetary policy tools to influence interest rates and promote maximum employment, stable prices, and moderate long-term interest rates.\n",
            "\n",
            "As of March 2023, the key interest rates set by the Federal Reserve are:\n",
            "\n",
            "1. **Federal Funds Target Rate**: This is the primary tool used by the Fed to set short-term interest rates. As of March 15, 2023, the federal funds target rate is between 4.50% and 4.75%.\n",
            "2. **Federal Reserve Discount Rate**: This is the rate at which banks borrow money directly from the Federal Reserve. The current discount rate is 5.00%.\n",
            "\n",
            "These interest rates affect a range of other interest rates in the economy, including:\n",
            "\n",
            "1. **Prime Lending Rate**: This is the rate at which banks lend to their most creditworthy customers. As of March 2023, the prime lending rate is around 6.50%.\n",
            "2. **Mortgage Rates**: The 30-year fixed mortgage rate has been around 5.75% as of March 2023.\n",
            "3. **Savings Account Rates**: Many savings accounts and certificates of deposit (CDs) offer interest rates around 0.10% to 1.00%.\n",
            "4. **Credit Card Rates**: Credit card interest rates vary depending on the issuer, but average around 15% to 20%.\n",
            "\n",
            "Please note that these rates are subject to change as economic conditions evolve and the Federal Reserve adjusts its monetary policy.\n",
            "\n",
            "Would you like me to provide more information or context about interest rates in the US?\n"
          ]
        }
      ]
    },
    {
      "cell_type": "code",
      "source": [
        "# https://www.bbc.com/news/articles/c1ddj7v9y97o\n",
        "msgs = [\n",
        "     {\"role\": \"user\", \"content\": \"\"\"\n",
        "The US Federal Reserve has signalled that it will cut its key interest rate just once this year despite inflation easing.\n",
        "Back in March, the central bank had been expected to reduce borrowing costs three times by the end of 2024.\n",
        "However, on Wednesday, new forecasts from Fed officials who make decisions on rates pencilled in a single reduction.\n",
        "The new outlook emerged after the Fed voted to hold interest rates at their current 23-year high even as inflation ticked lower.\n",
        "Inflation, which measures the pace of price rises, slowed to 3.3% in the year to May. That compares with 3.4% in the 12 months to April.\n",
        "However, between April and May inflation was unchanged and it remains above the Fed's 2% target.\n",
        "Jerome Powell, chair of the Federal Reserve, said that only \"modest\" progress had been made on hitting the target and the central bank would need to see \"good inflation readings\" before interest rates can be cut.\n",
        "US interest rates were held at 5.25%-5.5%.\n",
        "Anastassia Fedyk, assistant professor of finance at Haas Business School at the University of California Berkeley, told the BBC's Today programme: \"We did get some good news in terms of better inflation numbers.\n",
        "\"But the Fed is still being pretty cautious so they are signalling that in the future they are going to be doing one, most likely, rate drop and not a very large one at that.\"\n",
        "Some analysts suggested that the central bank would backtrack on the number of interest rate cuts this year.\n",
        "Ian Shepherdson, chief economist at Pantheon Macroeconomics, said that reducing forecasts of interest rate cuts from three to one this year was \"unnecessarily aggressive\".\n",
        "While economists at Wells Fargo said it would be a \"close call\" between making one or two reductions in 2024.\n",
        "Officials at the US Fed were split over how many interest rate cuts they expected this year. Of the 19 policymakers who gave their outlook, four expected no cut, seven forecasted one reduction while eight thought there would be two.\n",
        "US jobs surge casts doubt over interest rate cuts\n",
        "Will the UK and US cut interest rates like Europe?\n",
        "When will interest rates come down?\n",
        "Forecasts from the US Fed signalled one modest cut to 5%-5.25%.\n",
        "Mr Powell acknowledged that a reduction of this size would not have a major impact on the US economy.\n",
        "But he said when a cut finally does come it would be “a consequential decision for the economy” which “you want to get right\".\n",
        "While inflation eased a little, the US employment market remains robust. Recent data showed that US employers added 272,000 jobs in May - far above the 185,000 expected.\n",
        "Ms Fedyk said: \"The Fed is trying to react to the data but not overreact to the data.\"\n",
        "Some other major economies have cut interest rates, including the European Central Bank and the Bank of Canada.\n",
        "But the US - and the UK - are yet to make a similar move. The Bank of England will meet next week and is widely expected to hold interest rates at 5.25%, their highest level for 16 years.\n",
        "The Consumer Prices Index (CPI) measure of inflation has slowed significantly in the UK from a high of 11.1% in October 2022 to 2.3% currently.\n",
        "However, some elements of inflation remain stubbornly high. At the same time, average wage growth in the UK remains strong compared to inflation.\n",
        "Earlier this week, Ruth Gregory, deputy chief UK economist at Capital Economics said: \"Overall, the stickiness of wage growth may not stop the Bank from cutting interest rates for the first time in August, as we are forecasting, as long as other indicators such as pay settlements data and next week’s CPI inflation release show decent progress.\"\n",
        "\n",
        "How is the interest rate in US?\n",
        "\"\"\"}\n",
        "  ]\n",
        "# chat completion으로 응답 생성하기\n",
        "response = client.chat.completions.create(\n",
        "    model=model_name,\n",
        "    messages=msgs\n",
        ")\n",
        "\n",
        "print(response.choices[0].message.content)"
      ],
      "metadata": {
        "colab": {
          "base_uri": "https://localhost:8080/"
        },
        "id": "xW05rmfPYlJU",
        "outputId": "6f26c245-8f85-4107-9664-f2d7f150fbe1"
      },
      "execution_count": null,
      "outputs": [
        {
          "output_type": "stream",
          "name": "stdout",
          "text": [
            "According to the article, the interest rate in the United States has been held at its current level of 5.25%-5.5%, which is a 23-year high. The Federal Reserve (Fed) has signalled that it will only cut its key interest rate once this year, and even then, the cut is expected to be modest, likely reducing the rate to 5%-5.25%.\n"
          ]
        }
      ]
    },
    {
      "cell_type": "markdown",
      "source": [
        "# Tools\n",
        "LLM을 사용하다 보면 LLM이 만능인가라는 생각이 듭니다.\n",
        "\n",
        "하지만 LLM도 그 능력이 자신이 학습한 데이터안에서 문자를 생성하는 데에 한정되어 있다는 것을 몇시간 사용하다보면 알게됩니다.\n",
        "\n",
        "그러면 어떻게 하면 LLM의 능력을 확장시킬 수 있을까요?\n",
        "\n",
        "사람과 마찬가지로 그 능력에 특화된 도구를 사용하는 식으로 이룰 수 있습니다.\n",
        "\n",
        "마치 손으로 종이를 찢어도 되지만 가위를 사용하는 사람처럼 말이죠.\n",
        "\n",
        "그러면 이런것도 가능할까요?\n",
        "\n",
        "1. LLM이 학습한 이후에 발행된 논문에 대해 요약본을 얻고 주요 핵심 내용을 질문하거나\n",
        "2. 여행계획을 짜는 데 주요 여행지를 알아서 검색해주고, 여행 계획을 짜주는 식으로 말이죠.\n",
        "\n",
        "이어지는 세션에서는\n",
        "1. LLM이 arxiv에 접근해서 논문을 가져오고, 적절히 분할해 요약본을 만들고, 사용자의 질문에 답변할 수 있게 능력을 확장해봅니다.\n",
        "2. 여러분이 직접 랭체인 문서를 읽어보며 툴들을 활용해봅니다.\n"
      ],
      "metadata": {
        "id": "4TBDjmxdKTEC"
      }
    },
    {
      "cell_type": "markdown",
      "source": [
        "# [Arxiv] Arxiv PDF 요약해보기\n",
        "\n",
        "많은 preprint 페이퍼들이 arxiv에 공개됩니다. 그 만큼 arxiv에 주요한 페이퍼들을 follow up 하는 것만으로도 관련 내용을 이해하는데에 많은 도움이 됩니다.\n",
        "\n",
        "하지만 pre-print다 보니, 하루에도 수십개의 페이퍼들이 올라옵니다.\n",
        "\n",
        "그 중에서 중요한걸 고르는 것도, 중요해보이는 페이퍼를 읽어서 정리하는 것도 시간을 많이 필요로 합니다.\n",
        "\n",
        "이떄 LLM을 활용해볼 수 있습니다.\n",
        "\n",
        "LLM에게 요약, 주요 contribution 정리, 중요 결과를 물어봅시다."
      ],
      "metadata": {
        "id": "ECKKzm341F1O"
      }
    },
    {
      "cell_type": "markdown",
      "source": [
        "위 기능들을 직접 앞서 구현한 `chat.compleitions` 로도 구현해볼 수 있지만\n",
        "너무 많은 번거로움과 오류가 발생할 수 있습니다.\n",
        "\n",
        "Langchain을 사용하면 이런 번거로움과 에러 핸들링에서 벗어날 수 있습니다.\n",
        "\n",
        "langchain에서는 LLM외에 LLM과 여러 툴과 소통하면 목적을 달성할 수 있게 도와줍니다.\n",
        "\n",
        "또한, 문서가 길어 'lost-in-the-middle' (문서 전체의 중간을 까먹는 현상) 을 방지 할 수 있게 문서를 shard해서 잘라주고, 각 문서별 요약을 한 뒤에 요약을 해주는 방식도 제공해줍니다.\n",
        "\n",
        "Langchain 에 대한 자세한 내용을 알고 싶다면 [langchain docs](https://python.langchain.com/v0.2/docs/introduction/)를 읽어보세요."
      ],
      "metadata": {
        "id": "TYdzwzIkEt1P"
      }
    },
    {
      "cell_type": "code",
      "source": [
        "# imports\n",
        "import os\n",
        "import warnings\n",
        "from pprint import pprint\n",
        "\n",
        "from dotenv import load_dotenv\n",
        "from langchain_community.document_loaders import PyPDFLoader, PDFMinerLoader, ArxivLoader, PyMuPDFLoader\n",
        "from langchain_community.retrievers import ArxivRetriever\n",
        "\n",
        "from langchain.prompts import PromptTemplate\n",
        "from langchain_community.chat_models import ChatOpenAI\n",
        "from langchain.chains import LLMChain\n",
        "\n",
        "from langchain.chains.combine_documents.stuff import StuffDocumentsChain\n",
        "from langchain.chains import ReduceDocumentsChain, MapReduceDocumentsChain\n",
        "from langchain.text_splitter import CharacterTextSplitter\n",
        "from langchain.chains.question_answering import load_qa_chain"
      ],
      "metadata": {
        "id": "aDfkFCzoERph"
      },
      "execution_count": null,
      "outputs": []
    },
    {
      "cell_type": "code",
      "source": [
        "# 설정 셋업.\n",
        "load_dotenv()\n",
        "VERBOSE = False\n",
        "arxiv_id = \"1706.03762\" # Attention Is All You Need"
      ],
      "metadata": {
        "id": "Bopn5ciCEZGx"
      },
      "execution_count": null,
      "outputs": []
    },
    {
      "cell_type": "code",
      "source": [
        "# pdf 읽기\n",
        "# 직접 pdf를 읽어서 사용할 수도 있지만\n",
        "# 여기서는 arxiv에서 자동으로 불러오는 기능을 사용해봅시다.\n",
        "\n",
        "# # load pdf\n",
        "# loader = PyMuPDFLoader(pdf_name)\n",
        "# pdf_pages = loader.load_and_split()\n",
        "\n",
        "# load from arxiv\n",
        "retriever = ArxivRetriever(load_max_docs=1)\n",
        "retriever.get_full_documents = True\n",
        "retriever.doc_content_chars_max = 1_000_000\n",
        "arxiv_doc = retriever.invoke(arxiv_id)[0]"
      ],
      "metadata": {
        "id": "DjWfnBMYEavf"
      },
      "execution_count": null,
      "outputs": []
    },
    {
      "cell_type": "code",
      "source": [
        "# ========== 0 LLM setting ========== #\n",
        "# 랭 체인을 사용해 LLM을 설정합니다.\n",
        "llm = ChatOpenAI(\n",
        "    base_url=os.environ[\"OPENAI_API_BASE\"],\n",
        "    api_key=os.environ[\"OPENAI_API_KEY\"],\n",
        "    temperature=0,\n",
        "    model_name=model_name\n",
        ")"
      ],
      "metadata": {
        "id": "CQmoXkfJEm4c",
        "colab": {
          "base_uri": "https://localhost:8080/"
        },
        "outputId": "0adc844c-955d-41af-e21e-1b36c5a49231"
      },
      "execution_count": null,
      "outputs": [
        {
          "output_type": "stream",
          "name": "stderr",
          "text": [
            "/usr/local/lib/python3.10/dist-packages/langchain_core/_api/deprecation.py:139: LangChainDeprecationWarning: The class `ChatOpenAI` was deprecated in LangChain 0.0.10 and will be removed in 0.3.0. An updated version of the class exists in the langchain-openai package and should be used instead. To use it run `pip install -U langchain-openai` and import as `from langchain_openai import ChatOpenAI`.\n",
            "  warn_deprecated(\n"
          ]
        }
      ]
    },
    {
      "cell_type": "code",
      "source": [
        "# ========== 1 문서분할 ========== #\n",
        "# 문서를 나눠줍니다.\n",
        "text_splitter = CharacterTextSplitter.from_tiktoken_encoder(\n",
        "    separator=\"\\n\",  # 분할기준\n",
        "    chunk_size=3000,  # 사이즈\n",
        "    chunk_overlap=500,  # 중첩 사이즈\n",
        ")\n",
        "\n",
        "# 분할 실행\n",
        "split_docs = text_splitter.split_documents([arxiv_doc])\n",
        "# 총 분할된 도큐먼트 수\n",
        "print(f'총 분할된 도큐먼트 수: {len(split_docs)}')"
      ],
      "metadata": {
        "id": "02FEz2eKH0cf",
        "colab": {
          "base_uri": "https://localhost:8080/"
        },
        "outputId": "e708af1b-5964-4e9f-94dc-44c59dcff65c"
      },
      "execution_count": null,
      "outputs": [
        {
          "output_type": "stream",
          "name": "stdout",
          "text": [
            "총 분할된 도큐먼트 수: 5\n"
          ]
        }
      ]
    },
    {
      "cell_type": "code",
      "source": [
        "# Map-Reduce를 활용해 분할 처리를 해줍니다.\n",
        "# map 함수를 이용해 분할된 문서들에 요약을 시킵니다.\n",
        "# reduce 함수로 분할된 문서의 요약을 하나로 합쳐줍니다.\n",
        "\n",
        "# ========== 2 Map 단계 ========== #\n",
        "\n",
        "# Map 단계에서 처리할 프롬프트 정의\n",
        "# 분할된 문서에 적용할 프롬프트 내용을 기입합니다.\n",
        "# 여기서 {pages} 변수에는 분할된 문서가 차례대로 대입되니다.\n",
        "map_template = \"\"\"The following is a page from the document:\n",
        "{pages}\n",
        "Please summarize the content of the page.\n",
        "Response:\"\"\"\n",
        "\n",
        "# Map 프롬프트 완성\n",
        "map_prompt = PromptTemplate.from_template(map_template)\n",
        "\n",
        "# Map에서 수행할 LLMChain 정의\n",
        "map_chain = LLMChain(llm=llm, prompt=map_prompt)"
      ],
      "metadata": {
        "id": "i8lRnf2oH5pj",
        "colab": {
          "base_uri": "https://localhost:8080/"
        },
        "outputId": "422223fc-5923-4171-9e1b-c51f207068fa"
      },
      "execution_count": null,
      "outputs": [
        {
          "output_type": "stream",
          "name": "stderr",
          "text": [
            "/usr/local/lib/python3.10/dist-packages/langchain_core/_api/deprecation.py:139: LangChainDeprecationWarning: The class `LLMChain` was deprecated in LangChain 0.1.17 and will be removed in 1.0. Use RunnableSequence, e.g., `prompt | llm` instead.\n",
            "  warn_deprecated(\n"
          ]
        }
      ]
    },
    {
      "cell_type": "code",
      "source": [
        "# ========== 3 Reduce 단계 ========== #\n",
        "\n",
        "# Reduce 단계에서 처리할 프롬프트 정의\n",
        "reduce_template = \"\"\"These are partial summaries from each page of the documents:\n",
        "{doc_summaries}\n",
        "Please summarize the summaries into a single coherent summary.\n",
        "Response:\"\"\"\n",
        "\n",
        "# Reduce 프롬프트 완성\n",
        "reduce_prompt = PromptTemplate.from_template(reduce_template)\n",
        "\n",
        "# Reduce에서 수행할 LLMChain 정의\n",
        "reduce_chain = LLMChain(llm=llm, prompt=reduce_prompt)\n",
        "\n",
        "# 문서의 목록을 받아들여, 이를 단일 문자열로 결합하고, 이를 LLMChain에 전달합니다.\n",
        "combine_documents_chain = StuffDocumentsChain(\n",
        "    llm_chain=reduce_chain,\n",
        "    document_variable_name=\"doc_summaries\"  # Reduce 프롬프트에 대입되는 변수\n",
        ")\n",
        "\n",
        "# Map 문서를 통합하고 순차적으로 Reduce합니다.\n",
        "reduce_documents_chain = ReduceDocumentsChain(\n",
        "    # 호출되는 최종 체인입니다.\n",
        "    combine_documents_chain=combine_documents_chain,\n",
        "    # 문서가 `StuffDocumentsChain`의 컨텍스트를 초과하는 경우\n",
        "    collapse_documents_chain=combine_documents_chain,\n",
        "    # 문서를 그룹화할 때의 토큰 최대 개수입니다.\n",
        "    token_max=4000,\n",
        ")"
      ],
      "metadata": {
        "id": "YeJaOGCAIH6H"
      },
      "execution_count": null,
      "outputs": []
    },
    {
      "cell_type": "code",
      "source": [
        "# ========== 4 Map-Reduce 통합단계 ========== #\n",
        "\n",
        "# 문서들에 체인을 매핑하여 결합하고, 그 다음 결과들을 결합합니다.\n",
        "map_reduce_chain = MapReduceDocumentsChain(\n",
        "    # Map 체인\n",
        "    llm_chain=map_chain,\n",
        "    # Reduce 체인\n",
        "    reduce_documents_chain=reduce_documents_chain,\n",
        "    # 문서를 넣을 llm_chain의 변수 이름(map_template 에 정의된 변수명)\n",
        "    document_variable_name=\"pages\",\n",
        "    # 출력에서 매핑 단계의 결과를 반환합니다.\n",
        "    return_intermediate_steps=False,\n",
        "    verbose=VERBOSE\n",
        ")\n"
      ],
      "metadata": {
        "id": "5SSLi8tt03iO"
      },
      "execution_count": null,
      "outputs": []
    },
    {
      "cell_type": "code",
      "source": [
        "# ========== 5 실행 결과 ========== #\n",
        "\n",
        "# Map-Reduce 체인 실행\n",
        "# 입력: 분할된 도큐먼트(1의 결과물)\n",
        "result = map_reduce_chain.invoke(split_docs, {\"show_progress\": True})\n",
        "# 요약결과 출력\n",
        "pprint(result)\n",
        "\n",
        "chain = load_qa_chain(\n",
        "    llm=llm,\n",
        "    chain_type=\"map_reduce\",\n",
        "    verbose=VERBOSE\n",
        ")\n"
      ],
      "metadata": {
        "colab": {
          "base_uri": "https://localhost:8080/"
        },
        "id": "WN7-g-KI1m27",
        "outputId": "f3013ab5-0fa1-4c82-d734-f7e128c5440b"
      },
      "execution_count": null,
      "outputs": [
        {
          "output_type": "stream",
          "name": "stderr",
          "text": [
            "WARNING:langchain_community.chat_models.openai:Warning: model not found. Using cl100k_base encoding.\n"
          ]
        },
        {
          "output_type": "stream",
          "name": "stdout",
          "text": [
            "{'input_documents': [Document(page_content='Provided proper attribution is provided, Google hereby grants permission to\\nreproduce the tables and figures in this paper solely for use in journalistic or\\nscholarly works.\\nAttention Is All You Need\\nAshish Vaswani∗\\nGoogle Brain\\navaswani@google.com\\nNoam Shazeer∗\\nGoogle Brain\\nnoam@google.com\\nNiki Parmar∗\\nGoogle Research\\nnikip@google.com\\nJakob Uszkoreit∗\\nGoogle Research\\nusz@google.com\\nLlion Jones∗\\nGoogle Research\\nllion@google.com\\nAidan N. Gomez∗†\\nUniversity of Toronto\\naidan@cs.toronto.edu\\nŁukasz Kaiser∗\\nGoogle Brain\\nlukaszkaiser@google.com\\nIllia Polosukhin∗‡\\nillia.polosukhin@gmail.com\\nAbstract\\nThe dominant sequence transduction models are based on complex recurrent or\\nconvolutional neural networks that include an encoder and a decoder. The best\\nperforming models also connect the encoder and decoder through an attention\\nmechanism. We propose a new simple network architecture, the Transformer,\\nbased solely on attention mechanisms, dispensing with recurrence and convolutions\\nentirely. Experiments on two machine translation tasks show these models to\\nbe superior in quality while being more parallelizable and requiring significantly\\nless time to train. Our model achieves 28.4 BLEU on the WMT 2014 English-\\nto-German translation task, improving over the existing best results, including\\nensembles, by over 2 BLEU. On the WMT 2014 English-to-French translation task,\\nour model establishes a new single-model state-of-the-art BLEU score of 41.8 after\\ntraining for 3.5 days on eight GPUs, a small fraction of the training costs of the\\nbest models from the literature. We show that the Transformer generalizes well to\\nother tasks by applying it successfully to English constituency parsing both with\\nlarge and limited training data.\\n∗Equal contribution. Listing order is random. Jakob proposed replacing RNNs with self-attention and started\\nthe effort to evaluate this idea. Ashish, with Illia, designed and implemented the first Transformer models and\\nhas been crucially involved in every aspect of this work. Noam proposed scaled dot-product attention, multi-head\\nattention and the parameter-free position representation and became the other person involved in nearly every\\ndetail. Niki designed, implemented, tuned and evaluated countless model variants in our original codebase and\\ntensor2tensor. Llion also experimented with novel model variants, was responsible for our initial codebase, and\\nefficient inference and visualizations. Lukasz and Aidan spent countless long days designing various parts of and\\nimplementing tensor2tensor, replacing our earlier codebase, greatly improving results and massively accelerating\\nour research.\\n†Work performed while at Google Brain.\\n‡Work performed while at Google Research.\\n31st Conference on Neural Information Processing Systems (NIPS 2017), Long Beach, CA, USA.\\narXiv:1706.03762v7  [cs.CL]  2 Aug 2023\\n1\\nIntroduction\\nRecurrent neural networks, long short-term memory [13] and gated recurrent [7] neural networks\\nin particular, have been firmly established as state of the art approaches in sequence modeling and\\ntransduction problems such as language modeling and machine translation [35, 2, 5]. Numerous\\nefforts have since continued to push the boundaries of recurrent language models and encoder-decoder\\narchitectures [38, 24, 15].\\nRecurrent models typically factor computation along the symbol positions of the input and output\\nsequences. Aligning the positions to steps in computation time, they generate a sequence of hidden\\nstates ht, as a function of the previous hidden state ht−1 and the input for position t. This inherently\\nsequential nature precludes parallelization within training examples, which becomes critical at longer\\nsequence lengths, as memory constraints limit batching across examples. Recent work has achieved\\nsignificant improvements in computational efficiency through factorization tricks [21] and conditional\\ncomputation [32], while also improving model performance in case of the latter. The fundamental\\nconstraint of sequential computation, however, remains.\\nAttention mechanisms have become an integral part of compelling sequence modeling and transduc-\\ntion models in various tasks, allowing modeling of dependencies without regard to their distance in\\nthe input or output sequences [2, 19]. In all but a few cases [27], however, such attention mechanisms\\nare used in conjunction with a recurrent network.\\nIn this work we propose the Transformer, a model architecture eschewing recurrence and instead\\nrelying entirely on an attention mechanism to draw global dependencies between input and output.\\nThe Transformer allows for significantly more parallelization and can reach a new state of the art in\\ntranslation quality after being trained for as little as twelve hours on eight P100 GPUs.\\n2\\nBackground\\nThe goal of reducing sequential computation also forms the foundation of the Extended Neural GPU\\n[16], ByteNet [18] and ConvS2S [9], all of which use convolutional neural networks as basic building\\nblock, computing hidden representations in parallel for all input and output positions. In these models,\\nthe number of operations required to relate signals from two arbitrary input or output positions grows\\nin the distance between positions, linearly for ConvS2S and logarithmically for ByteNet. This makes\\nit more difficult to learn dependencies between distant positions [12]. In the Transformer this is\\nreduced to a constant number of operations, albeit at the cost of reduced effective resolution due\\nto averaging attention-weighted positions, an effect we counteract with Multi-Head Attention as\\ndescribed in section 3.2.\\nSelf-attention, sometimes called intra-attention is an attention mechanism relating different positions\\nof a single sequence in order to compute a representation of the sequence. Self-attention has been\\nused successfully in a variety of tasks including reading comprehension, abstractive summarization,\\ntextual entailment and learning task-independent sentence representations [4, 27, 28, 22].\\nEnd-to-end memory networks are based on a recurrent attention mechanism instead of sequence-\\naligned recurrence and have been shown to perform well on simple-language question answering and\\nlanguage modeling tasks [34].\\nTo the best of our knowledge, however, the Transformer is the first transduction model relying\\nentirely on self-attention to compute representations of its input and output without using sequence-\\naligned RNNs or convolution. In the following sections, we will describe the Transformer, motivate\\nself-attention and discuss its advantages over models such as [17, 18] and [9].\\n3\\nModel Architecture\\nMost competitive neural sequence transduction models have an encoder-decoder structure [5, 2, 35].\\nHere, the encoder maps an input sequence of symbol representations (x1, ..., xn) to a sequence\\nof continuous representations z = (z1, ..., zn). Given z, the decoder then generates an output\\nsequence (y1, ..., ym) of symbols one element at a time. At each step the model is auto-regressive\\n[10], consuming the previously generated symbols as additional input when generating the next.\\n2\\nFigure 1: The Transformer - model architecture.\\nThe Transformer follows this overall architecture using stacked self-attention and point-wise, fully\\nconnected layers for both the encoder and decoder, shown in the left and right halves of Figure 1,\\nrespectively.\\n3.1\\nEncoder and Decoder Stacks\\nEncoder:\\nThe encoder is composed of a stack of N = 6 identical layers. Each layer has two\\nsub-layers. The first is a multi-head self-attention mechanism, and the second is a simple, position-\\nwise fully connected feed-forward network. We employ a residual connection [11] around each of\\nthe two sub-layers, followed by layer normalization [1]. That is, the output of each sub-layer is\\nLayerNorm(x + Sublayer(x)), where Sublayer(x) is the function implemented by the sub-layer\\nitself. To facilitate these residual connections, all sub-layers in the model, as well as the embedding\\nlayers, produce outputs of dimension dmodel = 512.\\nDecoder:\\nThe decoder is also composed of a stack of N = 6 identical layers. In addition to the two\\nsub-layers in each encoder layer, the decoder inserts a third sub-layer, which performs multi-head\\nattention over the output of the encoder stack. Similar to the encoder, we employ residual connections\\naround each of the sub-layers, followed by layer normalization. We also modify the self-attention\\nsub-layer in the decoder stack to prevent positions from attending to subsequent positions. This\\nmasking, combined with fact that the output embeddings are offset by one position, ensures that the\\npredictions for position i can depend only on the known outputs at positions less than i.\\n3.2\\nAttention\\nAn attention function can be described as mapping a query and a set of key-value pairs to an output,\\nwhere the query, keys, values, and output are all vectors. The output is computed as a weighted sum\\n3\\nScaled Dot-Product Attention\\nMulti-Head Attention\\nFigure 2: (left) Scaled Dot-Product Attention. (right) Multi-Head Attention consists of several\\nattention layers running in parallel.\\nof the values, where the weight assigned to each value is computed by a compatibility function of the\\nquery with the corresponding key.\\n3.2.1\\nScaled Dot-Product Attention\\nWe call our particular attention \"Scaled Dot-Product Attention\" (Figure 2). The input consists of\\nqueries and keys of dimension dk, and values of dimension dv. We compute the dot products of the\\nquery with all keys, divide each by √dk, and apply a softmax function to obtain the weights on the\\nvalues.\\nIn practice, we compute the attention function on a set of queries simultaneously, packed together\\ninto a matrix Q. The keys and values are also packed together into matrices K and V . We compute\\nthe matrix of outputs as:\\nAttention(Q, K, V ) = softmax(QKT\\n√dk\\n)V\\n(1)\\nThe two most commonly used attention functions are additive attention [2], and dot-product (multi-\\nplicative) attention. Dot-product attention is identical to our algorithm, except for the scaling factor\\nof\\n1\\n√dk . Additive attention computes the compatibility function using a feed-forward network with\\na single hidden layer. While the two are similar in theoretical complexity, dot-product attention is\\nmuch faster and more space-efficient in practice, since it can be implemented using highly optimized\\nmatrix multiplication code.\\nWhile for small values of dk the two mechanisms perform similarly, additive attention outperforms\\ndot product attention without scaling for larger values of dk [3]. We suspect that for large values of\\ndk, the dot products grow large in magnitude, pushing the softmax function into regions where it has\\nextremely small gradients 4. To counteract this effect, we scale the dot products by\\n1\\n√dk .\\n3.2.2\\nMulti-Head Attention\\nInstead of performing a single attention function with dmodel-dimensional keys, values and queries,\\nwe found it beneficial to linearly project the queries, keys and values h times with different, learned\\nlinear projections to dk, dk and dv dimensions, respectively. On each of these projected versions of\\nqueries, keys and values we then perform the attention function in parallel, yielding dv-dimensional\\n4To illustrate why the dot products get large, assume that the components of q and k are independent random\\nvariables with mean 0 and variance 1. Then their dot product, q · k = Pdk\\ni=1 qiki, has mean 0 and variance dk.\\n4\\noutput values. These are concatenated and once again projected, resulting in the final values, as\\ndepicted in Figure 2.\\nMulti-head attention allows the model to jointly attend to information from different representation\\nsubspaces at different positions. With a single attention head, averaging inhibits this.\\nMultiHead(Q, K, V ) = Concat(head1, ..., headh)W O\\nwhere headi = Attention(QW Q\\ni , KW K\\ni , V W V\\ni )\\nWhere the projections are parameter matrices W Q\\ni\\n∈Rdmodel×dk, W K\\ni\\n∈Rdmodel×dk, W V\\ni\\n∈Rdmodel×dv\\nand W O ∈Rhdv×dmodel.\\nIn this work we employ h = 8 parallel attention layers, or heads. For each of these we use\\ndk = dv = dmodel/h = 64. Due to the reduced dimension of each head, the total computational cost\\nis similar to that of single-head attention with full dimensionality.\\n3.2.3\\nApplications of Attention in our Model\\nThe Transformer uses multi-head attention in three different ways:\\n• In \"encoder-decoder attention\" layers, the queries come from the previous decoder layer,\\nand the memory keys and values come from the output of the encoder. This allows every\\nposition in the decoder to attend over all positions in the input sequence. This mimics the\\ntypical encoder-decoder attention mechanisms in sequence-to-sequence models such as\\n[38, 2, 9].', metadata={'Published': '2023-08-02', 'Title': 'Attention Is All You Need', 'Authors': 'Ashish Vaswani, Noam Shazeer, Niki Parmar, Jakob Uszkoreit, Llion Jones, Aidan N. Gomez, Lukasz Kaiser, Illia Polosukhin', 'Summary': 'The dominant sequence transduction models are based on complex recurrent or\\nconvolutional neural networks in an encoder-decoder configuration. The best\\nperforming models also connect the encoder and decoder through an attention\\nmechanism. We propose a new simple network architecture, the Transformer, based\\nsolely on attention mechanisms, dispensing with recurrence and convolutions\\nentirely. Experiments on two machine translation tasks show these models to be\\nsuperior in quality while being more parallelizable and requiring significantly\\nless time to train. Our model achieves 28.4 BLEU on the WMT 2014\\nEnglish-to-German translation task, improving over the existing best results,\\nincluding ensembles by over 2 BLEU. On the WMT 2014 English-to-French\\ntranslation task, our model establishes a new single-model state-of-the-art\\nBLEU score of 41.8 after training for 3.5 days on eight GPUs, a small fraction\\nof the training costs of the best models from the literature. We show that the\\nTransformer generalizes well to other tasks by applying it successfully to\\nEnglish constituency parsing both with large and limited training data.'}),\n",
            "                     Document(page_content='Multi-Head Attention\\nInstead of performing a single attention function with dmodel-dimensional keys, values and queries,\\nwe found it beneficial to linearly project the queries, keys and values h times with different, learned\\nlinear projections to dk, dk and dv dimensions, respectively. On each of these projected versions of\\nqueries, keys and values we then perform the attention function in parallel, yielding dv-dimensional\\n4To illustrate why the dot products get large, assume that the components of q and k are independent random\\nvariables with mean 0 and variance 1. Then their dot product, q · k = Pdk\\ni=1 qiki, has mean 0 and variance dk.\\n4\\noutput values. These are concatenated and once again projected, resulting in the final values, as\\ndepicted in Figure 2.\\nMulti-head attention allows the model to jointly attend to information from different representation\\nsubspaces at different positions. With a single attention head, averaging inhibits this.\\nMultiHead(Q, K, V ) = Concat(head1, ..., headh)W O\\nwhere headi = Attention(QW Q\\ni , KW K\\ni , V W V\\ni )\\nWhere the projections are parameter matrices W Q\\ni\\n∈Rdmodel×dk, W K\\ni\\n∈Rdmodel×dk, W V\\ni\\n∈Rdmodel×dv\\nand W O ∈Rhdv×dmodel.\\nIn this work we employ h = 8 parallel attention layers, or heads. For each of these we use\\ndk = dv = dmodel/h = 64. Due to the reduced dimension of each head, the total computational cost\\nis similar to that of single-head attention with full dimensionality.\\n3.2.3\\nApplications of Attention in our Model\\nThe Transformer uses multi-head attention in three different ways:\\n• In \"encoder-decoder attention\" layers, the queries come from the previous decoder layer,\\nand the memory keys and values come from the output of the encoder. This allows every\\nposition in the decoder to attend over all positions in the input sequence. This mimics the\\ntypical encoder-decoder attention mechanisms in sequence-to-sequence models such as\\n[38, 2, 9].\\n• The encoder contains self-attention layers. In a self-attention layer all of the keys, values\\nand queries come from the same place, in this case, the output of the previous layer in the\\nencoder. Each position in the encoder can attend to all positions in the previous layer of the\\nencoder.\\n• Similarly, self-attention layers in the decoder allow each position in the decoder to attend to\\nall positions in the decoder up to and including that position. We need to prevent leftward\\ninformation flow in the decoder to preserve the auto-regressive property. We implement this\\ninside of scaled dot-product attention by masking out (setting to −∞) all values in the input\\nof the softmax which correspond to illegal connections. See Figure 2.\\n3.3\\nPosition-wise Feed-Forward Networks\\nIn addition to attention sub-layers, each of the layers in our encoder and decoder contains a fully\\nconnected feed-forward network, which is applied to each position separately and identically. This\\nconsists of two linear transformations with a ReLU activation in between.\\nFFN(x) = max(0, xW1 + b1)W2 + b2\\n(2)\\nWhile the linear transformations are the same across different positions, they use different parameters\\nfrom layer to layer. Another way of describing this is as two convolutions with kernel size 1.\\nThe dimensionality of input and output is dmodel = 512, and the inner-layer has dimensionality\\ndff = 2048.\\n3.4\\nEmbeddings and Softmax\\nSimilarly to other sequence transduction models, we use learned embeddings to convert the input\\ntokens and output tokens to vectors of dimension dmodel. We also use the usual learned linear transfor-\\nmation and softmax function to convert the decoder output to predicted next-token probabilities. In\\nour model, we share the same weight matrix between the two embedding layers and the pre-softmax\\nlinear transformation, similar to [30]. In the embedding layers, we multiply those weights by √dmodel.\\n5\\nTable 1: Maximum path lengths, per-layer complexity and minimum number of sequential operations\\nfor different layer types. n is the sequence length, d is the representation dimension, k is the kernel\\nsize of convolutions and r the size of the neighborhood in restricted self-attention.\\nLayer Type\\nComplexity per Layer\\nSequential\\nMaximum Path Length\\nOperations\\nSelf-Attention\\nO(n2 · d)\\nO(1)\\nO(1)\\nRecurrent\\nO(n · d2)\\nO(n)\\nO(n)\\nConvolutional\\nO(k · n · d2)\\nO(1)\\nO(logk(n))\\nSelf-Attention (restricted)\\nO(r · n · d)\\nO(1)\\nO(n/r)\\n3.5\\nPositional Encoding\\nSince our model contains no recurrence and no convolution, in order for the model to make use of the\\norder of the sequence, we must inject some information about the relative or absolute position of the\\ntokens in the sequence. To this end, we add \"positional encodings\" to the input embeddings at the\\nbottoms of the encoder and decoder stacks. The positional encodings have the same dimension dmodel\\nas the embeddings, so that the two can be summed. There are many choices of positional encodings,\\nlearned and fixed [9].\\nIn this work, we use sine and cosine functions of different frequencies:\\nPE(pos,2i) = sin(pos/100002i/dmodel)\\nPE(pos,2i+1) = cos(pos/100002i/dmodel)\\nwhere pos is the position and i is the dimension. That is, each dimension of the positional encoding\\ncorresponds to a sinusoid. The wavelengths form a geometric progression from 2π to 10000 · 2π. We\\nchose this function because we hypothesized it would allow the model to easily learn to attend by\\nrelative positions, since for any fixed offset k, PEpos+k can be represented as a linear function of\\nPEpos.\\nWe also experimented with using learned positional embeddings [9] instead, and found that the two\\nversions produced nearly identical results (see Table 3 row (E)). We chose the sinusoidal version\\nbecause it may allow the model to extrapolate to sequence lengths longer than the ones encountered\\nduring training.\\n4\\nWhy Self-Attention\\nIn this section we compare various aspects of self-attention layers to the recurrent and convolu-\\ntional layers commonly used for mapping one variable-length sequence of symbol representations\\n(x1, ..., xn) to another sequence of equal length (z1, ..., zn), with xi, zi ∈Rd, such as a hidden\\nlayer in a typical sequence transduction encoder or decoder. Motivating our use of self-attention we\\nconsider three desiderata.\\nOne is the total computational complexity per layer. Another is the amount of computation that can\\nbe parallelized, as measured by the minimum number of sequential operations required.\\nThe third is the path length between long-range dependencies in the network. Learning long-range\\ndependencies is a key challenge in many sequence transduction tasks. One key factor affecting the\\nability to learn such dependencies is the length of the paths forward and backward signals have to\\ntraverse in the network. The shorter these paths between any combination of positions in the input\\nand output sequences, the easier it is to learn long-range dependencies [12]. Hence we also compare\\nthe maximum path length between any two input and output positions in networks composed of the\\ndifferent layer types.\\nAs noted in Table 1, a self-attention layer connects all positions with a constant number of sequentially\\nexecuted operations, whereas a recurrent layer requires O(n) sequential operations. In terms of\\ncomputational complexity, self-attention layers are faster than recurrent layers when the sequence\\n6\\nlength n is smaller than the representation dimensionality d, which is most often the case with\\nsentence representations used by state-of-the-art models in machine translations, such as word-piece\\n[38] and byte-pair [31] representations. To improve computational performance for tasks involving\\nvery long sequences, self-attention could be restricted to considering only a neighborhood of size r in\\nthe input sequence centered around the respective output position. This would increase the maximum\\npath length to O(n/r). We plan to investigate this approach further in future work.\\nA single convolutional layer with kernel width k < n does not connect all pairs of input and output\\npositions. Doing so requires a stack of O(n/k) convolutional layers in the case of contiguous kernels,\\nor O(logk(n)) in the case of dilated convolutions [18], increasing the length of the longest paths\\nbetween any two positions in the network. Convolutional layers are generally more expensive than\\nrecurrent layers, by a factor of k. Separable convolutions [6], however, decrease the complexity\\nconsiderably, to O(k · n · d + n · d2). Even with k = n, however, the complexity of a separable\\nconvolution is equal to the combination of a self-attention layer and a point-wise feed-forward layer,\\nthe approach we take in our model.\\nAs side benefit, self-attention could yield more interpretable models. We inspect attention distributions\\nfrom our models and present and discuss examples in the appendix. Not only do individual attention\\nheads clearly learn to perform different tasks, many appear to exhibit behavior related to the syntactic\\nand semantic structure of the sentences.\\n5\\nTraining\\nThis section describes the training regime for our models.\\n5.1\\nTraining Data and Batching\\nWe trained on the standard WMT 2014 English-German dataset consisting of about 4.5 million\\nsentence pairs. Sentences were encoded using byte-pair encoding [3], which has a shared source-\\ntarget vocabulary of about 37000 tokens. For English-French, we used the significantly larger WMT\\n2014 English-French dataset consisting of 36M sentences and split tokens into a 32000 word-piece\\nvocabulary [38]. Sentence pairs were batched together by approximate sequence length. Each training\\nbatch contained a set of sentence pairs containing approximately 25000 source tokens and 25000\\ntarget tokens.\\n5.2\\nHardware and Schedule\\nWe trained our models on one machine with 8 NVIDIA P100 GPUs. For our base models using\\nthe hyperparameters described throughout the paper, each training step took about 0.4 seconds. We\\ntrained the base models for a total of 100,000 steps or 12 hours. For our big models,(described on the\\nbottom line of table 3), step time was 1.0 seconds. The big models were trained for 300,000 steps\\n(3.5 days).\\n5.3\\nOptimizer\\nWe used the Adam optimizer [20] with β1 = 0.9, β2 = 0.98 and ϵ = 10−9. We varied the learning\\nrate over the course of training, according to the formula:\\nlrate = d−0.5\\nmodel · min(step_num−0.5, step_num · warmup_steps−1.5)\\n(3)\\nThis corresponds to increasing the learning rate linearly for the first warmup_steps training steps,\\nand decreasing it thereafter proportionally to the inverse square root of the step number. We used\\nwarmup_steps = 4000.\\n5.4\\nRegularization\\nWe employ three types of regularization during training:\\n7\\nTable 2: The Transformer achieves better BLEU scores than previous state-of-the-art models on the\\nEnglish-to-German and English-to-French newstest2014 tests at a fraction of the training cost.\\nModel\\nBLEU\\nTraining Cost (FLOPs)\\nEN-DE\\nEN-FR\\nEN-DE\\nEN-FR\\nByteNet [18]\\n23.75\\nDeep-Att + PosUnk [39]\\n39.2\\n1.0 · 1020\\nGNMT + RL [38]\\n24.6\\n39.92\\n2.3 · 1019\\n1.4 · 1020\\nConvS2S [9]\\n25.16\\n40.46\\n9.6 · 1018\\n1.5 · 1020\\nMoE [32]\\n26.03\\n40.56\\n2.0 · 1019\\n1.2 · 1020\\nDeep-Att + PosUnk Ensemble [39]\\n40.4\\n8.0 · 1020\\nGNMT + RL Ensemble [38]\\n26.30\\n41.16\\n1.8 · 1020\\n1.1 · 1021\\nConvS2S Ensemble [9]\\n26.36\\n41.29\\n7.7 · 1019\\n1.2 · 1021\\nTransformer (base model)\\n27.3\\n38.1\\n3.3 · 1018\\nTransformer (big)\\n28.4\\n41.8\\n2.3 · 1019\\nResidual Dropout\\nWe apply dropout [33] to the output of each sub-layer, before it is added to the\\nsub-layer input and normalized. In addition, we apply dropout to the sums of the embeddings and the', metadata={'Published': '2023-08-02', 'Title': 'Attention Is All You Need', 'Authors': 'Ashish Vaswani, Noam Shazeer, Niki Parmar, Jakob Uszkoreit, Llion Jones, Aidan N. Gomez, Lukasz Kaiser, Illia Polosukhin', 'Summary': 'The dominant sequence transduction models are based on complex recurrent or\\nconvolutional neural networks in an encoder-decoder configuration. The best\\nperforming models also connect the encoder and decoder through an attention\\nmechanism. We propose a new simple network architecture, the Transformer, based\\nsolely on attention mechanisms, dispensing with recurrence and convolutions\\nentirely. Experiments on two machine translation tasks show these models to be\\nsuperior in quality while being more parallelizable and requiring significantly\\nless time to train. Our model achieves 28.4 BLEU on the WMT 2014\\nEnglish-to-German translation task, improving over the existing best results,\\nincluding ensembles by over 2 BLEU. On the WMT 2014 English-to-French\\ntranslation task, our model establishes a new single-model state-of-the-art\\nBLEU score of 41.8 after training for 3.5 days on eight GPUs, a small fraction\\nof the training costs of the best models from the literature. We show that the\\nTransformer generalizes well to other tasks by applying it successfully to\\nEnglish constituency parsing both with large and limited training data.'}),\n",
            "                     Document(page_content='lrate = d−0.5\\nmodel · min(step_num−0.5, step_num · warmup_steps−1.5)\\n(3)\\nThis corresponds to increasing the learning rate linearly for the first warmup_steps training steps,\\nand decreasing it thereafter proportionally to the inverse square root of the step number. We used\\nwarmup_steps = 4000.\\n5.4\\nRegularization\\nWe employ three types of regularization during training:\\n7\\nTable 2: The Transformer achieves better BLEU scores than previous state-of-the-art models on the\\nEnglish-to-German and English-to-French newstest2014 tests at a fraction of the training cost.\\nModel\\nBLEU\\nTraining Cost (FLOPs)\\nEN-DE\\nEN-FR\\nEN-DE\\nEN-FR\\nByteNet [18]\\n23.75\\nDeep-Att + PosUnk [39]\\n39.2\\n1.0 · 1020\\nGNMT + RL [38]\\n24.6\\n39.92\\n2.3 · 1019\\n1.4 · 1020\\nConvS2S [9]\\n25.16\\n40.46\\n9.6 · 1018\\n1.5 · 1020\\nMoE [32]\\n26.03\\n40.56\\n2.0 · 1019\\n1.2 · 1020\\nDeep-Att + PosUnk Ensemble [39]\\n40.4\\n8.0 · 1020\\nGNMT + RL Ensemble [38]\\n26.30\\n41.16\\n1.8 · 1020\\n1.1 · 1021\\nConvS2S Ensemble [9]\\n26.36\\n41.29\\n7.7 · 1019\\n1.2 · 1021\\nTransformer (base model)\\n27.3\\n38.1\\n3.3 · 1018\\nTransformer (big)\\n28.4\\n41.8\\n2.3 · 1019\\nResidual Dropout\\nWe apply dropout [33] to the output of each sub-layer, before it is added to the\\nsub-layer input and normalized. In addition, we apply dropout to the sums of the embeddings and the\\npositional encodings in both the encoder and decoder stacks. For the base model, we use a rate of\\nPdrop = 0.1.\\nLabel Smoothing\\nDuring training, we employed label smoothing of value ϵls = 0.1 [36]. This\\nhurts perplexity, as the model learns to be more unsure, but improves accuracy and BLEU score.\\n6\\nResults\\n6.1\\nMachine Translation\\nOn the WMT 2014 English-to-German translation task, the big transformer model (Transformer (big)\\nin Table 2) outperforms the best previously reported models (including ensembles) by more than 2.0\\nBLEU, establishing a new state-of-the-art BLEU score of 28.4. The configuration of this model is\\nlisted in the bottom line of Table 3. Training took 3.5 days on 8 P100 GPUs. Even our base model\\nsurpasses all previously published models and ensembles, at a fraction of the training cost of any of\\nthe competitive models.\\nOn the WMT 2014 English-to-French translation task, our big model achieves a BLEU score of 41.0,\\noutperforming all of the previously published single models, at less than 1/4 the training cost of the\\nprevious state-of-the-art model. The Transformer (big) model trained for English-to-French used\\ndropout rate Pdrop = 0.1, instead of 0.3.\\nFor the base models, we used a single model obtained by averaging the last 5 checkpoints, which\\nwere written at 10-minute intervals. For the big models, we averaged the last 20 checkpoints. We\\nused beam search with a beam size of 4 and length penalty α = 0.6 [38]. These hyperparameters\\nwere chosen after experimentation on the development set. We set the maximum output length during\\ninference to input length + 50, but terminate early when possible [38].\\nTable 2 summarizes our results and compares our translation quality and training costs to other model\\narchitectures from the literature. We estimate the number of floating point operations used to train a\\nmodel by multiplying the training time, the number of GPUs used, and an estimate of the sustained\\nsingle-precision floating-point capacity of each GPU 5.\\n6.2\\nModel Variations\\nTo evaluate the importance of different components of the Transformer, we varied our base model\\nin different ways, measuring the change in performance on English-to-German translation on the\\n5We used values of 2.8, 3.7, 6.0 and 9.5 TFLOPS for K80, K40, M40 and P100, respectively.\\n8\\nTable 3: Variations on the Transformer architecture. Unlisted values are identical to those of the base\\nmodel. All metrics are on the English-to-German translation development set, newstest2013. Listed\\nperplexities are per-wordpiece, according to our byte-pair encoding, and should not be compared to\\nper-word perplexities.\\nN\\ndmodel\\ndff\\nh\\ndk\\ndv\\nPdrop\\nϵls\\ntrain\\nPPL\\nBLEU\\nparams\\nsteps\\n(dev)\\n(dev)\\n×106\\nbase\\n6\\n512\\n2048\\n8\\n64\\n64\\n0.1\\n0.1\\n100K\\n4.92\\n25.8\\n65\\n(A)\\n1\\n512\\n512\\n5.29\\n24.9\\n4\\n128\\n128\\n5.00\\n25.5\\n16\\n32\\n32\\n4.91\\n25.8\\n32\\n16\\n16\\n5.01\\n25.4\\n(B)\\n16\\n5.16\\n25.1\\n58\\n32\\n5.01\\n25.4\\n60\\n(C)\\n2\\n6.11\\n23.7\\n36\\n4\\n5.19\\n25.3\\n50\\n8\\n4.88\\n25.5\\n80\\n256\\n32\\n32\\n5.75\\n24.5\\n28\\n1024\\n128\\n128\\n4.66\\n26.0\\n168\\n1024\\n5.12\\n25.4\\n53\\n4096\\n4.75\\n26.2\\n90\\n(D)\\n0.0\\n5.77\\n24.6\\n0.2\\n4.95\\n25.5\\n0.0\\n4.67\\n25.3\\n0.2\\n5.47\\n25.7\\n(E)\\npositional embedding instead of sinusoids\\n4.92\\n25.7\\nbig\\n6\\n1024\\n4096\\n16\\n0.3\\n300K\\n4.33\\n26.4\\n213\\ndevelopment set, newstest2013. We used beam search as described in the previous section, but no\\ncheckpoint averaging. We present these results in Table 3.\\nIn Table 3 rows (A), we vary the number of attention heads and the attention key and value dimensions,\\nkeeping the amount of computation constant, as described in Section 3.2.2. While single-head\\nattention is 0.9 BLEU worse than the best setting, quality also drops off with too many heads.\\nIn Table 3 rows (B), we observe that reducing the attention key size dk hurts model quality. This\\nsuggests that determining compatibility is not easy and that a more sophisticated compatibility\\nfunction than dot product may be beneficial. We further observe in rows (C) and (D) that, as expected,\\nbigger models are better, and dropout is very helpful in avoiding over-fitting. In row (E) we replace our\\nsinusoidal positional encoding with learned positional embeddings [9], and observe nearly identical\\nresults to the base model.\\n6.3\\nEnglish Constituency Parsing\\nTo evaluate if the Transformer can generalize to other tasks we performed experiments on English\\nconstituency parsing. This task presents specific challenges: the output is subject to strong structural\\nconstraints and is significantly longer than the input. Furthermore, RNN sequence-to-sequence\\nmodels have not been able to attain state-of-the-art results in small-data regimes [37].\\nWe trained a 4-layer transformer with dmodel = 1024 on the Wall Street Journal (WSJ) portion of the\\nPenn Treebank [25], about 40K training sentences. We also trained it in a semi-supervised setting,\\nusing the larger high-confidence and BerkleyParser corpora from with approximately 17M sentences\\n[37]. We used a vocabulary of 16K tokens for the WSJ only setting and a vocabulary of 32K tokens\\nfor the semi-supervised setting.\\nWe performed only a small number of experiments to select the dropout, both attention and residual\\n(section 5.4), learning rates and beam size on the Section 22 development set, all other parameters\\nremained unchanged from the English-to-German base translation model. During inference, we\\n9\\nTable 4: The Transformer generalizes well to English constituency parsing (Results are on Section 23\\nof WSJ)\\nParser\\nTraining\\nWSJ 23 F1\\nVinyals & Kaiser el al. (2014) [37]\\nWSJ only, discriminative\\n88.3\\nPetrov et al. (2006) [29]\\nWSJ only, discriminative\\n90.4\\nZhu et al. (2013) [40]\\nWSJ only, discriminative\\n90.4\\nDyer et al. (2016) [8]\\nWSJ only, discriminative\\n91.7\\nTransformer (4 layers)\\nWSJ only, discriminative\\n91.3\\nZhu et al. (2013) [40]\\nsemi-supervised\\n91.3\\nHuang & Harper (2009) [14]\\nsemi-supervised\\n91.3\\nMcClosky et al. (2006) [26]\\nsemi-supervised\\n92.1\\nVinyals & Kaiser el al. (2014) [37]\\nsemi-supervised\\n92.1\\nTransformer (4 layers)\\nsemi-supervised\\n92.7\\nLuong et al. (2015) [23]\\nmulti-task\\n93.0\\nDyer et al. (2016) [8]\\ngenerative\\n93.3\\nincreased the maximum output length to input length + 300. We used a beam size of 21 and α = 0.3\\nfor both WSJ only and the semi-supervised setting.\\nOur results in Table 4 show that despite the lack of task-specific tuning our model performs sur-\\nprisingly well, yielding better results than all previously reported models with the exception of the\\nRecurrent Neural Network Grammar [8].\\nIn contrast to RNN sequence-to-sequence models [37], the Transformer outperforms the Berkeley-\\nParser [29] even when training only on the WSJ training set of 40K sentences.\\n7\\nConclusion\\nIn this work, we presented the Transformer, the first sequence transduction model based entirely on\\nattention, replacing the recurrent layers most commonly used in encoder-decoder architectures with\\nmulti-headed self-attention.\\nFor translation tasks, the Transformer can be trained significantly faster than architectures based\\non recurrent or convolutional layers. On both WMT 2014 English-to-German and WMT 2014\\nEnglish-to-French translation tasks, we achieve a new state of the art. In the former task our best\\nmodel outperforms even all previously reported ensembles.\\nWe are excited about the future of attention-based models and plan to apply them to other tasks. We\\nplan to extend the Transformer to problems involving input and output modalities other than text and\\nto investigate local, restricted attention mechanisms to efficiently handle large inputs and outputs\\nsuch as images, audio and video. Making generation less sequential is another research goals of ours.\\nThe code we used to train and evaluate our models is available at https://github.com/\\ntensorflow/tensor2tensor.\\nAcknowledgements\\nWe are grateful to Nal Kalchbrenner and Stephan Gouws for their fruitful\\ncomments, corrections and inspiration.\\nReferences\\n[1] Jimmy Lei Ba, Jamie Ryan Kiros, and Geoffrey E Hinton. Layer normalization. arXiv preprint\\narXiv:1607.06450, 2016.\\n[2] Dzmitry Bahdanau, Kyunghyun Cho, and Yoshua Bengio. Neural machine translation by jointly\\nlearning to align and translate. CoRR, abs/1409.0473, 2014.\\n[3] Denny Britz, Anna Goldie, Minh-Thang Luong, and Quoc V. Le. Massive exploration of neural\\nmachine translation architectures. CoRR, abs/1703.03906, 2017.\\n[4] Jianpeng Cheng, Li Dong, and Mirella Lapata. Long short-term memory-networks for machine\\nreading. arXiv preprint arXiv:1601.06733, 2016.\\n10\\n[5] Kyunghyun Cho, Bart van Merrienboer, Caglar Gulcehre, Fethi Bougares, Holger Schwenk,\\nand Yoshua Bengio. Learning phrase representations using rnn encoder-decoder for statistical\\nmachine translation. CoRR, abs/1406.1078, 2014.\\n[6] Francois Chollet. Xception: Deep learning with depthwise separable convolutions. arXiv', metadata={'Published': '2023-08-02', 'Title': 'Attention Is All You Need', 'Authors': 'Ashish Vaswani, Noam Shazeer, Niki Parmar, Jakob Uszkoreit, Llion Jones, Aidan N. Gomez, Lukasz Kaiser, Illia Polosukhin', 'Summary': 'The dominant sequence transduction models are based on complex recurrent or\\nconvolutional neural networks in an encoder-decoder configuration. The best\\nperforming models also connect the encoder and decoder through an attention\\nmechanism. We propose a new simple network architecture, the Transformer, based\\nsolely on attention mechanisms, dispensing with recurrence and convolutions\\nentirely. Experiments on two machine translation tasks show these models to be\\nsuperior in quality while being more parallelizable and requiring significantly\\nless time to train. Our model achieves 28.4 BLEU on the WMT 2014\\nEnglish-to-German translation task, improving over the existing best results,\\nincluding ensembles by over 2 BLEU. On the WMT 2014 English-to-French\\ntranslation task, our model establishes a new single-model state-of-the-art\\nBLEU score of 41.8 after training for 3.5 days on eight GPUs, a small fraction\\nof the training costs of the best models from the literature. We show that the\\nTransformer generalizes well to other tasks by applying it successfully to\\nEnglish constituency parsing both with large and limited training data.'}),\n",
            "                     Document(page_content='on recurrent or convolutional layers. On both WMT 2014 English-to-German and WMT 2014\\nEnglish-to-French translation tasks, we achieve a new state of the art. In the former task our best\\nmodel outperforms even all previously reported ensembles.\\nWe are excited about the future of attention-based models and plan to apply them to other tasks. We\\nplan to extend the Transformer to problems involving input and output modalities other than text and\\nto investigate local, restricted attention mechanisms to efficiently handle large inputs and outputs\\nsuch as images, audio and video. Making generation less sequential is another research goals of ours.\\nThe code we used to train and evaluate our models is available at https://github.com/\\ntensorflow/tensor2tensor.\\nAcknowledgements\\nWe are grateful to Nal Kalchbrenner and Stephan Gouws for their fruitful\\ncomments, corrections and inspiration.\\nReferences\\n[1] Jimmy Lei Ba, Jamie Ryan Kiros, and Geoffrey E Hinton. Layer normalization. arXiv preprint\\narXiv:1607.06450, 2016.\\n[2] Dzmitry Bahdanau, Kyunghyun Cho, and Yoshua Bengio. Neural machine translation by jointly\\nlearning to align and translate. CoRR, abs/1409.0473, 2014.\\n[3] Denny Britz, Anna Goldie, Minh-Thang Luong, and Quoc V. Le. Massive exploration of neural\\nmachine translation architectures. CoRR, abs/1703.03906, 2017.\\n[4] Jianpeng Cheng, Li Dong, and Mirella Lapata. Long short-term memory-networks for machine\\nreading. arXiv preprint arXiv:1601.06733, 2016.\\n10\\n[5] Kyunghyun Cho, Bart van Merrienboer, Caglar Gulcehre, Fethi Bougares, Holger Schwenk,\\nand Yoshua Bengio. Learning phrase representations using rnn encoder-decoder for statistical\\nmachine translation. CoRR, abs/1406.1078, 2014.\\n[6] Francois Chollet. Xception: Deep learning with depthwise separable convolutions. arXiv\\npreprint arXiv:1610.02357, 2016.\\n[7] Junyoung Chung, Çaglar Gülçehre, Kyunghyun Cho, and Yoshua Bengio. Empirical evaluation\\nof gated recurrent neural networks on sequence modeling. CoRR, abs/1412.3555, 2014.\\n[8] Chris Dyer, Adhiguna Kuncoro, Miguel Ballesteros, and Noah A. Smith. Recurrent neural\\nnetwork grammars. In Proc. of NAACL, 2016.\\n[9] Jonas Gehring, Michael Auli, David Grangier, Denis Yarats, and Yann N. Dauphin. Convolu-\\ntional sequence to sequence learning. arXiv preprint arXiv:1705.03122v2, 2017.\\n[10] Alex Graves.\\nGenerating sequences with recurrent neural networks.\\narXiv preprint\\narXiv:1308.0850, 2013.\\n[11] Kaiming He, Xiangyu Zhang, Shaoqing Ren, and Jian Sun. Deep residual learning for im-\\nage recognition. In Proceedings of the IEEE Conference on Computer Vision and Pattern\\nRecognition, pages 770–778, 2016.\\n[12] Sepp Hochreiter, Yoshua Bengio, Paolo Frasconi, and Jürgen Schmidhuber. Gradient flow in\\nrecurrent nets: the difficulty of learning long-term dependencies, 2001.\\n[13] Sepp Hochreiter and Jürgen Schmidhuber. Long short-term memory. Neural computation,\\n9(8):1735–1780, 1997.\\n[14] Zhongqiang Huang and Mary Harper. Self-training PCFG grammars with latent annotations\\nacross languages. In Proceedings of the 2009 Conference on Empirical Methods in Natural\\nLanguage Processing, pages 832–841. ACL, August 2009.\\n[15] Rafal Jozefowicz, Oriol Vinyals, Mike Schuster, Noam Shazeer, and Yonghui Wu. Exploring\\nthe limits of language modeling. arXiv preprint arXiv:1602.02410, 2016.\\n[16] Łukasz Kaiser and Samy Bengio. Can active memory replace attention? In Advances in Neural\\nInformation Processing Systems, (NIPS), 2016.\\n[17] Łukasz Kaiser and Ilya Sutskever. Neural GPUs learn algorithms. In International Conference\\non Learning Representations (ICLR), 2016.\\n[18] Nal Kalchbrenner, Lasse Espeholt, Karen Simonyan, Aaron van den Oord, Alex Graves, and Ko-\\nray Kavukcuoglu. Neural machine translation in linear time. arXiv preprint arXiv:1610.10099v2,\\n2017.\\n[19] Yoon Kim, Carl Denton, Luong Hoang, and Alexander M. Rush. Structured attention networks.\\nIn International Conference on Learning Representations, 2017.\\n[20] Diederik Kingma and Jimmy Ba. Adam: A method for stochastic optimization. In ICLR, 2015.\\n[21] Oleksii Kuchaiev and Boris Ginsburg. Factorization tricks for LSTM networks. arXiv preprint\\narXiv:1703.10722, 2017.\\n[22] Zhouhan Lin, Minwei Feng, Cicero Nogueira dos Santos, Mo Yu, Bing Xiang, Bowen\\nZhou, and Yoshua Bengio. A structured self-attentive sentence embedding. arXiv preprint\\narXiv:1703.03130, 2017.\\n[23] Minh-Thang Luong, Quoc V. Le, Ilya Sutskever, Oriol Vinyals, and Lukasz Kaiser. Multi-task\\nsequence to sequence learning. arXiv preprint arXiv:1511.06114, 2015.\\n[24] Minh-Thang Luong, Hieu Pham, and Christopher D Manning. Effective approaches to attention-\\nbased neural machine translation. arXiv preprint arXiv:1508.04025, 2015.\\n11\\n[25] Mitchell P Marcus, Mary Ann Marcinkiewicz, and Beatrice Santorini. Building a large annotated\\ncorpus of english: The penn treebank. Computational linguistics, 19(2):313–330, 1993.\\n[26] David McClosky, Eugene Charniak, and Mark Johnson. Effective self-training for parsing. In\\nProceedings of the Human Language Technology Conference of the NAACL, Main Conference,\\npages 152–159. ACL, June 2006.\\n[27] Ankur Parikh, Oscar Täckström, Dipanjan Das, and Jakob Uszkoreit. A decomposable attention\\nmodel. In Empirical Methods in Natural Language Processing, 2016.\\n[28] Romain Paulus, Caiming Xiong, and Richard Socher. A deep reinforced model for abstractive\\nsummarization. arXiv preprint arXiv:1705.04304, 2017.\\n[29] Slav Petrov, Leon Barrett, Romain Thibaux, and Dan Klein. Learning accurate, compact,\\nand interpretable tree annotation. In Proceedings of the 21st International Conference on\\nComputational Linguistics and 44th Annual Meeting of the ACL, pages 433–440. ACL, July\\n2006.\\n[30] Ofir Press and Lior Wolf. Using the output embedding to improve language models. arXiv\\npreprint arXiv:1608.05859, 2016.\\n[31] Rico Sennrich, Barry Haddow, and Alexandra Birch. Neural machine translation of rare words\\nwith subword units. arXiv preprint arXiv:1508.07909, 2015.\\n[32] Noam Shazeer, Azalia Mirhoseini, Krzysztof Maziarz, Andy Davis, Quoc Le, Geoffrey Hinton,\\nand Jeff Dean. Outrageously large neural networks: The sparsely-gated mixture-of-experts\\nlayer. arXiv preprint arXiv:1701.06538, 2017.\\n[33] Nitish Srivastava, Geoffrey E Hinton, Alex Krizhevsky, Ilya Sutskever, and Ruslan Salakhutdi-\\nnov. Dropout: a simple way to prevent neural networks from overfitting. Journal of Machine\\nLearning Research, 15(1):1929–1958, 2014.\\n[34] Sainbayar Sukhbaatar, Arthur Szlam, Jason Weston, and Rob Fergus. End-to-end memory\\nnetworks. In C. Cortes, N. D. Lawrence, D. D. Lee, M. Sugiyama, and R. Garnett, editors,\\nAdvances in Neural Information Processing Systems 28, pages 2440–2448. Curran Associates,\\nInc., 2015.\\n[35] Ilya Sutskever, Oriol Vinyals, and Quoc VV Le. Sequence to sequence learning with neural\\nnetworks. In Advances in Neural Information Processing Systems, pages 3104–3112, 2014.\\n[36] Christian Szegedy, Vincent Vanhoucke, Sergey Ioffe, Jonathon Shlens, and Zbigniew Wojna.\\nRethinking the inception architecture for computer vision. CoRR, abs/1512.00567, 2015.\\n[37] Vinyals & Kaiser, Koo, Petrov, Sutskever, and Hinton. Grammar as a foreign language. In\\nAdvances in Neural Information Processing Systems, 2015.\\n[38] Yonghui Wu, Mike Schuster, Zhifeng Chen, Quoc V Le, Mohammad Norouzi, Wolfgang\\nMacherey, Maxim Krikun, Yuan Cao, Qin Gao, Klaus Macherey, et al. Google’s neural machine\\ntranslation system: Bridging the gap between human and machine translation. arXiv preprint\\narXiv:1609.08144, 2016.\\n[39] Jie Zhou, Ying Cao, Xuguang Wang, Peng Li, and Wei Xu. Deep recurrent models with\\nfast-forward connections for neural machine translation. CoRR, abs/1606.04199, 2016.\\n[40] Muhua Zhu, Yue Zhang, Wenliang Chen, Min Zhang, and Jingbo Zhu. Fast and accurate\\nshift-reduce constituent parsing. In Proceedings of the 51st Annual Meeting of the ACL (Volume\\n1: Long Papers), pages 434–443. ACL, August 2013.\\n12\\nAttention Visualizations\\nInput-Input Layer5\\nIt\\nis\\nin\\nthis\\nspirit\\nthat\\na\\nmajority\\nof\\nAmerican\\ngovernments\\nhave\\npassed\\nnew\\nlaws\\nsince\\n2009\\nmaking\\nthe\\nregistration\\nor\\nvoting\\nprocess\\nmore\\ndifficult\\n.\\n<EOS>\\n<pad>\\n<pad>\\n<pad>\\n<pad>\\n<pad>\\n<pad>\\nIt\\nis\\nin\\nthis\\nspirit\\nthat\\na\\nmajority\\nof\\nAmerican\\ngovernments\\nhave\\npassed\\nnew\\nlaws\\nsince\\n2009\\nmaking\\nthe\\nregistration\\nor\\nvoting\\nprocess\\nmore\\ndifficult\\n.\\n<EOS>\\n<pad>\\n<pad>\\n<pad>\\n<pad>\\n<pad>\\n<pad>\\nFigure 3: An example of the attention mechanism following long-distance dependencies in the\\nencoder self-attention in layer 5 of 6. Many of the attention heads attend to a distant dependency of\\nthe verb ‘making’, completing the phrase ‘making...more difficult’. Attentions here shown only for\\nthe word ‘making’. Different colors represent different heads. Best viewed in color.\\n13\\nInput-Input Layer5\\nThe\\nLaw\\nwill\\nnever\\nbe\\nperfect\\n,\\nbut\\nits\\napplication\\nshould\\nbe\\njust\\n-\\nthis\\nis\\nwhat\\nwe\\nare\\nmissing\\n,\\nin\\nmy\\nopinion\\n.\\n<EOS>\\n<pad>\\nThe\\nLaw\\nwill\\nnever\\nbe\\nperfect\\n,\\nbut\\nits\\napplication\\nshould\\nbe\\njust\\n-\\nthis\\nis\\nwhat\\nwe\\nare\\nmissing\\n,\\nin\\nmy\\nopinion\\n.\\n<EOS>\\n<pad>\\nInput-Input Layer5\\nThe\\nLaw\\nwill\\nnever\\nbe\\nperfect\\n,\\nbut\\nits\\napplication\\nshould\\nbe\\njust\\n-\\nthis\\nis\\nwhat\\nwe\\nare\\nmissing\\n,\\nin\\nmy\\nopinion\\n.\\n<EOS>\\n<pad>\\nThe\\nLaw\\nwill\\nnever\\nbe\\nperfect\\n,\\nbut\\nits\\napplication\\nshould\\nbe\\njust\\n-\\nthis\\nis\\nwhat\\nwe\\nare\\nmissing\\n,\\nin\\nmy\\nopinion\\n.\\n<EOS>\\n<pad>\\nFigure 4: Two attention heads, also in layer 5 of 6, apparently involved in anaphora resolution. Top:\\nFull attentions for head 5. Bottom: Isolated attentions from just the word ‘its’ for attention heads 5\\nand 6. Note that the attentions are very sharp for this word.\\n14\\nInput-Input Layer5\\nThe\\nLaw', metadata={'Published': '2023-08-02', 'Title': 'Attention Is All You Need', 'Authors': 'Ashish Vaswani, Noam Shazeer, Niki Parmar, Jakob Uszkoreit, Llion Jones, Aidan N. Gomez, Lukasz Kaiser, Illia Polosukhin', 'Summary': 'The dominant sequence transduction models are based on complex recurrent or\\nconvolutional neural networks in an encoder-decoder configuration. The best\\nperforming models also connect the encoder and decoder through an attention\\nmechanism. We propose a new simple network architecture, the Transformer, based\\nsolely on attention mechanisms, dispensing with recurrence and convolutions\\nentirely. Experiments on two machine translation tasks show these models to be\\nsuperior in quality while being more parallelizable and requiring significantly\\nless time to train. Our model achieves 28.4 BLEU on the WMT 2014\\nEnglish-to-German translation task, improving over the existing best results,\\nincluding ensembles by over 2 BLEU. On the WMT 2014 English-to-French\\ntranslation task, our model establishes a new single-model state-of-the-art\\nBLEU score of 41.8 after training for 3.5 days on eight GPUs, a small fraction\\nof the training costs of the best models from the literature. We show that the\\nTransformer generalizes well to other tasks by applying it successfully to\\nEnglish constituency parsing both with large and limited training data.'}),\n",
            "                     Document(page_content='spirit\\nthat\\na\\nmajority\\nof\\nAmerican\\ngovernments\\nhave\\npassed\\nnew\\nlaws\\nsince\\n2009\\nmaking\\nthe\\nregistration\\nor\\nvoting\\nprocess\\nmore\\ndifficult\\n.\\n<EOS>\\n<pad>\\n<pad>\\n<pad>\\n<pad>\\n<pad>\\n<pad>\\nFigure 3: An example of the attention mechanism following long-distance dependencies in the\\nencoder self-attention in layer 5 of 6. Many of the attention heads attend to a distant dependency of\\nthe verb ‘making’, completing the phrase ‘making...more difficult’. Attentions here shown only for\\nthe word ‘making’. Different colors represent different heads. Best viewed in color.\\n13\\nInput-Input Layer5\\nThe\\nLaw\\nwill\\nnever\\nbe\\nperfect\\n,\\nbut\\nits\\napplication\\nshould\\nbe\\njust\\n-\\nthis\\nis\\nwhat\\nwe\\nare\\nmissing\\n,\\nin\\nmy\\nopinion\\n.\\n<EOS>\\n<pad>\\nThe\\nLaw\\nwill\\nnever\\nbe\\nperfect\\n,\\nbut\\nits\\napplication\\nshould\\nbe\\njust\\n-\\nthis\\nis\\nwhat\\nwe\\nare\\nmissing\\n,\\nin\\nmy\\nopinion\\n.\\n<EOS>\\n<pad>\\nInput-Input Layer5\\nThe\\nLaw\\nwill\\nnever\\nbe\\nperfect\\n,\\nbut\\nits\\napplication\\nshould\\nbe\\njust\\n-\\nthis\\nis\\nwhat\\nwe\\nare\\nmissing\\n,\\nin\\nmy\\nopinion\\n.\\n<EOS>\\n<pad>\\nThe\\nLaw\\nwill\\nnever\\nbe\\nperfect\\n,\\nbut\\nits\\napplication\\nshould\\nbe\\njust\\n-\\nthis\\nis\\nwhat\\nwe\\nare\\nmissing\\n,\\nin\\nmy\\nopinion\\n.\\n<EOS>\\n<pad>\\nFigure 4: Two attention heads, also in layer 5 of 6, apparently involved in anaphora resolution. Top:\\nFull attentions for head 5. Bottom: Isolated attentions from just the word ‘its’ for attention heads 5\\nand 6. Note that the attentions are very sharp for this word.\\n14\\nInput-Input Layer5\\nThe\\nLaw\\nwill\\nnever\\nbe\\nperfect\\n,\\nbut\\nits\\napplication\\nshould\\nbe\\njust\\n-\\nthis\\nis\\nwhat\\nwe\\nare\\nmissing\\n,\\nin\\nmy\\nopinion\\n.\\n<EOS>\\n<pad>\\nThe\\nLaw\\nwill\\nnever\\nbe\\nperfect\\n,\\nbut\\nits\\napplication\\nshould\\nbe\\njust\\n-\\nthis\\nis\\nwhat\\nwe\\nare\\nmissing\\n,\\nin\\nmy\\nopinion\\n.\\n<EOS>\\n<pad>\\nInput-Input Layer5\\nThe\\nLaw\\nwill\\nnever\\nbe\\nperfect\\n,\\nbut\\nits\\napplication\\nshould\\nbe\\njust\\n-\\nthis\\nis\\nwhat\\nwe\\nare\\nmissing\\n,\\nin\\nmy\\nopinion\\n.\\n<EOS>\\n<pad>\\nThe\\nLaw\\nwill\\nnever\\nbe\\nperfect\\n,\\nbut\\nits\\napplication\\nshould\\nbe\\njust\\n-\\nthis\\nis\\nwhat\\nwe\\nare\\nmissing\\n,\\nin\\nmy\\nopinion\\n.\\n<EOS>\\n<pad>\\nFigure 5: Many of the attention heads exhibit behaviour that seems related to the structure of the\\nsentence. We give two such examples above, from two different heads from the encoder self-attention\\nat layer 5 of 6. The heads clearly learned to perform different tasks.\\n15', metadata={'Published': '2023-08-02', 'Title': 'Attention Is All You Need', 'Authors': 'Ashish Vaswani, Noam Shazeer, Niki Parmar, Jakob Uszkoreit, Llion Jones, Aidan N. Gomez, Lukasz Kaiser, Illia Polosukhin', 'Summary': 'The dominant sequence transduction models are based on complex recurrent or\\nconvolutional neural networks in an encoder-decoder configuration. The best\\nperforming models also connect the encoder and decoder through an attention\\nmechanism. We propose a new simple network architecture, the Transformer, based\\nsolely on attention mechanisms, dispensing with recurrence and convolutions\\nentirely. Experiments on two machine translation tasks show these models to be\\nsuperior in quality while being more parallelizable and requiring significantly\\nless time to train. Our model achieves 28.4 BLEU on the WMT 2014\\nEnglish-to-German translation task, improving over the existing best results,\\nincluding ensembles by over 2 BLEU. On the WMT 2014 English-to-French\\ntranslation task, our model establishes a new single-model state-of-the-art\\nBLEU score of 41.8 after training for 3.5 days on eight GPUs, a small fraction\\nof the training costs of the best models from the literature. We show that the\\nTransformer generalizes well to other tasks by applying it successfully to\\nEnglish constituency parsing both with large and limited training data.'})],\n",
            " 'output_text': 'The Transformer model is a neural network architecture that '\n",
            "                'relies on self-attention mechanisms to compute '\n",
            "                'representations of input and output sequences without using '\n",
            "                'sequence-aligned RNNs or convolution. The model has an '\n",
            "                'encoder-decoder structure, where the encoder maps input '\n",
            "                'symbols to continuous representations, and the decoder '\n",
            "                'generates output symbols one element at a time. '\n",
            "                'Self-attention is used to compute weighted sums of values '\n",
            "                'based on compatibility functions between queries and keys.\\n'\n",
            "                '\\n'\n",
            "                'The Transformer model was applied to machine translation '\n",
            "                'tasks, achieving better BLEU scores than previous '\n",
            "                'state-of-the-art models while training at a fraction of the '\n",
            "                'cost. The authors also presented variations of the '\n",
            "                'Transformer model, including changes to the number of '\n",
            "                'attention heads, key and value dimensions, and dropout rates, '\n",
            "                'which achieved new state-of-the-art results on '\n",
            "                'English-to-German translation and English constituency '\n",
            "                'parsing.\\n'\n",
            "                '\\n'\n",
            "                'The attention mechanism is a key component of the Transformer '\n",
            "                'model, allowing it to learn complex patterns and '\n",
            "                'relationships in language. The mechanism can follow '\n",
            "                'long-distance dependencies and resolve anaphora, as '\n",
            "                'illustrated by two figures that show how the attention heads '\n",
            "                'attend to specific parts of a sentence or phrase.\\n'\n",
            "                '\\n'\n",
            "                'Overall, the Transformer model has achieved state-of-the-art '\n",
            "                'results on machine translation tasks while training at a '\n",
            "                'fraction of the cost, and its attention mechanism has shown '\n",
            "                'the ability to learn complex patterns and relationships in '\n",
            "                'language.'}\n"
          ]
        }
      ]
    },
    {
      "cell_type": "code",
      "source": [
        "# QnA: main contribution\n",
        "query = \"What are the main contributions of this paper?\"\n",
        "result_qa_chain = chain.run(input_documents=split_docs, question=query)\n",
        "pprint(result_qa_chain)"
      ],
      "metadata": {
        "colab": {
          "base_uri": "https://localhost:8080/"
        },
        "id": "K1P3ev0C3m9Z",
        "outputId": "2f3d04df-637f-44c9-d420-55002f5e7195"
      },
      "execution_count": null,
      "outputs": [
        {
          "output_type": "stream",
          "name": "stderr",
          "text": [
            "/usr/local/lib/python3.10/dist-packages/langchain_core/_api/deprecation.py:139: LangChainDeprecationWarning: The method `Chain.run` was deprecated in langchain 0.1.0 and will be removed in 0.3.0. Use invoke instead.\n",
            "  warn_deprecated(\n",
            "WARNING:langchain_community.chat_models.openai:Warning: model not found. Using cl100k_base encoding.\n"
          ]
        },
        {
          "output_type": "stream",
          "name": "stdout",
          "text": [
            "('Based on the provided text, it appears that the main contributions of this '\n",
            " 'paper are:\\n'\n",
            " '\\n'\n",
            " '1. **Introducing the Transformer model**: The authors propose a new '\n",
            " 'architecture for sequence-to-sequence tasks that replaces traditional '\n",
            " 'recurrent neural networks (RNNs) and convolutional neural networks (CNNs) '\n",
            " 'with self-attention mechanisms.\\n'\n",
            " '2. **Self-Attention Mechanism**: They introduce a novel self-attention '\n",
            " 'mechanism that allows the model to attend to all positions in the input '\n",
            " 'sequence simultaneously, rather than sequentially as in RNNs or CNNs.\\n'\n",
            " '3. **Parallelization**: The Transformer model can be parallelized more '\n",
            " 'easily than RNNs and CNNs, making it faster and more efficient for '\n",
            " 'large-scale applications.\\n'\n",
            " '4. **Improved Performance**: The authors demonstrate that their Transformer '\n",
            " 'model achieves state-of-the-art results on several machine translation '\n",
            " 'tasks, outperforming previous models while using fewer parameters and less '\n",
            " 'computation.\\n'\n",
            " '5. **Interpretability**: They show that the attention weights learned by the '\n",
            " 'model can be used to gain insights into the translation process, providing a '\n",
            " 'more interpretable model than traditional RNNs and CNNs.\\n'\n",
            " '\\n'\n",
            " 'Overall, the paper presents a significant advancement in the field of '\n",
            " 'natural language processing, introducing a new architecture that has since '\n",
            " 'become widely adopted in many applications.')\n"
          ]
        }
      ]
    },
    {
      "cell_type": "code",
      "source": [
        "# QnA: main methodology\n",
        "query = \"What is the main methodology of this paper?\"\n",
        "result_qa_chain = chain.run(input_documents=split_docs, question=query)\n",
        "pprint(result_qa_chain)"
      ],
      "metadata": {
        "colab": {
          "base_uri": "https://localhost:8080/"
        },
        "id": "__dy00fs3n5a",
        "outputId": "a82b3888-31cb-4283-f64f-b05ebf1addf3"
      },
      "execution_count": null,
      "outputs": [
        {
          "output_type": "stream",
          "name": "stderr",
          "text": [
            "WARNING:langchain_community.chat_models.openai:Warning: model not found. Using cl100k_base encoding.\n"
          ]
        },
        {
          "output_type": "stream",
          "name": "stdout",
          "text": [
            "('Based on the provided content, the main methodology of this paper appears to '\n",
            " 'be the development and presentation of a new neural network architecture '\n",
            " 'called the Transformer, which is designed for sequence-to-sequence tasks '\n",
            " 'such as machine translation. The key innovations of the Transformer are:\\n'\n",
            " '\\n'\n",
            " '1. **Self-Attention Mechanism**: Instead of using recurrent or convolutional '\n",
            " 'layers to model dependencies between input sequences, the Transformer uses '\n",
            " 'self-attention mechanisms to allow the model to attend to all positions in '\n",
            " 'the input sequence simultaneously.\\n'\n",
            " '2. **Encoder-Decoder Architecture**: The Transformer consists of an encoder '\n",
            " 'and a decoder, where the encoder maps the input sequence to a continuous '\n",
            " 'representation, and the decoder generates the output sequence one step at a '\n",
            " 'time.\\n'\n",
            " '3. **Positional Encoding**: To inject information about the relative or '\n",
            " 'absolute position of the tokens in the sequence, the paper uses positional '\n",
            " 'encoding, which is added to the input embeddings.\\n'\n",
            " '\\n'\n",
            " 'The Transformer architecture is designed to be parallelizable and can handle '\n",
            " 'long-range dependencies more effectively than traditional recurrent neural '\n",
            " 'networks (RNNs) and convolutional neural networks (CNNs).')\n"
          ]
        }
      ]
    },
    {
      "cell_type": "code",
      "source": [
        "# QnA: main results\n",
        "query = \"What are the important results to look at in this paper? Please provide with numbers. Provide all the results if possible.\"\n",
        "result_qa_chain = chain.run(input_documents=split_docs, question=query)\n",
        "pprint(result_qa_chain)"
      ],
      "metadata": {
        "colab": {
          "base_uri": "https://localhost:8080/"
        },
        "id": "laVFqjWq3pO3",
        "outputId": "554000de-92db-4ab8-a1db-2839e47d7d90"
      },
      "execution_count": null,
      "outputs": [
        {
          "output_type": "stream",
          "name": "stderr",
          "text": [
            "WARNING:langchain_community.chat_models.openai:Warning: model not found. Using cl100k_base encoding.\n"
          ]
        },
        {
          "output_type": "stream",
          "name": "stdout",
          "text": [
            "('Based on the provided text, here are some of the important results mentioned '\n",
            " 'in the paper:\\n'\n",
            " '\\n'\n",
            " '**BLEU Scores**\\n'\n",
            " '\\n'\n",
            " '* The Transformer achieves better BLEU scores than previous state-of-the-art '\n",
            " 'models on the English-to-German and English-to-French newstest2014 tests:\\n'\n",
            " '\\t+ EN-DE: 27.3 (Transformer base model), 28.4 (Transformer big)\\n'\n",
            " '\\t+ EN-FR: 38.1 (Transformer base model), 41.8 (Transformer big)\\n'\n",
            " '\\n'\n",
            " '**ROUGE Scores**\\n'\n",
            " '\\n'\n",
            " \"* The Transformer achieves a ROUGE score of 24.5 on the WMT'14 \"\n",
            " 'English-to-German translation task, outperforming the previous '\n",
            " 'state-of-the-art model by 1.8 points.\\n'\n",
            " '\\n'\n",
            " '**Perplexity**\\n'\n",
            " '\\n'\n",
            " \"* The Transformer achieves a perplexity of 15.4 on the WMT'14 \"\n",
            " 'English-to-German translation task, outperforming the previous '\n",
            " 'state-of-the-art model by 0.6 points.\\n'\n",
            " '\\n'\n",
            " '**Speed**\\n'\n",
            " '\\n'\n",
            " '* The Transformer is significantly faster than the previous state-of-the-art '\n",
            " 'model, with a speedup of 10x on a single GPU.\\n'\n",
            " '\\n'\n",
            " '**Comparison to Other Models**\\n'\n",
            " '\\n'\n",
            " '* The Transformer outperforms sequence-to-sequence models such as [38, 2, 9] '\n",
            " 'by a significant margin.\\n'\n",
            " '* The Transformer also outperforms recurrent neural network (RNN) and '\n",
            " 'convolutional neural network (CNN) based models.\\n'\n",
            " '\\n'\n",
            " '**Attention Mechanism**\\n'\n",
            " '\\n'\n",
            " '* Many attention heads attend to distant dependencies, completing phrases '\n",
            " 'such as \"making...more difficult\" (Figure 3).\\n'\n",
            " '* Two attention heads are involved in anaphora resolution, with sharp '\n",
            " 'attentions for the word \"its\" (Figure 4).\\n'\n",
            " '\\n'\n",
            " 'Please note that these results are based on the provided text and may not be '\n",
            " 'a comprehensive summary of all the results mentioned in the paper.')\n"
          ]
        }
      ]
    },
    {
      "cell_type": "markdown",
      "source": [
        "# [직접 만들어보기]\n",
        "https://python.langchain.com/v0.1/docs/integrations/tools/\n",
        "\n",
        "랭체인 문서에 들어가면 정말 다양한 툴들이 있고 각각을 쉽게 사용할 수 있게 문서가 설명되어 있습니다.\n",
        "\n",
        "어떤 툴이 있는 지 보고 하나 혹은 두개 이상의 툴들을 체이닝 해서 LLM의 능력을 확장해봅시다."
      ],
      "metadata": {
        "id": "aGGh7i54YPLg"
      }
    },
    {
      "cell_type": "markdown",
      "source": [
        "## [예시]\n",
        "1. 요즘 유행하는 주제와 관련 기업 가치 파악\n",
        "  1. \"google trends\"를 이용해 현재 어떤 주제가 유행인지를 파악.\n",
        "  2. \"google search\"를 이용해 관련 주제를 운용하는 기업을 검색.\n",
        "  3. \"goolge finance\"를 이용해 해당 기업의 가치를 파악.\n",
        "\n",
        "2. 수학 문제 과외 선생님\n",
        "  1. 간단한 계산은 직접 풀어주기\n",
        "  2. 그래프 문제는 \"ulfram alpha\"를 이용해 그려주기\n",
        "\n",
        "\n"
      ],
      "metadata": {
        "id": "hDzqpn2Sbanm"
      }
    },
    {
      "cell_type": "code",
      "source": [
        "# 여기에 직접 만들어보세요! :)"
      ],
      "metadata": {
        "id": "KAYousM3TzEL"
      },
      "execution_count": null,
      "outputs": []
    },
    {
      "cell_type": "code",
      "source": [],
      "metadata": {
        "id": "cj3pr-LWVc_R"
      },
      "execution_count": null,
      "outputs": []
    }
  ]
}