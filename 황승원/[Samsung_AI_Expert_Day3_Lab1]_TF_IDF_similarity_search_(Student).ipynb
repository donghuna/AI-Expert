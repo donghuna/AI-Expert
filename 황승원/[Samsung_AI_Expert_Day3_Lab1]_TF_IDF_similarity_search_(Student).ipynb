{
  "nbformat": 4,
  "nbformat_minor": 0,
  "metadata": {
    "colab": {
      "provenance": [],
      "toc_visible": true,
      "include_colab_link": true
    },
    "kernelspec": {
      "name": "python3",
      "display_name": "Python 3"
    },
    "language_info": {
      "name": "python"
    }
  },
  "cells": [
    {
      "cell_type": "markdown",
      "metadata": {
        "id": "view-in-github",
        "colab_type": "text"
      },
      "source": [
        "<a href=\"https://colab.research.google.com/github/donghuna/AI-Expert/blob/main/%ED%99%A9%EC%8A%B9%EC%9B%90/%5BSamsung_AI_Expert_Day3_Lab1%5D_TF_IDF_similarity_search_(Student).ipynb\" target=\"_parent\"><img src=\"https://colab.research.google.com/assets/colab-badge.svg\" alt=\"Open In Colab\"/></a>"
      ]
    },
    {
      "cell_type": "markdown",
      "source": [
        "Information Retrieval with TF-IDF\n",
        "\n",
        "This lab session will guide you through implementing the TF-IDF (Term Frequency-Inverse Document Frequency) weighting scheme from scratch and applying it to analyze question similarity in the Quora Question Pairs dataset.\n",
        "\n",
        "### Objectives\n",
        "\n",
        "- Understand and implement TF-IDF.\n",
        "- Use the TF-IDF vectors to determine the similarity between different questions in the Quora dataset.\n",
        "- Evaluate the effectiveness of TF-IDF for identifying duplicate questions."
      ],
      "metadata": {
        "id": "nNZiJ3DmLe0R"
      }
    },
    {
      "cell_type": "markdown",
      "source": [
        "## Understanding and Implementing TF-IDF\n",
        "\n",
        "#### Introduction to TF-IDF\n",
        "\n",
        "TF-IDF stands for Term Frequency-Inverse Document Frequency, a commonly used technique in text mining and information retrieval. It reflects how important a word is to a document in a collection or corpus."
      ],
      "metadata": {
        "id": "kszyqXH5bl9F"
      }
    },
    {
      "cell_type": "markdown",
      "source": [
        "#### Step 1: Load the Data\n",
        "\n",
        "We'll start by loading the Quora Question Pairs dataset. Make sure you have downloaded it from [our google drive](https://drive.google.com/file/d/1BQLCbKrUNTta97xJSdBg1X_G5A82Heng/view?usp=sharing) and placed it in a suitable directory."
      ],
      "metadata": {
        "id": "53YySb3Pbuo1"
      }
    },
    {
      "cell_type": "code",
      "source": [
        "!wget -O train_compact.csv https://drive.google.com/uc?id=1P4zAI3STvY8lZmwvnAJY_4ZU_q03v6Gl"
      ],
      "metadata": {
        "id": "R9o_lcQ8Uq3x"
      },
      "execution_count": null,
      "outputs": []
    },
    {
      "cell_type": "code",
      "source": [
        "import pandas as pd\n",
        "\n",
        "# Load the dataset\n",
        "data = pd.read_csv('./train_compact.csv')\n",
        "# Limit the size\n",
        "M = 3000\n",
        "N = 2*M\n",
        "data = data.head(M)\n",
        "data.head()"
      ],
      "metadata": {
        "id": "vGxdo0JHbq0l"
      },
      "execution_count": null,
      "outputs": []
    },
    {
      "cell_type": "code",
      "source": [
        "import nltk\n",
        "nltk.download('stopwords')\n",
        "nltk.download('punkt')"
      ],
      "metadata": {
        "id": "wzb9UUZxbw0E"
      },
      "execution_count": null,
      "outputs": []
    },
    {
      "cell_type": "markdown",
      "source": [
        "#### Step 2: Preprocess the Data\n",
        "\n",
        "We need to preprocess the questions to convert them to a suitable format for TF-IDF calculation. This includes converting text to lowercase, removing punctuation, and tokenizing."
      ],
      "metadata": {
        "id": "7cc3ufxfcYI9"
      }
    },
    {
      "cell_type": "code",
      "source": [
        "import re\n",
        "from nltk.tokenize import word_tokenize\n",
        "from nltk.corpus import stopwords\n",
        "\n",
        "stop_words = set(stopwords.words('english'))\n",
        "\n",
        "def preprocess(text):\n",
        "    # Lowercasing\n",
        "    text = str(text).lower()\n",
        "\n",
        "    # Remove non-alphanumeric characters\n",
        "    text = re.sub(r'\\W', ' ', text)\n",
        "    # Tokenization\n",
        "    tokens = word_tokenize(text)\n",
        "    # Removing stopwords\n",
        "    tokens = [word for word in tokens if not word in stop_words]\n",
        "    return tokens\n",
        "\n",
        "# Apply preprocessing\n",
        "data['question1'] = data['question1'].apply(preprocess)\n",
        "data['question2'] = data['question2'].apply(preprocess)\n",
        "\n",
        "data.head()"
      ],
      "metadata": {
        "id": "oPTH8G_hcWQW"
      },
      "execution_count": null,
      "outputs": []
    },
    {
      "cell_type": "markdown",
      "source": [
        "#### Step 3: Calculate Term Frequency (TF)\n",
        "\n",
        "Term frequency is the ratio of the count of a word present in a sentence, to the length of the sentence.\n",
        "We apply log frequency weighting as we learned in lecture slides.\n",
        "\n",
        "![image.png](data:image/png;base64,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)"
      ],
      "metadata": {
        "id": "zgm3kAGAciHd"
      }
    },
    {
      "cell_type": "code",
      "source": [
        "from math import log10\n",
        "\n",
        "# Compute tf of each word, make it to dictionary\n",
        "def compute_tf(tokens):\n",
        "    # DIY\n",
        "    # Count frequency of each word\n",
        "    word_count = {}\n",
        "    term_freq = {}\n",
        "    # Your Code Here\n",
        "\n",
        "    # DIY\n",
        "    # Log frequency weighting (with base 10)\n",
        "    # Your Code Here\n",
        "\n",
        "    return term_freq\n",
        "\n",
        "data['tf_q1'] = data['question1'].apply(compute_tf)\n",
        "data['tf_q2'] = data['question2'].apply(compute_tf)\n",
        "data[['tf_q1', 'tf_q2']].head()"
      ],
      "metadata": {
        "id": "HFHD6YD0ci5E"
      },
      "execution_count": null,
      "outputs": []
    },
    {
      "cell_type": "markdown",
      "source": [
        "#### Step 4: Calculate Document Frequency (DF) and Inverse Document Frequency (IDF)\n",
        "\n",
        "Document frequency is the number of documents a word appears in. IDF is calculated as the log of the ratio of total documents to the document frequency, as we covered in lecture slides.\n",
        "\n",
        "![image.png](data:image/png;base64,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)"
      ],
      "metadata": {
        "id": "NVx6b5yCc7GV"
      }
    },
    {
      "cell_type": "code",
      "source": [
        "import numpy as np\n",
        "\n",
        "# Compute df of each word, make it to dictionary\n",
        "def compute_document_frequency(series):\n",
        "    # Create a set of unique words for each document\n",
        "    word_set = set().union(*series)\n",
        "    # DIY\n",
        "    # Calculate document frequency\n",
        "    df_dict = None # Your Code Here\n",
        "    return df_dict\n",
        "\n",
        "def compute_idf(df_dict):\n",
        "    # DIY\n",
        "    # Calculate inverse document frequency\n",
        "    idf_dict = None # Your Code Here\n",
        "    return idf_dict\n",
        "\n",
        "# Compute document frequency for all questions\n",
        "all_questions = pd.concat([data['question1'], data['question2']])\n",
        "df_dict = compute_document_frequency(all_questions)\n",
        "\n",
        "# Compute IDF\n",
        "idf_dict = compute_idf(df_dict)\n",
        "\n",
        "# Show first five examples\n",
        "print('IDF Dictionary:')\n",
        "for i, (word, idf) in enumerate(idf_dict.items()):\n",
        "    print(f'{word}: {idf}')\n",
        "    if i > 4:\n",
        "        break"
      ],
      "metadata": {
        "id": "Q2fFDb6Nc731"
      },
      "execution_count": null,
      "outputs": []
    },
    {
      "cell_type": "markdown",
      "source": [
        "#### Step 5: Compute TF-IDF Scores\n",
        "\n",
        "The TF-IDF score is simply the product of TF and IDF."
      ],
      "metadata": {
        "id": "JDJGpxxKc90e"
      }
    },
    {
      "cell_type": "code",
      "source": [
        "def compute_tf_idf(tf_dict, idf_dict):\n",
        "    tf_idf_dict = {}\n",
        "    # DIY\n",
        "    # Your Code Here\n",
        "    return tf_idf_dict\n",
        "\n",
        "# Show TF-IDF values\n",
        "data['tf_idf_q1'] = data['tf_q1'].apply(compute_tf_idf, args=(idf_dict,))\n",
        "data['tf_idf_q2'] = data['tf_q2'].apply(compute_tf_idf, args=(idf_dict,))\n",
        "data[['tf_idf_q1', 'tf_idf_q2']].head()"
      ],
      "metadata": {
        "id": "3Jqh9d91c_x1"
      },
      "execution_count": null,
      "outputs": []
    },
    {
      "cell_type": "markdown",
      "source": [
        "### Applying TF-IDF to Question Similarity\n",
        "\n",
        "#### Step 6: Calculate Cosine Similarity\n",
        "\n",
        "We will now calculate the cosine similarity between question pairs to find out how similar they are."
      ],
      "metadata": {
        "id": "BMRFAyRvdD7Q"
      }
    },
    {
      "cell_type": "markdown",
      "source": [
        "![image.png](data:image/png;base64,iVBORw0KGgoAAAANSUhEUgAAAtEAAAEJCAYAAABSTHvYAAAAAXNSR0IArs4c6QAAAARnQU1BAACxjwv8YQUAAAAJcEhZcwAADsMAAA7DAcdvqGQAAI3PSURBVHhe7d0HmGRVtff/46uviVdAUAEDqCRJw5Al5ywgOeccJAxBkuQcJOchzQADQxpyRiRnRDKSFES5YLpeDPf6v/Xvz6b3WBRVXVXdVd1V3ev7POfp7uoKp07tOue31/6ttT5V6qEIgiAIgiAIgqBh/k/vzyAIgiAIgiAIGiREdBAEQRAEQRA0SYjoIAiCIAiCIGiSENFBEARBEARB0CQhooMgCIIgCIKgSUJEB0EQBEEQBEGThIgOgiAIgiAIgiYJER0EQRAEQRAETRIiOgiCIAiCIAiaJDoWBkEQBMEwxmU+X+o/9alPpS2Tb/cz317+/yAIahMiOgiCIAiGKS7xzz//fHH33XcXf/3rX4sllliiWHDBBYspp5yy+MMf/pD+9+qrr6ZtrrnmKkaNGlXMNNNMxbTTTtv7DEEQ1CJEdBAEQRAMQ/6//+//K959993iuuuuK2655ZbinXfeKWadddZik002KeaYY47i9ddfL5566qni7bffLt56660knL/+9a8Xyy67bLHuuuv2PksQBLUIER0EQRAEw5C//OUvxdVXX138/ve/LxZddNHixRdfLA444IAUcZ5zzjmLb3zjG8W3v/3tYr755itmnnnmYuzYscV5551XzDvvvOn3qaaaKqwdQdAHkVgYBEEQBMMQIvrhhx8u5p577mK55ZYrZphhhuJ///d/i+eeey6J49VXXz1FpYnmL37xi8XUU09d/J//83+Kp59+upg4cWLxz3/+s/eZgiCoRojoIAiCIBhmfPjhh8UzzzxT/OY3vym+9rWvJUHM98ziMf/88xcbbLBB8kYTz5/5zGeSuP7zn/9c/O1vf0tC+v/+3//b+0xBENQiRHQQBEEQDDNEmmecccZiiy22SFYN/mdJhF/4wheKpZdeOkWfy4UyEf3aa68VH3zwQfGlL32pmGWWWZK4DoKgNiGigyAIgmCYIcLM60xEi0T/6le/Kl555ZUkotk7/t//+3+99/yogocotP//4x//KL75zW8m4f3pT3+69x5BEFQjRHQQBEEQDGNEmdk6RJqJ59lnn/1jIpqFg3f6zTffTL5odo/pppsukgqDoA4hooMgCIJgGMMP/dJLL6U60UrYffWrX/2YQOaffvTRR4v3338/Ve4govmigyDom/iWBEEQBMEwRSKhCLRa0OwZ6kR//vOf7/3vR/z9739PFTtEpHmhJRz+6U9/Kn784x8X1157bRLXQRB8khDRQRAEQTBM+de//lW88MILyc7xla98JVk5PvvZz/b+9yMkE0o8nGKKKVIUWqRa5PrOO+9MUWo+6iAIPkmI6CAIgiAYpohEa7JCRH/5y1/+hIj2f+2/s5VDJFqC4aRJk1IFj4UWWuhj/ukgCP5NiOggCIIgGKYQyW+88Ubxn//5n8X000+f7BzlIprFY8opp0xl7ZTEI6gvv/zyJKJV9vjOd77Te88gCCoJER0EQRAEwxQJhJ/73OeK0aNHFz/4wQ+KmWaa6ROl6wjrvffeO4nta665JlXoOPzww1MUutI/HQTBv/lUSYHIIAiCIAiGHTzRv/zlL4v/+q//SgL6W9/61icqb4hWv/fee6kZiwYs7sM/TUwHQVCbENFBEARBEARB0CRh5wiCIAiCIAiCJgkRHQRBEARBEARNEiI6CIIgCIIgCJokRHQQBEEQBEEQNEmI6CAIgiAIgiBokqjOEQRBEARdwJ///OdUqu4zn/lM7y1F8b//+7+9vw0cNaXLf9bDayuXp014Ze3pIBgJhIgOgiAIgi7g5ptvLu6///4kcrPQJV4J2WbFdL70ex6/V26ZvoS1GtRagu++++7FNNNM03trZ2Df/vu//ztNONS+rrb/QTBQQkQHQRAEQRdARJ999tnFww8/nMShy7cGKjPMMEMSjP2JShOXmq387W9/S63B//KXv6TfPXe58CTUc5OWfDuhqiGL/ZprrrnSbZ2AfX/xxRfThGOOOeYoFlxwwST2B5tWyauYAHQuIaKDIAiCoAv4j//4j+Kyyy4rjjvuuOL9999Pt4myas+90UYbFbPMMsvkqLRLe7ZbZBGWb8vWC3/7n9uIcNv//M//JMuI5//d735X/P73v0/dDN9+++30N+Fcjtc/8cQTi0022STZOjqBRx99tDj//POLZ555plhvvfWKbbfdtph++ul7/zs4OLaOnWOZJx/Ix7wR3PcLX/hCMd1006XPLMR05xEiOgiCIAi6hNdee604+eSTi7Fjx04WtKLRu+22W7HzzjsXU0wxRbptoIhGE+0ENEH91ltvJVH6xBNPFK+88koS3PjsZz9brL766sXhhx9ezDPPPOm2oYKc+dOf/lQce+yxxWmnnZbE6xZbbFEcdNBB6RgNFj4Xx2v8+PHpWH3+859PItiEA+UTFz9rYf9F0L/xjW8U3/72t4vZZ589TZS+9KUv9d4jGGpCRAdBEARBl0B4PfLII8WYMWOKX/7yl0mwEWXf+c53imOOOSYJ2lZYF7I0yD9ZPgjqu+66q7jhhhvSaxPZxDZhd9ZZZxUrrrhiuu9Q4VjccsstxVFHHVU8+eSTSWz+4Ac/KI488shi5pln7r1X+/nHP/5RPPDAA8VJJ51UPP3000lAu01UOuMzm3baaZPA9ns+zjna7HNmr/n73/+exPTXvva1Yokllig23njjYuWVV06PC4aeTx/WQ+/vQRAEQRB0MATZl7/85eKLX/xiErIqduDDDz9Mv88333zJupDFWH/x+PLN6xLnc845Z7HYYoulyCiBJ+Iq+jtq1Kjki/7c5z7X+wyDzx//+MfijDPOSAKWCLXP/OIrrLBC8ZWvfKX3Xu2HIPba8847b7HUUkslu83Xv/71FJV2zPzfcdxvv/2SKCb082YS5Oeiiy5afPOb30yTlz/84Q/pGHu8iYvbbeVVWoKhIUR0EARBEHQRopAiz9lmIcKZI8XsFf4nytlqiGnCTTLhbLPNloQ03++bb76ZhP33vve9JFqHAlHbiRMnJs84oQkRXMdhtdVWS5HcwaLchuE4+TxMcn7+85+nn/5HLLPgOGb+71jmzd+zzjpr8f3vf79YYIEFkvB+9dVXi3/+85/Jm/7OO++kiYxj7rWCoSOOfhAEQRB0GQQUv+8yyywzOSJJTBORkyZNSqKyXRDTvNeE3N57752qX/Bqv/zyy733GFz4il944YXi0ksvTb5hIhSSJEXns397sHB8TGZMdqwYiEoT9iY6/meiIRJtMuI+NgmEefP3lFNOmYT/6NGjiyWXXDLdDu/Je2XpYaUJhpYQ0UEQBEHQhUjkW3PNNYv555+/95YiRaOvv/764o477vhEJY1WI1Fu8cUXL1ZZZZUUFZd0ONiCFSKzd955Z3rvRHSuxME2oWQf4TmUODZPPfXUZNErQv3d7343/V4P4lk0utwmIzL90EMPFX/96197bwmGihDRQRAEQdCFWMoXiV577bWLqaaaKkU58Ytf/KKYMGFC8fzzz7ddSIuySiicccYZk62DT1vEdbDIiZa33XZb8mWLkJe/Zwl9bBBDCXH/7LPPpn0BEc2u0YgVw/Hlf/Yz4/3xSQ/mcQ6qEyI6CIIgCLoUUVfRaHWac3k7Yu3BBx8sLrjggmQjyJUf2gFxJxK+3XbbpSiw5LfBFHcmCuwr7CQmFPaBHSJjX0Sj23kM+oLg/fWvf128++67yXaS7Ry8z42IaI8XaS+fGIhOs4Nki0cwdISIDoIgCIIuRle+XXbZJVWByMv+LAQ33nhjikj7vZ3w/6611lrFXnvtVay66qqT6yG3G6L0vvvuS+XsVMIwmeAhLi/xRzzzhw9VNFqDmtdff33yxMKkQ6UQx6wRWDdMECpFtPfJbx0MLSGigyAIgqCLEd1kD5BoyFaR+e1vf5uasij5lq0E7UJNZlHxaaaZZrKtpN3oTGiiQChvuOGGKcIrGa9cXGZfdLvffzW8tgg0EU3wizzbRx0IGz1GVhLU4PYe8K1vfavYfPPNU83oiEQPPSGigyAIgqDLEdlcaaWVUjm33H6biPvVr35VXHvttcWLL76YbhsuqAl9+eWXp4kCG4eScaLwLC3lSXjEKwEqojsU2D+RZJFoIlrlkEZbkP/mN79JXQ9z3WufMf/5Ntts05Ja4MHACREdBEEQBF1O9tputtlmxbLLLjvZLkBE3nPPPal6hYYdwwFRZRaOe++9N1lZNt1009TMxDHI5eIy3r8yd0MViSaiJVzaD1YOKwaiybXwGPurjJ3GMTYlDEWvdSpcZ511UvfFENCdQYjoIAiCIBgGEFaS/IhKNZyJNqKMJ/qaa65J1oehEJOtRoOXK664Ir2/NdZYI5XZy6JStLfSEz1UkWg+ZiKaKLYf2c5B5CtPx6udN3+7n6j1lVdeWey0007Feeedl96X97fnnnsWJ598coq4B53Dp3o+2KFJWQ2CIAiCoOUQyiwcBx54YKrskP24ItRHHnlkao4yWMl/rYbgvO6664rdd989VST50Y9+lNqNZwhXjZhPOumklEwoMi16u88++6SW6IOFYy4CfeihhybB7/iz2ehg6Gee4GTx729l65577rkk+HUyZFOxqQfOpmJy4H5B5xCR6CAIgiAYRhCOEs822GCDyWXviLpnnnkm+YhzW+xuRKSWNUU77x/+8IdJlJZDlEpy1PHP74QqUTrYDVd4oPnRVeeAZEerAzPNNNNkIZz3Dz4fIpnVQ0SamOZjF3W3795TCOjO49M9M7bDen8PgiAIgmAYQJBpK03IsRQQdcQka4PmHRLcyhPwugGWB1Hom2++uVh33XWL9ddfP4nLcohSfunHH3883V8EmDBliSivXNIXkvjefvvt1GWQ+DURyRHjRiF877777uTbFmH2HMsvv3yx3HLLFQsvvHBqDGNTms/mdyUKv//976dVAomT9kFlD5tJQaOl8dyfp9qKhDHgGATtIUR0EARBEAwzCCfRWiJTA5TcdOXDDz9MkU7NOnTO6yaBpdW1ahXE8THHHJMmA9X2/7HHHkv3/a//+q8UvZV0KDJv4lAPx8jxuvjii4vzzz+/mHvuuRtujFIOK8nEiRNTZQ2/E9HsNKwlRLMIeuU2yyyzJBuHfZVM+PLLL6fVA2KeELcffX1motkmTJrsXHXVVem9qCfdaE3qoHliehIEQRAEwxAJbEreidjmKKzoJIFJ4IlSZztBp2M/RXXZI1SpyIJYxNfGCy3a7md5YxKP854btXMQvHfccUdx3HHHpfbpPNj9OUZe79VXX02CHz4L4llEuS9EvNW69rlJEgVxLCmUMPactfBaP/3pT4tzzz23ePrpp1M022OD9hEiOgiCIAiGKewIG220UbHKKqskrzSRxtZx0UUXJbtBN0Ac33TTTUncirQSkjvvvHNqNb799tunze+2HXfcMU0S2FkqPdGNiGGRayKWf1kSJutFs0mYXot3O5cU9Jy80FqSN2qhUbrPVo7mMoR9LUSo7fsiiyxS7LHHHin5Mnvig/YQIjoIgiAIhimEpCg0GwE/LkFHbLkt11buZAhfwvmSSy4p3nvvveTxlWzH4sD77Gfe/G1zv/y+PP5vf/tb8jk3guOz1FJLFccee2zqAOkYNYto9ksvvTS5y+BUU02V7DOV/u2+sB/K4ekAmeFz7qtpjmi3ZMuDDjoo1QtXBaRZG0rQHHF0gyAIgmAYQ5Bp0JEtEKKiIrmS7TodFoW77roreYvZIUSd11tvvWLjjTdOJe7KN/WxbZLzCFewM/CBNyqi8wSDkCageZObhYjmZ2YFQRbRVgKawfOIwmdMCPqa9NhXnmqfq8+4kch7MDBCRAdBEATBMIa9QASTDUJ0c8stt0w+aV3wOhki0D5fdtllKcpKOO+3337F/vvvXxxwwAGf2Nxu23DDDVNFjiw4JRgSpPXI1UuI7nLx2iwi3+WR6C9/+ctJRDdTDcX+vvXWW5OfA56DJaQSx8k+i9AT7tkT3umrDMOBENFBEARBMEwhqFR4OPvss4tnn3222HrrrVMUmne20yEidVp85JFHUs1rXt9GIFZzWToCUxS6nogmfO+7776UvHfrrbempMv+JuXxQpu0eE4Q0RrCNCOin3/++dSspRwiWtvwcrw/lVfs8xFHHDE5YbSRSUMwcEJEB0EQBMEwhMB69913i6OPPjoJaRHaHXbYIXlluyFKKZFOMiEByq7BolAP75n3ONs5YCIhyux/1eChVjJPsqWW22eccUZx1llnNWwBKUdEWBQ6V+UgnNlo7FMzx/z6668vfv7zn6ffPU6S4VprrZUsLeWIPp955pnFIYcckqLnp59+eirN98Ybb0RljkEgRHQQBEEQDENYAQhC5c5WX3311CK7G5IJoQrFDTfckETi2muvnSKwjfiTvTfJh6K/+X0Sz2wO1crcaWgi2q02tGOkRrOazHzYEvmqPaYv1OAWRSbaITFQbedGvdUE/4MPPpjK+eXOknza2267bbH00kt/zFdNJKtaQjCzuqjA4jMXlXb8ak0agtYRIjoIgiAIhhl8wETo1VdfXSy44IKp9Bsh2ukCmvD7zW9+U4wbN664//77U4MRVg4l6xqFgJ5++uk/9l7ff//9VDe5EhOMa6+9tlhggQVSNQ7NSUSgWTII72a90SLQxDc7hddXF5r3vF6ZPK9jwkA8n3baaek5IJKtZrRkynIPu/uzjEi4FKEfM2ZMaq5DrBPw9iNEdPsJER0EQRAEwwjR09tuu6048cQTk5jcZZddkkjsRAg9gp+lQik74pE94fLLL08R4RzF9XtfPl+i8oMPPkhClFj2nFlEitiKNOtkKLrrudguRH3ZXYjmNddcM4neJ554IkWntdiWxNdXRQ2PI849pyYw9l8EOItoEM9+9z/75r720z54rNeyb6wb7CSHHnposnLYf1HsH/zgB8XJJ5+cEiXL8dq333576kaoGol9Fz33vCp06H4Y5e3az6d6BllMVYIgCIJgGEBM3nzzzalz3a9//evk9WVTKPcItwNC1UbMKanXKAT/pEmTUtSZ0NSkREJhFsG8xPzAhKJmKvPMM0/vIz+OxxKhRDFhylIhop0ljuoeRLHJBGG+6KKLJq+yUnTuxy4hsqu6B7HNHiEi7HG1IH61IfceiNd33nknJfV5vlwhQ7k85QU9jwkNP3puekNce33PQ1CLIBPH/qcN+E477ZR87OwplcdUF8axY8emCP0KK6yQ/nZ/x9HPvffeO7225wraR4joIAiCIBgGENAqWRDOktt23XXXZFFodyUOMkIlCdFkYp1YbVRIE45qP6uKgVrJcKLRGq4Qt5XwAZs47LPPPsmGQcDWkjb2S4T3wAMPLNZdd91UxcNxI0bPO++8NPkQPVYyz7Hry8ss8VFnQCLY+8jCuRJC1v54XpFjEWK3ea+5nB7bB7uNY8fCojGOtt+sKdXwWFFtz+c9iUrvtttuaX+9B10qQ0C3nxDRQRAEQdDluJQTcwcffHAS0KLPe+65Z6oL3W4xRcSqACJ6vPnmmxcLLbRQn+KzHMLzlltuSVFgEdpsQbDPWWh6byK03pNKHZUoJSeiyxIhKkysEpb58fm5iFX/t2+aqXiubNcgvon5G2+8MQnYU089Ndki+kLUuzIBMAvkjNfP++B95PcDt7m/v4llSZ8i1bzNzSQjvv766ymB1CRgySWXLI466qjUrjxoPyGigyAIgqDLYSUgpK677rpipZVWSsv57Arlgq5dPPzww0mAiqQqDUe4ZzFcDxKkmX1s9v6NQKBrF64JjeMoonvkkUemShtELzvFF7/4xd57dx6EvMj5L3/5y2RHUcZQZJ24l3TYqBgPmidc50EQBEHQxUhqU+pMQpoyZ5qpfPe73227gCZo+a4Jd9FfUVAR1EYFNJrdx3a8J5UseImJTg1N+KVFyL0vDVhypLkTEV3nw37uuedSNFtDGkmRP/vZz4orrrhicsOXoD2EiA6CIAiCLoUAvPPOO4sLL7wwJc1JkCME2w0BzQct8qwcnWhtPftDp8KG8tRTT6VjyYoiiZG/+9JLL01Jgp2MyLkItCRF++4zsM9qRXtP7CtB+wgRHQRBEARdCCF7zz33FBMmTEjVHyTW8fk2EwluFq9pe/XVV4tzzz23uPjii1NlCcJdFYpuRGULfnLvSyUQVggiVJdHf1eWl+sk1JEWnecBHzVqVJrMSLLkk1522WX7LNEXDJwQ0UHQQeQLVBAEQT10trvgggtSUxACWvk3top24dykfJzkOzWoL7vsslTzGJqUqE3cjRDNbBAmHypu8JZrVKO6iUY1jVYaGQpYN3jRiWeWDuNBeT+dF9dZZ50+S/QFAycSC4OgA7CcKDv98ccfT4ks8803X4oqtLu2azvR8EC9V1Gqvi5C+RRU6XWsvN0FzgVBKSglqlw82ikYgqBT4YMVOf3JT36SGnhsuummqTZwOyLQorSqb6hewSagocdDDz2UhBr7g++n7yL/rXrF3Yj3KOqszJ7zr+iuc40mNboEtsOH3Urs+8SJE1MipFrU6kObFIiid/q+dzshooOgA5AZrranRBYXSN2zRJZydKQb4dNTcumOO+6YHA1xQvd+Kk/sTkPlpZ+qYVlS6advfvObKeLlAqH6gBq4bg9BHYwEfE8s1etip6X3+uuvn1p6i0T6XzV8r8q/c74rNt9Fj6ncnINUrCCSCWcb+4YW2aKd/pe/q55HxPOggw6q2QilG8jv2aTfcSGeVbXoBhHqM5NAqOSe86FKIva9W68d3USI6CAYYpwAJQUpTSTaA5EEIlp0qVvLE4lUqR2rG1mORHuvtRJd8kW9HBcwpyiPy40M3M8x8ZwEtdqx6623XrqAazwQBMMZAlpnPpYD41/kUeS0L7KI9tN3R+RYPWLfF8JRoxDRWJsENfYQFSlEuf2fwPS99XtlQxGC7ZRTTknfQStE3Y5zDbpRgPqc7Hc3CP/hQojoIBhCfP1cFE844YQkpMtP4BtssEFx+OGHp2SdTvbk1UJm+LPPPps8kzmiw0959913p2hWOZKh1LYlCtzPcfDT5sIgU95x4ld0Yc+nLceJ5UU2vc5hmiQQ2UEwHGGrcJ5g4yB88/eKsG30Uu7+viMEtN89znfMd658a/T5rDLpksh+FgQjjRDRQTCE+PqJ1LJy8BmWfx1dlPbdd9+0XFsv0tSJWBbN3cNcrMHacc4556T3Wo66rJJ4CGnC2EUcHud3nnHRMX5M3stf/OIX6f8Zx2fxxRdP0fzFFlsstfINguHGa6+9lny7kt5EgJsRu8iiGfk7hvz9rPxZLxrr+602MWHP/hAEI40Q0UEwhPCxsTzIqCY6y5FAJxp9zDHHpKXX4cCVV16Zln4lUJajRe1ee+1VrLvuun1Gkh2jSy65pDj22GNTEk356UtkTZtjFhhe6SAYbvz2t79NKzKSdrPQHUoIcd87K0BRBSIYiYSIDoIhwhKqZB02BBHWasw777zFmWeemURmt/t9nWqI6NNOO6147LHHem/9iCyiJSjVe58sIo6ZJWQezYylbd3aDj300FSWKgiGI514ye4EQR8EQ0GkbgbBEGEp9IEHHkiZ7y5CRGAl/MTa0fJCdjsu/q0QAJKXiO5Ki4tJyQsvvJCidEEwXHGu6LQtCEYqIaKDYIiQDERES7abaaaZkpe30srwhz/8ITVU4AkOPkJjBM0FKo8Vga4F7ocffth7SxAEQRC0jxDRQTAEsCGwJSiSzxet5rEWrZXCUMkpTVjUXJaNH3x07EwuRJ7LERGbYYYZIqkwCIIgGBRCRAfBEKAetFJviuPLgJ999tlTmbYvfelLvff4N+wJLB1KuwUfHTtNH8r90FAG0DGMKgFBEATBYBAiOgiGAIL45z//ebIeqLwhEm2bc845P+H11fxAfeRf//rXvbeMXAjnl156KUXwHZcMAa3phBJ53/jGN3pvDYLhiXwKk0m5En4fSlTosDKkBGVlI5YgGO6EiA6CQYYtQ7MRwtgFcP755y++973vpaYh6iXz/JZDOBKNtuHs920kQcnEQ03at95662N1bk1AlAJUIk83tiAYrjhnvPLKK6ntt66FJpVDhe/gm2++WRx88MHF5ZdfXvzud7/r/U8QjAxCRAfBIOOio8Rb7jI2evToJKJZOZZZZpli6qmn7r3nv3HhZGFwwezEElcD5fOf/3xqM6wE3rhx44pLL700bX5XF1ozmi222KIYM2ZMsrbkiJcOh9tuu22qG73aaquliUgQDGesYt10002ptvzpp5+ecisGC987ORoms9ddd11x3HHHpe+fBjC+v/WaswTBcCNGfBAMMkS0GscS47797W+nmsYsHSwJxLTa0LqRlSPik0X0cORXv/pVEssuygSxn3k7/vjji1NPPbWYMGFC8fzzzxd//etfk+Vl+eWXL7bbbru0rbzyysW0004b5baCYY9zQc4HWGGFFYrZZpst/T4YWAnzPSXgCXmt/dnMND4isENEByONGPFBMIiwchCC6hkTzVpVE85Z/Gmhq0rH17/+9fR3xoVTy1/trvkgh1s02sWZOBaR1vnMTxux7G+TDJOLGWecMdXTdrFWL9pxcBF/+eWXky9zOEbpg6Acqy1LLrlkscsuuxQHHXTQoDYWcp7yvWSZkgw9atSodK5yLguCkUh0LAyCQYSNQ2T1+uuvT7YNv/PxiqJCNEc5u/3226+455570m3lLL300sl/6Gdf7bH7i+i4mtS5uQt/NptJK17LRIBdwxJ0ZcdCk4mtttoqXZRdqKudlkTfLCNPmjQpTUSU/wMx7Xj84Ac/SImFytzFRT0I2o/cjm222Satkh144IFJ2Pv+BcFIISLRQTCISA4UNSUUJcMtt9xySQRmRFndvsgiiySRXWlP0N3wySefbEtGPuEqYY+FQqm4JZZYojj88MNTa/J2Y/JAsM8zzzwp0XKBBRb42OY2+8QTfc455xRrrLFGiohBlYJbbrml2HfffYtTTjmleP3119PtQTDc6LSYl+9t5TkqCEYSIaKDYBBw8SP2HnrooWTLYE9YddVV07Jo5UWIONS9kH2h8n+6G+py+P7777f8gipSLMo7duzYlGXvtWTc33XXXZOjvu0ivxcR5GqbyYWNtcNx2W233Yq555473eaxotSOL7/m1VdfnfY9CIYbVmCs4hjvnSCoO2EfgmAoCREdBIMAm4QkHImBosiizPzPbiOK2RTy5m+WChaPykQdkR8iPHc6bCUuiCLRvMUZjV4I0vKazEMNa8lcc82VPJnl3Qntv/0lMiIaHQwXjGvfSZPbiy++OP087LDD0jmg3ZPbIAj6JkR0EAwCxO999903uY6qxgT33ntvcdpppyVf9Iknnjh5O+GEE4qJEycWb7zxRtVID6HouVpdM1rU+7vf/e5kfzaIVM1LPvvZz/be0hmIQEtoqqxiApYXWxAMByTc3nzzzWlFyKSaoFatxqrLBx980Huvj7CaJNHWZF0t6Xoba1n5JtKtZJ7JPZ+zCXSuBNIIEZkORhqRWBgEgwD7xYYbblg8+OCD6ULDsiE63dfXL0ehVfQovx8BySOs6QhLQ6vwGqqGiHRJAPQ6EvV23XXX5EseKH0lFi688MLFXnvtVayzzjoNCXaTEI0mzj///E8IZtULJGZKdAqCbkcOBPvSj3/842KVVVZJ/n/JfCaQt912WzHffPP13vOj7qYXXXRRKhlZ2fm0kmwV89O5xubxNhN03/+llloqnQPK8zbKIbR32mmnJLp933beeedPVBYKguFMRKKDoM24IBGN2crB00uY7rDDDsWOO+5Yc3MfFScqL4ai2i6Sd9xxR2q80CpcTFkklM1SGUQd2KOPPjol+3UiRHm1SYjKIvzRQdDtvPvuu8XDDz+c8gIkHBO6VqjYvQjbyqo5vsPEb73N45xXVN7xPCpqKLW50EILpUo3EnfXXHPNtDLVzCpUFuZBMFKISHQQtBkXPTYNHfgI4B/96EfFPvvsUzc5yEWOP5qg1sygHP9TT/rII48c1DqxA6GVkWjH44gjjiiuuOKK4r333uu99SNE+UWiVRYJgm6Gt99k1qT50EMPTVYu7e11CFxvvfXS7zPNNFPvvT9aTSK85Uvklaxa5OizjUgnrP0sj0zbfJ/cXo3KSHSUuAtGGhGJDoI2w7doCVYS0KyzzppErwuNi5+OhbU299GNTGvryosYAU6I8jES5iMN0WaRfbaOSr71rW+lYxYE3Y78hGWWWabYfPPN0+9qyGu4pEqNSbQE5XIIYDkMzjMzzzxzn9t3vvOddA7yfWHBUDFIVFrCM0uUKLWciFoCOgiCENFB0Fb4nlXTkKAjSsRfKOraKC6cupOpoVyO5yIgH3300ZRI1A3kyFat6DsB0MhysMSqn/3sZ6nRA794OR7veI0ePbr3liDoXohkY1mNdOeSJ554Iq1smWSr4z7llFP23jMIgqEgRHSTOJH9x3/8RxIultb6Wo4fKBI8VHNQdqzVlRiC1mMJlcDjx7XJqpcUpGwdJAJJCBRhzvcxnioxpngeWRb8Puecc35CRIM9wnPzL3st9/ec9qETxovxS+jbJ/tmEzWvFtkirv3P+8ie5vw4P33nfvvb36bGL6L6kqcka5ZjOdqxssztOAfBcMF5gmXC6pPvj+g0v7LvuS3nB/jdpF2VjRdffLHfmwRjKz2uc77HQRBUJzzRTeBEpRKAqgg8ajKlN9poo8md05rBc+VleCdFIqIyCudkqC6oeqBbb711sfLKK0fkoYPRSIWozSJRAo9x4jblpCToLb/88mm51YXJUqll2srMd+Pi1ltvTcu2vM9E8TXXXFO8+eabvff4N8aNiJQkoDyeJC+Kdot6DyUuxCYR77zzzuQEKDYUCZGqlJSjucxqq61WNVHK+zKRNKEkpCVTmsDmGrmOgeXtWWaZpdhuu+1SG/XwZQbDCd8b3TjlE7Ba8Eevv/76xWWXXZYaNll98R0gsv2PiO7PdSnj+uTxvpcSjdlDqhGe6GCkEyK6CUTJzj333CRoVFjQgtjJpRnPmMOdo9lq/UqiElEgACoFssimzOyf/vSnSYhIMFPayMky6DyI5bPPPnty5Jm48xkaNz53kWgbYegCJRNenWiiupx8wRRtzZ5fQjqL5EqMIULchc/YsvRrrKjsMZSwWxi7uiDmCzqRLLJcGSl3XLyHynbmjpX3JTJfWeoPnldFEZE5FQWU/GOBaeY7GQSdjrG/xRZbFDfccEMKppx55pnJy7zxxhsnoUu8mrRbnTH5tprj/NNffM88H4E+atSomsGbENHBSCdEdIO46BMDqiwQPbvvvnux4oorNn2ikgh29913p0ic6CRhNP3006ckEcvQEj7KBYCT54QJE4qf/OQn6UR2wAEHpHrDlWXPgqGHrYLwFQXKqwrGh4uRnwRu3ohJJas0Wqmsq0pEn3XWWamShc/feHD/amMtR2qz+PQ7USnC/cMf/jDdNlS4mKs5bbzniV++OHs/+dRT/h7yccvk+zgG+f0b+5KfHDcTUBPZ3MEwCIYbzheuG1ZYTKb33XffYu+99y7uv//+VIVmq622SuUwhwIrbcT9448/nqrluC5KSAyCkUKI6AYQTSSQjj322FRpQXmyzTbbLEXPGsWJkNdMcwhL9aJrGliIHIjYEQaEj5Oi2X/Gx2MZ2xLd+PHjkyWA8LKE30z9zqD96PTFekMwVorBSowHYrKaRcf/HnnkkVTeqj+rDsarmq8i0kOJ/XeRFXluJDJsrNc7bu5j3H/ta19LE05RZ8cR9R4bBN2IyaWIL7Hs3GCVSfT5qKOOStFoq5PNJCsPBBN8yY1+5v0655xzks3RpJ0lS1CIkLa6Ot10033CohUEw4kQ0XVw0lKr96STTkrCxtLV9ttvn7KjG4Wo4Q/1HFo9i5iZsfNUS5zic7vggguSYOJx428rjzQ7WbEIEPH2xTL9cccdl05SzUbCg/ZhrNgaEXP5a+cCUy366nlMtPojDD2eaG1EuLaTbC/p7ymmr/du3NtCOAcjAdcQq5FWMGecccZUni6vfLEWDhYmxOrcu27JTZB4WL7S5pxDQCvNKSgkB6Qy5yMIhhMhovvAoVGa7OSTT04RZC1Q2Tl4xBrFcryEsxNOOCEJYLYNS29OLtknSjgTxUoXae2qk12lr8zMX0KjKLQTqjawkqiixWoQBMHwJl+LBFOsXgrEWG0iqAcz0ut6dtddd6WkXvtEOOdAjr9tJraEtQRILcnVnw6C4cqnD+uh9/egAicElQR0mnPS2HPPPYvFF1+8KT8yCwd/65133plOLMSvrOry5+Bzcz8lhUBgV5548gyftUNEXCTAcr3lvIjGBUEQDF+c44lSopl4lgcg0DLYq01eT06QVVDRZvvip42wz5tcBQEe16yhXhELgnYSXoAaENCWq4hffi8eNOK2maQJ7Yhvvvnm4vbbb0+RZM+hfm1l5IC/M1doYPtQiaMaTly80GoG85uKbNvHIAiCYPiTE2qHqtSpqLNroNf307Wo2kbw29fI2wmGOyGia8CHLIFC1rEEwuWWWy6J3UajvkSzphDXXnttqmnrhLPOOuukGXolTjQ5Mq00EdGupFclItkiEDaWjttuuy21geU9DYIgCIIgCAaPENE1UNKO/0xUWBUArVcb9Z7xiWmUoqanig1EsqoaSuJV84cRzuwZINJZNtxWDY9fcMEFk+gm8m25DnEQBEEQBEEwOISIroLILvFMRBO3ls94vhr1dulGp5GKFsWey9IXL3WtJTiCPUee82tnUV2JfWELUclDtFxNYq8TIjoIgiAIgmDwCBFdBaJWBJnfmAeMX5mVI2ch10MG889+9rOUTQ12EJU9eMWqQTArHZTxOrVsI2whqoOoJZ0Ft9cJS0cQBEEQBMHgMSARzff75ptvps5Juqsp1cbCIAqrfmQzwk701mOUgxs3blxx3XXXpSYktSKyfSGqq+mFfVEW7qqrrkqiNjd+4HPWRU1yXjXYIyT4EcMEsOLxjQpo70N02EaMs4DIYFbLs1ZVDy3AJSGCeJaQ0VcjFwJay2jR6BDRQRAEQRAEg0+/StwRzwSoxiE33XRTqkCh8Dt/LvGoXJuax0RozuKtBVErOY7IJWyVbyOkeYrfeuut1BqbbYFgJCxrRWjZGSTbEcqqYdgv1Sv09Lc/XsNzEqtEtTaqrBH8zpWIQE+cODGVnCOgV1pppVRVo5GkQh0Nr7766nRslMXzGro4aZBSS4jrYKgKCAEueVDnJ77nWkJai2S+aW2V/ZRoqHKIxwZBEARBEATtp+lItCitSO4pp5ySOhepgUw454gtoelvTUH8/4orrkhishKi9z//8z+LSZMmFQceeGCx9957F5dffnmKymphqiPTk08+mVqbjhkzJkW5CWSCuhLPJRFPRPyQQw5JjU20I5166qmTuJxzzjlTgXriVrOUCRMmJLFbKzJM/PMZE7Weo5lyQipxPPzww0nQwzGRVFhLgIsgE+3liYSSB2tZP8Cbrd2xZi0EtdUA+xwEQRAEQRAMDk2JaELt1FNPTW2vtamGBiSivuwXbBhHH310MccccySBx56hzBsxTOyVQ8QecMABxUEHHVQ89thjxTLLLJPErc6A++23X2pxeskll6SW2ETyoYceWuy///6p7WnlcxHjXofYFiF3P12VPHaPPfYoBNs915FHHjm5OkZfiXieTxQcxGozItokgA2FAAfrheLztaLQXkc0OUNs28fczbAaLCLuk2twsrx435XHJQiCIAiCIGgPDbf9FoFmgyCi+YUVU9d5T5tqlogcaWWbWHfddZOdQ5SVH3ivvfYqttxyy8mRX8/FvqB7nygsuwMxLmpcKTaJ7euvvz6Jc/f1mqLTOvXl+/72t79Nov6kk04q1l577STCRX8rEcm2/+678sorF/vss0+x9NJL9/733xDgajqLJnsv9l93wHp2DuLbMXJ/fmjwN2uSIrLs8flw59+9BpuJroVuU0eav5ydoxai8TzfO+64Y7J0uK+JwgorrFAzut4ons97MLFBvffcX7x3n5/JgBULFUeCIPgkziWsbr6XciDa3eZZsEQOx8EHH5zsaO06BwRBEHQ7DUWieaB5i8eOHZtsDk6q6iZvuOGGxbe//e2PnWT5cgnHnOjG5lEueCEyfcYZZyRRzO6w6qqrpuoV1aK1Irn8xBLpRFqJ7/HjxyfbREYklndafeYpppiippCcbrrpikUWWST97kLh/pXYb//LYtd7MWFoBO+H/zpHhKeZZpq0/4SyaPO7776bfuaNP9vPbMUQfVZ5o97rOcaqheRINLsMb3krkgtF0B1b+2VyYp8b2Zq5ry0/PyuKSVUQBNXxfXcuMUlv9nvWn815zKSebSwEdBAEQW0aikTroKfKxcknn5wEIaG63XbbFUccccQnkgadfHXpk5gn8isyzKdMjDohO0GLBvNMg42DdUNHwFoQ8XzO5513XorESKQ77bTTimWXXTYJT6Jc1ERy4nzzzVdsu+22KdIsyikhMeOtEtvbbLNNMffcc6f3wH9dDkHKp+1/xK1otUipMnf1Lig82cccc0xKKiSkPbf9YOeoPMz+Jh7ZUCRTEq7817vvvnux8847p8lFX/B4r7feeuk1RbpF9b3vvrzUjZAnAi6maPQimt9fMxddj3GctDL3HoIgqI7viapHKvG0u5Wy860ItPNru18rCIKgm2lIRFvaJw7vuOOOdIKVqJctGtUqQojwEt6EWPYEZ5Sdk5SokQnYM3iZ2SVqwb5w8cUXF2eeeWbyGxOKG2ywQbKSaIJCGBPVkg8J0xlnnLFYY4010ua1CXjRacugLkasEH53v+yRzoj2XHPNNUk4i8ryUROofVUYyZg88Hnn0nmbbbZZOk6i9pU4RqL7m266abJzQHTZBEPkvd7riTw7/vzoBL6JAcHfjH97OGJ8+owd34iiBUOJCX5Ecz/Cd7JagnkQBEG34HzuvF5+Tm9IRPPjSQBU8YI4WXLJJZM4JFJrdfFjLXBfFo3y+/AjE9HKx0Hi30477ZS807UgovkBCWVRZ2+C/eO4445LkWfRUwKa0CcuvZ4ItI3I99zsIKwSPMe5hbd9q7SQiKTzJO+7775JkBHuvMeNXAhVIvE4VgX3J8CJ8WqCWDUOthT77P4ghpULtJ/VrC3lsLD4DFQ0ManYeOONk1fchGGkYtJjnEhQZTuqNsELgnbj3Of76/xkJaqvmu8jAXX7XUPkbQhyxPcyCIJug6YT7GVF/pimI6Lrcc0115S+/vWvl3qepNRzcSitv/76pUceeaTUI5J779E4PaKxNM000xDuaeu50JTefffd3v9Wp0dEl3rEYqlHCKd96BHJpTnmmKP0wAMPTP7/c889V9pll11KU0011eTnzttnP/vZ0gwzzFCaffbZSz3iu3TRRReVPvjgg/TYSt5///3S6aefXuoR4Ol1zj///N7/1Ofiiy8uTT311Ok1Pdbr9FxQe//7cbznzTffvDTllFOm+9vvzTbbrNQj4nvv0Tc9Irq03XbblT73uc+lx+6www6lP/7xj73/HZn8/e9/L5188smlnsnIxz7/2GIbiu2CCy4o9QjI3tE5cnGuGjt2bKlnsl/1OMUWW2yxdcO2xBJLlP70pz/1ntk+oqFI9Lhx45JHWERYhGXrrbdO1gFWinoR00pYMHirRanB69wjJvv0AFsK5LFmdRCJtstsGCK/KlLAvqkaokSeMniiu3zGlcl29lflDhFwtolKO4dItmgmi4lItH3dddddG4qenHvuuSk6LCLKxmJfNE6pBlsKSwrfuGMh+sw7bp8aqbAhEs07bV+V4XMMPZ6veqRiDPjsNdnx+ZevgATBYOH8JGoh8XqBBRYY8ZFo1UWsYiqDytIR38sgCLoJ5/TsaqB/uSEyDYlotgMimqgkQrfaaqvUHMUTDlRESwiUEKfKRy2II2KRiOYjBv8wEa0sXsZbsYyv2YlSbX6XiMPn7ERuy/WbPY71wnJrOe7D20yguq/944kmVF0Y+0JdauLb/YhiyZNZ5JcjYfG2224rNtpoo/TeXFT87v018jpgO9lkk01StZKZZpqp2GGHHdJ+DtQTbcLic25gWLQE44DtphVlu+xznujFknEw1DiXGIcDLTuZIUB9Pxs5PwwE3yP7XX6hGAi+k84pJhPt3vcgCIJ24Lxoq9S8DYloPl2RZwlw7q7iBhGtXFyzIpof2kbcQjUKnmgNWmrhJHzppZcmL4o61DLGeaF5pO2DEzTfnRM/fzBhZlNJRMRXhFqbbwmFItkuRiK2BLL3UY7nuvHGG9NEgdglTEWtdVCsdwGwPyLRBKGKEzzR1eofq6Gt2gmRbT+9B8eBKG4U5fHUsjZhMJmxj5IUG0mA7AvJoKpziMij3Rc940eda0meQRBUhyB/9NFHU1Wedk8QnW+VA3XuapWQDoIgGJYQ0fW4//77S8svv3zyFveIntJKK61UuuOOO0r/+te/eu9RHX5g9+k5KffeUipddtllpQUWWCD5S2w9YrX09NNP9/63Ov/85z9Lp556amm22WZLj5liiilK6667bvJB4/HHHy9tscUWpaOPPrr0zjvvpNsyPYK59Je//CV5nXsEZ2nrrbcu9VwY0vPsvPPO6X/l2OebbropvYb36nntXy1vczk9Ijp5tj0/33it9/Xggw+WVlxxxfT8PYK7NGbMmNJbb73V+9/69AjvUo/QnXwcR48eXZo4cWLyBA+UO++8s7TqqquWvva1r5W+8pWvlL761a+2ZfPcPRfqNJbuuuuu3lcPgqCSHgFduuGGG0rf//73S1/+8perfp9aucnrWHrppUtPPPHEx87dQRAEwcdpKBItkptLyInifvOb30wdBkVPa0VFPO3zzz+faib7XYULy/ZqOYtEK80GtgqVP9QkrYXIiG6E6kRrJa4ZidbjosSsDMrlKS3XcwFIFSqqdSuEaLUo8y677JKqY/ARH3vssakqRjn2ea211kqRbB5lFg0VSepF3c8555wUiRa9VbnEPomYlyO6rUKJ92x/2D1E+XtEdcNRfTYTUSmVP0TaRbJ1dLSPA63rqg6359S+vJ0YE94v+4pqKZWfQRAEH8HCYeWORS1XH2onXk9Ox6KLLpp+NnpeCoIgGHEQ0fUQrZ0wYUKpR7BOrtCxySablN57773ee3wSEYwTTzyxNP/885e23XbbyRHf3//+96lCh0ivl1dJ4cILL+wz0usxIsge4/VHjRpVuvnmm1OEBiK7PSf80swzz1y66qqrUuS6GqLiotY9wi29tii4CHUljz32WKog4rV6hGmKAon+1uO6665LFUBE7FdZZZX0PJX0CP70P8/97W9/uzR+/PiUvd4MMv5Fnr2W97HccsuVXnnllborA0EQBEEQBEFraCjEIFlNpFQtYu1nVbzoEaMpsS97m8vxf+2cNWcR8V188cUnR0h57URpVa0QxebBVU0h142uhEdZjVHeX75AVTx4f3mOc9a7SInoiSi1CLeIjX2oRIQ4+6XhubyfSviqNZQR8VHhw3toBL5pdQTti/a89jfTc6yTF1qSpvcigi6hcrXVVmu4rXhGZF5iYU6SFIH3XiLrPQiCIAiCYHBoeJ3OsjsLx/zzz59sGbrySYxjsZCIRmjmjYCUCOg+luqJ6PLqCwTqoYcemso/EZDE9kUXXZSapnzwwQepmoYSboSiboTsD8S2duNLL710qkRRKTwJacL51ltvTR0HJRIq7E9o5o3I1jqXyNWSWwOWakuVkvNU1yDS7YP9IYLroVXuvPPOm0S4SQTRTEh7bSXXVCZRZcQS6RZbbJHsMP1pjmJi4fk8t8QfSXkDtXEEQRAEQRAEjfPpw7SRahAiliBWXo53VmtvvmdRaVUzeGn5kwnoq6++ulhmmWWS8J5rrrk+5p0WEVYdgyAWmVaKjg9ZRNpzZbF7ySWXpCoWntt9+Yh5oUVePUfGvhDifLzEpJ/2SyY7If3WW2+l6LR9IsiJTgJWeTsTgkpEqk0EHnnkkSTm+Zq9fj1vINFNgHvdXOFC1Nhx8j60PFeFRCUNIloUvPx9NIrJBv+1iQIv8UorrZQmBBGJDoIgCIIgGBwaSiyshEi8/vrrU3tsApblgfAUrRaNZf+QlLLqqqsWc889d59RUqXaRI+J6PxcotEeI2JLMM8666zFmmuumUouVRO9BPeBBx5YfOtb30r2CML3iSeeSGLTJjLsuURt/b7++usn24X9rYbkSQmQkiHZVUS+1XCu9tqViDqbTBDrhLR9cWy8vgnDuuuum8R7f9tz+7hMNiRF2jeTGomPjk+I6KAS46U/E7UgCIIgCPqmXyIaxK6osagvq0UWvip3iPSKQhOsjZCjxTZRaF38RL1nmWWW1ITFRiDXasihfjURrioHccxSoh60aDQ7CPFL3PMhs5KIBteLKntOtaIfeuih5OHWWZGYb0SoEs0EtOi3fWC7EM0WkbeP3lt/cZwvv/zywgKC6h7bbLNNEtH2rd57CopUccUEy3gSxa9shMEqw4pjQqfqSaNjuNPIlh/j2CpFtSY8vrcmYlaJjMt6liB2Kasrzz77bPouzTzzzL3/+TesT9nGZLx3UwdNp0L2LcfF99x3qvKYsIJZOXM/eQjuEwRBEIxM+i2iPaxyAyEn8tWsoKv2XJ6nfKtGvq8LfH7d/j5XOYT9iSeemGwTBPhPfvKTJKYb7T7mde1T3gf7lY/NQCDKjznmmLQSwBeupN+WW27Zko5/IwHi2AqDlszKF1YmlpqkTJgwIXWU1Ma9W5vAWAG566670ns488wzP9HMyJhkL9LxUkKsY1Kv2yVhTkCbwK233nqp/WklxufFF1+cxKYSlN0kMn1fH3vssdSemojef//9PzEJMDlQ7tOEX7K1Va0gCIJgeOOaWU2/9VtED3d4mXmi2UQIA15sQnqgbbUHyj333JP83CKMrCv77bdfss4EjWGVQ4RZp0qfKX9/ObzwrDv880Roq0UgoWYFISershiZDNWLAjeLyYDqOWqQP/jggymRthKTRLkErEAEcb1ul2xOch5M2oxB341K/F8nUKtI6qTPNttsvf/5N57H1uxEux5OcCa5JpT9maxaQXI8jjjiiDQJ0KlVtLkcq1y77rpr2v/NNtssVRkKhh/GgglTHqcDDX4E7cW51Iqac2knf1b2U4DOuLKfrT4HBq3HZ+baWCuAGiK6D5xEVSA5++yzU0RSVI8tY6iivvzWvNaqfIiUqXAiQZFvPGgMS/HajJt8ENF86uWIVGsGREQrrVhNBA4ENijVYwjcXCWG517r9lZCRGuOpPmP6Go1EW1sE43a+LMuNSKi5R/kyjLEciVEtGMrgkukq3JTiUZB999/f0M5BrVw2iq/WPrbRdT307FkmfIdacR+lSGcbr/99hRpN4n2ezURvfPOO6eovLwETZmC4YfzgO/pU089lcapLS6VnYnPxcZeZkUtl77tRJxDXcOdA4ky56mYoHU2zvWCTIJv1QgR3QcOjcivyBT/N3FAPEgSHAqeeeaZ4rjjjksnd55zto5aH2xQHZFopRVNRKpFol08yyPRrRbRRCs7ALsIWCl041xnnXXS360ie+dVxzF2+aIr4fPPIlp0uZlItG6ZquVU4v95ksdGUtmxE4T4WWedlfINkCN9JqeVopewdRLLpyn3Kz9lZaHsOfz03WRd4cf23ZCM3OhFKkeiDz/88PSaPqNaIprIFokOET08MfEkyOS2oHJcBp2DYATL5QYbbFAccsghdc9jQ4nAHJubc7NVybBhdi6uM64rxpZr9uqrr977n48TIroOIofnn39+ElYuqASPcneDPfh5XImS008/PUVFRAH5MbspcasTGEoR7WQvyikSkduqs3HstNNOySLAOtKqqESjIlq0tZlIdD0RLcK87777ppMPoayufCUq36gvr3QlvGcJn5L1LHWWI6pkooFqpyrfC9WCiNqMCI8Tn+i7xNullloq2Wbq0aiI3mWXXdKqUESihy/XXnvt5FU+Y8n4IXqCzsPnotLWsssuW2y33XYdHYlmF3TeUHTAZD/b+EKGdSauTTSC62gt22yI6AYQjTATEQGWkEZAVCZqtZO8tCwizp+tcyQRTVy0SnSNFIZKRDvRS0YzdpR0zPj8RE15l51cW+WRG2oRLXJn0ldNRFsiF+nLFzv3lbDouLDbELOZ2WefPdldck31fLryu81FyXH1ON8NQjzfh/BRrccExQW2VknLTLMiOjzRwxMTubFjx6aoprFn1U+wonxcBp2FAAVrBKtep0Z3nT/lpzh3Cpg4LzlHhQTrbIwt1+gZZpih95YKiOigPj0zx9Jqq61W+t73vlc6/fTTS3/60596/9NeesRX6Xe/+12pR+SUpppqqtIqq6xSeuSRR0o9F/HeewTN0CO2Sj1isXTUUUeV3nvvvd5b/83bb79d2nvvvUszzjhjum+r6BFlpQsvvDCNH1+78q3npF/qEbulv/3tb733Hjjvv/9+qWcykJ6/R0T33vpxjj/++NJyyy1XOuOMM0o9wqH31tr8/e9/L/WI7tJ0002Xjl81ekR2aeGFFy71zNpLTz/9dO+tH6dnUljquaCkzTjuOUmVLr300tLMM89c6plEfOzYjB49unTPPfeUPvzww3QM8+PyZp/8fOmll0o9F6fSlFNO+bHHf+YznynNMssspSuvvDK9Tl/4/y233JL23+v63lXy5z//udQziS2tt956pUmTJvXeGgwn3njjjdIee+xR+upXv1rqmUin72WPgE7jNrbO3ep9v4camsE5efbZZy8dffTRaX9t1d5LbJ21+f7XIlJDG0Qd3SOPPDLNciUY3njjjR9bQm4XIl8TJ05METIJUyIjfKatruYQtJeek2WK4mr+U4lxpJ45e4P7DSY954CP/RwMJACyXNiMY5HoWp5T0Wb/872z5cflTSTHT98NnUCtEJU/l+P5+uuvp+i3qHUQ1MMqjrEisqlHAfucFSLjNrbO3WqdQzoFfmjnIeNKj4J83qv2XmLrrK2vFeIQ0Q3iIOq+yBM9evToVKeZb+7vf/977z1aD7/npEmTkr3Aa1omX2GFFZJoCLoH1gACmYXBpKgamp7wyQ3GxKwcIrX851DRl9+UwG/Ej8q7yv5RaUvxeA1gtN8Pgr4wVjQp4rPXkKmT/bVBd8EC5jykW3GljTDoXkJEN4GomQYLsrZzR8Z2ig/PLbFF8pKM3lVWWaWjM4+D6ujyJ5lOdMtFutqYIfCUPZJgN5gQp0T+YEai24XjqhRlte+ILpS2IKgHES3xV85Jp/prg+7jH//4R5qcEdAhoocPIaKbxIVatr9Sd0qeNJL1318Ujvca6hZrrGIZKOg+tJGWpCgSYVJULcFN8xWRaE10BisabSwT0JYZh4OIRrUJChxfTW6CoC98D3xfjRciOmxzQSsQrFDpS9KqFbMQ0cOHENH9xMW61gU7CDKiD6q7yMomjhdffPFUMaLaMrHol4i1C/hgYPzyDLMkNWKX6HS8F97yapYZgqhbW7gHgwMBbaJFRLPvRSQ6aBXOsVYbVXjhsx+qXhNB6wkRHQRthAeOTUPEF1YxlEXj3a1MVhCpILYrayW3E8J+OESi7b9l+JdeeqnqJISAJoqCoBYmkiw/RDRL0He/+92UVBQEA8U5lp1PIqGkwoF0aw06ixDRQdBGiGh1mvHNb34z1ZsUiVY/uVJEi1o/99xzydbRzoTVTI5Ed4OIrpd5rz60utjqfFcip0A3M6IoCGqRRbQxRERrIx2R6KAVCIyozDTddNMlm2YwfAgRHQRtIotiTUCIQFYOQtrFWdfLKaec8hOWIGLwgQceSFHVwcDyYicnFppoOHai9I6N8mPlG8Hz9NNPF+PHjy+uvPLKyVFoj3Gs11xzzZSUu+SSS7Y1fyHofohojXsIHsvtxE5Y9oJW4LxkhcM5yXk/GD6EiA6CNvHyyy8ngafihuU7XfMklBBziyyySOqcWFmukKB9+OGHUwR7sOhkPzSP6pNPPllcddVVxWWXXZaizbYrrrgibRdffHGq337cccclP7RJgWNMNOtIecwxx6QJSyyfBvUwdn7961+n74PydvVWP4KgUYhodg5JhVFha3gRIjoI2oTC+qptQMtQwi4nlKgVuvzyy6cyieXwKLNzPPPMM8lmMdIhjPfee+/USGWvvfaavGlnbjv00EOLG264IZWOymjHfc455xT7779/Meecc8aSfNAQORKdRXSl3SoI+kuORPNDh4geXsRZIgjaBBH9q1/9Ki0LL7HEEh8ra5RFdLVyd3zKItgvvPBCR0eJBwORmy222KLYaqut0s9qm4izGuqZSy+9tNh6662T+CawB7v2dtCdGCcq5CglGiI6aBWscu+9914KitSqYx90L3GWCIIWY1lYh0JeaCfOqaeeOono8rJ2sv5Vi1hwwQU/4ZEjnEWiieiRjkmGGuki0Tp27rPPPp/YRKQPOuig4ogjjkjHmHdaMieP9LHHHlscfPDBxUMPPTS5QkoQVGIFSAky5RGtFvGuhh86aAWabcndMJ4kN0e/h+FFiOggaDGaqqj37KIsmqWcHT90ZWIb8SwaLdpaDhHNEy2SrfV7Jyb9DZbAYMVwfEaNGpUqm2i9X7nNMcccKWlTAuFyyy2X/M+OocRDYvr8889P9o5HHnmk91kHRoir4YcJlsocvm/TTz99quXb6s9ZcmytlSWvbwUqGF7kKDQrhxVJzbZavcJh3NQaO17f9ShoHyGigxHFYAhS0ayf//zn6eQpoqU29EwzzZSiXSp22JzY/E0cuk8l/sfSQfj5fSD09Z6bPR75/rUe1+rj6/lcIBqJIlsmJaTnmWee3ls+wmrA1VdfnTaVFwa6j61+j8HQY3yZuLJ0mLTZWiV2jDmTuZtuuql49tlnJ1eQcQ4g3H3H77jjjvRTYqPJn9WsYHjAImQC1er60MaPMasb7n333ZcqOuXJmNe0GiqY43+S3K3QhaBuPSGigxFFFkB+1hJD5fdpFicpNg4nLmJZFFpUy0Xy3nvvLe65557005aFttqhPNKViGQ/9thj/T7x9bX/5e+//PdG6Ov++X+2wfZzs8iI7ItYV+LiohELEdOIQKn1Hstvq/b/oDsxPghaIoeAblW7b/Xer7322mLHHXcsjj/++GKHHXZI1WVUarDSdOCBBxbrrLNO8u8fcMABaRJo1YTgCbof5wj1oQVWXAcqqzH1F9cWVYt+/OMfp3yRTTbZJNndXHteffXVYuzYscV2221XbLPNNsUhhxySbG/nnntuEtODfV4e7oSIDkYUeYnWz1rLteX3aRZVIvhvc7MU3Qr5dXfZZZe07brrrpN/t7lo3nrrrZOjU+VYAiTGRaf6E5nqa//L33/57/XI9611//L/1bpPOyGkedCr+Q5NWPjMG1k2r/Uey28bivcXtAcTVd8zy+1EdCs+WwLqtttuS8Jm3XXXTQJalHnChAnpnHDeeeelhFgrJIS2muYmeSbYg9m1NGgvzjt80ZJVWzU5M1bPOuusZF876qijUvMuQRnBmpNPPjmVZ1T28/rrry9OOOGEJLpvv/324sUXX4zJf4sJER2MKNotfFwkCV8WDNU4+ODYCdQ7tvm9/G8XS17paaaZJv0s3z8nu7fffjsJcfftL32951Yfj/x87T7OfSGaWK2xiuheriU9EIbyvQXtIYto31kiuhX4nqsO43nXWGONlFRG3KgDr4zlrLPOWqy00kop6ZgF6Xvf+176zlsxsRQ/GF1Lg/ZSHolm6WuFiHZt0cTr7rvvTonpVt9YRaxuTJo0KdkDV1555SSw55tvvjS2rHQac8ZViOjWEiI6CGrQ7MnGkrCZvhMVoaa9t2Vc9Yr322+/mpultvXXXz9dZCt9mLx0IlMiGUFj1Eq0cRuxNNCLSFyEhhc+T98zm2hhK0S077+VJCtMasR7XjWoea5N8CTCbrjhhimJMeP8IWJIPHtcIysmQWfjfCMSbeLNztEKEW1S5hpjTKkkQ6ALELh2WElhDxo9enTvvT9KVDeWBGLsS5y/WkuI6CBoEaKcotAy/LHiiisWu+++eyrBVt4opHJTvu1HP/pR6qxX2RjExVRS0uuvvz7gCOpIwDFyoahmj9HYhmhpdXZ80N2IGPt+ERqiw0RvKyCY2TWIGgJZ2UqCR6WeTTfdtJhlllk+tqrBCub/hJb/RT3h7oZ4ldciyY/FrFWRaOc25zLXDKJZ4IYPWjTabfJwyiGeRamNNSVAYyWttcTVJAhahKQNyUJOUrPNNluKBihjZwmXV7fW5v8zzzxzurhWSzxhEZGQ6EQ4XKl3Ym/kxO+ixVMqY71atIVlRrODaOcclENkSCo0ZqwGsWANFGNMt0zdM9k1RAotwYtMGoPlEegcCRepJuSJodzZNOhenI/Uh/bZOvfYWiFglfXceeed00oG65rgDdsfQc26UW5lI7gffPDBZCkh4CWxh4huLSGig6CfZKHmJ2+zShqSiAhhUWUXw/z/WvifTQRaFMxGWJdjeff+++9PJ2Tkx/T1vJ1M+f7n9+DE3sj7qXysC5VNBNoKwDXXXJMEUSUa24gI8qa2IhoUDB98d3232Dg092mVyDDOJLj6PhPRopLEtWX98uRF41gkXHdTkUI2sIhCdz/OScStz5dPufK83l+MK+ODgDZ2eehzJajKhGo2QB58P03q3KfRc23QGCGig6AfiC4Qa/xpLo4sFyLRlm2J6CWXXDJFnUSXRAGqnbScZP3fBdRF3H0khFSWu/OcPHBEen49Pz2uG7P4HTvLj/m98I4SwC4ylQKG6LC5T37feXvttddSbV31dy+++OJUQoyIZucoh31DdQQtwlsVDQqGD6J1xpcIcWX30FYg0m2sOh94fq9TvuJkEkgI2Xz3+aWJJOcHW9Cd+Fyds5x/WDlabSMzNqy6WaE0XgjkSqFubCuFJxBjZXTeeedN1xnj3XUlGDghooOgSZwcRYa1lD7ppJPSprar5Vo4ORF3SlgpP3TVVVdVFW6WbjVUUdPz6KOPLi666KIkqqs1V3EhVgpL2aITTzwxlTEaN25cinR0GyYMqhY4bt4L8XvLLbekaEmlaCCIJ06cWJxyyimpVFM+3uWb220+A9G8fPxctHhLLalvvvnmKREnCCoxESVEWCzaIaLZsSy5G5cqcFihKj8fENfOAyblbBwLL7xwiijefPPNxY033th7r6DbyCLaZ231odUi2vXDyqfxxcfvXFdpVdOARcBB1Nq4EhFXpcO1hgc/GDghooOgSczklZ278MILk3BTxF5pIScsJytC8IILLijOPPPMdLKqdSF0knXhFD3VmtrzXHnllSlqwNdWvolcPfHEE+l53Y9Ad99u9EmLOvPp5fd89tlnF3feeWdKqqp830R0vo/3XL45/qLQIvSOIzEikudC4YKy2GKLpbrcJhy8grGEGVTDeDTOWCwkbLUak0OTY2JKybFyPzRhLTFMLoXxKzfC+PW78X3dddf13jPoNgRTnJ/ZL0SiKwXuQHGdMXaIaGPKBK08Eu12OSISZ427RRZZJCW76kvgfNuNq5idSIjoIGgSF0MJSLyLvM/aeueflmIlEvnd5sRlCa0WPJCW2fJjPI/fq235/zavI0mk1SfmwcA+Eyz5PdmWWWaZZIGpfM9uy/ep3PKxsOW/N9poo9S5i+i+9NJLi2233Xayz7U8+hcEEM0z+SVarVRUa9IzUHLSIIHju+57m/H6rB4Ej4RGkz/+VqtOJoS+A0H3YcJu8uRzZSFrRySaSCeiBR+IaPk05dcD447dw3lPPWn7YcWDDXC99dZLiYjBwPlUz4cd4ZlgxGC5f4EFFkjtUrfffvvUXKEcVoNTTz01XcTuuuuuVGWjEl8ZZYucIOudGEWbRbdEIirxP8/Dt9as99E+eAx/ZbVqAvZNe2Hl9fi1F1pood7//BsRWpFyUYrTTjstic2+cHHXFWvLLbdMpZR0XauEzYWIdTIXiddJq5Jc15RwaSUuFiYljjcxVK3SSV84njp+HX744ekCpdtcedQQ9l1mvAgim8haa63V+5+gG5GvcPrppydPvUmXBhWtSgDL5O8hq8b48eOToMn4DjzwwAPFmDFjUkTcJJC48ZiNN944tW0OsdN9+Fyttu20007Fqquums61leVLB4JrR+6Eya6hVOoxxxzzMRFtbFvFY5nTGlzgQpKhFT72OJPGCCwMnIhEB0E/EE2aa665ijnmmKPPzX2qCWgQ4EQaoV7tsX1tMq1ZFFpRjmuwsc8i+dXe10A2y5kmFSIuzQroYORhIsoXauJs0sVX2moBDaJl1KhRScgYn+VY6hedtmJi1UpUnJhWvkwlmRDQ3YlJuNUHk3ritdUrhlYw5MkYt2uvvXYaK5UBHZM2t2+33XZJaItKW/HbZZddPuHLD/pPiOggaJKRfPKJE28wnLASZCNW22HlgLq+u+22W4oym+CV4/tE7OSoM0uSJk2Ejolh0J1YtSOijavK1axWkC1xOuJq1iVpsPLcbELISigvRHt5EXETOW3CWy3qRzIhooMgaDjprpn7NXrfIBgqLHnzjooQt6t+uJWmNddcM71GrUg3sUXoEDn8/VZrYsLavYhES3bma7fC0erPkgi2wrnDDjuk3JxaY9d445U2KROxjiY+rSdEdDCiGEnCrpH32qzYzfdv5KLQzPN2I8P9/Q13fH5EtAQwArddFiDfFaKnr+9Mvg/R0+oEtGDwEYkmouWZtKqNfCV5zNQbL+5nXNUbg0H/iG9rMKIYSSeRRt6r++StEfJ96wlI9xnuYqDRYxZ0JhJJiWhlvyRZtSsSHYw8+JU1NJG4zs4R54rhS4joIBimNBIpdZ+8tRLZ461+zsHAftv6Ik8iuvH9BR/hsxOBJqJFoInoVlZPCEYurByarKjPrLRdWCiGNyGig2CY0kj0wxKf6gGtipQQJ55L0xnP3W0QVCKSIZCHNyZKKhaohpGrxUQkemixIqBsmwYzSm9eccUVqczoyy+/nBpQdQuamLBySFRVxSnsOUOP0qQPPfRQMWHChFTKUhdc5Vglfw601Gp8usGIpK9IqWVeJYS6nRxR7et9Eo0iJY0KXs/l2NSK1vq/zTJmt5WZI/6nnnrqlAzUF96/Y1fruAadj/GrZb4Sdz5vJb9qJf0F7cd3Snc94lkr/yOOOKI46qijiqOPPjrVsFe/3eeVW/p3Mur+K5toTH3pS1/qvTUYCnzPVd/RoVGX2xNOOCHV0za+9ANwGzEtubi/hIgORhSEkshrrSQLt7mYikpV+383IQIiIlzrfbhdFE6b4UZFtMdY9u7r/l5Topaf3YT3RlBZguVjrBVBMjYiAay7MQmy5G7pndhpZMLngixqJWmsUzb74710MwT0M888U1x11VWpGdamm26ampOoKOG7dv7556ffCaBXXnml4yevRDTB7xzSaBt547Da5ztUm/3p9nEFAlrUWeOvKaecMjVZO/bYY4v1118/ff+PP/74VCJQs6X+TtCiY2EworBkaFlHe13isdIH6eRhmfe3v/1tqr2pWH434sLkPTz22GPFCius8In6tLCUpbGDk70SW/WEtFOF++uw5vhp+FKJGb2lTNFtz9tt0Wii5NVXX03v0+dfuf8uLN6fYyHzvtpxDTof54GDDz44daXUAvmAAw6o+133uYuU6gZavhLju9bshLv8slv+WLf729bIJM2kjyDQhbUbcRyJGSJZybZDDjkkBTmypcq5Wte9SZMmpc9Hl1SNacpbp3cazo8HHnhgaqKz++67pxJzfeGaQ+SZSJSPQecax6fRsVVrTJVjTNUbV8bzd77znXTdUD6vWzEZYN/46U9/mjrsrrzyyum65NiY6OgoeeihhxYvvfRSqqe93377pVKUzdaLDxEdjDjyhaovGrlPp+M9OJEQgq2MmhKanm+4JmK5eNnCIzt8UT1hiy22KF588cVin332KTbffPO6E75f/vKXqb2yn6JWzg8uuMQfUV4Zyap2DsmX21rnFrcTTjyctizW3e47Z6Jb/l32uxbOWtB3Cs4Pr7/+evKbK+/m+NQSJu5LKGsa4j4sHKutttrk98hfrAW6Vvv4wQ9+kFqkL7vssunvTuSWW25JkwLvaeutt65b4s4xMIkTiZeM6L373HVgZQcxtpyPao2Zani8sZaFeB5Hjucf/vCHJJQzxlT5uDKOrc6YnLE9tJrBuray1Jx99tlpVUM7fxFoE5uM46ou+9VXX50mL7o7nn766cmK2AwhooMgCIIRg0ueqhxEgoS14447LrVDrjcpFDE944wzirFjx6aVCnjM7LPPnlp26yDn73xJzT/LBUO121B+O8Hj+d97770keAgfkTP77PYsiDImASKf9bz8gwVLhugx64UueT/84Q/TsakmnIjGm266qTjssMPS/XVrlPhVXhZOxHCDDTZI718VFSLaEnwnQpyOGzcufSannnpqanBSzxftMZIpCTgTioxkV6thVvya9VYbT8YJEe35/e54mpg5jlZT/G4yaZzJDSgfVwT1EkssUVxzzTWTo7etxGvahyzcm8Xj2AXlsLBpVMME2TFl1fDerDzpHGoFEY6NlQ1j1bFg47PiMc888zS1XyGigyAIghGD5fMnnnii2GmnndKy9YknnpjsSfXsTC7Er732WrH33nsXP/vZz5IAhAuu5DfRYBf1VuEiz9PJRmJ75JFHip///OfJbuQ9ZJZccslkG2BLGWocE4LQ8jnhLxq75557pq6N1YSYaCBLjYnMc889l0TjWWedlYRj/jzeeOON9BwqdXjfRLTPrBMhUFkz2H6uvPLKJEQbEWSOwznnnJOEtwhqZpVVVkmWg1baKoxjkzN2Pt7txx9/vLj33nvTJMZnlhGNlngn6t9KWyPJee211xY333zz5GRex6h8fLhP+ZZxH39bJWRB1BpfxF70mP9cjk/Gd9WE12chus5rr8PjqFGj0v8dB/833qwuWQmxGqAtOktRo3y6ZwZ4WO/vQRAEQTCsYXEiSIk3y7sbbbRRiiDXi7b5v6iXKCn/KrtCvl0kTwRLNKtVEBYikHI35pprriSoPL9oNIGQxQVhyTIhmj7U/OIXvyguu+yyJEpA5PBrl0eWy/EeiR/RdhMaEefFF1/8Y1YqeRZ33313inCbpPDqEqedCMF/++23p7FhAkHoNYLxJ0JKTMtjyRC1/qclfKvwORCMVgcIUMfSSorxpJwgewlMYnw2Cy64YEurjHgdyX4E+lNPPZXGjO+Tze9PP/102vLf1TaPs0Jxww03JEF+3333pYg7gex4ISeJ+84utNBCyb4199xzTx6H9sOERVUYeVDsXCbWzX6HQ0QHQRAEIwbRUlFNF2MCgl+ykWghCAsROhdg9g6RYr+L7GUvqa2VuOjbPxs7AyFgqZ+YJt4JUCKH+PSzmlgdDIivG2+8Mdkx7JP9mHnmmZOItt/V9st7IuiIbZ+F91Yp2Bxby+x81iLaJhM5mthpiKZbLSDI2IWaWZkg+kRSRbOJceOKqNYUiDAUnc8CsRX4PGyeUyRXcp2JoL9ZLbwuuxOPerM+4b7wmiZMnnettdZKUXZRYWPZ+3XsJPhZWeFZFj3eeuuti0022ST5lkXGrb44HlZlPM4xE1EnrI0jx93rGEsmCiYCJqPlZSy9pgmPc4HJijHodZq1RYWIDoIgCEYM/I+iV4QCAe0CW03g1cKFWAlHEWCZ/XylrBd5Gd5Fmxhq5jkbhcBRmYL9hKDUWtrrElz5tnKhMJg8+uijqUGKKCEIZBMKUUCiv9bxMDERLSR8KstiOsbEEV8rkU6YEl7Z19ppWOFQnYNIJPabieA6XvzHPl+RfJMHQs9kie3CMXQ8WymkM147Nx0iJglZkX8Vnnw/3F4v8bYZfNaOke+K6iWizqLgRDTrCDHLT04Qu4/7mpD53WayZfM8JrOEtMmx7wMR7Lvg2Odoui3bgzImCBdeeGHyoRt/G2+8cbJyNFuatX+u7iAIgiDoQggzflAXW5UT+iN22RNc5G1ZXBA9IrGqSRA+hG07IHi8vkoVqlaI9HptUTjvbSgwIeGF5jXPIs/7N8HI3vH+YJn91ltvTeKImJOoWK9k3FCSk/b620aegBNlNVkQOQWbAsvBBRdckGwOhHW7sCow33zzFdttt12yOflumBgQqu3A83tNlp3sx+ZHFmWuJtzzhEtkXEKv/SS08/1YtayEZDtRLRxTiYdWDrDoooum7zKx3SwhooMgCIIRgwiUyJ5oZr3yY33Bp2y5mbjLHl7i/JJLLklL+qJq7caSNx8xwSYSPBDB2l/YWLxfXeEISNFUQh8DEdGi+7yuEtB4i7fZZps0YWhHhL8VELeqTljp4FHvb4lMQnrLLbdM9pyc0Oe5WVpMVNha2g0BqwKKnAERYt+XduF4sa/kCaDPWrS5kUmI7zALigi9cWHM+A7a+prE+pxMeE12HWeWESsm/Zn4hIgOgiAIRgQiUKKahJ1In4jWQESZpW9io9wzyl6h0gK/ZjujhhkXf+KSuOLzFo0bTAhltXbZSET3CRTvm4jhjXasm43Ku/+4ceNSSUHPxXXKJ9usX3WwsL+iqd67qCi7T39FtAmIpD+JcEsttVTvrR9x/fXXJ/GXk//aCXvHOuusk3z/bB3twFg1Zo0hiDKbnPrZCI470V3Z9IqfmzivNu58T7T8VglFFFtreSsc/SVEdBAEQTAiIOhcREW9RAsH2vnO8i9fNQ9nXn4ncPh4+S1V0Wg3lt/33Xff1NKY4BwMgZUhVgg7Jf8k+9mX8omDJfoskBrFZ6NhiRq/orInnXRSsjcQSp0ahSbWRGvZOQhA/t3+imgQ0mwdfLrlDULYKvj5bSaE7ST7hDUY8rvobqshollVTLZAuDeTQOm4+05bXcqwg7DTVEuyJazZg0xERJ+VSzQJHdBn1fszCIIgCIY1BB0x4CJtCbjZJKJKXKQtKYsarr766pOrMbhYE5c2wqqd8JTydNoHUbxmatwOFMlnWitb/tdUZcMNN0zL67yrBE6zdg4WGOXsCGhCSL1pz8siQpxLQHvhhRd67905ZBHtc7evViaypaW/GJtaVftcRVuNtXwMROn5oyu7ZLYSn6HviOPPstTKWtGZShFtLJvcViYB1sJxV05QToDfrYbk6jWVz2FyJvHVqon3tP3226cJCgHN1mEiKCpeXiu7EUJEB0EQBCMCF2vRPMKX2GkVqgEowaWGcY5+sY0QmDy97RQ7IB5yi+1WVlHoC/7nhx9+OCVoiViKyFseZ0HIFUK8b0KawKmHyKrERA0w3F/rbA0y8qSAGNdBT1myToO4Na4ItVZW0LBSwsZCTJcnz6kooWJJrlXeTnxXVMdoZZm7jM/0+eefn7xaQair09zIBMQYMV5Ug1GdA/bRqgURXY7JmeY3JrW+J9qs813n76qJ9fnnn59sK42M1XJCRAdBEAQjAiLahZL1opnyY40gQSlHYrMIUCVg4sSJxZNPPtl2IT3YqNogmZBgIfJE4QmQ8kg4cUkolVs8quH/ooCS5/iKiRx2Brc7biwqvLkakSgr2GnYT5VERD9ZOQYahS6HKFeFQlWS/LyOqUYjJjE5itttOGYmASYfeXwQ7N5nI5FotiydLu+5556UUMgvz9ss2bbcpuVYSXy1uiGizw/tmBpXJm4EtvwFY0uOA0tJM4SIDoIgCEYElmotu7uINnuxrIcL/2KLLZbaf1uWBlFp2V3ZO0v9wwUWlTvuuCPZOUwcJMKBgHZcy0Ukv2pf0WgCyDEaP358igjutttuSVSZeCjbRyja3IfFYSAVVdqF95bLwDUaSW0Ux5RvVzlDdcDh9VgYrHR04qSiEVgorGL4/OE74/3V6m4JoteEiqXn5JNPTuPD33ITTOS0SC8fHwSyut0nnHBCWiWyYmKFSCTfmPLz/vvvTy3PPa4/KwjRbCUIgiAY9hAehJmkLG2U+YhbHY12MRcRk3CXExiJSIJBcpYo22B6ltuFxKx77703RV333nvv9J4JHyJHMiVfc468q+crSi9SXSmO3F8UUJRQ+TYiWkk1EW5t2Vk38ibiCO3N559//vR7p2CCxIbCX6veMFtNK4U0ccdSkceVSQnxKZLr2LMTtXpS2G6IWUl+LBnGgcmHSHJuQW4i5WfevGei+aqrriouuuiiZJPy/RI95m/eddddPzGBIdLPPPPMJJRNcryWcVU5tohy3015Dc3Wig4RHQRBEAx7LHsTfi7EIlLaHA8kK78aRCJRI6qVO74RO0SW6C0hpPxZqzyzgw1h432deOKJKQIo6U2UNItjP4k81TWyiPaeReirJduZYGi7rJIJQehv4sqxYuso33iwPYcJEOHUKfh8vWdJa5Ih1e3Ok4pWwi/M7qCUHh+xz8Jn4LgQ0Llld7fgmBHEakR7Lzbvha2HuC4Xu/5m9TEBZpHiDzemrIKwbxC/xln5MWevsbphI8AdN9/HyrHFT23c8fPz9TebQBkiOgiCIBj2sHG4IBOBO+64Y/LytlrogFAkoj03geCiLZLG02t5WbSM2GrHa7cbdhgJbYQvEaMBSrnoYGlxnIkdUUJ4r4S2yUOl11UEkmh2fBwz5c1ya+fKTaSQyPn+97+flvw7Be+Tn1ZkVIRcp79GPL39wfv23G+++ebkJDjC07hynJupbDHUqDJiLGWbk4mHSS1rhfeXN98hP02yfIccb55n42/ppZdO48HkohL3typiYmE1xMSr1rhSfYTdw32anVh/qudDaC4VMQiCIAi6DB5INYfZB1gHsr+0HbisWnrn2xRlFfECwWnpWem2don4dpHF4k477ZSEh/ew/PLL9/7331g615I8J7xZnlfH2m2VlUMcp5zgJRLZ1/FwX1U/iKJOEore53nnnVecffbZaVJx8MEH9/6nPYicKtN2yCGHJF802JJEYzUOabUnux0YS9qY77777ulzh4mtBMpazYKMDf5vViJjjId64YUXLtZYY41k8TGJyJF4Y8XzGlvZc90XnjuPrWa/kxGJDoIgCIY9/NCy9EXzlA1rp4fUhZhg5AMmoHkuXdiJRZFDVQI0JumWqCFE9QhFAob4IYqr2QdEC0Vlc71dTVJYZzRjyaXvMo6TY+B5RADrbR7faQKRVcCkjKAl5nSPbCfEo/KMLAhWVfwkSr2+4yma32qvf6vhT+Z716re98J7UiJyrbXWSisSEn+rbd6byLPvrpbwJsQmxyas7BzGmvHhOPhpvFQbR5Vbnpg1K6DR2dOVIAiCIGgBxJ2LrQiwC2e7cREnHPk2Jda5UBMMlqf5O4kAntZugPDnTyWOVUFQfs4xNCnIkWSbqJ/ELBOVLJhZDSRW5ojjcIOA9ZkScINlM2HbELn1OWQ7DfsCX7akTse7U/Ed0BqfRQO+J5oEiaATseXitnIjtlkz+OIJamPO+1b/+bLLLksTmsEmRHQQBEEw7OFNFq1zsR6sChku/ISOpiE58k1MEjosAGrYdgO6yhH+JiIE4/HHH5+qcuy5556pLXTe3KYOr/vkZXTv0eRluIpo9gOCkIgeaBv5RiE8iUnjipjMSKZTPzoL1E6Fn1slFoI6i2iR5kZR511EunwCYZVJZNqkZjAJER0EQRAMawgdIpqQs+xL3A4WEqYs8y+77LIpSivapspEThLrdHIUWkUIx06UU4KmqOfEiRPTpsqCzW3q8nqfORLNbsDaQTANNa3eB+Mpr3CwIbDpDBbEJ0/6aqutlkQlTA4d+2o2m07BZ5ATBuF9SOjLtcYbwfusXFHiFZeUONirOyGigyAIgo7DxbBWklEzEDoqRvAm8yirbTxYrbEzBLPKEqLRopUaihx55JGpdnQnw6qh0oZqHETiHnvsUYwZM6b48Y9/nLoKVttEo9dZZ53Jvlyfo2h0J4hoExiRSpHLVogt9gHRT8fJCkc7WmP3hQkaD3auS632ueQ8UepOxBgwoXLMTMb8bbKlznUzbfg9jpWjHLf5HAZ7nIWIDoIgCDoKF0KZ+GwElRfLZvFcWUQTsZaNBzMC7PUJBsmFPJ28rNtuu23V5iOdBDuGZELdFv2u8oSNSKu1qdyh2YhIYRYzxKoKFs2IG2LIBGqgn301jAV2lBwJHQgEoeQ+x0cJP5/vYOLYqn0uuU40VzUY1VA6NRLtOBHQuVqN76GIcrPfSZOyyqiz75MEVl0ta2EMGltWR1plLwoRHQRBEHQULnbqyLIGSExrRoBV4rG8olnoDLbAYCMZN25cquCw1FJLJZGZ60h3MoSKpinEpjrPKiewCthEmattBIyfltnz+3P8m4lEixTztyqBpi1zq8ivbxxIbGvFKocax7y9Pk+e6MGECDzttNOShUad43PPPTcJ6U62cmQRzQIDK0L80ARwMxDBzg9+wntWdpEg7+v9s91YVTn11FPTOaEVQjpEdBAEQdAxEDt8uEqpEVGSkAZysfN8Smr5ydNr2Xuw0CWNV1jlAEvu66+/fhI63QDfqn3n8+XnZldoBMdZJLr8OBM7jUSViW3tvdXzPuqoo5KIz0JpoBD1hNOECROSnaMViER7Tp+tycNgYQJw5ZVXFuecc06qjyzBU/ORThbQIKKtbmQRbZwQ0c3Ymhxv7117eFFlaJqi5GJf3QaNP+PpoIMOShM0E6k8sRoIIaKDIAiCjkEk0vL0448/nloDDzRi5LGW8ImowezoRhAqCacxBkG58847p4oCg5nU2F8kaYnYabGsPB+LQKOTD8eXmCm/P9HHP1xPtBBFlvq1fjYOPBfh1SpefPHFZE8RPRaVHChsKiZohOxgiWiTip/97GfFKaeckkQze5C654M5Oewv9t1nUC6iR48e3bCI9njNVjQwys18eKklV6644op9freIaJYq9huJmDnJd6CEiA6CIAg6BmKLgCOeeR5FjAYipAgzkUeCIydgtRsCUHe/8ePHJ7FGQEu26/REQiKXRYGN5pprrkliWAUIyZiNQsgQlOXH2fGwulBvMmRZf9VVV03WEQ1dNthggyR2WgEhbxx4f8aYiGhuCNMfHCufrfc1WJFoQvCRRx5JEWg2Gx50HftadYzaie+w77QIcvYyG19zzz13nxFkx9mE1MROlRg1oXMUmX1ovfXWKzbeeOOU1NmXKJbASLDvsMMOqQyj6HUrzgUhooMgCIKOQKSJ+BRpc+H097vvvtvvSLTHiWy6AEsqHAwR7TVZIXT344feaKONUiLhYCedNQoxYqJB6IqqnnnmmcVPfvKT4umnn04+31x6rK+JjPdM4Hke0WPipvw4+5/PM9/HT69bDWLoxBNPLPbbb79innnm6b11YNi/p556KokwFptsK8hts/uDZFFC1vtgE2r35+t1RFLHjh2brE5bb711sgfxY3cqPmfjymbCYoUhR5Ax7bTTpuNmTNTafF4qxKgIo/KLJkXEsklxrsEuobBeVJmI/uEPf1gcccQRxRJLLJGi4K3gUz0fzMBNIUEQBEEwQAjm4447LnmIRfks1er4d+yxx/Yr0ifiRXDsuuuu6cJ5xhlntF3sWKq2v7feemu6aIt8SXhqxdJxo7isN/p6zz33XGr8wnvu+IsWmnQQnoTK0ksvnTovLrzwwsXqq6/+iagnofTggw8m/7qKCaK97DMEJhEEoloUkNghZkQBLb+LcA+GvcZkjDD3+YscE1Ci3fvuu2+/23SLqP70pz9NdbLvuOOOdHza+RmbkCmL6LUkeh5zzDGDtrLSH4jmiy++OE3GHH+TWePCZszAJM1EwHeycpLmfRHQrDfGkjFpNcGYNB5F4FdZZZU00eorkt1uIhIdBEEQDDmiVTy4d955Z1pyh4uvi2d/7Rwu1nzVBKFazX2Vv2oFhIJqCTfddFNK9Fp33XWTUGy3gDbhkJBHYPm90ddT+UR00GOzCDbxIG4kFIrei37yoVohIGAqcYzzc1hBEPEl+FgzRJU9D5Hkc1COzeRCpJ6QLd9P4tbnbx9aUTkjY/80ilEu0bFBthbkv/uD92jSkTsVtvMz9j0wrnxGRKM644MloJ988slkIfFeG8XkyeetyorPnD0oH/88LkyQjSeTXN95XTzLN5Yu48n4YxGST7DJJpukxMBDDjkklVs0magnoPPnL8/C2CqPhLeCiEQHQRAEQ45ok6x5UWjRTEKHSFAWznJuf0qIWXIXFdZhj6XiRz/6UdvEDuFP6Cg1xvvMdyn63e5EQq+r6oCKBYT7lltu2fASv0gfcUHIOC6Voow8MAEh4kSR1YKuxOSHyBbRZtkQac7HOMsLf3seG5Gug6NIIhHlcyawJJKKOvqbYPK5t6IDIP/z6aefnt4jYWezP4ScEnF81/1B5RLP6/P1ubfLVmFCwcJw8MEHp+8AHzR/fbvxObC8iN5rhmJVpdEKLT5j4pcQNtlwjBzzPC5gbOStGvl2ky2TFCXsTByUqWw08mzcKoVnUmuFiDWJBYTPv2UrID07GgRBEARDRo+4Kt1www2lFVZYodQjdks9gsQVNG1zzz13qedC3HvP5ui5cJZ6RFJp2WWXLfWInvQ67aBHSJZ6xH9p4YUXLn33u98t9Vy0S3/72996/9teegRsafHFFy9NO+20pQceeCDty0BxnMq3Zqi8f1/P47aeCVNp++23L/WI5tIqq6xSmnrqqUs9gql08803l3qEXO89+4fn/81vfpPG1SabbFLafPPNSz0iP42rHgFfOvvss6vuVyP0CPDSXHPNlfb9gw8+6L21tfzrX/8qPfbYY6Ue0ZeOyYUXXljqmRT0/re9vPvuu6W99947ff/GjRvXe2vrqDUmKunv52PsPPHEE6VNN900jSvfzZ5JQGmzzTYr9Uyue+81cMLOEQRBEAwZPdeh5JMULZbYxgLBepERTRKZ7rmY9t7SOKKkvL4ieCKP7cB+WXbWwEHU88ADD0yRrnZbRyDSnpfaRaHnnHPOqpaLZslRw8roYSNU3r+v57H/fLOQSMjzq462aDHrgs99IFi6ZydgFTGmjIG8H8ad6GR/m/l4TpF3dp1WHPNq8BOrmS2KzsKhlFu7Pf0QSbaywKJjTPH0t5paY6KSRu5Tic9Tx1OJpL77oulbbbVVWmlhPbLy4dzQCkJEB0EQBEOGCx4PpIv2csstly7all3zxdPFzjI/Md0sPJhEtCoA7fCt8n5aLpYMSXhsvvnmKVGqVZn/feG1VWpgdSEOLFMPxuu2Ep+PyRPhLIHRMfR5eR+zzTbbgO0cRLJSfawoK620UvLhZow7HnZ2g2Yh/k380C4RzcerwgsvOgGtFrQx3G5833iUtUZX03n++edv2MbRKeSJ7aOPPppKJtp/1iX5FWwchHWr7BwhooMgCIIhge+SF5qnlvdTS2yJR0R0rsZBWElEazbZzP2Jb9FIz9fqSDQRJlGJB1oDByJHuS1+6FaL9UqIT55c3fe8NnFIhLbbf91KfK5WHowB1ToIH/5sQoeA5sMdyPvxuYtmazO9wgorJH+6yVQWTwMR0ZISRclFhe1nK0W0/TKRUAvaKsOiiy6afNC8wO0eVz4T/nq5CSqueF/zzTffoIj3VuH4WRGySuCYqb5iTEl4NRFXjtD5IER0EARB0NUQTpbFXfREi2Tbu7h94xvfSJUhIDJGtDQbiSaiJEbBxbQ/iYl9YZ80fpg0aVKx8sorpyi0znXthHi2FE1AK6+mmgVhZbld2S9Jfd2CqglEsomT1s+W361IGBOEz0A/LyXWHC8JaSLRBK8JWrnNJotowqsZTM6MW/tIlLXyuHteybW6XXpuUWiTinZV4vDefVdMCJXrO+uss9LqgNsXXHDBFGnvpnEF5wxjSHlMk1pJqyL7X/7yl9PtrWxOEyI6CIIgGBJEughnFSXUfBV9ziKa4EEW0c1GoglzEWyZ/PywrYziEfREzrhx45JA1whi9tln7/1vaxChZdkQHczv5brrriv233//YsyYMclGQohqYUwkdpuVg6gVZfVeHEMiRzm1z33uc0noDNTKYQypvLH11ltPXoUgqEx0iEIikd2j2Ui0xxmPIp0itK2sUcwmYiKhaoj9FIEWQW8lJil5XOXVAGP50EMPTdVX+KD9n+C0upIns92C77mxIy9BFRjfHdYO0X0rHup5tyoKjRDRQRAEwZDhgiaZUGc/4sbfhGF5JJrloz+RaL5VYqTV7bbZKCy3iw5KKPQaxBXhW74RuQSJLf9t8zsxYyu/f76PCKoSYcSN15GsKNKtRi5BUH4sLLcrCdeN5ImN5XYRdiLS5IkPt9y/3F9MniTjZUFuTBHXWURlEe2zaxT3JchMAFtpsfDZP/HEE0lAmxDpzqe5TeX4yFv5uLL1Nbbc7u8cceZ55qfXmdIkQ7Sbpcp3LWOSo8xgq787g4XPxWfFdiMxUwKpyaboeiuj+lEnOgiCIOgYXPQt7R9wwAFJREJULHdqaxR+0n322ScJcuKT3WGgEBlqzrJS8CLnyJboKapdTt2WhVb+PV/giSARdhFBPz2/n0SyCBrRI+LpJ2FNDFXiOBHZrVyiHkx83vyqOvCppkA46qDIMiFKyk6g22ErkChn0nP55ZcnUQXRV772RqOTxKiVEx0L/dx5551bEtl0DLRcJ2b5rI0rHu5yYVtOHmvlIt5tBKJxYgzlceWn5/GejafysWVc+X8lXl+d524V0TApk3jr++EzUv3FZJ0Nynuee+65Bz5Z6znoQRAEQdAx/OUvf0n1XF2ibFNMMUWqh9wjDnrvUZ/bb7891Wzea6+9Sm+88Ubvrf2nR3iUeoR8adFFF021hj//+c+XegR6qUfgl6aaaqpSj9hoeMv3/+IXv5jqFef32ezmsT0CsHcPu5MeMVPqEbalmWaaqTT99NOXTj755FQb+IQTTihttdVWpVtuuaXftYIrefvtt0uHH354Ovb5GK699tqlP/7xj733qI/7Lr300qUll1wy1QPvmQT0/qd/eLzxOWbMmFQju0cEl6abbrpU97t8zDS6GVu+L5/97GdLPQL7Y+Ol0c1z9EwOBvzehprXXnut1DNJKn3hC18orbHGGqWeiUoaA/vvv3/pkEMOKb3yyiu99+w/YecIgiAIOgo+0/LEMtFKkV9JV43g/pLGlLUSiW5FlFZUS4KSCJ4kSJskNZEsnlv+2Ea3fH/7JnmMn1pUW6k3mzJ/1TYJeLb8+7LLLpse382I7LJyvPPOO+l4KNUnOioyK2LKftEq2DlYb8ojxz5Pth9jph7uI0LOImB1xBgojwT3B++fH5zPmpXFWLCfxn/luGlkM7ZUn7BvEhKNqzy2KsdT+ZbHlkRMfmLJsgN9b0ONcSR3wDHmLdfx0GqEVSpJrXkFaSCEnSMIgiDoKIgVdWo1mnAhdMHbfvvt09K5C309+FzV2NWW+aKLLkq1Ygfa/CQLOwxUXJRfdms9V+Xt/i6/ze+OE9HVSqE52LAbsKT4nJTpY+VQ8eSGG25IQm6PPfZomYfVcZe4pxQhHzbYFiTVKYNXr6SefbVfbELalqsPPuUA7Q55EsGfTdzXGg+tonIMZfLvjlGebLSi7fpQosThZpttls4HkoB9V3jBVe3hPWebGejxbpmItpMUvgQQ3ZOccHLyg5OXWZvZkVI8Zj3lHamCIAiCIENY6GR38sknJ+8pcbHiiiumyhSSnerB88i3zFMtiUry3UAvlgQrH2Urk5Jq0ei+unxLcGuFJ3eo4N/1OZ1wwglJR5gsqVFs4qP8XasnCLoArrfeeqnaCURo99xzz2KLLbaoW+FE1Jr4UgZul112SYl5rYA491kaWy2SZDVpZGzZD2NqMMZ6O6FHnQfGjx+fmiA5tiZPPu/FF1+8JZHoTx/WQ+/v/UJx9CuvvDKV3pFNTEAbaBImMn53m/+5z3333ZdOjD5Ms50gCIIgyLjYqYCgi6FlbrioK4lG9NTD8riIo2QqiWOCOAOFoCBYVRDppK3bhQ4d4PNR3pCdgQ3BhEn3SoG3VsOWo8IJwW6yRjgL7mmbXi8SLRFPohpbkci1UnytwOfYSWNrMCLigwFbmM+WxcVnK4BrAmX1oVUlIfv97eMzOeKII4pLL710ckH7ZvAYj/UcnisIgiAI4AJuKTnX9yV2Xn/99eIPf/hD+rse7veXv/wllSCrJ4yCocVnbWWaPUIUmnhWM7xdq9XEE29sFlGasvBjN+KJFjU3ubNveWwGnYtIswoc22yzTVrVUPfaRLxVAhr9EtG66SgJYzANFM/huTxnEARBEIBIIVZyRMyKJt9oI8vdEgolpYlChYjuDkyaRAp9Zu2EgDK5ykIqJxaaqNVDJNrKSIjo7kLCpVWDdkzMmhLRlkFOPPHE4oEHHui9pXV4Ts/tNYIgCIKRC+HswjfDDDP03vIRLIGihn1BZBPbBA9rQIjo7sHnnidN7UJ0ko00i2jjRSWXarWSyzGJI6AF/oxL4zPoHto1thoW0cStTOf+WDcaxXN7jRDSQRAEIxtl6YiVcs+v0mIacPQFK4ekMX5oIprXtJWIWHpuoqta85PBhADM+9JIJDX4KBJtXJQv6Uvsq1fmju3j1VdfTcfa41sZifY55nFlXwj2RlZc2omxrTlLjKu+aVhEX3DBBS2xb9TDa3itIAiCYGSj1JaksxxBEmEWje4L0UJiW1KRGsqtFNEEhWvUFVdckdpxt2NVth7EVd4EnOQWqRhh4tCIr3ekQzyXe6JBvKr/TMDWgu3DMTapYwdpZYdI45tAV4ZNR0XFGkTHB5PycUVAq4muPJxchKA2DYlofuV2RqAr8VrhkQ6CIBjZqMFLsORoNK9zru9bCyKX2FbtQcvoVopoYks5Nu2Z1TMebBGtZJfKEvaBeFanWC1tfzs2BFDQN8aSBjnl9Z1Fl4noviwdPPYmcHy1A24VXQWf7VVXXZVW4/1UPWQwYHsi4I3lW265JY0r1tpjjz22uP766xtO5h2p1BXRKmcMxWzba0bVjiAIgpELoVPeYU7kta+LOhEpCq1HgUS1KaaYovc/rUGk17I/waocG4E/mNx///0pEX/ChAlJOPudAILJQrv9xMMFPnme5jzByiK6XiRadFiDjlaPK4j+5t4akitbGenuCzYVUWfNbkTCNZMhpAlqRE5B39QV0TfddFPvb42j1aRZevnmtmbpz2sHQRAEwwMiWivoHInWxKuvSHQW0ZLHCJFyP3Ur8Lyrr756sfnmmxdjxoxJne8GE9FQjB49Oi21Z18u8ZyX4oP6mJQZV+xCIKLZgPqKRBObosMmde0Q0aLbWp4rx3bIIYekVZTBwETCuDaGdPRTV32ttdaKsdQgfZ5hNFLpjw9avcdKqt1WD69tH4IgCIKRB0tGeSRapFCji1oXeLcTOkQBP3SrI7P2Q6ms3XffvVhttdVaahVphI022ijZN9RT1uxjoC2nRyoaihhX+fhlT3SOBFfCC29ciURbfWiHiNZV08Rsr732SoJ6sFYVrKistNJKxZFHHpnGtRrd7S4zOJzoU0TrO14Pg3C33XZLrRX7ijqXR6fdV8tMJ8h6NLIPQRAEwfAji+jyiLJldVHBaridGLIE3Y5INGEjIW3aaadti5CqB3FFxEm2tNzf6vc3UsiRaAISbDqCdqpRVMPqhwS7XDZR0mqr+cIXvpAsSMbWYGJCISLveHh9x8ZtQWPU/AaaddVLJiSg9Y6fZ555mjqhuO+8885bHHTQQXUfZx8Gy2AfBEEQdA6uD0Rj+UWdkGHZqCy9RQjlyhy5fXQro3m82E899VQqsTfUpe3g/caSe/8gFE3OsoiG40lrVPtsiWheeOOJzaKVIprP/4knniheeOGFmiJ+sIlx1Tg1RfSLL77Y+1tt9CAnpJ999tnisMMOK3bccceGNvd9/vnn02z6hz/8Ye+z1aaRfQmCIAiGF0SLyFz2roLQIJQrL/TEjwoH2n3zCrcqEq1m76OPPprKjknsu/jii5PNUEQ86E6IaJOzchFtUmYVo1qfilwVxqROxLYVNh7jSpBQJY5bb721uOaaa1KyqNWUELHdQ80zjJNRPZjQMX78+HRSaxT3lV0Mfc3r0ci+BEEQBMMP/mZ1fXOVgFoiOi/J87dq0lIuvPsLYfXSSy+lOszEM3uJOr5HHHHEJ6yGktIkPiqvR3ANZPMcxJz3ErQekysTrcpItJUMn2ElfPjErXHVqqoZXktPjLFjx6axbZXj8MMPLx555JGPJTjaLxPDPC4qx0ozm8dbUWmmiUoI+r75VM8BqnqEnCTqJRXyN0N0uT80+vhvfOMbKVs1CIIgGFmozXvggQemmrWEjAjzTjvtVOyxxx4fK7/lf0cffXRx2223FTvssEPK1RkoEhn322+/ZCFZe+21k/hSmUNk8sc//nGq05whflSUsjLLftJfK4lLsqj6/PPPX6y55prFQgst1Pufj0NcLbLIIkl8qepA3I8aNSr8rA3iGB988MHFKaeckiYrxpLPeO+99/7EMT///PPTxiKkFNxAEzq9HvEsP0zjHoKeNfbqq68u1llnneKss85KK/Wgwy688MLiueeeS+K6r9UVY64v0Sv67bWMqxVXXLHmhMC+SV4Fq8mCCy6Yfg8+Sc1Po9psrFF8kMoAKdhtk8U8EAayL0EQBEH3QtyUd5hT5q1ai2ai6J133kkiQQ3ggSJaRxRbcpfDs/DCC0/2QwvsEFTlqB+8+OKLF4stttjkn9W2RRddNG3V/pc3j7dKO8000/Q+e9+45vZXtI9kJNLlShgisz7fanrDRM54UPFloJMUIped9eWXX07jao455ih+9atfpRV3Y90KSrlQNu7nnHPOumPG/02qqv0vb3lcKpFY3rGxL2Jc9U3NSLSZfl8zGtSKJK+//vqp/E45CnffeOONvX99RKORaB+iovJBEATByEKEWYTOUjfxrIqB6wtLYHliOqGjBBzP6s4775yiswOB55lf1TL4qquuOjlaqBGF11GKTLm7ckSsLZnX82K7tvYlTvxf8hr7iPdbjfJI9FJLLZUi0ZL8IxLdGI4fn7tI9NNPP51u+/rXv56iwxtssEH6G+wP++yzT2oA5zNXR5nFqL/4bB977LHkqyfKBRmPOeaY4owzzkgRbqvum2yyyWSRK3pM2FsVIfTrjZu+/u/xxlW9SWZ5JNr4sioSVKfvb3odiN9qAvj73/9+72//Zoklluj9LQiCIAgaQ3ROElgWFWr5ijgTFxniQA1ftxMIrYhEE0quZRtvvHGKFooUEj9EKvFarZQrUU8YiZz3tYliV7s9b/5PtNcS0MHAITZ5nG0gQFXnKI9Eu0102rjyuftsJSUOBK9rPK+88srFcsstlywarBo88D57Kx7liYt+NxY8ppFxU+32vNn/Vnw3gn9TU0QP5MvbqGG9lgivJE4kQRAEI5MsosujfxK9+JIzLB6WxEWNWS0s0w8Ur8tSQZh4fhU6JBmK9opAN9LnIOhciNnpp58+iegcvRWdNrbKJ2iSWAlrSYgsO/VWGRpBxHuuueZKUWFjSg1qUWiWDBO2gQr1YPCoORqyqb0/VOsy+OCDD/b+1jwD2ZcgCIKgeyFaCJ3yYIrELMIjd5jjVxUxJIIq6/+2gjfffDMta4sK8pS2QqQHQ0tlJDpjRSP3phCJZhMioumQVonojPFrdcNrem6Ts/Ln9/pBZ1PTE80TIyuzL2p5mg1OHjJLFU5q99xzT3HnnXf2/rd5ZMryIQVBEAQjD15jtgqVNyT2qR2tEof8G8l3BLWKBjyul1xySWpj3Ep4sg844IDkd+aJ5mPVHMM1cplllkkCSD+D6667LgWMVD0QyS7fCHCb30XV8+9+sgqIPubLsdVcUVKJZ7POOmu6rZLwRA8cx1vVjV133TUdT2y44YaTK3T4HI466qhUQWPppZeerHlahfGk1fa1116bXvfYY49N41lJRRU0rISIhI8fPz4FJ00WByLiRdjlDGyxxRZpMlhrlT880Y1T89MYSO90A1PxcGZ8ZYDKBbSTggQRDVcaqRGN6OMeBEEwchGYYdPIpcWIAR7lHIlmtyA2CIRW2ywIl1/+8pep1BhrhzJyxNV9991X3HXXXUkI2z8/VVbgOeVhtan8QPATRnkT0RQpt7m/92Sz33nzN381gV0LYirbEFD5d1Afx8tn4pjnYycqbCyBlvG5mxT57FuJccUi9OSTTyZbB6FqbCiVaFyxlcDkyjix+pH9/gPZjEn5BX2NlXKhHmOqb2pGoi1nHHroob1/Vef4449PJ4L999+/almYapxwwgmTi+AbJFp/14PoNisPgiAIRh4qE5x00kmpRi9rhQiaMqqqGojUitK5lhBEAjQisq3A5dHrqSd8ww03pAjeySefXDzzzDPF5ZdfnvbD30OBiYMItH3JkWgCP/y0zXHHHXekYJ+yc6LRysmJDlthVxnGaofJmoplqma0CuNKZRDRbcmEotAmiiLfVhN+9KMfNRxobCXG/Nlnnz25zjpRX61YRPARNSPRRKslqr7I7bgts5nhNEJeMmkU+xACOgiCYOQiMibKnL3OItFEiGgelKMT+OGHblVHOYjCiSR7XYLZ83vte++9N0WJCazBRCUH1hZl15RcI/LgOPDu6mzn/7kcWlAfEy+VK/LkQ3KqaDQxySZka0ck2kqD8cTa873vfS9Fmvn6JRqaFFV6tdsJXWZSZtx4/aztoHKIyLxx5T414q4jlj7NNQpz94UOUk5eLBo6HJpRVW6V8KzlUkS59Xdf1NuHIAiCYHhDRIvS5VVMvmhNUIhKSYYqcxDRqniU145uBV5TZJuokd+jRvUrr7xSLL/88oPuFRVlV71hvvnmK7bccss0kYBo9NZbb51uF0m1iuwaG4KnPj5f4yaLaBMUY8kY05qbeFRNg9BuJWwVVlNEm70OHzafPwFtbA1mQQVCWVdCYl4nQ3kFGVF6kXLjTq5bnrgFH1HTzpGp1/7bDF0bVL5lvp5KGilhVwsnzWj3HQRBMLIRVSVcJfexVWTk3rAwnHnmmcXpp59ejBs3rlhllVVaLqSJHAlWor3EFrFBWBNCgwkftrbiopcmFnzYfookipA7Tn7aNwK/3OsbVEdQT+Ie26hIKyT5sVpMnDixOPLII1PiIS3SaqsMmwi7RI78ikyrP258Debn5hhMmjQpTRxYSWzZj2+imscXYW/1pbzc5Einrog2wx2qboE8SGbWQRAEwcjGqiefqOoYmQsuuKCYffbZk1daBY2HHnooiepWChCXSM9HYGiIwd4xFMI070fQWlgYbr755mLbbbedHGUVceWDVzXDivt+++2X9Ei7EPkWhMyJs0H3ULdWChE70Pap/cFrhoAOgiAIIKpaucTNQypCLbGdALHs3mqhmZ9PdE7keaiEbAjo9qBSBb99eXSVx/ytt95Km+hwu+uCy/sKAd2d1BXR2GyzzeomGbYSr+U1gyAIgiAjClxu1eD75Ye25GwZvLw0VxA0Cl90+QSJz14N57fffjsVTTDugqAaDZ9xFN7mUW43XiMX+Q6CIAiCjNrL5dWaeJRzguHMM8/cZ13lIKgFb7nqG6LS4P9VglckOtf7DoJqNCyiJRCqndjOiLTn9hq5jFEQBEEQZFTIsLye0TVQoh0R7foR3fqC/kA8q9BBTOOPf/xjGldsQqweEYkOatHU2hdxu++++7bFI+05PXcI6CAIgqAaPM/ETkblKJ0LRQ5FoqPRSNAf+KHLfdGsHFq6S+b8zne+EyI6qEm/DGT8yjJVW2Hv8ByeKzzQQRAEQV+4XpTX6yVybLzQEYkO+osItBWOHIlW6o6Q5pE25vLtQVBJv7MwVM5QN1HB9/5YPDzGYz1HVOEIgiAI6sGfWh6JzkgMi0h00F9EoI2r8godBDSfdCs7YAbDj7p1ohtFnUMFwy2tSfbgJVJIHNqlKk1kKU5TFh2VopV3EARB0Cw33nhjsc0226TOchCF3njjjYvLLrss/R0EzUIG0S5rrrnm5MYnfNLLLrtsceqpp6bKL0FQjZaJ6CAIgiBoN7r2jRkzJiV+6dCncsJ2221XHHvssb33CILm0Uhn5ZVXLh5//PH0t9UNrdT32WefllhXg+FJv+0cQRAEQTDYWF6XBJZr+qrYYdk9CAaCFQ12oeyrVy5R+20r6UFQixDRQRAEQdeg2QrhnBuraIZRzScdBM3AT89yqjMmJBPOOuusqR13ENQiRHQQBEHQNRDR5e29RQ9juT0YKCZlcrWyiOaJlsNVnmwYBJWEiA6CIAi6BiKa2Mkimic6RHQwUIhoKxzsQsaW+tDTTDPN5HEWBNUIER0EQRB0DSKFakVLKiRwoqNc0AqIaMJZQiELh9+jjXxQjxDRQRAEQdfAqyryTOxokMHaEQQDhSfa5IyNg4hm5Yi640E9QkQHQRAEXYXI82KLLVastNJKUZkjaAlWNViDJBOOGjWqGD169OTk1SCoRdSJDoIgCLqKDz/8sHjwwQdTZY68BB8EA+W///u/U/3xf/zjH8W8886brEPhiQ76IkR0EARB0FXwQ//zn/9MNX1tIXSCVkAO/c///E/6nR86xlVQjxDRQRAEQRAEQdAkYfgJgiAIgiAIgqYoiv8fwb4vEEXRTFMAAAAASUVORK5CYII=)"
      ],
      "metadata": {
        "id": "Sb6yvzk99_ob"
      }
    },
    {
      "cell_type": "code",
      "source": [
        "from sklearn.metrics.pairwise import cosine_similarity\n",
        "\n",
        "# Convert TF-IDF dictionaries to vectors for comparison\n",
        "def tf_idf_to_vector(tf_idf_dict, idf_index):\n",
        "    return np.array([tf_idf_dict.get(word, 0) for word in idf_index])\n",
        "\n",
        "idf_index = list(idf_dict.keys())\n",
        "vectors_q1 = data['tf_idf_q1'].apply(lambda x: tf_idf_to_vector(x, idf_index))\n",
        "vectors_q2 = data['tf_idf_q2'].apply(lambda x: tf_idf_to_vector(x, idf_index))\n",
        "\n",
        "# Calculate cosine similarity\n",
        "data['cosine_similarity'] = [\n",
        "    cosine_similarity([v1], [v2])[0][0] for v1, v2 in zip(vectors_q1, vectors_q2)\n",
        "]\n",
        "data[['cosine_similarity']].head()"
      ],
      "metadata": {
        "colab": {
          "base_uri": "https://localhost:8080/",
          "height": 206
        },
        "id": "dbhs1dJAdHB1",
        "outputId": "f792431e-f2d1-44bd-b1b8-6dcfdca95809"
      },
      "execution_count": null,
      "outputs": [
        {
          "output_type": "execute_result",
          "data": {
            "text/plain": [
              "   cosine_similarity\n",
              "0           0.978264\n",
              "1           0.727736\n",
              "2           0.261185\n",
              "3           0.000000\n",
              "4           0.224548"
            ],
            "text/html": [
              "\n",
              "  <div id=\"df-9deda8fa-6fca-46a8-be09-69511c2190ad\" class=\"colab-df-container\">\n",
              "    <div>\n",
              "<style scoped>\n",
              "    .dataframe tbody tr th:only-of-type {\n",
              "        vertical-align: middle;\n",
              "    }\n",
              "\n",
              "    .dataframe tbody tr th {\n",
              "        vertical-align: top;\n",
              "    }\n",
              "\n",
              "    .dataframe thead th {\n",
              "        text-align: right;\n",
              "    }\n",
              "</style>\n",
              "<table border=\"1\" class=\"dataframe\">\n",
              "  <thead>\n",
              "    <tr style=\"text-align: right;\">\n",
              "      <th></th>\n",
              "      <th>cosine_similarity</th>\n",
              "    </tr>\n",
              "  </thead>\n",
              "  <tbody>\n",
              "    <tr>\n",
              "      <th>0</th>\n",
              "      <td>0.978264</td>\n",
              "    </tr>\n",
              "    <tr>\n",
              "      <th>1</th>\n",
              "      <td>0.727736</td>\n",
              "    </tr>\n",
              "    <tr>\n",
              "      <th>2</th>\n",
              "      <td>0.261185</td>\n",
              "    </tr>\n",
              "    <tr>\n",
              "      <th>3</th>\n",
              "      <td>0.000000</td>\n",
              "    </tr>\n",
              "    <tr>\n",
              "      <th>4</th>\n",
              "      <td>0.224548</td>\n",
              "    </tr>\n",
              "  </tbody>\n",
              "</table>\n",
              "</div>\n",
              "    <div class=\"colab-df-buttons\">\n",
              "\n",
              "  <div class=\"colab-df-container\">\n",
              "    <button class=\"colab-df-convert\" onclick=\"convertToInteractive('df-9deda8fa-6fca-46a8-be09-69511c2190ad')\"\n",
              "            title=\"Convert this dataframe to an interactive table.\"\n",
              "            style=\"display:none;\">\n",
              "\n",
              "  <svg xmlns=\"http://www.w3.org/2000/svg\" height=\"24px\" viewBox=\"0 -960 960 960\">\n",
              "    <path d=\"M120-120v-720h720v720H120Zm60-500h600v-160H180v160Zm220 220h160v-160H400v160Zm0 220h160v-160H400v160ZM180-400h160v-160H180v160Zm440 0h160v-160H620v160ZM180-180h160v-160H180v160Zm440 0h160v-160H620v160Z\"/>\n",
              "  </svg>\n",
              "    </button>\n",
              "\n",
              "  <style>\n",
              "    .colab-df-container {\n",
              "      display:flex;\n",
              "      gap: 12px;\n",
              "    }\n",
              "\n",
              "    .colab-df-convert {\n",
              "      background-color: #E8F0FE;\n",
              "      border: none;\n",
              "      border-radius: 50%;\n",
              "      cursor: pointer;\n",
              "      display: none;\n",
              "      fill: #1967D2;\n",
              "      height: 32px;\n",
              "      padding: 0 0 0 0;\n",
              "      width: 32px;\n",
              "    }\n",
              "\n",
              "    .colab-df-convert:hover {\n",
              "      background-color: #E2EBFA;\n",
              "      box-shadow: 0px 1px 2px rgba(60, 64, 67, 0.3), 0px 1px 3px 1px rgba(60, 64, 67, 0.15);\n",
              "      fill: #174EA6;\n",
              "    }\n",
              "\n",
              "    .colab-df-buttons div {\n",
              "      margin-bottom: 4px;\n",
              "    }\n",
              "\n",
              "    [theme=dark] .colab-df-convert {\n",
              "      background-color: #3B4455;\n",
              "      fill: #D2E3FC;\n",
              "    }\n",
              "\n",
              "    [theme=dark] .colab-df-convert:hover {\n",
              "      background-color: #434B5C;\n",
              "      box-shadow: 0px 1px 3px 1px rgba(0, 0, 0, 0.15);\n",
              "      filter: drop-shadow(0px 1px 2px rgba(0, 0, 0, 0.3));\n",
              "      fill: #FFFFFF;\n",
              "    }\n",
              "  </style>\n",
              "\n",
              "    <script>\n",
              "      const buttonEl =\n",
              "        document.querySelector('#df-9deda8fa-6fca-46a8-be09-69511c2190ad button.colab-df-convert');\n",
              "      buttonEl.style.display =\n",
              "        google.colab.kernel.accessAllowed ? 'block' : 'none';\n",
              "\n",
              "      async function convertToInteractive(key) {\n",
              "        const element = document.querySelector('#df-9deda8fa-6fca-46a8-be09-69511c2190ad');\n",
              "        const dataTable =\n",
              "          await google.colab.kernel.invokeFunction('convertToInteractive',\n",
              "                                                    [key], {});\n",
              "        if (!dataTable) return;\n",
              "\n",
              "        const docLinkHtml = 'Like what you see? Visit the ' +\n",
              "          '<a target=\"_blank\" href=https://colab.research.google.com/notebooks/data_table.ipynb>data table notebook</a>'\n",
              "          + ' to learn more about interactive tables.';\n",
              "        element.innerHTML = '';\n",
              "        dataTable['output_type'] = 'display_data';\n",
              "        await google.colab.output.renderOutput(dataTable, element);\n",
              "        const docLink = document.createElement('div');\n",
              "        docLink.innerHTML = docLinkHtml;\n",
              "        element.appendChild(docLink);\n",
              "      }\n",
              "    </script>\n",
              "  </div>\n",
              "\n",
              "\n",
              "<div id=\"df-36b9d8a3-0605-4a6c-a179-58decd2bb553\">\n",
              "  <button class=\"colab-df-quickchart\" onclick=\"quickchart('df-36b9d8a3-0605-4a6c-a179-58decd2bb553')\"\n",
              "            title=\"Suggest charts\"\n",
              "            style=\"display:none;\">\n",
              "\n",
              "<svg xmlns=\"http://www.w3.org/2000/svg\" height=\"24px\"viewBox=\"0 0 24 24\"\n",
              "     width=\"24px\">\n",
              "    <g>\n",
              "        <path d=\"M19 3H5c-1.1 0-2 .9-2 2v14c0 1.1.9 2 2 2h14c1.1 0 2-.9 2-2V5c0-1.1-.9-2-2-2zM9 17H7v-7h2v7zm4 0h-2V7h2v10zm4 0h-2v-4h2v4z\"/>\n",
              "    </g>\n",
              "</svg>\n",
              "  </button>\n",
              "\n",
              "<style>\n",
              "  .colab-df-quickchart {\n",
              "      --bg-color: #E8F0FE;\n",
              "      --fill-color: #1967D2;\n",
              "      --hover-bg-color: #E2EBFA;\n",
              "      --hover-fill-color: #174EA6;\n",
              "      --disabled-fill-color: #AAA;\n",
              "      --disabled-bg-color: #DDD;\n",
              "  }\n",
              "\n",
              "  [theme=dark] .colab-df-quickchart {\n",
              "      --bg-color: #3B4455;\n",
              "      --fill-color: #D2E3FC;\n",
              "      --hover-bg-color: #434B5C;\n",
              "      --hover-fill-color: #FFFFFF;\n",
              "      --disabled-bg-color: #3B4455;\n",
              "      --disabled-fill-color: #666;\n",
              "  }\n",
              "\n",
              "  .colab-df-quickchart {\n",
              "    background-color: var(--bg-color);\n",
              "    border: none;\n",
              "    border-radius: 50%;\n",
              "    cursor: pointer;\n",
              "    display: none;\n",
              "    fill: var(--fill-color);\n",
              "    height: 32px;\n",
              "    padding: 0;\n",
              "    width: 32px;\n",
              "  }\n",
              "\n",
              "  .colab-df-quickchart:hover {\n",
              "    background-color: var(--hover-bg-color);\n",
              "    box-shadow: 0 1px 2px rgba(60, 64, 67, 0.3), 0 1px 3px 1px rgba(60, 64, 67, 0.15);\n",
              "    fill: var(--button-hover-fill-color);\n",
              "  }\n",
              "\n",
              "  .colab-df-quickchart-complete:disabled,\n",
              "  .colab-df-quickchart-complete:disabled:hover {\n",
              "    background-color: var(--disabled-bg-color);\n",
              "    fill: var(--disabled-fill-color);\n",
              "    box-shadow: none;\n",
              "  }\n",
              "\n",
              "  .colab-df-spinner {\n",
              "    border: 2px solid var(--fill-color);\n",
              "    border-color: transparent;\n",
              "    border-bottom-color: var(--fill-color);\n",
              "    animation:\n",
              "      spin 1s steps(1) infinite;\n",
              "  }\n",
              "\n",
              "  @keyframes spin {\n",
              "    0% {\n",
              "      border-color: transparent;\n",
              "      border-bottom-color: var(--fill-color);\n",
              "      border-left-color: var(--fill-color);\n",
              "    }\n",
              "    20% {\n",
              "      border-color: transparent;\n",
              "      border-left-color: var(--fill-color);\n",
              "      border-top-color: var(--fill-color);\n",
              "    }\n",
              "    30% {\n",
              "      border-color: transparent;\n",
              "      border-left-color: var(--fill-color);\n",
              "      border-top-color: var(--fill-color);\n",
              "      border-right-color: var(--fill-color);\n",
              "    }\n",
              "    40% {\n",
              "      border-color: transparent;\n",
              "      border-right-color: var(--fill-color);\n",
              "      border-top-color: var(--fill-color);\n",
              "    }\n",
              "    60% {\n",
              "      border-color: transparent;\n",
              "      border-right-color: var(--fill-color);\n",
              "    }\n",
              "    80% {\n",
              "      border-color: transparent;\n",
              "      border-right-color: var(--fill-color);\n",
              "      border-bottom-color: var(--fill-color);\n",
              "    }\n",
              "    90% {\n",
              "      border-color: transparent;\n",
              "      border-bottom-color: var(--fill-color);\n",
              "    }\n",
              "  }\n",
              "</style>\n",
              "\n",
              "  <script>\n",
              "    async function quickchart(key) {\n",
              "      const quickchartButtonEl =\n",
              "        document.querySelector('#' + key + ' button');\n",
              "      quickchartButtonEl.disabled = true;  // To prevent multiple clicks.\n",
              "      quickchartButtonEl.classList.add('colab-df-spinner');\n",
              "      try {\n",
              "        const charts = await google.colab.kernel.invokeFunction(\n",
              "            'suggestCharts', [key], {});\n",
              "      } catch (error) {\n",
              "        console.error('Error during call to suggestCharts:', error);\n",
              "      }\n",
              "      quickchartButtonEl.classList.remove('colab-df-spinner');\n",
              "      quickchartButtonEl.classList.add('colab-df-quickchart-complete');\n",
              "    }\n",
              "    (() => {\n",
              "      let quickchartButtonEl =\n",
              "        document.querySelector('#df-36b9d8a3-0605-4a6c-a179-58decd2bb553 button');\n",
              "      quickchartButtonEl.style.display =\n",
              "        google.colab.kernel.accessAllowed ? 'block' : 'none';\n",
              "    })();\n",
              "  </script>\n",
              "</div>\n",
              "\n",
              "    </div>\n",
              "  </div>\n"
            ],
            "application/vnd.google.colaboratory.intrinsic+json": {
              "type": "dataframe",
              "summary": "{\n  \"name\": \"data[['cosine_similarity']]\",\n  \"rows\": 5,\n  \"fields\": [\n    {\n      \"column\": \"cosine_similarity\",\n      \"properties\": {\n        \"dtype\": \"number\",\n        \"std\": 0.40140387703438274,\n        \"min\": 0.0,\n        \"max\": 0.9782640055804652,\n        \"num_unique_values\": 5,\n        \"samples\": [\n          0.727735529994715,\n          0.2245484900481886,\n          0.2611852080710783\n        ],\n        \"semantic_type\": \"\",\n        \"description\": \"\"\n      }\n    }\n  ]\n}"
            }
          },
          "metadata": {},
          "execution_count": 35
        }
      ]
    },
    {
      "cell_type": "code",
      "source": [
        "# Show Document-Term Matrix for TF-IDF (q1)\n",
        "# Row represents word (str), column represents document (q1)\n",
        "DTM_tp = pd.DataFrame(vectors_q1.values.tolist(), columns=idf_index)\n",
        "DTM = DTM_tp.transpose()\n",
        "DTM.head()"
      ],
      "metadata": {
        "id": "gse00CPwdsXW"
      },
      "execution_count": null,
      "outputs": []
    },
    {
      "cell_type": "code",
      "source": [
        "# Show the rows of DTM where column 0 is non-zero\n",
        "DTM[DTM.iloc[:, 0] != 0]"
      ],
      "metadata": {
        "id": "XEtBZdeYdtLu"
      },
      "execution_count": null,
      "outputs": []
    },
    {
      "cell_type": "markdown",
      "source": [
        "#### Step 7: Evaluate the Model\n",
        "\n",
        "Finally, we evaluate how well our TF-IDF based similarity measurement correlates with the duplicate labels in the dataset."
      ],
      "metadata": {
        "id": "8QIiFGzIdw52"
      }
    },
    {
      "cell_type": "code",
      "source": [
        "# Assume a threshold to determine duplicates\n",
        "threshold = 0.6\n",
        "data['predicted_duplicate'] = data['cosine_similarity'] > threshold\n",
        "true_labels = data['is_duplicate']\n",
        "\n",
        "# Calculate Accuracy\n",
        "accuracy = (data['predicted_duplicate'] == true_labels).mean()\n",
        "print('Accuracy:', accuracy)"
      ],
      "metadata": {
        "id": "b8yk4PIKdwNm"
      },
      "execution_count": null,
      "outputs": []
    },
    {
      "cell_type": "code",
      "source": [
        "# See if the distribution of cosine similarity differs at each case\n",
        "# Draw boxplot\n",
        "import matplotlib.pyplot as plt\n",
        "import seaborn as sns\n",
        "\n",
        "sns.boxplot(x='is_duplicate', y='cosine_similarity', data=data)\n",
        "plt.show()"
      ],
      "metadata": {
        "id": "e_mESyy7d10F"
      },
      "execution_count": null,
      "outputs": []
    },
    {
      "cell_type": "markdown",
      "source": [
        "### Applying TF-IDF for Retrieval\n",
        "\n",
        "#### Step 8: Retrieve Questions with Highest Cosine Similarity\n",
        "\n",
        "Now that we have seen that cosine similarity among TF-IDF vectors indicates semantic similarity, we now apply it for retrieval. The code below shows how to retrieve similar questions for a specific target question."
      ],
      "metadata": {
        "id": "zdup8Vw3d6Ed"
      }
    },
    {
      "cell_type": "code",
      "source": [
        "# Retrieve similar questions for the given query\n",
        "# Use TF-IDF vectors and cosine similarity\n",
        "\n",
        "# Load the dataset\n",
        "data_raw = pd.read_csv('./train_compact.csv')\n",
        "data_raw = data_raw.head(M)"
      ],
      "metadata": {
        "colab": {
          "base_uri": "https://localhost:8080/"
        },
        "id": "F0elqxxsd9Xe",
        "outputId": "ea93c8cc-b610-4f01-dc79-24bf4f216cf8"
      },
      "execution_count": null,
      "outputs": [
        {
          "output_type": "stream",
          "name": "stderr",
          "text": [
            "<ipython-input-41-825790177918>:5: DtypeWarning: Columns (3,4) have mixed types. Specify dtype option on import or set low_memory=False.\n",
            "  data_raw = pd.read_csv('./train_compact.csv')\n"
          ]
        }
      ]
    },
    {
      "cell_type": "code",
      "source": [
        "data_raw.head()"
      ],
      "metadata": {
        "id": "ccgYZm4meCz1"
      },
      "execution_count": null,
      "outputs": []
    },
    {
      "cell_type": "code",
      "source": [
        "target_query_id = 0\n",
        "target_query = data_raw.iloc[target_query_id]['question1']\n",
        "target_query"
      ],
      "metadata": {
        "colab": {
          "base_uri": "https://localhost:8080/",
          "height": 35
        },
        "id": "USZRK7nWeC7m",
        "outputId": "4942ac97-dfbe-451d-a5ed-006fdd878e3a"
      },
      "execution_count": null,
      "outputs": [
        {
          "output_type": "execute_result",
          "data": {
            "text/plain": [
              "'What is the step by step guide to invest in share market in india?'"
            ],
            "application/vnd.google.colaboratory.intrinsic+json": {
              "type": "string"
            }
          },
          "metadata": {},
          "execution_count": 43
        }
      ]
    },
    {
      "cell_type": "code",
      "source": [
        "# Find top-5 questions that is similar to target_query\n",
        "# Use cosine similarity\n",
        "\n",
        "target_vector = vectors_q1[target_query_id].reshape(1, -1)\n",
        "# integrate vectors_q1 and vectors_q2\n",
        "vectors_integ = np.concatenate([vectors_q1, vectors_q2], axis=0)\n",
        "# make array from vectors_q1\n",
        "_vectors_integ = np.array([vectors_integ[query_id] for query_id in range(len(vectors_integ))])\n",
        "\n",
        "print(target_vector.shape)\n",
        "print(_vectors_integ.shape)\n",
        "similarities = cosine_similarity(target_vector, _vectors_integ)\n",
        "top_indices = similarities.argsort()[0][-5:][::-1]"
      ],
      "metadata": {
        "id": "3fN5Vbz0eKYu"
      },
      "execution_count": null,
      "outputs": []
    },
    {
      "cell_type": "code",
      "source": [
        "# Show the questions with top similarities\n",
        "for i, idx in enumerate(top_indices):\n",
        "    if idx < M:\n",
        "      print(f'Question {i+1} ({similarities[0][idx]}): {data_raw.iloc[idx][\"question1\"]}')\n",
        "    else:\n",
        "      print(f'Question {i+1} ({similarities[0][idx]}): {data_raw.iloc[idx-M][\"question2\"]}')"
      ],
      "metadata": {
        "id": "G3sGDV8EeL6_"
      },
      "execution_count": null,
      "outputs": []
    }
  ]
}