{
  "nbformat": 4,
  "nbformat_minor": 0,
  "metadata": {
    "colab": {
      "provenance": [],
      "machine_shape": "hm",
      "gpuType": "A100",
      "authorship_tag": "ABX9TyOisa0VR0GtING7Foc1G94E",
      "include_colab_link": true
    },
    "kernelspec": {
      "name": "python3",
      "display_name": "Python 3"
    },
    "language_info": {
      "name": "python"
    },
    "accelerator": "GPU"
  },
  "cells": [
    {
      "cell_type": "markdown",
      "metadata": {
        "id": "view-in-github",
        "colab_type": "text"
      },
      "source": [
        "<a href=\"https://colab.research.google.com/github/donghuna/AI-Expert/blob/main/timesformer/TimeSformer-huggingface-example.ipynb\" target=\"_parent\"><img src=\"https://colab.research.google.com/assets/colab-badge.svg\" alt=\"Open In Colab\"/></a>"
      ]
    },
    {
      "cell_type": "code",
      "source": [
        "!pip install av"
      ],
      "metadata": {
        "colab": {
          "base_uri": "https://localhost:8080/"
        },
        "id": "iP7zgLRCSpk3",
        "outputId": "6e521c87-4be9-4b55-8855-b3f69c9df1be"
      },
      "execution_count": 2,
      "outputs": [
        {
          "output_type": "stream",
          "name": "stdout",
          "text": [
            "Collecting av\n",
            "  Downloading av-12.1.0-cp310-cp310-manylinux_2_17_x86_64.manylinux2014_x86_64.whl (34.3 MB)\n",
            "\u001b[2K     \u001b[90m━━━━━━━━━━━━━━━━━━━━━━━━━━━━━━━━━━━━━━━━\u001b[0m \u001b[32m34.3/34.3 MB\u001b[0m \u001b[31m50.0 MB/s\u001b[0m eta \u001b[36m0:00:00\u001b[0m\n",
            "\u001b[?25hInstalling collected packages: av\n",
            "Successfully installed av-12.1.0\n"
          ]
        }
      ]
    },
    {
      "cell_type": "code",
      "source": [
        "from ftplib import FTP\n",
        "import io\n",
        "import random\n",
        "\n",
        "# FTP 서버 정보\n",
        "ftp_server = \"121.136.96.223\"  # Synology NAS의 IP 주소\n",
        "ftp_port = 21  # 기본 포트 21, 다른 포트를 사용하는 경우 해당 포트 번호 입력\n",
        "ftp_user = \"donghuna_ftp\"  # NAS 로그인 사용자명\n",
        "ftp_password = \"Dlehdgns0892!@!?n\"  # NAS 로그인 비밀번호\n",
        "# file_path = \"homes/donghuna/database/Diving48_rgb/rgb/_8Vy3dlHg2w_00000.mp4\"\n",
        "# local_file_path = \"eating_spaghetti.mp4\"  # 로컬에 저장할 파일 이름\n",
        "folder_path = \"homes/donghuna/database/Diving48_rgb/rgb/\"  # 동영상 파일이 있는 폴더 경로\n",
        "\n",
        "\n",
        "# FTP 연결 설정\n",
        "ftp = FTP()\n",
        "ftp.connect(ftp_server, ftp_port)\n",
        "ftp.login(user=ftp_user, passwd=ftp_password)\n",
        "\n",
        "# 액티브 모드 설정 (패시브 모드 비활성화)\n",
        "ftp.set_pasv(True)\n",
        "\n",
        "# 파일 다운로드\n",
        "# with open(local_file_path, 'wb') as local_file:\n",
        "#     ftp.retrbinary(f'RETR {file_path}', local_file.write)\n",
        "\n",
        "# 동영상을 메모리에 저장\n",
        "# video_data = io.BytesIO()\n",
        "# ftp.retrbinary(f'RETR {file_path}', video_data.write)\n",
        "# video_data.seek(0)\n",
        "\n",
        "# 연결 종료\n",
        "# ftp.quit()\n",
        "\n",
        "# print(f\"File downloaded successfully to {local_file_path}\")\n",
        "\n",
        "# 폴더 내 동영상 파일 목록 가져오기\n",
        "ftp.cwd(folder_path)\n",
        "file_list = ftp.nlst()  # 폴더 내 파일 목록\n",
        "\n",
        "# 동영상 파일 필터링 (mp4 확장자)\n",
        "video_files = [file for file in file_list if file.endswith('.mp4')]\n",
        "\n",
        "# 임의로 10개 파일 선택\n",
        "random_video_files = random.sample(video_files, min(10, len(video_files)))\n",
        "\n"
      ],
      "metadata": {
        "id": "62cWKO05eGml"
      },
      "execution_count": null,
      "outputs": []
    },
    {
      "cell_type": "code",
      "source": [
        "import av # 동영상 파일을 처리하기 위한 라이브러리.\n",
        "import torch # PyTorch 라이브러리로, 모델 학습 및 추론에 사용.\n",
        "import numpy as np # 배열 및 수학적 연산을 위한 라이브러리.\n",
        "\n",
        "from transformers import AutoImageProcessor, TimesformerForVideoClassification # Hugging Face Transformers 라이브러리로, 여기서는 Timesformer 모델을 로드하고 사용.\n",
        "from huggingface_hub import hf_hub_download # Hugging Face Hub에서 데이터를 다운로드하기 위한 함수.\n",
        "\n",
        "np.random.seed(0)\n",
        "\n",
        "# PyAV를 사용하여 지정된 인덱스의 프레임을 읽어오는 함수입니다.\n",
        "# container는 PyAV의 동영상 컨테이너 객체이고, indices는 읽어올 프레임 인덱스 리스트입니다.\n",
        "def read_video_pyav(container, indices):\n",
        "    '''\n",
        "    Decode the video with PyAV decoder.\n",
        "    Args:\n",
        "        container (`av.container.input.InputContainer`): PyAV container.\n",
        "        indices (`List[int]`): List of frame indices to decode.\n",
        "    Returns:\n",
        "        result (np.ndarray): np array of decoded frames of shape (num_frames, height, width, 3).\n",
        "    '''\n",
        "    frames = []\n",
        "    container.seek(0)\n",
        "    start_index = indices[0]\n",
        "    end_index = indices[-1]\n",
        "    for i, frame in enumerate(container.decode(video=0)):\n",
        "        if i > end_index:\n",
        "            break\n",
        "        if i >= start_index and i in indices:\n",
        "            frames.append(frame)\n",
        "    return np.stack([x.to_ndarray(format=\"rgb24\") for x in frames])\n",
        "\n",
        "\n",
        "def sample_frame_indices(clip_len, frame_sample_rate, seg_len):\n",
        "    '''\n",
        "    Sample a given number of frame indices from the video.\n",
        "    Args:\n",
        "        clip_len (`int`): Total number of frames to sample.\n",
        "        frame_sample_rate (`int`): Sample every n-th frame.\n",
        "        seg_len (`int`): Maximum allowed index of sample's last frame.\n",
        "    Returns:\n",
        "        indices (`List[int]`): List of sampled frame indices\n",
        "    '''\n",
        "    converted_len = int(clip_len * frame_sample_rate)\n",
        "    end_idx = np.random.randint(converted_len, seg_len)\n",
        "    start_idx = end_idx - converted_len\n",
        "    indices = np.linspace(start_idx, end_idx, num=clip_len)\n",
        "    indices = np.clip(indices, start_idx, end_idx - 1).astype(np.int64)\n",
        "    return indices\n",
        "\n",
        "# 이미지 전처리 및 모델 로드\n",
        "image_processor = AutoImageProcessor.from_pretrained(\"facebook/timesformer-base-finetuned-k400\")\n",
        "model = TimesformerForVideoClassification.from_pretrained(\"facebook/timesformer-base-finetuned-k400\")\n",
        "\n",
        "# 선택된 파일들 처리\n",
        "for file_name in random_video_files:\n",
        "    print(f\"Processing {file_name}...\")\n",
        "\n",
        "    # 동영상을 메모리에 저장\n",
        "    video_data = io.BytesIO()\n",
        "    ftp.retrbinary(f'RETR {file_name}', video_data.write)\n",
        "    video_data.seek(0)\n",
        "\n",
        "    # PyAV를 사용하여 메모리에서 동영상 읽기\n",
        "    container = av.open(video_data, format='mp4')\n",
        "\n",
        "    # 프레임 샘플링\n",
        "    indices = sample_frame_indices(clip_len=8, frame_sample_rate=1, seg_len=container.streams.video[0].frames)\n",
        "    video = read_video_pyav(container, indices)\n",
        "\n",
        "    # 모델 입력 준비\n",
        "    inputs = image_processor(list(video), return_tensors=\"pt\")\n",
        "\n",
        "    # 모델 추론\n",
        "    with torch.no_grad():\n",
        "        outputs = model(**inputs)\n",
        "        logits = outputs.logits\n",
        "\n",
        "    # 예측 결과 확인\n",
        "    predicted_label = logits.argmax(-1).item()\n",
        "    print(f\"Predicted label for {file_name}: {model.config.id2label[predicted_label]}\")\n",
        "\n",
        "# 연결 종료\n",
        "ftp.quit()"
      ],
      "metadata": {
        "colab": {
          "base_uri": "https://localhost:8080/",
          "height": 449
        },
        "id": "ZbQYCaJvSfZ3",
        "outputId": "06b3dc66-5f54-48c7-96da-ab3644043384"
      },
      "execution_count": null,
      "outputs": [
        {
          "output_type": "stream",
          "name": "stdout",
          "text": [
            "Processing yHo2oERGo7A_00037.mp4...\n"
          ]
        },
        {
          "output_type": "stream",
          "name": "stderr",
          "text": [
            "/usr/local/lib/python3.10/dist-packages/transformers/feature_extraction_utils.py:141: UserWarning: Creating a tensor from a list of numpy.ndarrays is extremely slow. Please consider converting the list to a single numpy.ndarray with numpy.array() before converting to a tensor. (Triggered internally at ../torch/csrc/utils/tensor_new.cpp:274.)\n",
            "  return torch.tensor(value)\n"
          ]
        },
        {
          "output_type": "stream",
          "name": "stdout",
          "text": [
            "Predicted label for yHo2oERGo7A_00037.mp4: springboard diving\n",
            "Processing fohMq9tOn6E_00010.mp4...\n",
            "Predicted label for fohMq9tOn6E_00010.mp4: springboard diving\n",
            "Processing Q--70-ELqLw_00162.mp4...\n",
            "Predicted label for Q--70-ELqLw_00162.mp4: springboard diving\n",
            "Processing Y7QZcr24ye0_01024.mp4...\n",
            "Predicted label for Y7QZcr24ye0_01024.mp4: springboard diving\n",
            "Processing nOlRwoxsDJ0_00080.mp4...\n",
            "Predicted label for nOlRwoxsDJ0_00080.mp4: swimming backstroke\n",
            "Processing D6zILEKIJbk_00022.mp4...\n",
            "Predicted label for D6zILEKIJbk_00022.mp4: springboard diving\n",
            "Processing zBXtMcI41z8_00007.mp4...\n",
            "Predicted label for zBXtMcI41z8_00007.mp4: pull ups\n",
            "Processing D8YKHC5hmUs_00217.mp4...\n",
            "Predicted label for D8YKHC5hmUs_00217.mp4: springboard diving\n",
            "Processing Y4ARBzok9aU_00024.mp4...\n",
            "Predicted label for Y4ARBzok9aU_00024.mp4: springboard diving\n",
            "Processing c7FHotPDZIw_00096.mp4...\n",
            "Predicted label for c7FHotPDZIw_00096.mp4: trapezing\n"
          ]
        },
        {
          "output_type": "execute_result",
          "data": {
            "text/plain": [
              "'221 Goodbye. You uploaded 0 bytes and downloaded 5710.10 KB.'"
            ],
            "application/vnd.google.colaboratory.intrinsic+json": {
              "type": "string"
            }
          },
          "metadata": {},
          "execution_count": 8
        }
      ]
    },
    {
      "cell_type": "code",
      "source": [
        "import json\n",
        "import os\n",
        "import random\n",
        "from ftplib import FTP\n",
        "import io\n",
        "import numpy as np\n",
        "import av\n",
        "import torch\n",
        "from torch.utils.data import Dataset, DataLoader\n",
        "from torchvision.utils import save_image\n",
        "from torchvision import transforms\n",
        "from transformers import TimesformerForVideoClassification, get_linear_schedule_with_warmup, AdamW\n",
        "\n",
        "# FTP 서버 정보\n",
        "ftp_server = \"121.136.96.223\"\n",
        "ftp_port = 21\n",
        "ftp_user = \"donghuna_ftp\"\n",
        "ftp_password = \"Dlehdgns0892!@!?n\"\n",
        "folder_path = \"homes/donghuna/database/Diving48_rgb/rgb/\"\n",
        "\n",
        "# FTP 연결 설정\n",
        "ftp = FTP()\n",
        "ftp.connect(ftp_server, ftp_port)\n",
        "ftp.login(user=ftp_user, passwd=ftp_password)\n",
        "ftp.set_pasv(True)\n",
        "\n",
        "# 동영상 데이터셋 경로\n",
        "train_json_path = \"Diving48_V2_train.json\"\n",
        "test_json_path = \"Diving48_V2_test.json\"\n",
        "\n",
        "with open(train_json_path, 'wb') as local_file:\n",
        "    ftp.retrbinary(f'RETR {\"homes/donghuna/database/Diving48_rgb/Diving48_V2_train.json\"}', local_file.write)\n",
        "\n",
        "with open(test_json_path, 'wb') as local_file:\n",
        "    ftp.retrbinary(f'RETR {\"homes/donghuna/database/Diving48_rgb/Diving48_V2_test.json\"}', local_file.write)\n",
        "\n",
        "# 동영상 데이터를 읽어오기 위한 함수\n",
        "def read_video_from_ftp(ftp, file_path, start_frame, end_frame):\n",
        "    video_data = io.BytesIO()\n",
        "    ftp.retrbinary(f'RETR {file_path}', video_data.write)\n",
        "    video_data.seek(0)\n",
        "    container = av.open(video_data, format='mp4')\n",
        "    frames = []\n",
        "    for i, frame in enumerate(container.decode(video=0)):\n",
        "        if i > end_frame:\n",
        "            break\n",
        "        if i >= start_frame:\n",
        "            frame_np = frame.to_ndarray(format=\"rgb24\")\n",
        "            frames.append(frame_np.astype(np.uint8))\n",
        "    return np.stack(frames, axis=0)\n",
        "\n",
        "def sample_frames(frames, num_frames):\n",
        "    total_frames = len(frames)\n",
        "    if total_frames <= num_frames:\n",
        "        sampled_frames = frames\n",
        "        if total_frames < num_frames:\n",
        "            padding = [np.zeros_like(frames[0]) for _ in range(num_frames - total_frames)]\n",
        "            sampled_frames.extend(padding)\n",
        "    else:\n",
        "        indices = np.linspace(0, total_frames - 1, num=num_frames, dtype=int)\n",
        "        sampled_frames = [frames[i] for i in indices]\n",
        "\n",
        "    return np.array(sampled_frames)\n",
        "\n",
        "# 변환 함수 정의\n",
        "def pad_and_resize(frames, target_size, num_frames):\n",
        "    transform = transforms.Compose([\n",
        "        transforms.ToPILImage(),\n",
        "        transforms.Resize(target_size),\n",
        "        transforms.ToTensor()\n",
        "    ])\n",
        "    processed_frames = [transform(frame) for frame in frames]\n",
        "\n",
        "    return torch.stack(processed_frames)\n",
        "\n",
        "def read_and_process_video(ftp, file_path, start_frame, end_frame, target_size, num_frames):\n",
        "    frames = read_video_from_ftp(ftp, file_path, start_frame, end_frame)\n",
        "    frames = sample_frames(frames, num_frames=num_frames)\n",
        "    processed_frames = pad_and_resize(frames, target_size=target_size, num_frames=num_frames)\n",
        "\n",
        "    return processed_frames\n",
        "\n",
        "# Diving48 데이터셋 클래스 정의\n",
        "class Diving48Dataset(Dataset):\n",
        "    def __init__(self, json_path, ftp, folder_path, target_size=(224, 224), num_frames=60):\n",
        "        with open(json_path, 'r') as f:\n",
        "            self.data = json.load(f)\n",
        "        self.ftp = ftp\n",
        "        self.folder_path = folder_path\n",
        "        self.target_size = target_size\n",
        "        self.num_frames = num_frames\n",
        "\n",
        "    def __len__(self):\n",
        "        return len(self.data)\n",
        "\n",
        "    def __getitem__(self, idx):\n",
        "        vid_info = self.data[idx]\n",
        "        vid_name = vid_info['vid_name']\n",
        "        label = vid_info['label']\n",
        "        start_frame = vid_info['start_frame']\n",
        "        end_frame = vid_info['end_frame']\n",
        "        file_path = os.path.join(self.folder_path, f\"{vid_name}.mp4\")\n",
        "\n",
        "        video = read_and_process_video(self.ftp, file_path, start_frame, end_frame, target_size=self.target_size, num_frames=self.num_frames)\n",
        "\n",
        "        return video, label\n",
        "\n",
        "# 모델 로드\n",
        "model = TimesformerForVideoClassification.from_pretrained(\"facebook/timesformer-base-finetuned-k400\")\n",
        "\n",
        "# 데이터셋 및 데이터로더 생성\n",
        "train_dataset = Diving48Dataset(train_json_path, ftp, folder_path)\n",
        "test_dataset = Diving48Dataset(test_json_path, ftp, folder_path)\n",
        "\n",
        "\n",
        "\n",
        "# def collate_fn(batch):\n",
        "#     videos, labels = zip(*batch)\n",
        "#     videos = torch.stack(videos)\n",
        "#     labels = torch.tensor(labels)\n",
        "#     return videos, labels\n",
        "\n",
        "# train_loader = DataLoader(train_dataset, batch_size=2, shuffle=True, collate_fn=collate_fn)\n",
        "# test_loader = DataLoader(test_dataset, batch_size=2, shuffle=False, collate_fn=collate_fn)\n",
        "\n",
        "# # 학습 루프 구현\n",
        "# device = torch.device(\"cuda\" if torch.cuda.is_available() else \"cpu\")\n",
        "# model.to(device)\n",
        "\n",
        "# optimizer = AdamW(model.parameters(), lr=5e-5)\n",
        "# num_epochs = 5\n",
        "# num_training_steps = num_epochs * len(train_loader)\n",
        "# lr_scheduler = get_linear_schedule_with_warmup(optimizer, num_warmup_steps=0, num_training_steps=num_training_steps)\n",
        "\n",
        "# # 손실 함수 정의\n",
        "# loss_fn = torch.nn.CrossEntropyLoss()\n",
        "\n",
        "# # 학습 루프\n",
        "# for epoch in range(num_epochs):\n",
        "#     model.train()\n",
        "#     total_loss = 0\n",
        "#     loop_time = 0\n",
        "\n",
        "#     for batch in train_loader:\n",
        "#         videos, labels = batch\n",
        "#         videos = videos.to(device)\n",
        "#         labels = labels.to(device)\n",
        "\n",
        "#         outputs = model(videos)\n",
        "#         loss = loss_fn(outputs.logits, labels)\n",
        "#         total_loss += loss.item()\n",
        "\n",
        "#         loss.backward()\n",
        "#         optimizer.step()\n",
        "#         lr_scheduler.step()\n",
        "#         optimizer.zero_grad()\n",
        "\n",
        "#         loop_time += 1\n",
        "#         if loop_time > 30:\n",
        "#             break\n",
        "\n",
        "#     avg_loss = total_loss / len(train_loader)\n",
        "#     print(f\"Epoch [{epoch+1}/{num_epochs}], Loss: {avg_loss:.4f}\")\n",
        "\n",
        "#     # 모델 파라미터 저장\n",
        "#     torch.save(model.state_dict(), f\"model_epoch_{epoch+1}.pt\")\n",
        "\n",
        "# # 평가 루프\n",
        "# model.eval()\n",
        "# total_correct = 0\n",
        "# total_samples = 0\n",
        "\n",
        "# with torch.no_grad():\n",
        "#     for batch in test_loader:\n",
        "#         videos, labels = batch\n",
        "#         videos = videos.to(device)\n",
        "#         labels = labels.to(device)\n",
        "\n",
        "#         outputs = model(videos)\n",
        "#         _, predicted = torch.max(outputs.logits, 1)\n",
        "#         total_correct += (predicted == labels).sum().item()\n",
        "#         total_samples += labels.size(0)\n",
        "\n",
        "# accuracy = total_correct / total_samples\n",
        "# print(f\"Test Accuracy: {accuracy:.4f}\")\n",
        "\n",
        "# # 연결 종료\n",
        "# ftp.quit()\n"
      ],
      "metadata": {
        "id": "GWxcdZd8SiHq"
      },
      "execution_count": 22,
      "outputs": []
    },
    {
      "cell_type": "code",
      "source": [
        "from google.colab import drive\n",
        "drive.mount('/content/drive')\n",
        "\n",
        "# 모델 저장\n",
        "# torch.save(model.state_dict(), '/content/drive/MyDrive/timesformer/model_epoch_{epoch+1}.pt')\n",
        "\n",
        "# 변환된 동영상 저장 함수\n",
        "def save_transformed_video(video_tensor, filename):\n",
        "    # (C, T, H, W) -> (T, C, H, W)\n",
        "    # video_tensor = video_tensor.permute(1, 0, 2, 3)\n",
        "    for i, frame in enumerate(video_tensor):\n",
        "        save_image(frame, f\"{filename}_frame_{i}.png\")\n",
        "\n",
        "# 변환된 동영상 저장 (테스트 데이터셋의 첫 번째 비디오)\n",
        "video, label = train_dataset[1]\n",
        "save_transformed_video(video, '/content/drive/MyDrive/transfomed_video/transformed_video')\n",
        "\n",
        "ftp.quit()"
      ],
      "metadata": {
        "colab": {
          "base_uri": "https://localhost:8080/",
          "height": 55
        },
        "id": "tCdDQuv1PCOv",
        "outputId": "fdaeeb70-2951-4b94-e21a-05e7512b7cef"
      },
      "execution_count": 23,
      "outputs": [
        {
          "output_type": "stream",
          "name": "stdout",
          "text": [
            "Drive already mounted at /content/drive; to attempt to forcibly remount, call drive.mount(\"/content/drive\", force_remount=True).\n"
          ]
        },
        {
          "output_type": "execute_result",
          "data": {
            "text/plain": [
              "'221 Goodbye. You uploaded 0 bytes and downloaded 2219.62 KB.'"
            ],
            "application/vnd.google.colaboratory.intrinsic+json": {
              "type": "string"
            }
          },
          "metadata": {},
          "execution_count": 23
        }
      ]
    },
    {
      "cell_type": "code",
      "source": [
        "!ls"
      ],
      "metadata": {
        "id": "Hv4zJPafQA4M",
        "outputId": "380de0c4-a83d-416d-b524-d9ca4fc31b1f",
        "colab": {
          "base_uri": "https://localhost:8080/"
        }
      },
      "execution_count": 6,
      "outputs": [
        {
          "output_type": "stream",
          "name": "stdout",
          "text": [
            "Diving48_V2_test.json\t\ttransformed_video_frame_14.png\ttransformed_video_frame_3.png\n",
            "Diving48_V2_train.json\t\ttransformed_video_frame_15.png\ttransformed_video_frame_4.png\n",
            "sample_data\t\t\ttransformed_video_frame_16.png\ttransformed_video_frame_5.png\n",
            "transformed_video_frame_0.png\ttransformed_video_frame_17.png\ttransformed_video_frame_6.png\n",
            "transformed_video_frame_10.png\ttransformed_video_frame_18.png\ttransformed_video_frame_7.png\n",
            "transformed_video_frame_11.png\ttransformed_video_frame_19.png\ttransformed_video_frame_8.png\n",
            "transformed_video_frame_12.png\ttransformed_video_frame_1.png\ttransformed_video_frame_9.png\n",
            "transformed_video_frame_13.png\ttransformed_video_frame_2.png\n"
          ]
        }
      ]
    },
    {
      "cell_type": "code",
      "source": [],
      "metadata": {
        "id": "kqMYH9E-QK3G"
      },
      "execution_count": null,
      "outputs": []
    }
  ]
}