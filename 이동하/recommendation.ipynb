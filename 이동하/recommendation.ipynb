{
  "nbformat": 4,
  "nbformat_minor": 0,
  "metadata": {
    "colab": {
      "provenance": [],
      "include_colab_link": true
    },
    "kernelspec": {
      "name": "python3",
      "display_name": "Python 3"
    },
    "language_info": {
      "name": "python"
    }
  },
  "cells": [
    {
      "cell_type": "markdown",
      "metadata": {
        "id": "view-in-github",
        "colab_type": "text"
      },
      "source": [
        "<a href=\"https://colab.research.google.com/github/donghuna/AI-Expert/blob/main/%EC%9D%B4%EB%8F%99%ED%95%98/recommendation.ipynb\" target=\"_parent\"><img src=\"https://colab.research.google.com/assets/colab-badge.svg\" alt=\"Open In Colab\"/></a>"
      ]
    },
    {
      "cell_type": "markdown",
      "source": [
        "# Movie Recommendation System with Text Embedding"
      ],
      "metadata": {
        "id": "hHkbsRQfIWyc"
      }
    },
    {
      "cell_type": "markdown",
      "source": [
        "![Alt text](https://repository-images.githubusercontent.com/275336521/20d38e00-6634-11eb-9d1f-6a5232d0f84f)"
      ],
      "metadata": {
        "id": "cINo593HIKU0"
      }
    },
    {
      "cell_type": "markdown",
      "source": [
        "## Import requirements"
      ],
      "metadata": {
        "id": "77gBZkOmjB0B"
      }
    },
    {
      "cell_type": "code",
      "execution_count": null,
      "metadata": {
        "id": "J3LlYjsEv_1W"
      },
      "outputs": [],
      "source": [
        "! pip install faiss-gpu"
      ]
    },
    {
      "cell_type": "code",
      "source": [
        "! pip install sentence_transformers ## For textual similarity, using pretrained models"
      ],
      "metadata": {
        "id": "kJNp29wqwFTf",
        "collapsed": true
      },
      "execution_count": null,
      "outputs": []
    },
    {
      "cell_type": "code",
      "source": [
        "import numpy as np\n",
        "import pandas as pd\n",
        "import math\n",
        "import matplotlib.pyplot as plt\n",
        "import seaborn as sns\n",
        "from sklearn.manifold import TSNE\n",
        "from tqdm.notebook import tqdm\n",
        "import faiss\n",
        "from sentence_transformers import SentenceTransformer, util"
      ],
      "metadata": {
        "id": "Vg3p0Ds3zgM8"
      },
      "execution_count": null,
      "outputs": []
    },
    {
      "cell_type": "markdown",
      "source": [
        "## Load Dataset and Model"
      ],
      "metadata": {
        "id": "MThft64cjHcw"
      }
    },
    {
      "cell_type": "code",
      "source": [
        "imdb_movies=pd.read_csv(\"https://raw.githubusercontent.com/tommyEzreal/0701_samsung/main/imdb_movies_0626.csv\")\n",
        "imdb_movies\n",
        "\n",
        "# we will encode 'Description' columnn for our recommendation system"
      ],
      "metadata": {
        "id": "M5UEJYetzg6y"
      },
      "execution_count": null,
      "outputs": []
    },
    {
      "cell_type": "code",
      "source": [
        "k = 0\n",
        "print(\"Movie Title:\",imdb_movies['Movie Name'][k])\n",
        "print(\"Movie description:\", imdb_movies['Description'][k])"
      ],
      "metadata": {
        "id": "DW_WXz0-EbUm"
      },
      "execution_count": null,
      "outputs": []
    },
    {
      "cell_type": "code",
      "source": [
        "# load bi-encoder model\n",
        "model = SentenceTransformer('paraphrase-distilroberta-base-v1') # Loads the distil roberta model,whcih was trained on millions of data"
      ],
      "metadata": {
        "id": "-NylsEtipFhK"
      },
      "execution_count": null,
      "outputs": []
    },
    {
      "cell_type": "markdown",
      "source": [
        "## Query-based Recommendation"
      ],
      "metadata": {
        "id": "MndQSmivLH8D"
      }
    },
    {
      "cell_type": "markdown",
      "source": [
        "![Example Image](https://drive.google.com/uc?id=1biO4IGKqeiyChgOBVjqxdnvitBWImGkn)\n"
      ],
      "metadata": {
        "id": "SJw7FD8TK7WF"
      }
    },
    {
      "cell_type": "markdown",
      "source": [
        "- `User Query Input`: The user inputs a description or keywords for the movie they want to watch.\n",
        "- `Query Embedding`: Convert the user's query into an embedding vector. This involves mapping the text into a high-dimensional vector space using a natural language processing model.\n",
        "- `Movie Description Embeddings`: Similarly, convert each movie description in the dataframe into embedding vectors.\n",
        "- `Calculating Similarity`:\n",
        "Compute the cosine similarity between the embedding vector of the user's query and the embedding vectors of all movie descriptions. Cosine similarity measures how similar two vectors are by calculating the cosine of the angle between them.\n",
        "Recommend the Most Similar Movie: Recommend the movie with the highest similarity score.\n",
        "- `Recommend the Most Similar Movie` :\n",
        "Identify the movie with the highest similarity score and recommend it to the user as the best match for their query.\n",
        "\n"
      ],
      "metadata": {
        "id": "Ah8Sv7p_z9ZK"
      }
    },
    {
      "cell_type": "code",
      "source": [
        "# what is faiss? : reduce the computational cost of calculating embedding similarity\n",
        "# prior to calculating simialrity, first cluster the index pool -> assign query to most similar cluster , then calculate the similarity in the cluster\n",
        "\n",
        "def make_faiss_index(df):\n",
        "    descriptions=df['Description'].tolist()\n",
        "    print(\"Number of Movie Description \",len(descriptions))\n",
        "\n",
        "    # for each movie description, encode and get embeddings\n",
        "    des_embeddings = []\n",
        "    for des in tqdm(descriptions):\n",
        "        des_embeddings.append(model.encode(des))\n",
        "\n",
        "    # convert the list to a numpy array\n",
        "    des_embeddings_array = np.array(des_embeddings)\n",
        "    print(\"Shape of the EMbeddings is \",des_embeddings_array.shape)\n",
        "\n",
        "    faiss.normalize_L2(des_embeddings_array) ## Normalising the Embeddings\n",
        "\n",
        "\n",
        "    dim=768 # we get a 768 dimension vector following the dimension of Roberta\n",
        "    ncentroids=50 # this is a hyperparameter, and indicates number of clusters to be split into\n",
        "    m=16 #\n",
        "    quantiser = faiss.IndexFlatL2(dim)\n",
        "    index = faiss.IndexIVFPQ (quantiser, dim,ncentroids, m , 8)\n",
        "    index.train(des_embeddings_array) # this step, will do the clustering and create the clusters\n",
        "    faiss.write_index(index, \"trained.index\")\n",
        "\n",
        "    # add the embeddings to the trained Index.\n",
        "    ids=df['id'].tolist()\n",
        "    ids=np.array(ids)\n",
        "    index.add_with_ids(des_embeddings_array,ids)\n",
        "    faiss.write_index(index,\"block.index\")\n",
        "\n",
        "    return des_embeddings, index\n",
        "\n",
        "des_embeddings, index = make_faiss_index(imdb_movies)"
      ],
      "metadata": {
        "id": "oRdFEysHz-TO"
      },
      "execution_count": null,
      "outputs": []
    },
    {
      "cell_type": "code",
      "source": [
        "# calculate cosine similarity\n",
        "def calculateInnerProduct(L2_score):\n",
        "    return (2-math.pow(L2_score,2))/2\n",
        "\n",
        "\n",
        "def searchFAISSIndex(data,id_col_name,query,index,nprobe,model,topk=10):\n",
        "    #convert the query into embeddings\n",
        "    query_embedding=model.encode([query])[0]\n",
        "    dim=query_embedding.shape[0]\n",
        "    query_embedding=query_embedding.reshape(1,dim)\n",
        "    faiss.normalize_L2(query_embedding)\n",
        "\n",
        "    index.nprobe=nprobe\n",
        "\n",
        "    D,I=index.search(query_embedding,topk)\n",
        "    ids=[i for i in I][0]\n",
        "    L2_score=[d for d in D][0]\n",
        "    inner_product=[calculateInnerProduct(l2) for l2 in L2_score]\n",
        "\n",
        "    # visualization\n",
        "    search_result=pd.DataFrame()\n",
        "    search_result[id_col_name]=ids\n",
        "    search_result['cosine_sim']=inner_product\n",
        "    dat=data[data[id_col_name].isin(ids)]\n",
        "    dat=pd.merge(dat,search_result,on=id_col_name)\n",
        "    dat=dat.sort_values('cosine_sim',ascending=False)\n",
        "\n",
        "    return dat, query_embedding"
      ],
      "metadata": {
        "id": "DnmUM2ktz-D4"
      },
      "execution_count": null,
      "outputs": []
    },
    {
      "cell_type": "code",
      "source": [
        "# use your own query !\n",
        "\n",
        "query=\"Super Hero movie\"\n",
        "search_result, query_embedding =searchFAISSIndex(imdb_movies,\"id\",query,index,nprobe=10,model=model,topk=10)\n",
        "search_result=search_result[['id','Description','Movie Name','cosine_sim']]\n",
        "search_result"
      ],
      "metadata": {
        "id": "c8w_mcaO0-8R"
      },
      "execution_count": null,
      "outputs": []
    },
    {
      "cell_type": "code",
      "source": [
        "query=\"Recommend me a romantic comedy\"\n",
        "search_result, query_embedding=searchFAISSIndex(imdb_movies,\"id\",query,index,nprobe=10,model=model,topk=10)\n",
        "search_result=search_result[['id','Description','Movie Name','cosine_sim']]\n",
        "search_result"
      ],
      "metadata": {
        "id": "OSYYkhjgXxOl"
      },
      "execution_count": null,
      "outputs": []
    },
    {
      "cell_type": "code",
      "source": [
        "query=\"Kids Animation\"\n",
        "search_result, query_embedding=searchFAISSIndex(imdb_movies,\"id\",query,index,nprobe=10,model=model,topk=10)\n",
        "search_result=search_result[['id','Description','Movie Name','cosine_sim']]\n",
        "search_result"
      ],
      "metadata": {
        "id": "ftzktvZ3fTBp"
      },
      "execution_count": null,
      "outputs": []
    },
    {
      "cell_type": "markdown",
      "source": [
        "### embedding visualization"
      ],
      "metadata": {
        "id": "SaysMSmdgWCT"
      }
    },
    {
      "cell_type": "code",
      "source": [
        "# Visualize embeddings using T-SNE\n",
        "def visualize_embeddings_3queries(data1, embeddings1, query_embedding1, data2, embeddings2, query_embedding2, data3, embeddings3, query_embedding3, query1, query2, query3, perplexity=5):\n",
        "    # Combine the embeddings\n",
        "    combined_embeddings = np.vstack([embeddings1, query_embedding1, embeddings2, query_embedding2, embeddings3, query_embedding3])\n",
        "\n",
        "    # Apply T-SNE\n",
        "    tsne = TSNE(n_components=2, random_state=42, perplexity=perplexity)\n",
        "    tsne_results = tsne.fit_transform(combined_embeddings)\n",
        "\n",
        "    # Generate colors\n",
        "    palette = sns.color_palette(\"muted\", 3)\n",
        "\n",
        "    # Plot the results\n",
        "    plt.figure(figsize=(14, 10))\n",
        "\n",
        "    # Plot the first query results\n",
        "    scatter1 = plt.scatter(\n",
        "        tsne_results[:len(embeddings1), 0], tsne_results[:len(embeddings1), 1],\n",
        "        color=palette[0], label=f'\"{query1}\" Results', alpha=0.7, marker='o'\n",
        "    )\n",
        "\n",
        "    # Plot the second query results\n",
        "    scatter2 = plt.scatter(\n",
        "        tsne_results[len(embeddings1) + 1:len(embeddings1) + 1 + len(embeddings2), 0], tsne_results[len(embeddings1) + 1:len(embeddings1) + 1 + len(embeddings2), 1],\n",
        "        color=palette[1], label=f'\"{query2}\" Results', alpha=0.7, marker='^'\n",
        "    )\n",
        "\n",
        "    # Plot the third query results\n",
        "    scatter3 = plt.scatter(\n",
        "        tsne_results[len(embeddings1) + 1 + len(embeddings2) + 1:-1, 0], tsne_results[len(embeddings1) + 1 + len(embeddings2) + 1:-1, 1],\n",
        "        color=palette[2], label=f'\"{query3}\" Results', alpha=0.7, marker='s'\n",
        "    )\n",
        "\n",
        "    # Highlight the query points\n",
        "    plt.scatter(tsne_results[len(embeddings1), 0], tsne_results[len(embeddings1), 1], c=palette[0], marker='X', s=200, label=query1)\n",
        "    plt.scatter(tsne_results[len(embeddings1) + 1 + len(embeddings2), 0], tsne_results[len(embeddings1) + 1 + len(embeddings2), 1], c=palette[1], marker='X', s=200, label=query2)\n",
        "    plt.scatter(tsne_results[-1, 0], tsne_results[-1, 1], c=palette[2], marker='X', s=200, label=query3)\n",
        "\n",
        "    # Annotate the points with movie names\n",
        "    for i, txt in enumerate(data1['Movie Name']):\n",
        "        plt.text(tsne_results[i, 0], tsne_results[i, 1], txt, fontsize=9, color=palette[0])\n",
        "\n",
        "    for i, txt in enumerate(data2['Movie Name']):\n",
        "        plt.text(tsne_results[len(embeddings1) + 1 + i, 0], tsne_results[len(embeddings1) + 1 + i, 1], txt, fontsize=9, color=palette[1])\n",
        "\n",
        "    for i, txt in enumerate(data3['Movie Name']):\n",
        "        plt.text(tsne_results[len(embeddings1) + 1 + len(embeddings2) + 1 + i, 0], tsne_results[len(embeddings1) + 1 + len(embeddings2) + 1 + i, 1], txt, fontsize=9, color=palette[2])\n",
        "\n",
        "    plt.legend()\n",
        "    plt.title('T-SNE visualization of movie embeddings for three queries')\n",
        "    plt.show()\n",
        "\n",
        "# Example usage\n",
        "query1 = \"Super Hero movie\"\n",
        "query2 = \"Recommend me a romantic comedy\"\n",
        "query3 = \"Kids Animation\"\n",
        "\n",
        "# Search results for query 1\n",
        "search_result1, query_embedding1 = searchFAISSIndex(imdb_movies, \"id\", query1, index, nprobe=10, model=model, topk=10)\n",
        "search_result1 = search_result1[['id', 'Description', 'Movie Name', 'cosine_sim']]\n",
        "embeddings1 = np.array([model.encode([desc])[0] for desc in search_result1['Description'].tolist()])\n",
        "\n",
        "# Search results for query 2\n",
        "search_result2, query_embedding2 = searchFAISSIndex(imdb_movies, \"id\", query2, index, nprobe=10, model=model, topk=10)\n",
        "search_result2 = search_result2[['id', 'Description', 'Movie Name', 'cosine_sim']]\n",
        "embeddings2 = np.array([model.encode([desc])[0] for desc in search_result2['Description'].tolist()])\n",
        "\n",
        "# Search results for query 3\n",
        "search_result3, query_embedding3 = searchFAISSIndex(imdb_movies, \"id\", query3, index, nprobe=10, model=model, topk=10)\n",
        "search_result3 = search_result3[['id', 'Description', 'Movie Name', 'cosine_sim']]\n",
        "embeddings3 = np.array([model.encode([desc])[0] for desc in search_result3['Description'].tolist()])\n",
        "\n",
        "# Visualize with adjusted perplexity\n",
        "visualize_embeddings_3queries(search_result1, embeddings1, query_embedding1, search_result2, embeddings2, query_embedding2, search_result3, embeddings3, query_embedding3, query1, query2, query3, perplexity=5)\n"
      ],
      "metadata": {
        "id": "ZFfghcfoQ_Ew"
      },
      "execution_count": null,
      "outputs": []
    },
    {
      "cell_type": "markdown",
      "source": [
        "## User Histroy-based Recommendation"
      ],
      "metadata": {
        "id": "2B4aWbUhFiM4"
      }
    },
    {
      "cell_type": "markdown",
      "source": [
        "\n",
        "\n",
        "![Example Image](https://drive.google.com/uc?id=16dw0Ud2-Wui62WJ4ZHRoYb6XRpR58ecr)"
      ],
      "metadata": {
        "id": "p-5FC_Xucu_h"
      }
    },
    {
      "cell_type": "markdown",
      "source": [
        "- `User Viewing History Input`:\n",
        "The system accesses the user's viewing history, which includes descriptions of all the movies the user has watched.\n",
        "\n",
        "- `Movie Description Embeddings`: Convert each movie description in the user's viewing history into embedding vectors using a pre-trained language model (e.g., BERT).\n",
        "- `User Embedding`: Calculate the average of all movie description embeddings from the user's viewing history to create a single embedding vector representing the user's overall movie preferences.\n",
        "- `Calculating Similarity`:\n",
        "Calculate the cosine similarity between the user's embedding vector and the embedding vectors of all movies in the database. Cosine similarity measures the cosine of the angle between two vectors, indicating how similar the vectors are. A similarity score closer to 1 means the vectors are more similar.\n",
        "- `Recommend Movies`:\n",
        "Identify the movies with the highest similarity scores and recommend them to the user as the best matches for their viewing history and preferences."
      ],
      "metadata": {
        "id": "mMres2CcLvVo"
      }
    },
    {
      "cell_type": "code",
      "source": [
        "def make_user_history(df):\n",
        "\n",
        "    user_ids = sorted(df['cluster'].unique())\n",
        "\n",
        "    user_history = {}\n",
        "    for user_id in user_ids:\n",
        "        # synthetic user history\n",
        "        description_list = df[df['cluster']==user_id]['Description'].tolist()[:50]\n",
        "        movie_name_list = df[df['cluster']==user_id]['Movie Name'].tolist()[:50]\n",
        "        ids = df[df['cluster']==user_id]['id'].tolist()[:50]\n",
        "        user_history[f'user_{user_id}'] = {'Movie Name': movie_name_list, \"Description\": description_list, \"id\": ids}\n",
        "\n",
        "        #prediction_pool\n",
        "        indices_to_drop = df[df['id'].isin(ids)].index\n",
        "        prediction_pool = df.drop(indices_to_drop)\n",
        "        user_history[f'user_{user_id}']['pred_pool'] = prediction_pool\n",
        "\n",
        "        #GT\n",
        "        GT_description = df[df['cluster']==user_id]['Description'].tolist()[50:]\n",
        "        GT_movie_name = df[df['cluster']==user_id]['Movie Name'].tolist()[50:]\n",
        "\n",
        "        user_history[f'user_{user_id}']['GT'] = [(d, n) for d,n in zip(GT_description, GT_movie_name)]\n",
        "\n",
        "    return user_history\n",
        "\n",
        "user_history = make_user_history(imdb_movies)"
      ],
      "metadata": {
        "id": "dq7yb_83sDr0"
      },
      "execution_count": null,
      "outputs": []
    },
    {
      "cell_type": "code",
      "source": [
        "user_history['user_6']['Movie Name']"
      ],
      "metadata": {
        "id": "iJmanwqNQjEX"
      },
      "execution_count": null,
      "outputs": []
    },
    {
      "cell_type": "code",
      "source": [
        "prediction_pool_df = user_history['user_6']['pred_pool']\n",
        "\n",
        "prediction_pool_df=prediction_pool_df.reset_index(drop=True)\n",
        "prediction_pool_df['id']=prediction_pool_df.index\n",
        "\n",
        "pool_embeddings, index = make_faiss_index(prediction_pool_df)"
      ],
      "metadata": {
        "id": "ye0Cg_EG3OZs"
      },
      "execution_count": null,
      "outputs": []
    },
    {
      "cell_type": "code",
      "source": [
        "def make_user_embedding(user_history):\n",
        "    ## Convert the list of user history into embeddings\n",
        "    user_embeddings = [model.encode([hist])[0] for hist in tqdm(user_history)]\n",
        "    print(user_embeddings[0].shape)\n",
        "\n",
        "    ## Calculate the mean of the embeddings\n",
        "    avg_user_embedding = np.mean(user_embeddings, axis=0) ## FILL ##\n",
        "    print(avg_user_embedding.shape)\n",
        "\n",
        "    return avg_user_embedding"
      ],
      "metadata": {
        "id": "9vCbzrCOh4eY"
      },
      "execution_count": null,
      "outputs": []
    },
    {
      "cell_type": "code",
      "source": [
        "user_history_sample = user_history['user_6']['Description']\n",
        "sample_embedding = make_user_embedding(user_history_sample)"
      ],
      "metadata": {
        "id": "Zg1p4sRvnSAz"
      },
      "execution_count": null,
      "outputs": []
    },
    {
      "cell_type": "code",
      "source": [
        "def searchFAISSIndex_user_history(data, id_col_name, user_history, index, nprobe, model, topk=50):\n",
        "\n",
        "    avg_user_embedding = make_user_embedding(user_history)\n",
        "\n",
        "    # Reshape the average query embedding\n",
        "    dim = avg_user_embedding.shape[0]\n",
        "    avg_user_embedding = avg_user_embedding.reshape(1, dim)\n",
        "\n",
        "    # Normalize the query embedding\n",
        "    faiss.normalize_L2(avg_user_embedding)\n",
        "\n",
        "    # Set the nprobe parameter\n",
        "    index.nprobe = nprobe\n",
        "\n",
        "    # Perform the search\n",
        "    D, I = index.search(avg_user_embedding, topk)\n",
        "\n",
        "    # Extract IDs and L2 scores\n",
        "    ids = [i for i in I][0]\n",
        "    L2_score = [d for d in D][0]\n",
        "\n",
        "    # Calculate cosine similarities\n",
        "    inner_product = [calculateInnerProduct(l2) for l2 in L2_score]\n",
        "\n",
        "    # Visualization\n",
        "    search_result = pd.DataFrame()\n",
        "    search_result[id_col_name] = ids\n",
        "    search_result['cosine_sim'] = inner_product\n",
        "    dat = data[data[id_col_name].isin(ids)]\n",
        "    dat = pd.merge(dat, search_result, on=id_col_name)\n",
        "    dat = dat.sort_values('cosine_sim', ascending=False)\n",
        "\n",
        "    return dat, avg_user_embedding\n"
      ],
      "metadata": {
        "id": "KkEDASTYbWGF"
      },
      "execution_count": null,
      "outputs": []
    },
    {
      "cell_type": "code",
      "source": [
        "user_history_input = user_history['user_6']['Description']\n",
        "recommend_pool = user_history['user_6']['pred_pool']\n",
        "\n",
        "search_result, avg_user_embedding=searchFAISSIndex_user_history(recommend_pool,\"id\",user_history_input,index,nprobe=10,model=model,topk=20)\n",
        "search_result=search_result[['id','Description','Movie Name','cosine_sim']]\n",
        "search_result"
      ],
      "metadata": {
        "id": "xrHUrNX2fjpk"
      },
      "execution_count": null,
      "outputs": []
    },
    {
      "cell_type": "code",
      "source": [
        "gts = user_history['user_6']['GT']\n",
        "gt_movie_names = [tpl[1] for tpl in gts]\n",
        "pred_movie_names = search_result['Movie Name'].to_list()\n",
        "\n",
        "count = 0\n",
        "for pred in pred_movie_names:\n",
        "    if pred in gt_movie_names:\n",
        "        count += 1\n",
        "        print(pred)\n",
        "\n"
      ],
      "metadata": {
        "id": "yOaWnkRmHD57"
      },
      "execution_count": null,
      "outputs": []
    },
    {
      "cell_type": "markdown",
      "source": [
        "### Manual User history"
      ],
      "metadata": {
        "id": "b21JKpZtR5j0"
      }
    },
    {
      "cell_type": "code",
      "source": [
        "# manually input your movie preferences !\n",
        "\n",
        "user_history_input = [\n",
        "    \"animation\",\n",
        "    \"fantasy\",\n",
        "    \"pixar\",\n",
        "    \"ghibli\"\n",
        "    ]\n"
      ],
      "metadata": {
        "id": "rsDWHriBSHhk"
      },
      "execution_count": null,
      "outputs": []
    },
    {
      "cell_type": "code",
      "source": [
        "search_result, _=searchFAISSIndex_user_history(recommend_pool,\"id\",user_history_input,index,nprobe=10,model=model,topk=20)\n",
        "search_result=search_result[['id','Description','Movie Name','cosine_sim']]\n",
        "search_result"
      ],
      "metadata": {
        "id": "whGXaQr4R-Iy"
      },
      "execution_count": null,
      "outputs": []
    },
    {
      "cell_type": "code",
      "source": [],
      "metadata": {
        "id": "LjUaPlpjlwUV"
      },
      "execution_count": null,
      "outputs": []
    },
    {
      "cell_type": "code",
      "source": [
        "user_history_input = [\n",
        "    \"science\",\n",
        "    \"alien\",\n",
        "    \"spaceship\",\n",
        "    \"portal\"\n",
        "    ]"
      ],
      "metadata": {
        "id": "9svuAnK_EKbn"
      },
      "execution_count": null,
      "outputs": []
    },
    {
      "cell_type": "code",
      "source": [
        "search_result, _=searchFAISSIndex_user_history(recommend_pool,\"id\",user_history_input,index,nprobe=10,model=model,topk=20)\n",
        "search_result=search_result[['id','Description','Movie Name','cosine_sim']]\n",
        "search_result"
      ],
      "metadata": {
        "id": "MfIj0RxpkyOo"
      },
      "execution_count": null,
      "outputs": []
    }
  ]
}